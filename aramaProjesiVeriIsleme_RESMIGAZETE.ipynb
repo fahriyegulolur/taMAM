{
  "nbformat": 4,
  "nbformat_minor": 0,
  "metadata": {
    "colab": {
      "name": "aramaProjesiVeriIsleme_RESMIGAZETE.ipynb",
      "provenance": [],
      "collapsed_sections": []
    },
    "kernelspec": {
      "name": "python3",
      "display_name": "Python 3"
    },
    "language_info": {
      "name": "python"
    }
  },
  "cells": [
    {
      "cell_type": "code",
      "execution_count": 1,
      "metadata": {
        "id": "D4DSrSk9PiW8"
      },
      "outputs": [],
      "source": [
        "import pandas as pd"
      ]
    },
    {
      "cell_type": "code",
      "source": [
        "from google.colab import drive\n",
        "drive.mount('/content/drive/')"
      ],
      "metadata": {
        "id": "g8ZpPY4-Pmv1"
      },
      "execution_count": null,
      "outputs": []
    },
    {
      "cell_type": "code",
      "source": [
        "%cd drive/"
      ],
      "metadata": {
        "id": "h47_PvbxT9QD"
      },
      "execution_count": null,
      "outputs": []
    },
    {
      "cell_type": "code",
      "source": [
        "%cd MyDrive/"
      ],
      "metadata": {
        "id": "ElqFYei7Vuz5"
      },
      "execution_count": null,
      "outputs": []
    },
    {
      "cell_type": "code",
      "source": [
        "%cd Colab Notebooks/"
      ],
      "metadata": {
        "id": "j8uh8jQyVzAH"
      },
      "execution_count": null,
      "outputs": []
    },
    {
      "cell_type": "code",
      "source": [
        "# Google Drive içinde Colab Notebooks klasörünün içinde TDDI2022 diye bir klasör oluşturduktan sonra o klasöre erişiyoruz.\n",
        "# Bu klasörü daha önce oluşturmadıysanız %md TDDI2022 komutu veya Google Drive Ara Yüzü ile klasörü oluşturunuz!\n",
        "%cd TDDI2022/\n",
        "\n",
        "# Klasörün içeriğinin görülmesi için\n",
        "%ls"
      ],
      "metadata": {
        "id": "aA9Js-QGV31p"
      },
      "execution_count": null,
      "outputs": []
    },
    {
      "cell_type": "code",
      "source": [
        "df = pd.read_csv('kanunum-nlp-doc-analysis-dataset.csv')\n",
        "df.info(verbose=True)"
      ],
      "metadata": {
        "id": "ZMriHlEGPqbV",
        "colab": {
          "base_uri": "https://localhost:8080/"
        },
        "outputId": "90ab47f2-f326-47ef-adab-25de2e53d7f1"
      },
      "execution_count": 42,
      "outputs": [
        {
          "output_type": "stream",
          "name": "stdout",
          "text": [
            "<class 'pandas.core.frame.DataFrame'>\n",
            "RangeIndex: 4142 entries, 0 to 4141\n",
            "Data columns (total 16 columns):\n",
            " #   Column          Non-Null Count  Dtype  \n",
            "---  ------          --------------  -----  \n",
            " 0   id              4142 non-null   int64  \n",
            " 1   kategori        4142 non-null   object \n",
            " 2   baslik          4142 non-null   object \n",
            " 3   rega_no         2527 non-null   object \n",
            " 4   mukerrer_no     3642 non-null   float64\n",
            " 5   rega_tarihi     2527 non-null   object \n",
            " 6   kurum           2488 non-null   object \n",
            " 7   mevzuat_no      1091 non-null   object \n",
            " 8   belge_sayi      43 non-null     object \n",
            " 9   mevzuat_tarihi  1905 non-null   object \n",
            " 10  donem           500 non-null    object \n",
            " 11  sira_no         500 non-null    object \n",
            " 12  madde_sayisi    4142 non-null   int64  \n",
            " 13  data_text       4142 non-null   object \n",
            " 14  url             4142 non-null   object \n",
            " 15  kanunum_url     4142 non-null   object \n",
            "dtypes: float64(1), int64(2), object(13)\n",
            "memory usage: 517.9+ KB\n"
          ]
        }
      ]
    },
    {
      "cell_type": "code",
      "source": [
        "# VERİ ÖN İŞLEME\n",
        "satir, sutun = df.shape\n",
        "for s in range(satir):\n",
        "  df.loc[s,'data_text'] = str(df['data_text'][s]).lower()\n",
        "  df.loc[s,'data_text'] = str(df['data_text'][s]).replace(' ','')\n",
        "  df.loc[s,'data_text'] = str(df['data_text'][s]).replace('\\n','')\n",
        "  df.loc[s,'data_text'] = str(df['data_text'][s]).replace('\\r','')\n",
        "\n",
        "# Artık tüm verilerimiz tek satırda boşluksuz ve küçük harfle yazılmış durumdadır."
      ],
      "metadata": {
        "id": "dwp_Qyoy1Xbc"
      },
      "execution_count": 43,
      "outputs": []
    },
    {
      "cell_type": "code",
      "source": [
        "satir = 514\n",
        "print(df['data_text'][satir])"
      ],
      "metadata": {
        "colab": {
          "base_uri": "https://localhost:8080/"
        },
        "id": "0fhXhoMzN2C1",
        "outputId": "59a5ba9d-5ac9-44a5-ca86-4eb9d35dfb47"
      },
      "execution_count": 44,
      "outputs": [
        {
          "output_type": "stream",
          "name": "stdout",
          "text": [
            "ret.c.smıgazetekuruluştarihi:7ekim1336-1920yönetimveyazıişleriiçinbaşbakanlıkneşriyatvemüdevvenatgenelmüdürlüğünebaşvurulur5mayis1969pazartesi̇sayı:13190kararnamelerkararsayısı:6/1164228/6/1960tarihve5/104sayılıkararnameyeektir.hollanda'dabulunangrasso'skoninklijkemaehinefabriekenn.v.firmasının,yerliortaklarlabirliktememleketimizde«soğukhavatesisleriimaletmeküzere»kuracağıteşebbüse,yabancıortağınyatırmasımüsaadeolunan1.280160(birmüyonikiyüzseksenbinyüzaltmış)hollandaflorinitutarındakiaynîsermayeden452.520(dörtyüzelliikibinbeşyüzyirmi)hollandaflorinikıymetindekimakinaveteçhizatınyurtiçindentemmininmümkünolmasınedeniyle,sözkonusumeblağın«yatırımlarlayerlimamullerinkullanılmasıhakkındayönetmelik»hükümlerigereğince,yabancıortaktarafındandövizolarakgetirilmesi;devletplanlamateşkilâtınınuygunmütalaasınadayananticaretbakanlığının29/3/1969tarihve5022/111-227-6522sayılıyazısıüzerine,6224sayılıkanununbirinci,28/7/1967tarihve933sayılıkanununaltıncımaddelerinegörebakanlarkurulunca15/4/1969tarihindekararlaştırümıştır.cumhurbaşkanic.sunaybaşbakandevletbakanıdevletbalkanıdevletbakams.demlrels.öztürkh-atabeyli̇k.ocakderletbalkanıadaletbakanımillîsa.bakanıv.i̇çişleribakanıs.t.müftüoğluh.dlnçerh.atabeyli̇f.sükandişileribakamv.maliyebakanımillîetüt.bakanıbaynıdtrhkbakams.t.müftüoğluc.btlgehan/.ertemo.alpticaretbakamısağ-vesos.y.bakanıgüm.vetek.balkanıtarımbakanıa.türkelv.a.özkani̇v.menteşeb.dağdasulaştırmabakanıçalışmabakanısanayibakamıen.yeta.kay.bakans.btlgict.tokerm.turgutr.sezgi̇nturnamretanıtmabakanım.kürşadi̇marvei̇skânbakanıh.menteseogluköyi̇şleribakanıs.ki̇li̇çi̇çişleribakanlığından:kararsayısı:71201—ankarai̇lihaymanai̇lçesininyenicebucağınabağlıburunağılköyü,konyai̇likului̇lçesininmerkezbucağınabağlanmıştır.2—bukararıi̇çişleribakamyürütür.21/4/1969cumhurbaşkanicsunaybaşbakans.demlreli̇çişleribakanıf.sükankararsayısı:71171—maraşi̇lipazarcıki̇lçesininmerkezbucağınabağlıbağlarbap(kekikli)köyü,adıyamani̇ligölbaşıi̇lçesininmerkezbucağınabağlanmıştır.2—bukararıi̇çişleribakanıyürütür.21/4/1969cumhurbaşkanicsunaybaşbakans.demlreli̇çişleribakanıf.sükankararsayısı:71181—antalyai̇lininkorkutelii̇lçesinebağlıküçükköy'debelediyekurulması,danıştayüçüncüdairesinin15/3/1969tarihve1969/123-119sayılıkararıüzerine,1580sayılıkanunun7469sayılıkanunladeğişik7ncimaddesinegöreuygungörülmüştür.2—bukararıi̇çişleribakamyürütür.21/4/1969başbakans.demlreli̇çişleribakanıf.sükancumhurbaşkanicsunaymillieğitimbakanlığından:kararsayısı:71131—i̇stanbulüniversitesi,eczacılıkfakültesibiokimyakürsüsündeaçıkbulunan1250liraaylıklıprofesörlüğe,4936sayısıkanunun,115sayılıkanunladeğişik26ncımaddesigereğince,fakülteprofesörlerkurulutarafındanseçilmişvesenatocauygungörülmüşolan,aynıkürsüdeüni-sahife:2versiteprofesörüdr.nevzatöner'inalmaktaolduğu1100liraaylıklaatanmasıuygungörülmüştür.2—bukaranmillîeğitimbakanıyürütür.21/4/1969cumhurbaşkanic.sunaybaşbakanmillieğitimbakanı8.demi̇rel1.ertemkararsayısı:71141—i̇stanbulüniversitesi,cerrahpaşatıpfakültesifarmakolojivetedavikürsüsündeaçıkbulunan1100liraaylıklıprofesörlüğe,4936sayılıkanunun,115sayılıkanunladeğişik26ncimaddesigereğince,fakülteprofesörlerkurulutarafındanseçilmişvesenatocauygungörülmüşolanaynıkürsüdeüniversiteprofesörüdr.fahirmelekgöksel'in,almaktaolduğu1500liraaylıklaatanmasıuygungörülmüştür.2—bukaranmillîeğitimbakanıyürütür.21/4/1969cumhurbaşkanicsunaybaşbakanmillieğitimbakanıs.demi̇rel1.ertemkararsayısı:71151—i̇stanbulüniverrsitesi,cerrahpaşatıpfakültesi,farmakolojivetedavikürsüsündeaçıkbulunan1250liraaylıklıprofesörlüğe,4936sayılıkanunun,115sayılıkanunladeğişik26ncimaddesigereğince,fakülteprofesörlerkurulutarafındanseçilmişvesenatocauygungörülmüşolanaynıkürsüdeüniversiteprorfesörndr.şefikkayahan'ın,almaktaolduğu1750liraaylıklaatanmasıuygungörülmüştür.2—bukararımillîeğitimbakanıyürütür.21/4/1969cumhurbaşkanicsunaybaşbakanmillieğitimbakanıs.demi̇reli̇.ertemkararsayısı:71161—i̇stanbulüniversitesi,cerrahpaşatıpfakültesi,farmakolojivetedavikürsüsündeaçıkbulunan1250liraaylıklıprofesörlüğe,4936sayılıkanunun,115sayılıkanunladeğişik26ncimaddesigereğince,fakülteprofesörlerkurulutarafındanseçilmişvesenatocauygungörülmüşolan,aynıkürsüdeüniversiteprofesörüdr.cem'idemiroğlu'nun,almaktaolduğu1750liraaylıklaatanmasıuygungörülmüştür.2—bukararımillîeğitimbakanıyürütür.21/4/1969cumhurbaşkanicsunaybaşbakanmillîeğitimbakanıs.demi̇rel1.ertemkararsayısı:71231i̇stanbulüniversitesi,tıpfakültesi,birincii̇çhastalıklankürsüsüdoçentidr.sevimdevrim'in,4936sayılıkanunun,115sayılıkanunladeğişik24ve26ncimaddelerigereğince,aylığınıdoçentlikkadrosundanalmaküzere,üniversitesiprofesörlüğüneterfiiuygungörülmüştür.2—bukaranmillîeğitimbakamyürütür.21/4/1969cumhurbaşkanicsunaybaşbakanmillîeğitimbakanıs.demi̇rel1.ertemkararsayısı:71121i̇stanbulüniversitesi,cerrahpaşatıpfakültesianatomikürsüsündeaçıkbulunan1250liraaylıklıprofesörlüğe,4936saydıkanunun,115sayılıkanunladeğişik26ncimaddesigereğince,fakülteprofesörlerkurulutarafındanseçilmişvesenatocauygungörülmüşolan,aynıkürsüdeüniversiteprofesörüdr.orhankuran'ın,almaktaolduğu1750liraaylıklaatanmasıuygungörülmüştür.2—bukararımillieğitimbakamyürütür.21/4/1969cumhurbaşkanicsunaybaşbakanmillîeğitimbakanıs.demi̇rel1.ertem5mayis1969millîeğitimbakanlığından:kararsayısı:71111—i̇stanbulüniversitesi,cerrahpaşatıpfakültesi,genelpatolojivepatolojik»anatomikürsüsündeaçıkbulunan1250liraaylıklıprofesörlüğe,4936sayılıkanunun,115sayılıkanunladeğişik26namaddesigereğince,fakülteprofesörlerkurulutarafındanseçilmişvesenatocauygungörülmüşolanaynıkürsüdeüniversiteprofesörüdr.taliaaykan'ın,almaktaolduğu2000liraaylıklaatanmasıuygungörülmüştür.2—bukaranmillîeğitimbakanıyürütür.21/4/1969cumhurbaşkanic-sunaybaşbakanmillîeğitimbakanıs.demi̇rel1.ertemkararsayısı:71101—i̇stanbulüniversite\n"
          ]
        }
      ]
    },
    {
      "cell_type": "code",
      "source": [
        "# Kategorisi Resmi Gazete olan tüm dokümanlara rega_no, rega_tarihi ve varsa mukerrer_no islenmesinden sorumlu fonksiyon\n",
        "# Resmi Gazete olarak gönderilen 'satir' satir numaralı kaydın rega_no sunun bulunması\n",
        "def veriIslemeREGA(satir):\n",
        "  icerik = str(df['data_text'][satir])\n",
        "  sayininOlduguYer = icerik.find('sayı')\n",
        "  if sayininOlduguYer==-1:\n",
        "    return 0\n",
        "  sayininBasi = sayininOlduguYer\n",
        "  sayininSonu = 0\n",
        "  while not icerik[sayininBasi].isnumeric():\n",
        "    sayininBasi+=1\n",
        "    if sayininBasi==len(icerik):\n",
        "      return 0\n",
        "  sayininSonu = sayininBasi\n",
        "  while icerik[sayininSonu].isnumeric():\n",
        "    sayininSonu+=1\n",
        "  bulunan_rega_no = icerik[sayininBasi:sayininSonu]\n",
        "  olmasigereken_rega_no = df['rega_no'][satir]\n",
        "  if bulunan_rega_no!=olmasigereken_rega_no:\n",
        "    return 1\n",
        "  else:\n",
        "    return 0\n",
        "\n",
        "# Önce Sayıları Bulduralım\n",
        "satirToplami, sutunToplami = df.shape\n",
        "hataSay = 0\n",
        "for satirNo in range(satirToplami):\n",
        "  if df['kategori'][satirNo]=='Resmi Gazete':\n",
        "    if veriIslemeREGA(satirNo):\n",
        "      hataSay += 1\n",
        "\n",
        "print('Fonksiyon bu hali ile RESMİ GAZETE kategorisindeki dokümanın içinden',(546-hataSay)/546,'başarı oranı ile rega_no bulabiliyor!')"
      ],
      "metadata": {
        "colab": {
          "base_uri": "https://localhost:8080/"
        },
        "id": "5XYuD2ZLoXxs",
        "outputId": "86feb0a7-4d8c-4263-bbc5-e63e713a12fb"
      },
      "execution_count": 51,
      "outputs": [
        {
          "output_type": "stream",
          "name": "stdout",
          "text": [
            "Fonksiyon bu hali ile RESMİ GAZETE kategorisindeki dokümanın içinden 0.782051282051282 başarı oranı ile rega_no bulabiliyor!\n"
          ]
        }
      ]
    },
    {
      "cell_type": "markdown",
      "source": [
        "Fonksiyon bu hali ile RESMİ GAZETE kategorisindeki dokümanın içinden 0.782051282051282 başarı oranı ile rega_no bulabiliyor!\n",
        "rega_no'yu doğru bulamadığı içerikleri incelediğimizde bizim bulduğumuz rega_no'nun doğru veri kümesinde paylaşılan rega_no'nun hatalı olduğunu gördük.\n",
        "\n",
        "Şimdi gönderilen dokümanda rega_no'yu veri kümesine işleyeceğiz ama RESMİ GAZETE TARİHİ'ni yine hangi doğrulukta bulduğumuzu hesaplayacağız."
      ],
      "metadata": {
        "id": "lWUMI3wwgUGz"
      }
    },
    {
      "cell_type": "code",
      "source": [
        "# Kategorisi Resmi Gazete olan tüm dokümanlara rega_no, rega_tarihi ve varsa mukerrer_no işlenmesinden sorumlu fonksiyon\n",
        "# Resmi Gazete olarak gönderilen 'satir' satir numaralı kaydın rega_no'sunu işlenmesi ve rega_tarihinin bulunması\n",
        "def resmiGazeteyeregaNoIsle(satir):\n",
        "  icerik = str(df['data_text'][satir])\n",
        "  sayininOlduguYer = icerik.find('sayı')\n",
        "  if sayininOlduguYer==-1:\n",
        "    return\n",
        "  sayininBasi = sayininOlduguYer\n",
        "  sayininSonu = 0\n",
        "  while not icerik[sayininBasi].isnumeric():\n",
        "    sayininBasi+=1\n",
        "    if sayininBasi==len(icerik):\n",
        "      return\n",
        "  sayininSonu = sayininBasi\n",
        "  while icerik[sayininSonu].isnumeric():\n",
        "    sayininSonu+=1\n",
        "  df.loc[satir,'rega_no'] = icerik[sayininBasi:sayininSonu]\n",
        "  return\n",
        "\n",
        "def veriIslemeREGA(satir):\n",
        "  # İletilen satır numaralı kayda rega_no'yu işleyeceğiz.\n",
        "  resmiGazeteyeregaNoIsle(satir)\n",
        "  # Şimdi rega_tarihi bulacağız\n",
        "  pass\n",
        "\n",
        "# Şimdi rega_no'ları işletip tarihleri bulalım\n",
        "satirToplami, sutunToplami = df.shape\n",
        "hataSay = 0\n",
        "for satirNo in range(satirToplami):\n",
        "  if df['kategori'][satirNo]=='Resmi Gazete':\n",
        "    if veriIslemeREGA(satirNo):\n",
        "      hataSay += 1\n",
        "\n",
        "print('Fonksiyon bu hali ile RESMİ GAZETE kategorisindeki dokümanın içinden',(546-hataSay)/546,'başarı oranı ile rega_no bulabiliyor!')"
      ],
      "metadata": {
        "id": "E_vgL1QchB_i"
      },
      "execution_count": null,
      "outputs": []
    }
  ]
}