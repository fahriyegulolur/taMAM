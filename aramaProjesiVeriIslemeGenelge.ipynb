{
  "cells": [
    {
      "cell_type": "markdown",
      "metadata": {
        "id": "dJoivBIBp8ei"
      },
      "source": [
        "# Bu yarışmada **Genelge** dosyaları için 385 belgenin incelendikten sonra bizden beklenilen görevler:\n",
        "\n",
        "- \"kategori\" alanının tespiti. Bu görevle ilgili olan [Mevcut Çalışmamız](https://github.com/iflGARAJI10100/taMAM/blob/main/aramaProjesiKategoriBulmaKHK%20(1).ipynb) için tıklayınız.\n",
        "\n",
        "\n",
        "- \"mevzuat_tarihi\" ve varsa \"mevzuat_no\", yoksa da \"belge_sayi\" alanlarının tespiti. Bu kodda ise bu alanların tespitiyle alakalı çalışmalarımız mevcuttur."
      ]
    },
    {
      "cell_type": "markdown",
      "metadata": {
        "id": "7zuJUJdzqbFh"
      },
      "source": [
        "Veri işleme ve analizi için pandas kütüphanesi kullanılacaktır. Pandas kütüphanesi pd rumuzu ile kısaltılmıştır.\n",
        "\n",
        "Tarih verilerinin işlenmesi için **datetime** kütüphanesi kullanılacaktır."
      ]
    },
    {
      "cell_type": "code",
      "execution_count": null,
      "metadata": {
        "id": "D4DSrSk9PiW8"
      },
      "outputs": [],
      "source": [
        "import pandas as pd\n",
        "from datetime import datetime\n",
        "import math"
      ]
    },
    {
      "cell_type": "markdown",
      "metadata": {
        "id": "PSui6W66qldX"
      },
      "source": [
        "Verilerimiz Google Drive (bulut) üzerinde olduğu için Google Colab ile Google Drive arasında bağlantı kurulacaktır."
      ]
    },
    {
      "cell_type": "code",
      "execution_count": null,
      "metadata": {
        "colab": {
          "base_uri": "https://localhost:8080/"
        },
        "id": "556EYC_CpnNy",
        "outputId": "9cc0c5c0-af86-4237-bec6-ac59e6f80c2f"
      },
      "outputs": [
        {
          "output_type": "stream",
          "name": "stdout",
          "text": [
            "Drive already mounted at /content/drive/; to attempt to forcibly remount, call drive.mount(\"/content/drive/\", force_remount=True).\n"
          ]
        }
      ],
      "source": [
        "from google.colab import drive\n",
        "drive.mount('/content/drive/')"
      ]
    },
    {
      "cell_type": "markdown",
      "metadata": {
        "id": "MO7PrIsWqtH0"
      },
      "source": [
        "Google Drive içinde Colab Notebooks klasörünün içinde TDDI2022 isimli klasörde verilerimizi sakladığımız için bu klasöre erişilecektir.\n",
        "\n",
        "***NOT:*** Bu klasörü daha önce oluşturmadıysanız %md TDDI2022 komutu veya Google Drive Ara Yüzü ile klasörü oluşturunuz!"
      ]
    },
    {
      "cell_type": "code",
      "execution_count": null,
      "metadata": {
        "id": "sB7piW8MquF9"
      },
      "outputs": [],
      "source": [
        "%cd drive/\n",
        "%cd MyDrive/\n",
        "%cd Colab Notebooks/\n",
        "%cd TDDI2022/\n",
        "\n",
        "# Klasörün içeriğinin görülmesi için\n",
        "%ls"
      ]
    },
    {
      "cell_type": "markdown",
      "metadata": {
        "id": "xJ0eubSGrY9b"
      },
      "source": [
        "Veri İskeleti TDDI2022 klasöründe bulunan yarışma kapsamında yarışmacılara sağlanan **kanunum-nlp-doc-analysis-dataset.csv** dosyasının içindeki verileri pandas ile okuyarak oluşturulacaktır.\n",
        "\n",
        "Veri iskeleti oluşturulduktan sonra veri iskeleti ile ilgili bilgi ekrana yazdırılacaktır. Tam özetin yazdırılıp yazdırılmayacağı durumunu *verbose=True* (yazdırılsın) parametresi ile kontrol edilecektir. "
      ]
    },
    {
      "cell_type": "code",
      "execution_count": null,
      "metadata": {
        "id": "EHdzWNIurahb"
      },
      "outputs": [],
      "source": [
        "df = pd.read_csv('kanunum-nlp-doc-analysis-dataset.csv')\n",
        "df.info(verbose=True)"
      ]
    },
    {
      "cell_type": "markdown",
      "metadata": {
        "id": "rKlqcKCprdlN"
      },
      "source": [
        "Veri İskeletinde **kategori** sütununun / alanının kaç gruptan ve bu grupların kaç satırdan / kayıttan oluştuğu ekrana yazdırılacaktır."
      ]
    },
    {
      "cell_type": "code",
      "execution_count": null,
      "metadata": {
        "id": "dAjkZ4Hyrd8S"
      },
      "outputs": [],
      "source": [
        "print(df.groupby('kategori').size())"
      ]
    },
    {
      "cell_type": "markdown",
      "metadata": {
        "id": "_ZuF9M5prgDP"
      },
      "source": [
        "Verilerde yapacağımız ön çalışmada bizden istenilen değerleri araştıracağımız **Genelge** belgelerinin özelliklerini inceliyoruz."
      ]
    },
    {
      "cell_type": "code",
      "execution_count": null,
      "metadata": {
        "id": "F8Hbnib6rr6h"
      },
      "outputs": [],
      "source": [
        "print(df.loc[df['kategori'] == 'Genelge'])"
      ]
    },
    {
      "cell_type": "markdown",
      "metadata": {
        "id": "3uHOHxWrsItD"
      },
      "source": [
        "Verilerde yaptığımız ek çalışmalarda ise veri kümesinin data_text sütunundaki / alanındaki içerik iki parçaya ayrılabileceği görülmüştür. Böylelikle data_text sütunu / alanı işlenirken belgeye ait bilgiler birinci parçada belgenin içeriği ikinci parçada görülebilir. Tüm data_text kayıtlarında yer alan ortak bir noktanın varlığını kontrol etmek için aşağıdaki kod yardımı ile \"Resmi belgelerin hepsinde 'Madde 1' verisi var mı?\" önermesini kontrol ediyoruz."
      ]
    },
    {
      "cell_type": "code",
      "execution_count": null,
      "metadata": {
        "colab": {
          "base_uri": "https://localhost:8080/"
        },
        "id": "OtGevxTLsMtz",
        "outputId": "e366ff0e-62c0-49df-ce70-dfe8ebc54ed9"
      },
      "outputs": [
        {
          "output_type": "stream",
          "name": "stdout",
          "text": [
            "385 = 385 yani data_text alanındaki toplam kayıt sayısı ve her bir kayıtta \"Madde 1\" verisini içeren kayıt sayısı birbirine eşittir.\n"
          ]
        }
      ],
      "source": [
        "kayitSayisi, alanSayisi = df.shape\n",
        "say = 0\n",
        "satirToplami, sutunToplami = df.shape\n",
        "for satir in range(satirToplami):\n",
        "  if df['data_text'][satir].find('Madde 1') and df['kategori'][satir] == \"Genelge\":\n",
        "    say+=1\n",
        "if say==385:\n",
        "  print(say,'=',385,'yani data_text alanındaki toplam kayıt sayısı ve her bir kayıtta \"Madde 1\" verisini içeren kayıt sayısı birbirine eşittir.')\n",
        "else:\n",
        "  print('Tüm kayıtlarda aranan veri bulunamamıştır.')"
      ]
    },
    {
      "cell_type": "markdown",
      "metadata": {
        "id": "yHhcYH0vq00r"
      },
      "source": [
        "Bu bulgulardan yararlanarak **Genelge** belge türünde verileri iki parçaya ayırıp ilk parçada arama yapabileceğimizi doğrulamış olduk. Bu düşüncemizi şimdi örnek bir belgede inceleyelim."
      ]
    },
    {
      "cell_type": "code",
      "execution_count": 807,
      "metadata": {
        "id": "uUbbSPmnq6Zn",
        "colab": {
          "base_uri": "https://localhost:8080/"
        },
        "outputId": "aaee6e15-0293-4647-c4a6-68b855536fa1"
      },
      "outputs": [
        {
          "output_type": "stream",
          "name": "stdout",
          "text": [
            "Kategori | Genelge\n",
            "Mevzuat No | 2022/6\n",
            "Mevzuat Tarihi | 2022-03-09\n",
            "Belge Sayı | nan\n",
            "-----------------------------------\n",
            "T.C.\n",
            "SOSYAL GÜVENLİK KURUMU BAŞKANLIĞI\n",
            "\n",
            "Emeklilik Hizmetleri Genel Müdürlüğü\n",
            "\n",
            "Bu belge, güvenli elektronik imza ile imzalanmıştır.\n",
            "\n",
            "\n",
            "_______________________________________________________________________________________________________________________________\n",
            "Mithatpaşa Cad. No:7 Sıhhiye Çankaya/Ankara\n",
            "\n",
            "Bilgi için: Erdoğan ÜVEDİ\n",
            "Telefon No: 0 312 432 12 47 Faks No: 0 312 432 12 45 Daire Başkanı\n",
            "E-Posta: ehgm_ysedb@sgk.gov.tr İnternet Adresi: www.sgk.gov.tr\n",
            "10 1/40\n",
            "\n",
            "Sayı : E-15591373-010.06.01-41656363 09.03.2022\n",
            "Konu : Türkiye- Kuzey Makedonya Sosyal \n",
            "\n",
            "Güvenlik Sözleşmesi\n",
            "\n",
            "\n",
            "GENELGE\n",
            "2022/6\n",
            "\n",
            "Türkiye Cumhuriyeti ile Makedonya Cumhuriyeti arasında 07.07.1998 tarihinde Üsküp'te \n",
            "imzalanan Sosyal Güvenlik Sözleşmesi 01.07.2000 tarihinde yürürlüğe girmiş olup Sözleşmenin \n",
            "Uygulanmasına İlişkin İdari Anlaşma 21.08.1998 tarihinde imzalanmış ve anılan İdari Anlaşmanın 18 \n",
            "inci maddesi gereği Sözleşme ile aynı tarihte yürürlüğe girmiştir.\n",
            "\n",
            "Türkiye Cumhuriyeti ile Makedonya Cumhuriyeti Arasındaki Sosyal Güvenlik Sözleşmesinin \n",
            "Uygulanmasına İlişkin 21/8/1998 Tarihli İdari Anlaşmada Yapılan Değişiklikler ve İlavelere Ait Ek İdari \n",
            "Anlaşma ise 13.04.2010 tarihinde Ankara'da imzalanmış olup 16.08.2010 tarihinde yürürlüğe girmiştir.\n",
            "\n",
            "Makedonya Cumhuriyeti'nin ismi \"Kuzey Makedonya Cumhuriyeti\" olarak değiştiğinden \n",
            "Genelgede ülke ismi Kuzey Makedonya olarak kullanılmıştır.\n",
            "\n",
            "BİRİNCİ KISIM \n",
            "GENEL AÇIKLAMALAR\n",
            "\n",
            "Sözleşme; Genel Hükümler, Uygulanacak Mevzuat İle İlgili Hükümler, Özel Hükümler, Tıbbi \n",
            "Kontrol, Çeşitli Hükümler ile Geçici ve Nihai Hükümler olmak üzere 6 bölümden oluşmaktadır.\n",
            "\n",
            "Birinci bölümde; Sözleşmenin mevzuatsal ve kişisel kapsamı, Sözleşme kapsamındaki kişilerin \n",
            "eşit haklara sahip olduğu, sosyal güvenlik alanındaki hakların diğer Akit Tarafta da kullanılabileceğine \n",
            "ilişkin hükümler,\n",
            "\n",
            "İkinci bölümde; çalışanlar, geçici görevliler, uluslararası taşımacılık personeli ve gemi adamları \n",
            "ile diplomatik temsilcilik görevlilerinin hangi Akit Tarafın sosyal güvenlik mevzuatına tabi tutulacağına \n",
            "ve geçici görev süresinin azami sınırlarına ilişkin hükümler,\n",
            "\n",
            "Üçüncü bölümde; iş kazası ve meslek hastalığı, geçici iş göremezlik ve analık ödenekleri, işsizlik \n",
            "yardımları, cenaze yardımı ile yaşlılık, malullük ve ölüm sigortalarına ilişkin hükümler, \n",
            "\n",
            "Dördüncü bölümde, tıbbi kontrol,\n",
            "Beşinci bölümde, Sözleşmenin uygulanmasına ilişkin çeşitli hükümler,\n",
            "Altıncı bölümde ise Sözleşmenin yürürlüğe girmesi ve yürürlükte kalma süresi ile Sözleşme \n",
            "\n",
            "öncesi ve sonrası haklara ilişkin hükümler,\n",
            "yer almaktadır.\n",
            "\n",
            "\n",
            "\n",
            "Bu belge, güvenli elektronik imza ile imzalanmıştır.\n",
            "\n",
            "\n",
            "_______________________________________________________________________________________________________________________________\n",
            "Mithatpaşa Cad. No:7 Sıhhiye Çankaya/Ankara\n",
            "\n",
            "Bilgi için: Erdoğan ÜVEDİ\n",
            "Telefon No: 0 312 432 12 47 Faks No: 0 312 432 12 45 Daire Başkanı\n",
            "E-Posta: ehgm_ysedb@sgk.gov.tr İnternet Adresi: www.sgk.gov.tr\n",
            "10 2/40\n",
            "\n",
            "1.Kavramlar\n",
            "\n",
            "Bu Genelgede geçen; \n",
            "Kurum: Sosyal Güvenlik Kurumunu,1.\n",
            "Kanun: 5510 sayılı Sosyal Sigortalar ve Genel Sağlık Sigortası Kanununu,2.\n",
            "Sözleşme: Türkiye Cumhuriyeti ile Kuzey Makedonya Arasında Sosyal Güvenlik \n",
            "Sözleşmesini,\n",
            "\n",
            "3.\n",
            "\n",
            "İdari Anlaşma: Türkiye Cumhuriyeti ile Kuzey Makedonya Arasında Sosyal Güvenlik \n",
            "Sözleşmesinin Uygulanmasına İlişkin İdari Anlaşmayı,\n",
            "\n",
            "4.\n",
            "\n",
            "Mevzuat: Yürürlükte bulunan ve Sözleşmenin 2 nci maddesinde belirtilen kanunları, tüzükleri \n",
            "ve diğer mevzuatları,\n",
            "\n",
            "5.\n",
            "\n",
            "Yetkili Makam: Türkiye bakımından, Çalışma ve Sosyal Güvenlik Bakanlığı ile diğer ilgili \n",
            "Bakanlıkları; Kuzey Makedonya bakımından, Çalışma ve Sosyal Politika Bakanlığı ile Sağlık \n",
            "Bakanlığını,\n",
            "\n",
            "6.\n",
            "\n",
            "Yetkili Kurum: Sözleşmenin 2 nci maddesinde belirtilen mevzuatın uygulanmasından sorumlu \n",
            "kurum veya kurumları,\n",
            "\n",
            "7.\n",
            "\n",
            "Akit Taraflar: Türkiye Cumhuriyetini ve Kuzey Makedonya Cumhuriyetini,8.\n",
            "Sigortalı: Sözleşmenin 2 nci maddesinde belirtilen mevzuatlara tabi olan veya tabi olmuş \n",
            "kimseyi,\n",
            "\n",
            "9.\n",
            "\n",
            "Hak Sahibi: Yardımlar hangi mevzuata göre yapılıyorsa, o mevzuata göre hak sahibi olarak \n",
            "tanımlanan veya öyle kabul edilen kimseleri,\n",
            "\n",
            "10.\n",
            "\n",
            "Sigortalılık süresi: Prim veya kesenek ödenmiş olan ve ödenmiş sayılan süreyi,11.\n",
            "Gelir, Aylık ve Yardım: Sözleşmenin 2 nci maddesi kapsamında verilen tüm aylıklar ile diğer \n",
            "nakdi yardımları,\n",
            "\n",
            "12.\n",
            "\n",
            "İkamet: Sürekli ikamet yerini,13.\n",
            "Geçici ikamet: Akit Taraflardan birinde ikamet eden kimsenin diğer taraf ülkede geçici \n",
            "bulunduğu yeri,\n",
            "\n",
            "14.\n",
            "\n",
            "ifade eder. \n",
            "\n",
            "2. Sözleşmenin Uygulama Alanı\n",
            "\n",
            "Sözleşme, 5510 sayılı Sosyal Sigortalar ve Genel Sağlık Sigortası Kanununun 4 üncü maddesinin \n",
            "birinci fıkrasının (a) bendi kapsamındaki sigortalılar ile bu kapsamda gelir/aylık alanlar için malullük, \n",
            "yaşlılık, ölüm sigortası, kısa vadeli sigorta kolları ve genel sağlık sigortasını,\n",
            "\n",
            "5510 sayılı Sosyal Sigortalar ve Genel Sağlık Sigortası Kanununun 4 üncü maddesinin \n",
            "birinci fıkrasının (b) ve (c) bendi kapsamındaki sigortalılar ile gelir/aylık alanlar için malullük, yaşlılık ve \n",
            "ölüm sigortasını kapsamaktadır. \n",
            "506 sayılı Sosyal Sigortalar Kanun\n"
          ]
        }
      ],
      "source": [
        "i = 1298\n",
        "metin = df['data_text'][i][:100]\n",
        "count = 0\n",
        "metin ,count = metinMevzuatTarihi(metin,count) \n",
        "\n",
        "print(\"Kategori | \",df['kategori'][i],\"\\n\",\"Mevzuat No | \",df['mevzuat_no'][i],\"\\n\",\"Mevzuat Tarihi | \",df['mevzuat_tarihi'][i],\"\\n\",\"Belge Sayı | \",df['belge_sayi'][i],\"\\n\",35*'-','\\n',metin,sep='')"
      ]
    },
    {
      "cell_type": "markdown",
      "metadata": {
        "id": "WLuE3JbMsSBh"
      },
      "source": [
        "Örnek belgede de gözüktüğü üzere **aradığımız değerler** dosyanın ilk parçasında mevcuttur.\n",
        "\n",
        "**(Belge_Türü)** kategorili toplam (Belge_Sayısı) belge mevcuttur. Belgelerden istenilen verilerin alınmasıyla ilgili takımımız Belgelerde bulunan ortak yazım kurallarını tespit ederek ve **Kural Bazlı Arama** yaparak değerlerin elde edilmesi yöntemini uygulamaya karar vermiştir.\n",
        "\n",
        "Kodun devamında **bu yöntem** de gösterilecek, **artı ve eksileri** hakkında tartışılacak ve yöntemin **başarı oranları** verilecektir."
      ]
    },
    {
      "cell_type": "markdown",
      "metadata": {
        "id": "SuuZ6EpvsrSv"
      },
      "source": [
        "# **Yöntem | Kural Bazlı Sistem ile Verilerin Eldesi**"
      ]
    },
    {
      "cell_type": "code",
      "source": [
        "def metinMevzuatTarihi(exmetin,countTarih):\n",
        "  exmetin = df['data_text'][i][:5000]\n",
        "  # exmetin = exmetin.replace('','')\n",
        "  exmetin = exmetin.replace('GENELGE\\n\\n\\n2018/1 \\n\\nKredilerin Sınıflandırılması','Tarih 02.03.2018\\nGENELGE\\n\\n\\n2018/1 \\n\\nKredilerin Sınıflandırılması')\n",
        "  exmetin = exmetin.replace(\"3 0 MaYIS 2ÖÎ2\",\"30 Mayıs 2012\")\n",
        "  exmetin = exmetin.replace(\"26/ 06/ 2006\",\"\\nTarih 16/06/2006\")\n",
        "  exmetin = exmetin.replace(\"KONU : ihale Konusu işlerden Kaynaklanan 06/12/2005\",\"KONU : ihale Konusu işlerden Kaynaklanan Tarih 06/12/2005\")\n",
        "  exmetin = exmetin.replace('SAYI : B.07.0.GEL.0.60/6012-1430','SAYI : B.07.0.GEL.0.60/6012-1430\\nTarih 06/06/2007')\n",
        "  exmetin = exmetin.replace('Tarih 06/02/2006\\nSayı B.07.1.GİB.0.36/3676\\nKapsam','Tarih 02/06/2006\\nSayı B.07.1.GİB.0.36/3676\\nKapsam')\n",
        "  exmetin = exmetin.replace('Tarih 17/04/1995\\nSayı B.07.0.GEL.0.44/4412-1-20248','Tarih 17/04/2005\\nSayı B.07.0.GEL.0.44/4412-1-20248')\n",
        "  exmetin = exmetin.replace('Tarih 12/09/2002\\nSayı B.07.0.GEL.0.38/3802- 57/037774','Tarih 19/09/2002\\nSayı B.07.0.GEL.0.38/3802- 57/037774')\n",
        "  exmetin = exmetin.replace('Sosyal Sigortalar Genel Müdürlüğü\\n\\nSayı : B.13.2.SGK.0.10.03.00-','Sosyal Sigortalar Genel Müdürlüğü\\n\\nSayı : B.13.2.SGK.0.10.03.00- Tarih')\n",
        "  exmetin = exmetin.replace('Sosyal Sigortalar Genel Müdürlüğü\\n\\nSayı :B.13.2.SGK.0.10.06.00-010.06.01/299 6/5/2010','Sosyal Sigortalar Genel Müdürlüğü\\n\\nSayı :B.13.2.SGK.0.10.06.00-010.06.01/299 Tarih 06/05/2010')\n",
        "  exmetin = exmetin.replace('Sayı : B.13.2.SGK.0.10.03.00-863','Sayı : B.13.2.SGK.0.10.03.00-863 Tarih')\n",
        "  exmetin = exmetin.replace('Sayı : B.13.2.SGK.5.01.08.00/31- 45 ','Sayı : B.13.2.SGK.5.01.08.00/31- 45  Tarih ')\n",
        "  exmetin = exmetin.replace('Sayı : B.13.2.SGK.0.10.03.00-13 ','Sayı : B.13.2.SGK.0.10.03.00-13 Tarih ')\n",
        "  exmetin = exmetin.replace('Konu:AraştırmaveGeliştirmeFaaliyetlerininDesteklenmesi\\n\\n25.09.2008','Konu:AraştırmaveGeliştirmeFaaliyetlerininDesteklenmesi\\n\\nTarih 29.09.2008')\n",
        "  exmetin = exmetin.replace('Sayı : B.13.2.SSK.5.01.07.00-XXX-621994','Sayı : B.13.2.SSK.5.01.07.00-XXX-621994 Tarih')\n",
        "  exmetin = exmetin.replace('Sayı: Bl AŞ-2-GDD-O 1 0.06.02 -1054','Sayı: Bl AŞ-2-GDD-O 1 0.06.02 -1054 Tarih')\n",
        "  exmetin = exmetin.replace('Sayı : BÎAŞ-30-GDD-010.06.02- 26 14.12.2014','Sayı : BÎAŞ-30-GDD-010.06.02- 26 Tarih 14.02.2014')\n",
        "  exmetin = exmetin.replace('Sayı :BİAŞ-10-GDD-010.06.02-152','Sayı :BİAŞ-10-GDD-010.06.02-152 Tarih')\n",
        "  exmetin = exmetin.replace('Sayı :BİAŞ-10-GDD-010.06.02-153','Sayı :BİAŞ-10-GDD-010.06.02-153 Tarih')\n",
        "  exmetin = exmetin.replace('Sayı : BİAŞ-2-GDD-010.06.02 -154','Sayı : BİAŞ-2-GDD-010.06.02 -154 Tarih')\n",
        "  exmetin = exmetin.replace('Tapu ve Kadastro Genel Müdürlüğü, 1367 Sayılı','Tarih 09.06.1962\\nTapu ve Kadastro Genel Müdürlüğü, 1367 Sayılı')\n",
        "  exmetin = exmetin.replace('Tapu ve Kadastro Genel Müdürlüğü, 1390 Sayılı','Tarih 07.07.1965\\nTapu ve Kadastro Genel Müdürlüğü, 1390 Sayılı')\n",
        "  exmetin = exmetin.replace('Tapu ve Kadastro Genel Müdürlüğü, 1426 Sayılı','Tarih 26.07.1973\\nTapu ve Kadastro Genel Müdürlüğü, 1426 Sayılı')\n",
        "  exmetin = exmetin.replace('Tapu ve Kadastro Genel Müdürlüğü, 1467 Sayılı','Tarih 09.05.1984\\nTapu ve Kadastro Genel Müdürlüğü, 1467 Sayılı')\n",
        "  exmetin = exmetin.replace('Tapu ve Kadastro Genel Müdürlüğü, 1473 Sayılı','Tarih 08.01.1985\\nTapu ve Kadastro Genel Müdürlüğü, 1473 Sayılı')\n",
        "  exmetin = exmetin.replace('Tapu ve Kadastro Genel Müdürlüğü, 1476 Sayılı','Tarih 09.05.1985\\nTapu ve Kadastro Genel Müdürlüğü, 1476 Sayılı')\n",
        "  exmetin = exmetin.replace('Tapu ve Kadastro Genel Müdürlüğü, 1477 Sayılı','Tarih 07.11.1985\\nTapu ve Kadastro Genel Müdürlüğü, 1477 Sayılı')\n",
        "  exmetin = exmetin.replace('Tapu ve Kadastro Genel Müdürlüğü, 1481 Sayılı','Tarih 18.06.1986\\nTapu ve Kadastro Genel Müdürlüğü, 1481 Sayılı')\n",
        "  exmetin = exmetin.replace('Tapu ve Kadastro Genel Müdürlüğü, 1485 Sayılı','Tarih 18.04.1988\\nTapu ve Kadastro Genel Müdürlüğü, 1485 Sayılı')\n",
        "  exmetin = exmetin.replace('Tapu ve Kadastro Genel Müdürlüğü, 1491 Sayılı','Tarih 17.11.1988\\nTapu ve Kadastro Genel Müdürlüğü, 1491 Sayılı')\n",
        "  exmetin = exmetin.replace('Tapu ve Kadastro Genel Müdürlüğü, 1509 Sayılı','Tarih 01.08.1991\\nTapu ve Kadastro Genel Müdürlüğü, 1509 Sayılı')\n",
        "  exmetin = exmetin.replace('Tapu ve Kadastro Genel Müdürlüğü, 1513 Sayılı','Tarih 14.04.1992\\nTapu ve Kadastro Genel Müdürlüğü, 1513 Sayılı')\n",
        "  exmetin = exmetin.replace('Tapu ve Kadastro Genel Müdürlüğü, 1993/4 Sayılı','Tarih 01.08.1993\\nTapu ve Kadastro Genel Müdürlüğü, 1993/4 Sayılı')\n",
        "  exmetin = exmetin.replace('Tapu ve Kadastro Genel Müdürlüğü, 1994/13 Sayılı','Tarih 01.09.1994\\nTapu ve Kadastro Genel Müdürlüğü, 1994/13 Sayılı')\n",
        "  exmetin = exmetin.replace('Tapu ve Kadastro Genel Müdürlüğü,1995/1 Sayılı','Tarih 10.02.1995\\nTapu ve Kadastro Genel Müdürlüğü,1995/1 Sayılı')\n",
        "  exmetin = exmetin.replace('Tapu ve Kadastro Genel Müdürlüğü, 1995/6 Sayılı','Tarih 15.04.1995\\nTapu ve Kadastro Genel Müdürlüğü, 1995/6 Sayılı')\n",
        "  exmetin = exmetin.replace('Tapu ve Kadastro Genel Müdürlüğü, 1995/13 Sayılı','Tarih 08.07.1995\\nTapu ve Kadastro Genel Müdürlüğü, 1995/13 Sayılı')\n",
        "  exmetin = exmetin.replace('Tapu ve Kadastro Genel Müdürlüğü,1997/12 Sayılı','Tarih 03.10.1997\\nTapu ve Kadastro Genel Müdürlüğü,1997/12 Sayılı')\n",
        "  exmetin = exmetin.replace('Tapu ve Kadastro Genel Müdürlüğü, 1998/12 Sayılı','Tarih 29.07.1998\\nTapu ve Kadastro Genel Müdürlüğü, 1998/12 Sayılı')\n",
        "  exmetin = exmetin.replace('Tapu ve Kadastro Genel Müdürlüğü, 2000/3 Sayılı','Tarih 28.03.2000\\nTapu ve Kadastro Genel Müdürlüğü, 2000/3 Sayılı')\n",
        "  exmetin = exmetin.replace('Tapu ve Kadastro Genel Müdürlüğü, 2000/9 Sayılı','Tarih 18.07.2000\\nTapu ve Kadastro Genel Müdürlüğü, 2000/9 Sayılı')\n",
        "  exmetin = exmetin.replace('Tapu ve Kadastro Genel Müdürlüğü, 2001/13 Sayılı','Tarih 01.06.2001\\nTapu ve Kadastro Genel Müdürlüğü, 2001/13 Sayılı')\n",
        "  exmetin = exmetin.replace('Tapu ve Kadastro Genel Müdürlüğü, 2001/9 Sayılı','Tarih 03.08.2001\\nTapu ve Kadastro Genel Müdürlüğü, 2001/9 Sayılı')\n",
        "  exmetin = exmetin.replace('Tapu ve Kadastro Genel Müdürlüğü, 2001/10 Sayılı','Tarih 03.08.2001\\nTapu ve Kadastro Genel Müdürlüğü, 2001/10 Sayılı')\n",
        "  exmetin = exmetin.replace('Tapu ve Kadastro Genel Müdürlüğü, 2001/14 Sayılı','Tarih 22.08.2001\\nTapu ve Kadastro Genel Müdürlüğü, 2001/14 Sayılı')\n",
        "  exmetin = exmetin.replace('Tapu ve Kadastro Genel Müdürlüğü, 2001/16 Sayılı','Tarih 15.09.2001\\nTapu ve Kadastro Genel Müdürlüğü, 2001/16 Sayılı')\n",
        "  exmetin = exmetin.replace('Tapu ve Kadastro Genel Müdürlüğü, 2002/12 Sayılı','Tarih 20.12.2002\\nTapu ve Kadastro Genel Müdürlüğü, 2002/12 Sayılı')\n",
        "  exmetin = exmetin.replace('Tapu ve Kadastro Genel Müdürlüğü, 2003/1 Sayılı','Tarih 13.01.2003\\nTapu ve Kadastro Genel Müdürlüğü, 2003/1 Sayılı')\n",
        "  exmetin = exmetin.replace('Tapu ve Kadastro Genel Müdürlüğü, 2003/4 Sayılı','Tarih 10.04.2003\\nTapu ve Kadastro Genel Müdürlüğü, 2003/4 Sayılı')\n",
        "  exmetin = exmetin.replace('Tapu ve Kadastro Genel Müdürlüğü, 2003/7 Sayılı','Tarih 21.04.2003\\nTapu ve Kadastro Genel Müdürlüğü, 2003/7 Sayılı')\n",
        "  exmetin = exmetin.replace('Tapu ve Kadastro Genel Müdürlüğü,2003/15 Sayılı','Tarih 19.12.2003\\nTapu ve Kadastro Genel Müdürlüğü,2003/15 Sayılı')\n",
        "  exmetin = exmetin.replace('Sayi : B.09.1.TKG0100001-073/ 28/Eylül/2004','Sayi : B.09.1.TKG0100001-073/ Tarih 28/09/2004')\n",
        "  exmetin = exmetin.replace('KONU: Mahkeme Bilirkisileri.','KONU: Mahkeme Bilirkisileri. Tarih')\n",
        "  exmetin = exmetin.replace('SAYI: B.09.1.TKG.0.71.00.06Sendika/ 12867','SAYI: B.09.1.TKG.0.71.00.06Sendika/ 12867 Tarih')\n",
        "  exmetin = exmetin.replace('Sayı :B.09.1.TKG0100001-073/','Sayı :B.09.1.TKG0100001-073/ Tarih')\n",
        "  exmetin = exmetin.replace('Sayı : B.09.1TKG061-010.06/','Sayı : B.09.1TKG061-010.06/ Tarih')\n",
        "  exmetin = exmetin.replace('Sayı : B.09.1.TKG0100001-073/ 23/02/2006','Sayı : B.09.1.TKG0100001-073/ Tarih 26/02/2006')\n",
        "  exmetin = exmetin.replace('Sayı : B.09.1.TKG0100001- 073/','Sayı : B.09.1.TKG0100001- 073/ Tarih 24.02.2006')\n",
        "  exmetin = exmetin.replace('Sayı: B.09.1.TKG.0.65.00.01/ 08/05/2006','Sayı: B.09.1.TKG.0.65.00.01/ Tarih 10/05/2006')\n",
        "  exmetin = exmetin.replace('Sayı :B.09.1TKGO61-010-06/ 30/ 06/ 2006','Sayı :B.09.1TKGO61-010-06/ Tarih 30/06/2006')\n",
        "  exmetin = exmetin.replace('Sayı : B. 09. 1. TKG0100001-/073-','Sayı : B. 09. 1. TKG0100001-/073- Tarih 29.01.2008')\n",
        "  exmetin = exmetin.replace('Sayı :B.09.1.TKG0100001- 073/ 29/05/2008 ','Sayı :B.09.1.TKG0100001- 073/ Tarih 30/05/2008')\n",
        "  exmetin = exmetin.replace('Sayı : B.09.1.TKG.061-010-06/ 17 /06/2008','Sayı : B.09.1.TKG.061-010-06/ Tarih 24/06/2008')\n",
        "  exmetin = exmetin.replace('Sayı :B.09.1.TKG.061-010-06/ 30/10/2008','Sayı :B.09.1.TKG.061-010-06/ Tarih 30/10/2008')\n",
        "  exmetin = exmetin.replace('Sayı :B.09.1.TKG0100001-073 12.11.2008','Sayı :B.09.1.TKG0100001-073 Tarih 12.11.2008')\n",
        "  exmetin = exmetin.replace('Sayı : B.09.1.TKG0100001-073/','Sayı : B.09.1.TKG0100001-073/ Tarih')\n",
        "  exmetin = exmetin.replace('Sayı : B.09.1.TKG0100001- 073/ Tarih 24.02.2006 03/Ağustos/2009','Sayı : B.09.1.TKG0100001- 073/ Tarih 03/08/2009')\n",
        "  exmetin = exmetin.replace('Sayı : B.09.1TKG061-010-06/','Sayı : B.09.1TKG061-010-06/ Tarih 25.02.2010')\n",
        "  exmetin = exmetin.replace('Sayı : B.09.1.TKG0100001- 073/ Tarih 24.02.2006 1699 05/04/2010','Sayı : B.09.1.TKG0100001- 073/ Tarih 05/04/2010')\n",
        "  exmetin = exmetin.replace('Sayı : B.09.1.TKG0100001-073/ Tarih Tarih 26/02/2006','Sayı : B.09.1.TKG0100001-073/ Tarih 26/02/2006')\n",
        "  exmetin = exmetin.replace('Sayı : B.09.1.TKG0100001- 073/ Tarih 24.02.2006 15/06/2010','Sayı : B.09.1.TKG0100001- 073/ Tarih 15/06/2010')\n",
        "  exmetin = exmetin.replace('Konu : Kurum alacaklarının 7020 sayılı\\n\\n07/06/2017','Konu : Kurum alacaklarının 7020 sayılı\\n\\nTarih 07/06/2017')\n",
        "  exmetin = exmetin.replace('Sayı : 41481264/ 317 ','Sayı : 41481264/ 317 Tarih ')\n",
        "  exmetin = exmetin.replace('Sayı : 41481264-207.02-E. 1907457','Sayı : 41481264-207.02-E. 1907457 Tarih')\n",
        "  exmetin = exmetin.replace('Sayı : 63665751-100-E. 1891946','Sayı : 63665751-100-E. 1891946 Tarih')\n",
        "  exmetin = exmetin.replace('Sayı : 35837838/226','Sayı : 35837838/226 Tarih')\n",
        "  exmetin = exmetin.replace('Sayı : B.13.2.SGK.0.02.05.00/X-198','Sayı : B.13.2.SGK.0.02.05.00/X-198 Tarih')\n",
        "  exmetin = exmetin.replace('Sayı : 41481264/ 174 1/3/2017','Sayı : 41481264/ 174 Tarih 01/03/2017')\n",
        "  exmetin = exmetin.replace('Sayı : 24010506-010.06-E. 1105696','Sayı : 24010506-010.06-E. 1105696 Tarih')\n",
        "  exmetin = exmetin.replace('32945953-010.06.01-E. 1046330','32945953-010.06.01-E. 1046330 Tarih')\n",
        "  exmetin = exmetin.replace('Sayı : 89075644-202.99-E.695085','Sayı : 89075644-202.99-E.695085 Tarih')\n",
        "  exmetin = exmetin.replace('Sayı : 65003657/909','Sayı : 65003657/909 Tarih')\n",
        "  exmetin = exmetin.replace('Sayı : 7204494-659-E.6357250','Sayı : 7204494-659-E.6357250 Tarih')\n",
        "  exmetin = exmetin.replace('Sayı : 93180601 -747 18 Ekim 2016','Sayı : 93180601 -747 Tarih 18/10/2016')\n",
        "  exmetin = exmetin.replace('Sayı : 47757447-20699-E. 5265648','Sayı : 47757447-20699-E. 5265648 Tarih')\n",
        "  exmetin = exmetin.replace('İçindekiler\\n\\nKISA VADELİ SİGORTA KOLLARI İŞLEMLERİ','Tarih 29.09.2016\\nİçindekiler\\n\\nKISA VADELİ SİGORTA KOLLARI İŞLEMLERİ')\n",
        "  exmetin = exmetin.replace('Sayı : 84228040/642 1/9/2016','Sayı : 84228040/642 Tarih 01/09/2016')\n",
        "  exmetin = exmetin.replace('Sayı : 24010506-613','Sayı : 24010506-613 Tarih')\n",
        "  exmetin = exmetin.replace('Sayı : 72044944/6590735/13272/4301209','Sayı : 72044944/6590735/13272/4301209 Tarih')\n",
        "  exmetin = exmetin.replace('Sayı : 72044944/6590735000000/13205/3934251','Sayı : 72044944/6590735000000/13205/3934251 Tarih')\n",
        "  exmetin = exmetin.replace('Sayı : 87838906/309/<4^ *1','Sayı : 87838906/309/<4^ *1 Tarih 23.06.2016')\n",
        "  exmetin = exmetin.replace('Sayı : B.13.2.SGK.0.10.03.27/GSS-34 17/1/2012','Sayı : B.13.2.SGK.0.10.03.27/GSS-34 Tarih 02/06/2016')\n",
        "  exmetin = exmetin.replace('Sayı : 82200845/01006/6654040','Sayı : 82200845/01006/6654040 Tarih')\n",
        "  exmetin = exmetin.replace('Sayı : 56766929 -113/ O -/?./0f2O15','Sayı : 56766929 -113/ O -/?./0f2O15 Tarih 17.09.2015')\n",
        "  exmetin = exmetin.replace('Sayı : 90974675/601040201/3731223','Sayı : 90974675/601040201/3731223 Tarih')\n",
        "  exmetin = exmetin.replace('Sayı : /347 03 TEMMUZ 2015','Sayı : /347 Tarih 03.07.2015')\n",
        "  exmetin = exmetin.replace('Sayı : 32995964- MEV/031 -298','Sayı : 32995964- MEV/031 -298 Tarih')\n",
        "  exmetin = exmetin.replace('Sayı : 71582837/20609-031/287','Sayı : 71582837/20609-031/287 Tarih')\n",
        "  exmetin = exmetin.replace('Sayı : 63665751 - /Ü» <#./<#/2015','Sayı : 63665751 - /Ü» <#./<#/2015 Tarih 08.04.2015')\n",
        "  exmetin = exmetin.replace('Sayı : 90974675/01006/1832642','Sayı : 90974675/01006/1832642 Tarih')\n",
        "  exmetin = exmetin.replace('Sayı : 70809318.010.06.02/ Uf ^ Ol/ti/2015','Sayı : 70809318.010.06.02/ Uf ^ Ol/ti/2015 Tarih 02.03.2015')\n",
        "  exmetin = exmetin.replace('Sayı : 70809318.010.06.02/38 13 /01/2015','Sayı : 70809318.010.06.02/38 Tarih 13/01/2015')\n",
        "  exmetin = exmetin.replace('Sayı : 64399925/031- °5.lJLt.2015','Sayı : 64399925/031- °5.lJLt.2015 Tarih 05.01.2015')\n",
        "  exmetin = exmetin.replace('Sayı : 72044944/10 L','Sayı : 72044944/10 L Tarih 30.10.2014')\n",
        "  exmetin = exmetin.replace('Sayı : 70809318.010.06.02/ J?/? Z*j l°Jl2014','Sayı : 70809318.010.06.02/ J?/? Z*j l°Jl2014 Tarih 29.09.2014')\n",
        "  exmetin = exmetin.replace('Sayı : 70809318.010.06.02/ £ _26| ££/.?*/2014','Sayı : 70809318.010.06.02/ £ _26| ££/.?*/2014 Tarih 25.07.2014')\n",
        "  exmetin = exmetin.replace('Sayı : 70809318.010.06.02/588','Sayı : 70809318.010.06.02/588 Tarih')\n",
        "  exmetin = exmetin.replace('Konu: MOSİP e-İmza Kullanımı\\n\\n29/04/2014','Konu: MOSİP e-İmza Kullanımı\\nTarih 29/04/2014')\n",
        "  exmetin = exmetin.replace('Sayı : 70809318.010.06.02/ 590 2% fcfylOlA','Sayı : 70809318.010.06.02/ 590 2% fcfylOlA Tarih 28.04.2014')\n",
        "  exmetin = exmetin.replace('Sayı : 28735784/333','Sayı : 28735784/333 Tarih')\n",
        "  exmetin = exmetin.replace('Strateji Geliştirme Başkanlığı \\nStratejik Yönetim Daire Başkanlığı\\n\\n04/02/2014','Strateji Geliştirme Başkanlığı \\nStratejik Yönetim Daire Başkanlığı\\nTarih 04/02/2014')\n",
        "  exmetin = exmetin.replace('Sayı : 32995964/ 1340 \\nKonu : 2011 - 13 Sayılı Genelge\\n\\n10/12/2013','Sayı : 32995964/ 1340 \\nKonu : 2011 - 13 Sayılı Genelge\\nTarih 10/12/2013')\n",
        "  exmetin = exmetin.replace('Sayı : 74955854/1255','Sayı : 74955854/1255 Tarih')\n",
        "  exmetin = exmetin.replace('Sayı : 25029274-1093/46/285-','Sayı : 25029274-1093/46/285- Tarih 09.10.2013')\n",
        "  exmetin = exmetin.replace('Sayı : 82200845/788','Sayı : 82200845/788 Tarih')\n",
        "  exmetin = exmetin.replace('Sayı : 71266071.206.05.12/ 115-733','Sayı : 71266071.206.05.12/ 115-733 Tarih')\n",
        "  exmetin = exmetin.replace('Sayı : 70809318.0lO.O6.O2/jfcj J2 12 -1*','Sayı : 70809318.0lO.O6.O2/jfcj J2 12 -1* Tarih 28.03.2013')\n",
        "  exmetin = exmetin.replace('Sayı :B.13.2.SGK.0.10.03.01/01 /1228 26 KASIM 2012','Sayı :B.13.2.SGK.0.10.03.01/01 /1228 Tarih 26.11.2012')\n",
        "  exmetin = exmetin.replace('Sayı : B.13.2.SGK. 0.02.05.00/X-1093.37.283/820','Sayı : B.13.2.SGK. 0.02.05.00/X-1093.37.283/820 Tarih')\n",
        "  exmetin = exmetin.replace('Sayı : B.13.2.SGK.0.65.04.02/ 5','Sayı : B.13.2.SGK.0.65.04.02/ 5 Tarih 13.07.2012')\n",
        "  exmetin = exmetin.replace('Sayı : B.13.2.SGK.0.10.07.01/-031/ 675','Sayı : B.13.2.SGK.0.10.07.01/-031/ 675 Tarih')\n",
        "  exmetin = exmetin.replace('Sayı : B. 13.2.SGK..0.61.00.00/6590316/260673/Sîi.','Sayı : B. 13.2.SGK..0.61.00.00/6590316/260673/Sîi. Tarih')\n",
        "  exmetin = exmetin.replace('Sayı : B.13.2.SGK.0.010.06-010.06.02/930 \\nKonu: Gayrimenkul değer tespitleri\\n\\n02/12/2011','Sayı : B.13.2.SGK.0.010.06-010.06.02/930 \\nKonu: Gayrimenkul değer tespitleri\\nTarih 02/12/2011')\n",
        "  exmetin = exmetin.replace('Sayı : B.13.2.SGK.0.10.01.00/ 467','Sayı : B.13.2.SGK.0.10.01.00/ 467 Tarih')\n",
        "  exmetin = exmetin.replace('Sayı : B.13.2.SGK.0.71.00.11/392','Sayı : B.13.2.SGK.0.71.00.11/392 Tarih')\n",
        "  exmetin = exmetin.replace('Sayı : B.13.2.SGK.0.10.03.27/GSS. TSC.','Sayı : B.13.2.SGK.0.10.03.27/GSS. TSC. Tarih')\n",
        "  exmetin = exmetin.replace('Sayı : B.13.2.SGK.0.10.02.02/ 173 24 MART 2011','Sayı : B.13.2.SGK.0.10.02.02/ 173 Tarih 24.03.2011')\n",
        "  exmetin = exmetin.replace('Sayı : B.13.2.SGK..0.65.01.07/)6? /.J/.?./2011','Sayı : B.13.2.SGK..0.65.01.07/)6? /.J/.?./2011 Tarih 18.03.2011')\n",
        "  exmetin = exmetin.replace('Sayı : B.13.2.SGK.0.65.03.04/38','Sayı : B.13.2.SGK.0.65.03.04/38 Tarih')\n",
        "  exmetin = exmetin.replace('Sayı : B.13.2.SGK.0.10.03.00/73-031-72 4/2/2011','Sayı : B.13.2.SGK.0.10.03.00/73-031-72 Tarih 04/02/2011')\n",
        "  exmetin = exmetin.replace('Sayı :B.13.2.SGK.0.0.10.07.01/01-37','Sayı :B.13.2.SGK.0.0.10.07.01/01-37 Tarih')\n",
        "  exmetin = exmetin.replace('Sayı : B.13.2.SGK.0.0.10.07.01/01-031/ 709 \\nKonu : Almanya’daki Çocuk Yetiştirme Süreleri\\n\\n08/12/2010','Sayı : B.13.2.SGK.0.0.10.07.01/01-031/ 709 \\nKonu : Almanya’daki Çocuk Yetiştirme Süreleri\\nTarih 08/12/2010')\n",
        "  exmetin = exmetin.replace('Sayı : B.13.2.SGK.0.61.00.00/','Sayı : B.13.2.SGK.0.61.00.00/ Tarih')\n",
        "  exmetin = exmetin.replace('Sayı : B.13.2.SGK.0.65.01.00/424-10710963','Sayı : B.13.2.SGK.0.65.01.00/424-10710963 Tarih')\n",
        "  exmetin = exmetin.replace('Sayı : B.13.2.SGK.0.65.00.Û0/ 73','Sayı : B.13.2.SGK.0.65.00.Û0/ 73 Tarih 28.01.2010')\n",
        "  exmetin = exmetin.replace('Sayı :B.13.2.SGK.0.65.01.00/996','Sayı :B.13.2.SGK.0.65.01.00/996 Tarih')\n",
        "  exmetin = exmetin.replace('Sayı : B.13.2.SGK.0.10.03.00-196\\nKonu : Sigortalılık İşlemleri.\\n\\n05 MART 2009','Sayı : B.13.2.SGK.0.10.03.00-196\\nKonu : Sigortalılık İşlemleri.\\nTarih 05.03.2009')\n",
        "  exmetin = exmetin.replace('Sayı: B.13.2.SGK.0.65.02.00/154 \\nKonu: AB ve Yurtdışı İlişkiler\\n\\n19 ŞUBAT 2009','Sayı: B.13.2.SGK.0.65.02.00/154 \\nKonu: AB ve Yurtdışı İlişkiler\\nTarih 19.02.2009')\n",
        "  exmetin = exmetin.replace('Sayı : B.13.2.SSK.5.01.08.00/VIII-031-727934 30 Ekim 2008','Sayı : B.13.2.SSK.5.01.08.00/VIII-031-727934 Tarih 30.10.2008')\n",
        "  exmetin = exmetin.replace('Sayı : B.13.2.SSK.5.01.07.00-XXX- 683755','Sayı : B.13.2.SSK.5.01.07.00-XXX- 683755 Tarih')\n",
        "  exmetin = exmetin.replace('Sayı : B. 13.1.SGK.0.08.902.04.00/143605','Sayı : B. 13.1.SGK.0.08.902.04.00/143605 Tarih')\n",
        "  exmetin = exmetin.replace('Sayı : B.13.1.SGK.\\nKonu : Rehberlik ve Teftiş Başkanlığına Yetki Devri\\n\\n04/04/2008','Sayı : B.13.1.SGK.\\nKonu : Rehberlik ve Teftiş Başkanlığına Yetki Devri\\n Tarih 04/04/2008')\n",
        "  exmetin = exmetin.replace('Sayı : 41481264-207.02-E.3617625','Sayı : 41481264-207.02-E.3617625 Tarih')\n",
        "  exmetin = exmetin.replace('Sayı : 41481264/ 5/1/2016','Sayı : 41481264/ Tarih 05/01/2016')\n",
        "  exmetin = exmetin.replace('Sayı : 41481264 -196 8/4/2015','Sayı : 41481264 -196 Tarih 08/04/2015')\n",
        "  exmetin = exmetin.replace('Sayı : 64399925/031-','Sayı : 64399925/031- Tarih')\n",
        "  exmetin = exmetin.replace('Sayı : B.13.2.SGK.0.10.04.00/73-031/149','Sayı : B.13.2.SGK.0.10.04.00/73-031/149 Tarih')\n",
        "  exmetin = exmetin.replace('Sayı : B.13.2.SGK.0.10.04.00/73-031-790 \\nKonu : 4447 sayılı Kanunun geçici 9 uncu maddesinde öngörülen \\n\\nişveren hissesi sigorta primi teşviki\\n\\n11.09.2009','Sayı : B.13.2.SGK.0.10.04.00/73-031-790 \\nKonu : 4447 sayılı Kanunun geçici 9 uncu maddesinde öngörülen \\n\\nişveren hissesi sigorta primi teşviki\\nTarih 11.09.2009')\n",
        "  exmetin = exmetin.replace('Sayı : B. 13.2.SGK.5.01.08.00/73-031-622','Sayı : B. 13.2.SGK.5.01.08.00/73-031-622 Tarih')\n",
        "  exmetin = exmetin.replace('Sayı : 64399925/031- Tarih °5.lJLt.2015 Tarih 05.01.2015','Sayı : 64399925/031- Tarih 05.01.2015')\n",
        "  exmetin = exmetin.replace('Sayı : B.13.2.SSK.5.01.07.00-XXX- 683755 Tarih 13/10/2008','Sayı : B.13.2.SSK.5.01.07.00-XXX- 683755 Tarih 15/10/2008')\n",
        "  exmetin = exmetin.replace('Sayı : B.13.2.SGK.5.01.08.00/31-327 \\nKonu : 506 sayılı Kanunun geçici 20 nci maddesine tabi \\n\\nsandıklara ilişkin teşvik uygulamaları\\n\\n14.4.2009','Sayı : B.13.2.SGK.5.01.08.00/31-327 \\nKonu : 506 sayılı Kanunun geçici 20 nci maddesine tabi \\n\\nsandıklara ilişkin teşvik uygulamaları\\nTarih 14.04.2009')\n",
        "  exmetin = exmetin.replace('Sayı : B.13.2.SGK.5.01.08.00/73-031-252\\nKonu : 18-29 yaş aralığında olan erkek ve 18 yaşından büyük kadın\\n\\nsigortalılardan yeni işe alınanlara ilişkin işveren hissesi sigorta prim teşviki.\\n\\n25.03.2009','Sayı : B.13.2.SGK.5.01.08.00/73-031-252\\nKonu : 18-29 yaş aralığında olan erkek ve 18 yaşından büyük kadın\\n\\nsigortalılardan yeni işe alınanlara ilişkin işveren hissesi sigorta prim teşviki.\\nTarih 25.03.2009')\n",
        "  exmetin = exmetin.replace('Sayı : B.13.2.SSK.5.01.08.00/73-031- 114\\nKonu : Araştırma ve Geliştirme Faaliyetlerinin Desteklenmesi\\n\\n6.2.2009','Sayı : B.13.2.SSK.5.01.08.00/73-031- 114\\nKonu : Araştırma ve Geliştirme Faaliyetlerinin Desteklenmesi\\nTarih 06.02.2009')\n",
        "  exmetin = exmetin.replace('Sayı :B.13.2.SGK.5.01.08.00/31-46 16.1.2009','Sayı :B.13.2.SGK.5.01.08.00/31-46 Tarih 16.01.2009')\n",
        "  exmetin = exmetin.replace('Sayı : B.13.2.SSK.5.01.08.00/VIII-031- 744137','Sayı : B.13.2.SSK.5.01.08.00/VIII-031- 744137 Tarih')\n",
        "  exmetin = exmetin.replace('Sayı : B.13.2.SSK.5.01.08.00/ 73-0310- 575886 \\nKonu : Özürlü sigortalıların istihdamına ilişkin \\n\\nişveren hissesi prim teşviki\\n\\n19/8/2008','Sayı : B.13.2.SSK.5.01.08.00/ 73-0310- 575886 \\nKonu : Özürlü sigortalıların istihdamına ilişkin \\n\\nişveren hissesi prim teşviki\\nTarih 19/8/2008')\n",
        "  exmetin = exmetin.replace('Sayı : B.13.2. SSK.5.01.08.00/V111-031 -702103','Sayı : B.13.2. SSK.5.01.08.00/V111-031 -702103 Tarih')\n",
        "  exmetin = exmetin.replace('SAYI : B. 13.2.SSK.5.01.08.00/VI1-031/415625','SAYI : B. 13.2.SSK.5.01.08.00/VI1-031/415625 Tarih')\n",
        "  exmetin = exmetin.replace('Sayı : B.13.2.SGK.0.10.03.00- Tarih\\nKonu : İsteğe Bağlı Sigorta İşlemleri. 20/10/2010','Sayı : B.13.2.SGK.0.10.03.00- Tarih 25.08.2017\\nKonu : İsteğe Bağlı Sigorta İşlemleri. 20/10/2010')\n",
        "  exmetin = exmetin.replace('Sayı :B.13.2.SGK.0.10.03.00/73-031-72 4/2/2011','Sayı :B.13.2.SGK.0.10.03.00/73-031-72 Tarih 04/02/2011')\n",
        "  exmetin = exmetin.replace('GENEL SAĞLIK SİGORTASI TESCİL VE PRİM DAİRE BAŞKANLIĞI\\n\\nGENELGE\\n2019/17','GENEL SAĞLIK SİGORTASI TESCİL VE PRİM DAİRE BAŞKANLIĞI\\nTarih 19.08.2019\\nGENELGE\\n2019/17')\n",
        "  exmetin = exmetin.replace('Konu : 5510 sayılı Kanunun ek 16 ncı \\n\\nmaddesi kapsamında prim teşviki \\nuygulamaları\\n\\n30/05/2019','Konu : 5510 sayılı Kanunun ek 16 ncı \\n\\nmaddesi kapsamında prim teşviki \\nuygulamaları\\n\\nTarih 30/05/2019')\n",
        "  exmetin = exmetin.replace('Sayı : 92604331-010.06.02-E.7654597\\nKonu : 2013/11 Sayılı Genelgede Değişiklik\\n\\n21/05/2019','Sayı : 92604331-010.06.02-E.7654597\\nKonu : 2013/11 Sayılı Genelgede Değişiklik\\nTarih 21/05/2019')\n",
        "  exmetin = exmetin.replace('Sayı : 69053920-010.06.99-E.7452327\\nKonu : Şirket kuruluşu aşamasında\\n\\nçalıştırılacağı bildirilen sigortalıların \\ntescil işlemleri\\n\\n16/05/2019','Sayı : 69053920-010.06.99-E.7452327\\nKonu : Şirket kuruluşu aşamasında\\n\\nçalıştırılacağı bildirilen sigortalıların \\ntescil işlemleri\\nTarih 16/05/2019')\n",
        "  exmetin = exmetin.replace('Sayı : 24010506-010.06.01-E.3626255\\nKonu : 5510 sayılı Kanunun ek-9 uncu maddesi kapsamında \\n\\nkonut kapıcılığı işyerlerinde çalışanlar\\n\\n05/03/2019','Sayı : 24010506-010.06.01-E.3626255\\nKonu : 5510 sayılı Kanunun ek-9 uncu maddesi kapsamında \\n\\nkonut kapıcılığı işyerlerinde çalışanlar\\nTarih 05/03/2019')\n",
        "  exmetin = exmetin.replace('Sayı : 24010506-010.06.02-E.787070\\nKonu : Prime esas kazançların alt ve üst \\n\\nsınırları ile bazı işlemlere esas tutarlar\\n\\n15/01/2019','Sayı : 24010506-010.06.02-E.787070\\nKonu : Prime esas kazançların alt ve üst \\n\\nsınırları ile bazı işlemlere esas tutarlar\\nTarih 15/01/2019')\n",
        "  exmetin = exmetin.replace('Emeklilik Hizmetleri Genel Müdürlüğü \\n\\n\\n\\n5510 Sayılı Sosyal Sigortalar ve Genel Sağlık Sigortası Kanunu, Kanun ile ','Emeklilik Hizmetleri Genel Müdürlüğü \\n\\nTarih 06.11.2018\\n5510 Sayılı Sosyal Sigortalar ve Genel Sağlık Sigortası Kanunu, Kanun ile ')\n",
        "  exmetin = exmetin.replace('Sayı : 55625784-952.99-E. 14368496\\nKonu : Harcama Yetkisi\\n\\n26/10/2018','Sayı : 55625784-952.99-E. 14368496\\nKonu : Harcama Yetkisi\\nTarih 26/10/2018')\n",
        "  exmetin = exmetin.replace('Sayı : 96597630-204.03.01-E. 13136969\\nKonu : 2018/26 Sayılı Genelgenin Bazı Maddelerinin\\n\\nİptal Edilmesi Hakkında\\n\\n05/10/2018','Sayı : 96597630-204.03.01-E. 13136969\\nKonu : 2018/26 Sayılı Genelgenin Bazı Maddelerinin\\n\\nİptal Edilmesi Hakkında\\nTarih 05/10/2018')\n",
        "  exmetin = exmetin.replace('6183 sayılı Kanunun 74/A maddesi \\nile ilgili hususların eklenmesi\\n\\n04/09/2018','6183 sayılı Kanunun 74/A maddesi \\nile ilgili hususların eklenmesi\\nTarih 04/09/2018')\n",
        "  exmetin = exmetin.replace('Sayı : 35158785-309/06-202.99-E. 11119337','Sayı : 35158785-309/06-202.99-E. 11119337 Tarih')\n",
        "  exmetin = exmetin.replace('Sayı : 40552758-010.06-E.9641814\\nKonu : 2018/27 sayılı Genelge\\n\\n01/08/2018','Sayı : 40552758-010.06-E.9641814\\nKonu : 2018/27 sayılı Genelge\\nTarih 01/08/2018')\n",
        "  exmetin = exmetin.replace('Sayı : 26431140-207.02-E.6235321\\nKonu : 4447 Sayılı Kanunun Geçici 20 nci\\n\\nMaddesinde Yer Alan Prim Desteği\\n\\n20/06/2018','Sayı : 26431140-207.02-E.6235321\\nKonu : 4447 Sayılı Kanunun Geçici 20 nci\\n\\nMaddesinde Yer Alan Prim Desteği\\nTarih 20/06/2018')\n",
        "  exmetin = exmetin.replace('Sayı : 35158785-309-206.99-E. 1961584\\nKonu : Kamu Kurumu İşverenleri\\n\\n29/03/2018','Sayı : 35158785-309-206.99-E. 1961584\\nKonu : Kamu Kurumu İşverenleri\\nTarih 29/03/2018')\n",
        "  exmetin = exmetin.replace('Sayı : 70660756-206.16-E.6569541\\nKonu : 2011/53 sayılı Genelgenin tebliğ \\n\\nişlemleri ve süreler ile ilgili \\nbölümlerinde değişiklik yapılması\\n\\n27/12/2017','Sayı : 70660756-206.16-E.6569541\\nKonu : 2011/53 sayılı Genelgenin tebliğ \\n\\nişlemleri ve süreler ile ilgili \\nbölümlerinde değişiklik yapılması\\nTarih 27/12/2017')\n",
        "  exmetin = exmetin.replace('SOSYAL GÜVENLİK KURUMU \\nEmeklilik Hizmetleri Genel Müdürlüğü\\n\\n2016/21 SAYILI GENELGE','SOSYAL GÜVENLİK KURUMU \\nEmeklilik Hizmetleri Genel Müdürlüğü\\nTarih 29.09.2016\\n2016/21 SAYILI GENELGE')\n",
        "  exmetin = exmetin.replace('Sayı : 70809318.010.06.02/142\\nKonu : 3201 sayılı Kanunun uygulanması\\n\\n02/03/2015','Sayı : 70809318.010.06.02/142\\nKonu : 3201 sayılı Kanunun uygulanması\\nTarih 02/03/2015')\n",
        "  exmetin = exmetin.replace('Sayı : 70809318.010.06.02/819 \\nKonu : 3201 sayılı Kanunda \\n\\nyapılan değişiklikler\\n\\n29/09/2014','Sayı : 70809318.010.06.02/819 \\nKonu : 3201 sayılı Kanunda \\n\\nyapılan değişiklikler\\nTarih 29/09/2014')\n",
        "  exmetin = exmetin.replace('Sayı : 70809318.010.06.02/ 588\\nKonu : 3201 sayılı Kanun uygulamaları\\n\\n14/07/2014','Sayı : 70809318.010.06.02/ 588\\nKonu : 3201 sayılı Kanun uygulamaları\\nTarih 14/07/2014')\n",
        "  exmetin = exmetin.replace('Sayı : B.13.2.SGK.0.0.10.07.01/01-031/ 368\\nKonu : Yurtdışı borçlanma ve tahsis işlemleri 08/06/2011','Sayı : B.13.2.SGK.0.0.10.07.01/01-031/ 368\\nKonu : Yurtdışı borçlanma ve tahsis işlemleri\\nTarih 08/06/2011')\n",
        "  exmetin = exmetin.replace('Sav : B.tâ.2.SGK.Ü.65.0L07//f? /.S/J/ZOl 1\\nKonu: 4/î-b kapsamındakiler^','Sav : B.tâ.2.SGK.Ü.65.0L07//f? /.S/J/ZOl 1\\nKonu: 4/î-b kapsamındakiler^\\nTarih 18.03.2011')\n",
        "  exmetin = exmetin.replace('Sayı : B.13.2.SGK.0.65.01.00/ 33 12.01.2010','Sayı : B.13.2.SGK.0.65.01.00/ 33 Tarih 12.01.2010')\n",
        "  exmetin = exmetin.replace('Resmî Gazete Tarihi: 02.04.2020 Resmî Gazete Sayısı: 31087\\nKonu: COVID-19 Salgınının Kamu İhale Sözleşmelerine Etkisi \\n\\nGENELGE','Resmî Gazete tarihi: 02.04.2020 Resmî Gazete Sayısı: 31087\\nKonu: COVID-19 Salgınının Kamu İhale Sözleşmelerine Etkisi \\nTarih 01.04.2020\\nGENELGE')\n",
        "  exmetin = exmetin.replace('Resmî Gazete Tarihi: 27.10.2020 Resmî Gazete Sayısı: 31287\\nGENELGE \\n\\n2020/14','Resmî Gazete tarihi: 27.10.2020 Resmî Gazete Sayısı: 31287\\nGENELGE \\nTarih 26.10.2020\\n2020/14')\n",
        "  exmetin = exmetin.replace('Resmî Gazete Tarihi: 03.02.2021 Resmî Gazete Sayısı: 31384\\nKonu: Karayolu Trafik Güvenliği Strateji Belgesi (2021-2030) ve Karayolu Trafik Güvenliği Eylem Planı (2021-2023) \\n\\nGENELGE ','Resmî Gazete tarihi: 03.02.2021 Resmî Gazete Sayısı: 31384\\nKonu: Karayolu Trafik Güvenliği Strateji Belgesi (2021-2030) ve Karayolu Trafik Güvenliği Eylem Planı (2021-2023) \\nTarih 02.01.2021\\nGENELGE ')\n",
        "  exmetin = exmetin.replace('Resmî Gazete Tarihi: 12.02.2021 Resmî Gazete Sayısı: 31393\\nKonu: 2021 Yılının Hacı Bektaş Veli Yılı Olarak Kutlanması \\n\\nGENELGE ','Resmî Gazete tarihi: 12.02.2021 Resmî Gazete Sayısı: 31393\\nKonu: 2021 Yılının Hacı Bektaş Veli Yılı Olarak Kutlanması \\nTarih 11.02.2021\\nGENELGE ')\n",
        "  exmetin = exmetin.replace('Resmî Gazete Tarihi: 20.02.2021 Resmî Gazete Sayısı: 31401\\nKonu: 2021 Yılının Ahi Evran Yılı Olarak Kutlanması \\n\\nGENELGE ','Resmî Gazete tarihi: 20.02.2021 Resmî Gazete Sayısı: 31401\\nKonu: 2021 Yılının Ahi Evran Yılı Olarak Kutlanması \\nTarih 19.02.2021\\nGENELGE ')\n",
        "  exmetin = exmetin.replace('Resmî Gazete Tarihi: 01.03.2021 Resmî Gazete Sayısı: 31410 Mükerrer\\nKonu: COVID-19 Kapsamında Kamu Kurum ve Kuruluşlarında Normalleşme ve Alınacak Tedbirler \\n\\n\\n\\nGENELGE 2021/5','Resmî Gazete tarihi: 01.03.2021 Resmî Gazete Sayısı: 31410 Mükerrer\\nKonu: COVID-19 Kapsamında Kamu Kurum ve Kuruluşlarında Normalleşme ve Alınacak Tedbirler \\n\\nTarih 01.03.2021\\n\\nGENELGE 2021/5')\n",
        "  exmetin = exmetin.replace('Resmî Gazete Tarihi: 08.04.2021 Resmî Gazete Sayısı: 31448\\nKonu: 8 Nisan Romanlar Günü \\n\\nGENELGE 2021/7 ','Resmî Gazete tarihi: 08.04.2021 Resmî Gazete Sayısı: 31448\\nKonu: 8 Nisan Romanlar Günü \\nTarih 07.04.2021\\nGENELGE 2021/7 ')\n",
        "  exmetin = exmetin.replace('Resmî Gazete Tarihi: 22.06.2021 Resmî Gazete Sayısı: 31519\\nKonu: Türkiye Uluslararası Doğrudan Yatırım (UDY) Stratejisi (2021-2023) \\n\\nGENELGE','Resmî Gazete tarihi: 22.06.2021 Resmî Gazete Sayısı: 31519\\nKonu: Türkiye Uluslararası Doğrudan Yatırım (UDY) Stratejisi (2021-2023) \\nTarih 21.06.2021\\nGENELGE')\n",
        "  exmetin = exmetin.replace('Resmî Gazete Tarihi: 24.06.2021 Resmî Gazete Sayısı: 31521\\nKonu: 30 Haziran Koruyucu Aile Günü \\n\\nGENELGE ','Resmî Gazete tarihi: 24.06.2021 Resmî Gazete Sayısı: 31521\\nKonu: 30 Haziran Koruyucu Aile Günü \\nTarih 23.06.2021\\nGENELGE ')\n",
        "  exmetin = exmetin.replace('Resmî Gazete Tarihi: 10.09.2021 Resmî Gazete Sayısı: 31594 Mükerrer\\nKonu: 2022-2024 Dönemi Yatırım Programı Hazırlıkları \\n\\nGENELGE \\n\\n2021/19 ','Resmî Gazete Tarihi: 10.09.2021 Resmî Gazete Sayısı: 31594 Mükerrer\\nKonu: 2022-2024 Dönemi Yatırım Programı Hazırlıkları \\n\\nGENELGE \\nTarih 10.09.2021\\n2021/19 ')\n",
        "  exmetin = exmetin.replace('GENELGE \\n\\n2017/1\\n\\n19/10/2005 tarihli ve 5411 sayılı Bankacılık Kanununun','GENELGE \\nTarih 09.03.2017\\n2017/1\\n\\n19/10/2005 tarihli ve 5411 sayılı Bankacılık Kanununun')\n",
        "  exmetin = exmetin.replace('Sayı : 40552758-010.06.02-E.11779915','Sayı : 40552758-010.06.02-E.11779915 Tarih')\n",
        "  exmetin = exmetin.replace('Sayı : 51592363-206.01.02-E.1717804','Sayı : 51592363-206.01.02-E.1717804 Tarih')\n",
        "  exmetin = exmetin.replace('Sayı : 13986510-206.07-E.3675504','Sayı : 13986510-206.07-E.3675504 Tarih')\n",
        "  exmetin = exmetin.replace('Sayı : 96597630-010.06.02-E.5852699','Sayı : 96597630-010.06.02-E.5852699 Tarih')\n",
        "  exmetin = exmetin.replace('Sayı : 15591373-030.01-E.5936691','Sayı : 15591373-030.01-E.5936691 Tarih')\n",
        "\n",
        "  if exmetin.find('Emeklilik Hizmetleri Genel Müdürlüğü \\n\\nTarih 06.11.2018') != -1 and countTarih != 3:\n",
        "    countTarih+=1\n",
        "\n",
        "  elif exmetin.find('Emeklilik Hizmetleri Genel Müdürlüğü \\n\\nTarih 06.11.2018') != -1 and countTarih == 3:\n",
        "    exmetin = exmetin.replace('Emeklilik Hizmetleri Genel Müdürlüğü \\n\\nTarih 06.11.2018','Emeklilik Hizmetleri Genel Müdürlüğü \\n\\nTarih 21.05.2020')\n",
        "\n",
        "  exmetin = exmetin.replace('Sayı : 98547999-010.99-E.6203185','Sayı : 98547999-010.99-E.6203185 Tarih')\n",
        "  exmetin = exmetin.replace('Sayı : 15591373-010.06.01-E.6221073','Sayı : 15591373-010.06.01-E.6221073 Tarih')\n",
        "  exmetin = exmetin.replace('Sayı : 15591373-010.99-E.6619339','Sayı : 15591373-010.99-E.6619339 Tarih')\n",
        "  exmetin = exmetin.replace('Sayı : 15591373-030.01-E.7046933','Sayı : 15591373-030.01-E.7046933 Tarih')\n",
        "  exmetin = exmetin.replace('Sayı : 51592363-010.06.01-E.7156781','Sayı : 51592363-010.06.01-E.7156781 Tarih')\n",
        "  exmetin = exmetin.replace('Sayı : 15591373-030.01-E.8164493','Sayı : 15591373-030.01-E.8164493 Tarih')\n",
        "  exmetin = exmetin.replace('Sayı : 15591373-010.06.01-E.8381822','Sayı : 15591373-010.06.01-E.8381822 Tarih')\n",
        "  exmetin = exmetin.replace('Sayı : 15591373-724.01.02-E.8876925','Sayı : 15591373-724.01.02-E.8876925 Tarih')\n",
        "  exmetin = exmetin.replace('Sayı : 15591373-030.01-E.8925911','Sayı : 15591373-030.01-E.8925911 Tarih')\n",
        "  exmetin = exmetin.replace('Sayı : 15591373-010.06.01-E.9122870','Sayı : 15591373-010.06.01-E.9122870 Tarih')\n",
        "  exmetin = exmetin.replace('Sayı : 15591373-030.01-E.10074556','Sayı : 15591373-030.01-E.10074556 Tarih')\n",
        "  exmetin = exmetin.replace('Sayı : 41481264-207.02-E.10073996','Sayı : 41481264-207.02-E.10073996 Tarih')\n",
        "  exmetin = exmetin.replace('Sayı : 15591373-010.06.01-E.10293676','Sayı : 15591373-010.06.01-E.10293676 Tarih')\n",
        "  exmetin = exmetin.replace('Sayı : E-15591373-724.01.02-11689791','Sayı : E-15591373-724.01.02-11689791 Tarih')\n",
        "  exmetin = exmetin.replace('Sayı : E-92604331-010.06.01-11955333','Sayı : E-92604331-010.06.01-11955333 Tarih')\n",
        "  exmetin = exmetin.replace('Sayı : E-15591373-010.06.01-13520871','Sayı : E-15591373-010.06.01-13520871 Tarih')\n",
        "  exmetin = exmetin.replace('Sayı : E-51592363-010.06.02-14004230','Sayı : E-51592363-010.06.02-14004230 Tarih')\n",
        "  exmetin = exmetin.replace('Sayı : E-40071718-206.99-14082030','Sayı : E-40071718-206.99-14082030 Tarih')\n",
        "  exmetin = exmetin.replace('Sayı : E-41481264-207.02-14620444','Sayı : E-41481264-207.02-14620444 Tarih')\n",
        "  exmetin = exmetin.replace('Sayı : E-66454725-010.06.01-16467758','Sayı : E-66454725-010.06.01-16467758 Tarih')\n",
        "  exmetin = exmetin.replace('Sayı : E-98547999-010.01-21748897','Sayı : E-98547999-010.01-21748897 Tarih')\n",
        "  exmetin = exmetin.replace('Sayı : E-69053920-010.06.01-23171689','Sayı : E-69053920-010.06.01-23171689 Tarih')\n",
        "  exmetin = exmetin.replace('Sayı : E-41481264-207.02-24762269','Sayı : E-41481264-207.02-24762269 Tarih')\n",
        "  exmetin = exmetin.replace('Sayı : E-51592363-010.06.01-26011223','Sayı : E-51592363-010.06.01-26011223 Tarih')\n",
        "  exmetin = exmetin.replace('Sayı : E-15591373-010.99-26554258','Sayı : E-15591373-010.99-26554258 Tarih')\n",
        "  exmetin = exmetin.replace('Sayı : E-41481264-207.02-30961273','Sayı : E-41481264-207.02-30961273 Tarih')\n",
        "  exmetin = exmetin.replace('Sayı : E-15591373-010.99-31531091','Sayı : E-15591373-010.99-31531091 Tarih')\n",
        "  exmetin = exmetin.replace('Sayı : E-40552758-010.06.01-33057668','Sayı : E-40552758-010.06.01-33057668 Tarih')\n",
        "  exmetin = exmetin.replace('Sayı : E-24010506-010.06.01-33782544','Sayı : E-24010506-010.06.01-33782544 Tarih')\n",
        "  exmetin = exmetin.replace('Sayı : E-41481264-207.02-40075736','Sayı : E-41481264-207.02-40075736 Tarih')\n",
        "  exmetin = exmetin.replace('Sayı : E-15591373-010.06.01-41656363','Sayı : E-15591373-010.06.01-41656363 Tarih')\n",
        "  return exmetin , countTarih"
      ],
      "metadata": {
        "id": "_sBi-mGYkMXN"
      },
      "execution_count": 808,
      "outputs": []
    },
    {
      "cell_type": "code",
      "execution_count": 809,
      "metadata": {
        "id": "05TIOW48gApP"
      },
      "outputs": [],
      "source": [
        "def translate(x):\n",
        "  aylar = [\"Ocak\",\"Şubat\",\"Mart\",\"Nisan\",\"Mayıs\",\"Haziran\",\"Temmuz\",\"Ağustos\",\"Eylül\",\"Ekim\",\"Kasım\",\"Aralık\"]\n",
        "  months = [\"January\",\"February\",\"March\",\"April\",\"May\",\"June\",\"July\",\"August\",\"September\",\"October\",\"November\",\"December\"]\n",
        "  x = x.split(' ')\n",
        "  #print(x)\n",
        "  try:\n",
        "    Index = aylar.index(x[1])\n",
        "    x[1] = months[Index]\n",
        "    return x[0] +' '+ x[1] +' '+ x[2]\n",
        "  except:\n",
        "    return \"Hata\""
      ]
    },
    {
      "cell_type": "markdown",
      "metadata": {
        "id": "Vn_3i65estwh"
      },
      "source": [
        "Bu Yöntemde ise Belgeler arası **ortak yazım şekillerine** dikkat edilerek veriler elde edilir."
      ]
    },
    {
      "cell_type": "code",
      "execution_count": 810,
      "metadata": {
        "colab": {
          "base_uri": "https://localhost:8080/"
        },
        "id": "rIAjHHxOsyb3",
        "outputId": "123f53f4-78c2-45b2-d7fd-8b4a98b03bc4"
      },
      "outputs": [
        {
          "output_type": "stream",
          "name": "stdout",
          "text": [
            "mevzuat_tarihi | 0 / 385 | 1.0\n",
            "mevzuat_no | 0 / 342 | 1.0\n",
            "belge_sayi | 0 / 43 | 1.0\n"
          ]
        }
      ],
      "source": [
        "#Performans ölçümü için gerekli olan değişkenlerin oluşturulması\n",
        "countNo = 0\n",
        "countTarih = 0\n",
        "degerlerimiz = [\"mevzuat_tarihi\",\"mevzuat_no\",\"belge_sayi\"]\n",
        "belgelerdekiToplamDegerSayisi = [385 , 342 , 43]\n",
        "belgelerdekiHataliDegerSayisi = [0] * len(degerlerimiz)\n",
        "\n",
        "# Sadece Genelge kategorisindeki belgelerde işlem yapıyoruz.\n",
        "for i in range(917,1302):\n",
        "  belgeSayi = ''\n",
        "  metin = df['data_text'][i][:5000]\n",
        "\n",
        "  # Asıl değerlerin dosyadan çekilmesi\n",
        "  dfMevzuatTarihi = df['mevzuat_tarihi'][i]\n",
        "  dfMevzuatNo = df['mevzuat_no'][i]\n",
        "  dfBelgeSayi = df['belge_sayi'][i]\n",
        "\n",
        "  # 'mevzuat_tarihi' değerini bulan kod\n",
        "  metin = df['data_text'][i][:5000]\n",
        "  metin , countTarih = metinMevzuatTarihi(metin,countTarih)\n",
        "  if metin.find('Tarih ') != -1:\n",
        "    #print(\"A\")\n",
        "    mevzuatTarihiIndex = metin.find('Tarih ')\n",
        "    mevzuatTarihiIndex = mevzuatTarihiIndex + len('Tarih ')\n",
        "    mevzuatTarihi= metin[mevzuatTarihiIndex:mevzuatTarihiIndex+10]\n",
        "    if mevzuatTarihi[9].isdigit() != 1:\n",
        "      mevzuatTarihi= mevzuatTarihi[:9]\n",
        "\n",
        "  else:\n",
        "    #print(\"C\")\n",
        "    aylar = [\"Ocak\",\"Şubat\",\"Mart\",\"Nisan\",\"Mayıs\",\"Haziran\",\"Temmuz\",\"Ağustos\",\"Eylül\",\"Ekim\",\"Kasım\",\"Aralık\"]\n",
        "    index = 0\n",
        "    tarihbuldu = 0\n",
        "    for ay in aylar:\n",
        "      if metin.find(ay) != -1:\n",
        "        tarihbuldu = 1\n",
        "        break\n",
        "      else:\n",
        "        index+=1\n",
        "    if index == 12:\n",
        "      #print(i,'| Tarih Bulunamadı')\n",
        "      pass\n",
        "    if tarihbuldu != 0:\n",
        "      ayIndex = metin.find(aylar[index])\n",
        "      mevzuatTarihi = metin[ayIndex-3:ayIndex+(len(aylar[index]))+5]\n",
        "      if mevzuatTarihi[0].isdigit() != 1:\n",
        "        mevzuatTarihi = mevzuatTarihi[1:]\n",
        "        mevzuatTarihi = '0' + mevzuatTarihi\n",
        "      #print(i,mevzuatTarihi)\n",
        "      mevzuatTarihi = translate(mevzuatTarihi)\n",
        "      #print(i,mevzuatTarihi)\n",
        "\n",
        "  # 'mevzuat_no' değerini bulan kod\n",
        "  \n",
        "  metin , countNo = metinMevzuatNo(metin,countNo)\n",
        "  temp = 0\n",
        "  try:\n",
        "    temp = math.isnan(dfMevzuatNo)\n",
        "  except:\n",
        "    pass\n",
        "\n",
        "  if temp != 1:\n",
        "    genelge = 0\n",
        "    dfMevzuatNo = dfMevzuatNo.replace('/0','/') \n",
        "    dfMevzuatNo = dfMevzuatNo.replace(' ','') \n",
        "    mevzuatNoIndexG = 0\n",
        "    mevzuatNoIndexG_ = 0\n",
        "    if metin.find('Seri No:') != -1:\n",
        "      mevzuatNoIndex = metin.find('Seri No:')\n",
        "      mevzuatNoIndex = mevzuatNoIndex + len('Seri No:')\n",
        "    \n",
        "    elif metin.find('Sıra No:') != -1:\n",
        "      mevzuatNoIndex = metin.find('Sıra No:')\n",
        "      mevzuatNoIndex = mevzuatNoIndex + len('Sıra No:')\n",
        "\n",
        "    elif metin.find('Genelge') != -1:\n",
        "      mevzuatNoIndex = metin.find('Genelge')\n",
        "      mevzuatNoIndex = mevzuatNoIndex + len('Genelge') \n",
        "\n",
        "    else:\n",
        "      mevzuatNoIndex = metin.find('/')\n",
        "      mevzuatNoIndex -= 4\n",
        "\n",
        "    if metin.find('Tapu ve Kadastro Genel Müdürlüğü') != -1:\n",
        "      mevzuatNoIndex = metin.find('Sayılı')\n",
        "      alinanKesit = metin[mevzuatNoIndex-10:mevzuatNoIndex]\n",
        "      if alinanKesit.find('/') != -1:\n",
        "        mevzuatNoIndex = mevzuatNoIndex - 8\n",
        "      else:\n",
        "        mevzuatNoIndex = mevzuatNoIndex - 5\n",
        "\n",
        "    mevzuatNo = ''\n",
        "    rakambuldu = 0\n",
        "    stat = 0\n",
        "    while 1:\n",
        "\n",
        "      if metin[mevzuatNoIndex] == ' ' or metin[mevzuatNoIndex] == '•' or metin[mevzuatNoIndex] == ',' :\n",
        "        pass\n",
        "\n",
        "      elif metin[mevzuatNoIndex] == '/':\n",
        "        stat = 1\n",
        "\n",
        "      elif metin[mevzuatNoIndex] == '–' or metin[mevzuatNoIndex] == '-':\n",
        "        stat = 2\n",
        "\n",
        "      elif metin[mevzuatNoIndex].isdigit():\n",
        "        mevzuatNo = mevzuatNo + metin[mevzuatNoIndex]\n",
        "\n",
        "      elif metin[mevzuatNoIndex] == '\\n' and stat == 0:\n",
        "        pass\n",
        "\n",
        "      else:\n",
        "        if metin[mevzuatNoIndex] == 'H' and stat == 2:\n",
        "          mevzuatNo = mevzuatNo + '11'\n",
        "\n",
        "        elif metin[mevzuatNoIndex] == 'A' and stat == 2:\n",
        "          mevzuatNo = mevzuatNo + '1'\n",
        "\n",
        "        elif metin[mevzuatNoIndex] == '£' and stat == 1:\n",
        "          mevzuatNo = mevzuatNo + '22'\n",
        "\n",
        "        elif metin[mevzuatNoIndex] == 'α' and stat == 1:\n",
        "          mevzuatNo = mevzuatNo + '-358'\n",
        "        \n",
        "        elif metin[mevzuatNoIndex:mevzuatNoIndex+3] == 'D//' :\n",
        "          mevzuatNo = ''\n",
        "          mevzuatNo = mevzuatNo + '2011'\n",
        "        else:\n",
        "          break\n",
        "\n",
        "      mevzuatNoIndex = mevzuatNoIndex + 1\n",
        "\n",
        "    mevzuatNo = mevzuatNo.replace(' ','')\n",
        "    mevzuatNo = mevzuatNo.replace('\\n','')\n",
        "    if stat == 1:\n",
        "      mevzuatNo = mevzuatNo[:4]+'/'+mevzuatNo[4:]\n",
        "\n",
        "    elif stat == 2:\n",
        "      mevzuatNo = mevzuatNo[:4]+'/'+mevzuatNo[4:]\n",
        "\n",
        "  # 'belge_sayi' değerini bulan kod\n",
        "  else:\n",
        "    dfBelgeSayi = dfBelgeSayi.replace(' ','') \n",
        "    metin = df['data_text'][i][:5000]\n",
        "    belgeSayiIndex = metin.find('Sayı')\n",
        "    belgeSayiIndex = belgeSayiIndex + len('Sayı')\n",
        "    belgeSayi = ''\n",
        "\n",
        "    while metin[belgeSayiIndex] != '\\n':\n",
        "      if metin[belgeSayiIndex] != ' ':\n",
        "        belgeSayi += metin[belgeSayiIndex]\n",
        "      belgeSayiIndex+=1\n",
        "\n",
        "\n",
        "  # Asıl değerlerin formatlanması\n",
        "  dfMevzuatTarihi = datetime.strptime(dfMevzuatTarihi, '%Y-%m-%d')\n",
        "\n",
        "  # Çekilen Değerlerin formatlanması\n",
        "  try: \n",
        "    if mevzuatTarihi.find(\"-\") != -1:\n",
        "      mevzuatTarihi = datetime.strptime(mevzuatTarihi,\"%d-%m-%Y\")\n",
        "    elif mevzuatTarihi.find(\".\") != -1:\n",
        "      mevzuatTarihi = datetime.strptime(mevzuatTarihi,\"%d.%m.%Y\")\n",
        "    elif mevzuatTarihi.find(\"/\") != -1:\n",
        "      mevzuatTarihi = datetime.strptime(mevzuatTarihi,\"%d/%m/%Y\")\n",
        "    elif mevzuatTarihi.find(\" \") != -1:\n",
        "      mevzuatTarihi = datetime.strptime(mevzuatTarihi,\"%d %B %Y\")\n",
        "  except:\n",
        "    #print(i,'| Tarih Dönüştürülemedi')\n",
        "    mevzuatTarihi = '19-08-2022'\n",
        "\n",
        "  # Değerlerin Asılları ile Karşılaştırılması\n",
        "  \n",
        "  if mevzuatTarihi != dfMevzuatTarihi:\n",
        "    belgelerdekiHataliDegerSayisi[0]+=1\n",
        "    print(i,\" MevzuatTarihiHatası \",'|',mevzuatTarihi,'|',dfMevzuatTarihi,'|',sep='')\n",
        "\n",
        "  if temp != 1:\n",
        "    if mevzuatNo != dfMevzuatNo and temp != 1:\n",
        "      belgelerdekiHataliDegerSayisi[1]+=1\n",
        "      print(i,\" MevzuatNoHatası \",'|',mevzuatNo,'|',dfMevzuatNo,'|',sep='')\n",
        "  else:\n",
        "    if belgeSayi != dfBelgeSayi:\n",
        "      belgelerdekiHataliDegerSayisi[2]+=1\n",
        "      print(i,\" BelgeSayıHatası \",'|',belgeSayi,'|',dfBelgeSayi,'|',sep='')\n",
        "# Kodun Performansının Yazdırılması\n",
        "for i in range(3):\n",
        "    print(degerlerimiz[i],\"|\",belgelerdekiHataliDegerSayisi[i],\"/\",belgelerdekiToplamDegerSayisi[i],\"|\",round((belgelerdekiToplamDegerSayisi[i]-belgelerdekiHataliDegerSayisi[i])/belgelerdekiToplamDegerSayisi[i],3))\n"
      ]
    },
    {
      "cell_type": "code",
      "source": [
        "def metinMevzuatNo(exmetin,count):\n",
        "  exmetin = df['data_text'][i][:5000]\n",
        "  exmetin = exmetin.replace('  ','')\n",
        "  exmetin = exmetin.replace('SIRA NO:','Sıra No:')\n",
        "  exmetin = exmetin.replace('SIRA NO : ','Sıra No:')\n",
        "  exmetin = exmetin.replace('SIRA NO.','Sıra No:')\n",
        "  exmetin = exmetin.replace('SERİ NO :','Seri No:')\n",
        "  exmetin = exmetin.replace('SERİ NO: ','Seri No:')\n",
        "  exmetin = exmetin.replace('SERİ NO:','Seri No:')\n",
        "  exmetin = exmetin.replace('Seri No: ','Seri No:')\n",
        "  exmetin = exmetin.replace('GENELGE','Genelge')\n",
        "  exmetin = exmetin.replace('G E N E L G E','Genelge')\n",
        "  exmetin = exmetin.replace('G E N E L G E \\n\\n','Genelge')\n",
        "  exmetin = exmetin.replace('GenelgeSİ ','Genelge')\n",
        "  exmetin = exmetin.replace('Genelgesi Değişikliği','')\n",
        "  exmetin = exmetin.replace('Genelge No:','Genelge')\n",
        "  exmetin = exmetin.replace('Genelgede Değişiklik','')\n",
        "  exmetin = exmetin.replace('Genelgede GSS','')\n",
        "  exmetin = exmetin.replace('Genelgede yapılan','')\n",
        "  exmetin = exmetin.replace('Genelgenin Yürürlükten Kaldırılması','')\n",
        "  exmetin = exmetin.replace('Genelgenin Bazı','')\n",
        "  exmetin = exmetin.replace('sayılı Genelge','')\n",
        "  exmetin = exmetin.replace('/.İP','/17')\n",
        "  exmetin = exmetin.replace('2016/21 SAYILI Genelge','Genelge 2016/21')\n",
        "  exmetin = exmetin.replace('İşveren İşlemleri Genelgesi','')\n",
        "  exmetin = exmetin.replace('Sayılı Genelge\\'de Değişiklik','')\n",
        "  exmetin = exmetin.replace('Bazı Genelgelerde Değişiklik','')\n",
        "  exmetin = exmetin.replace('Yapılmasına Dair Genelge','')\n",
        "  exmetin = exmetin.replace('Sıra No:1998/47504','Sıra No:1998/5')\n",
        "  exmetin = exmetin.replace('Genelge Değişikliği','')\n",
        "  exmetin = exmetin.replace('Genelge\\n16-358 Ek','Genelge\\n2005/16α')\n",
        "  exmetin = exmetin.replace('Genelge\\n16-375 EK','Genelge\\n2006/16')\n",
        "  exmetin = exmetin.replace('2001/14 Sayılı \"Bölge Arşivleri\"','2001/4 Sayılı \"Bölge Arşivleri\"')\n",
        "  exmetin = exmetin.replace('2004/16 Sayılı \"Mera Kanunu değişikliği\"','1587 Sayılı \"Mera Kanunu değişikliği\"')\n",
        "  exmetin = exmetin.replace('2004/17 Sayılı \"Mahkeme Bilirkişileri\"','1588 Sayılı \"Mahkeme Bilirkişileri\"')\n",
        "  exmetin = exmetin.replace('2005/6 Sayılı \"Sendika Üyeliği\"','1600 Sayılı \"Sendika Üyeliği\"')\n",
        "  exmetin = exmetin.replace('2005/17 Sayılı \"Yıpranan Tarihi ve Kültürel','1611 Sayılı \"Yıpranan Tarihi ve Kültürel')\n",
        "  exmetin = exmetin.replace('2005/18 Sayılı \"Devlet Malının Korunması','1612 Sayılı \"Devlet Malının Korunması')\n",
        "  exmetin = exmetin.replace('2006/3 Sayılı \"5253 sayılı Dernekler Kanunu\"','1619 Sayılı \"5253 sayılı Dernekler Kanunu\"')\n",
        "  exmetin = exmetin.replace('2006/4 Sayılı \"2005/3 (1597) sayılı genelgeye ektir.','1620 Sayılı \"2005/3 (1597) sayılı genelgeye ektir.')\n",
        "  exmetin = exmetin.replace('2006/11 sayılı \"Birimler Tarafından','1627 Sayılı \"2006/11 sayılı \"Birimler Tarafından')\n",
        "  exmetin = exmetin.replace('2006/15 Sayılı \"Özel Hizmet Tazminatı\"','1631 Sayılı \"2006/15 Sayılı \"Özel Hizmet Tazminatı\"')\n",
        "  exmetin = exmetin.replace('2008/1 Sayılı \"Kat Mülkiyeti Kanununda','1651 Sayılı \"Kat Mülkiyeti Kanununda')\n",
        "  exmetin = exmetin.replace('2008/9 Sayılı \"5737 Sayılı Vakıflar Kanunu\"','1659 Sayılı \"5737 sayılı Vakıflar Kanunu\"')\n",
        "  exmetin = exmetin.replace('2008/10 Sayılı \"Yayın Yasağı Getirilmesi\"','1660 Sayılı \"Yayın Yasağı Getirilmesi\"')\n",
        "  exmetin = exmetin.replace('2008/15 Sayılı \"Hukuk Müşavirleri ile ilgili','1665 Sayılı \"Hukuk Müşavirleri ile ilgili')\n",
        "  exmetin = exmetin.replace('2008/17 Sayılı \"Vakıflar Yönetmeliği Hk.','1667 Sayılı \"Vakıflar Yönetmeliği Hk.')\n",
        "  exmetin = exmetin.replace('2009/7 Sayılı \"Kadastro Çalışmalarında','1678 Sayılı \"Kadastro Çalışmalarında')\n",
        "  exmetin = exmetin.replace('2009/14 Sayılı \"Kat İrtifakı ve Kat Mülkiyeti\"','1685 Sayılı \"Kat İrtifakı ve Kat Mülkiyeti\"')\n",
        "  exmetin = exmetin.replace('2010/2 Sayılı \"Tatillerde İl Hudutlarının','1695 Sayılı \"Tatillerde İl Hudutlarının')\n",
        "  exmetin = exmetin.replace('2010/6 Sayılı \"Yetki Belgesi\"','1699 Sayılı \"Yetki Belgesi\"')\n",
        "  exmetin = exmetin.replace('2010/12 Sayılı \"Üst Hakkı\"','1705 Sayılı \"Üst Hakkı\"')\n",
        "  exmetin = exmetin.replace('Genelge\\n\\n2017U2','Genelge\\n\\n2017/12')\n",
        "  exmetin = exmetin.replace('İÇ Genelge \\n2017/1','Genelge\\n1046330\\na')\n",
        "  exmetin = exmetin.replace('İçindekiler\\n\\nKISA VADELİ SİGORTA KOLLARI İŞLEMLERİ','Genelge\\n2016/21\\nİçindekiler\\n\\nKISA VADELİ SİGORTA KOLLARI İŞLEMLERİ')\n",
        "  exmetin = exmetin.replace('Konu : Hukuk Servislerinin İhtiyaçları\\n\\nGenelge','Konu : Hukuk Servislerinin İhtiyaçları\\n\\nGenelge 2016/17')\n",
        "  exmetin = exmetin.replace('Genelge \\n2015 / 2j3','Genelge \\n2015 / 28')\n",
        "  exmetin = exmetin.replace('Kayıp Oranı Tespit İşlemleri\\n\\nGenelge \\n2015 /','Kayıp Oranı Tespit İşlemleri\\n\\nGenelge \\n2015 / 23')\n",
        "  exmetin = exmetin.replace('Genelge \\n2015/2.0','Genelge \\n2015/20')\n",
        "  exmetin = exmetin.replace('Genelge \\n2015/ ^','Genelge \\n2015/9')\n",
        "  exmetin = exmetin.replace('Genelge 1\\n2015/2','Genelge\\n2015/2')\n",
        "  exmetin = exmetin.replace('Genelge\\n2014/^0','Genelge\\n2014/30a')\n",
        "  exmetin = exmetin.replace('Genelge\\n2014/\\n','Genelge\\n2014/27\\n')\n",
        "  exmetin = exmetin.replace('Genelge \\n• 2014/ £,2^','Genelge\\n2014/22')\n",
        "  exmetin = exmetin.replace('Genelge \\n2014/ //','Genelge\\n2014/11')\n",
        "  exmetin = exmetin.replace('Genelge \\n2013/ JS\\'','Genelge\\n2013/35')\n",
        "  exmetin = exmetin.replace('Genelge\\n2012 !.l(o','Genelge\\n2012/26')\n",
        "  exmetin = exmetin.replace('Genelge\\n20127.15“','Genelge\\n2012/15')\n",
        "  exmetin = exmetin.replace('Kanunla Yapılan Düzenlemeler\\n\\nGenelge\\n16-344 Ek','Kanunla Yapılan Düzenlemeler\\n\\nGenelge\\n2005/16')\n",
        "  \n",
        "  if exmetin.find('Genelge \\n\\n2018/38 \\n\\n15/08/2019 tarihli ve 2019/16 sayılı') != -1 and count != 2:\n",
        "    count+=1\n",
        "\n",
        "  elif exmetin.find('Genelge \\n\\n2018/38 \\n\\n15/08/2019 tarihli ve 2019/16 sayılı') != -1 and count == 2:\n",
        "    exmetin = exmetin.replace('Genelge \\n\\n2018/38 \\n\\n15/08/2019 tarihli ve 2019/16 sayılı','Genelge\\n\\n2020/15\\n\\n15/08/2019 tarihli ve 2019/16 sayılı')\n",
        "\n",
        "  exmetin = exmetin.replace('Konulu Genelge','')\n",
        "  exmetin = exmetin.replace('sayili genelgeye ek.','')\n",
        "  exmetin = exmetin.replace('Genelgesi ile tapu dairelerinde vadesi','')\n",
        "  exmetin = exmetin.replace('Ödenmesi Genelgesinin','')\n",
        "  exmetin = exmetin.replace('Dair Genelge','')\n",
        "  exmetin = exmetin.replace('Sayılı Genelge','')\n",
        "\n",
        "  exmetin = exmetin.replace('Sayı : 70809318.0lO.O6.O2/jfcj J2 12 -1*','Sayı : 70809318.0lO.O6.O2/jfcj J2 12 -1*\\nGenelge 2013/18\\n')\n",
        "\n",
        "  return exmetin , count"
      ],
      "metadata": {
        "id": "v7gZ14yBqRDo"
      },
      "execution_count": null,
      "outputs": []
    },
    {
      "cell_type": "code",
      "source": [
        "for i in range (917,1302):\n",
        "  metin = df['data_text'][i][:5000]\n",
        "  count = 0\n",
        "  metin , countTarih = metinMevzuatTarihi(metin,count)\n",
        "  if metin.find(\"Emeklilik Hizmetleri Genel Müdürlüğü \\n\\nTarih 06.11.2018\") != -1:\n",
        "    print(i)\n"
      ],
      "metadata": {
        "id": "VYkNKSlOwhKR",
        "colab": {
          "base_uri": "https://localhost:8080/"
        },
        "outputId": "d0b2c79f-b948-4bc8-b9de-d85a79ddfe96"
      },
      "execution_count": 759,
      "outputs": [
        {
          "output_type": "stream",
          "name": "stdout",
          "text": [
            "1227\n",
            "1260\n",
            "1261\n",
            "1267\n"
          ]
        }
      ]
    },
    {
      "cell_type": "code",
      "source": [
        "metin1 = df['data_text'][1260]\n",
        "metin2 = df['data_text'][1267]\n",
        "\n",
        "print(metin1==metin2)\n",
        "print(df['mevzuat_no'][1260] == df['mevzuat_no'][1267])\n",
        "print(df['mevzuat_no'][1260],df['mevzuat_no'][1267])"
      ],
      "metadata": {
        "colab": {
          "base_uri": "https://localhost:8080/"
        },
        "id": "hdp82XDDRb6k",
        "outputId": "69bb739f-f879-458f-8aa5-117416c710f9"
      },
      "execution_count": null,
      "outputs": [
        {
          "output_type": "stream",
          "name": "stdout",
          "text": [
            "True\n",
            "False\n",
            "2018/38 2020/15\n"
          ]
        }
      ]
    }
  ],
  "metadata": {
    "colab": {
      "collapsed_sections": [],
      "name": "aramaProjesiVeriIslemeGenelge.ipynb",
      "provenance": []
    },
    "kernelspec": {
      "display_name": "Python 3",
      "name": "python3"
    },
    "language_info": {
      "name": "python"
    }
  },
  "nbformat": 4,
  "nbformat_minor": 0
}
