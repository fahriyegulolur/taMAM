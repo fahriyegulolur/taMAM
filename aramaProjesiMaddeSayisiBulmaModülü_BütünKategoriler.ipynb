{
  "nbformat": 4,
  "nbformat_minor": 0,
  "metadata": {
    "colab": {
      "name": "aramaProjesiMaddeSayisiBulmaModülü.ipynb",
      "provenance": [],
      "collapsed_sections": [
        "OEjtJBcuKSvD"
      ]
    },
    "kernelspec": {
      "name": "python3",
      "display_name": "Python 3"
    },
    "language_info": {
      "name": "python"
    }
  },
  "cells": [
    {
      "cell_type": "markdown",
      "source": [
        "# Kurulum"
      ],
      "metadata": {
        "id": "OEjtJBcuKSvD"
      }
    },
    {
      "cell_type": "code",
      "execution_count": 59,
      "metadata": {
        "id": "D4DSrSk9PiW8"
      },
      "outputs": [],
      "source": [
        "import pandas as pd"
      ]
    },
    {
      "cell_type": "code",
      "source": [
        "from google.colab import drive\n",
        "drive.mount('/content/drive/')"
      ],
      "metadata": {
        "id": "g8ZpPY4-Pmv1",
        "colab": {
          "base_uri": "https://localhost:8080/"
        },
        "outputId": "fadfef0a-6ee6-4125-c8eb-9be6c7460810"
      },
      "execution_count": 60,
      "outputs": [
        {
          "output_type": "stream",
          "name": "stdout",
          "text": [
            "Drive already mounted at /content/drive/; to attempt to forcibly remount, call drive.mount(\"/content/drive/\", force_remount=True).\n"
          ]
        }
      ]
    },
    {
      "cell_type": "code",
      "source": [
        "%cd drive/"
      ],
      "metadata": {
        "id": "h47_PvbxT9QD",
        "colab": {
          "base_uri": "https://localhost:8080/"
        },
        "outputId": "e5902d2c-ca0a-4408-8cba-6d4e03436511"
      },
      "execution_count": 61,
      "outputs": [
        {
          "output_type": "stream",
          "name": "stdout",
          "text": [
            "[Errno 2] No such file or directory: 'drive/'\n",
            "/content/drive/MyDrive/Colab Notebooks/TDDI2022\n"
          ]
        }
      ]
    },
    {
      "cell_type": "code",
      "source": [
        "%cd MyDrive/"
      ],
      "metadata": {
        "id": "ElqFYei7Vuz5",
        "colab": {
          "base_uri": "https://localhost:8080/"
        },
        "outputId": "0343546e-7f70-4e7c-8cc3-cf95c8e71422"
      },
      "execution_count": 62,
      "outputs": [
        {
          "output_type": "stream",
          "name": "stdout",
          "text": [
            "[Errno 2] No such file or directory: 'MyDrive/'\n",
            "/content/drive/MyDrive/Colab Notebooks/TDDI2022\n"
          ]
        }
      ]
    },
    {
      "cell_type": "code",
      "source": [
        "%cd Colab Notebooks/"
      ],
      "metadata": {
        "id": "j8uh8jQyVzAH",
        "colab": {
          "base_uri": "https://localhost:8080/"
        },
        "outputId": "e098e7bf-0af4-46b2-a975-2d351b5ab316"
      },
      "execution_count": 63,
      "outputs": [
        {
          "output_type": "stream",
          "name": "stdout",
          "text": [
            "[Errno 2] No such file or directory: 'Colab Notebooks/'\n",
            "/content/drive/MyDrive/Colab Notebooks/TDDI2022\n"
          ]
        }
      ]
    },
    {
      "cell_type": "code",
      "source": [
        "# Google Drive içinde Colab Notebooks klasörünün içinde TDDI2022 diye bir klasör oluşturduktan sonra o klasöre erişiyoruz.\n",
        "# Bu klasörü daha önce oluşturmadıysanız %md TDDI2022 komutu veya Google Drive Ara Yüzü ile klasörü oluşturunuz!\n",
        "%cd TDDI2022/\n",
        "\n",
        "# Klasörün içeriğinin görülmesi için\n",
        "%ls"
      ],
      "metadata": {
        "id": "aA9Js-QGV31p",
        "colab": {
          "base_uri": "https://localhost:8080/"
        },
        "outputId": "3a7ad760-3dac-4bce-e08e-9063e9ae9a3a"
      },
      "execution_count": 64,
      "outputs": [
        {
          "output_type": "stream",
          "name": "stdout",
          "text": [
            "[Errno 2] No such file or directory: 'TDDI2022/'\n",
            "/content/drive/MyDrive/Colab Notebooks/TDDI2022\n",
            "aramaProjesiKHKdoldurma.ipynb\n",
            "aramaProjesiVeriIsleme.ipynb\n",
            "aramaProjesiVeriIsleme_KHK_TDDIsiz.ipynb\n",
            "kanunum-nlp-doc-analysis-dataset.csv\n",
            "kanunum-nlp-doc-analysis-dataset.csv.gsheet\n"
          ]
        }
      ]
    },
    {
      "cell_type": "code",
      "source": [
        "df = pd.read_csv('kanunum-nlp-doc-analysis-dataset.csv')\n",
        "df.info(verbose=True)"
      ],
      "metadata": {
        "id": "ZMriHlEGPqbV",
        "colab": {
          "base_uri": "https://localhost:8080/"
        },
        "outputId": "35fd24fa-e389-4caa-c58b-4edd6b41b497"
      },
      "execution_count": 65,
      "outputs": [
        {
          "output_type": "stream",
          "name": "stdout",
          "text": [
            "<class 'pandas.core.frame.DataFrame'>\n",
            "RangeIndex: 4142 entries, 0 to 4141\n",
            "Data columns (total 16 columns):\n",
            " #   Column          Non-Null Count  Dtype  \n",
            "---  ------          --------------  -----  \n",
            " 0   id              4142 non-null   int64  \n",
            " 1   kategori        4142 non-null   object \n",
            " 2   baslik          4142 non-null   object \n",
            " 3   rega_no         2527 non-null   object \n",
            " 4   mukerrer_no     3642 non-null   float64\n",
            " 5   rega_tarihi     2527 non-null   object \n",
            " 6   kurum           2488 non-null   object \n",
            " 7   mevzuat_no      1091 non-null   object \n",
            " 8   belge_sayi      43 non-null     object \n",
            " 9   mevzuat_tarihi  1905 non-null   object \n",
            " 10  donem           500 non-null    object \n",
            " 11  sira_no         500 non-null    object \n",
            " 12  madde_sayisi    4142 non-null   int64  \n",
            " 13  data_text       4142 non-null   object \n",
            " 14  url             4142 non-null   object \n",
            " 15  kanunum_url     4142 non-null   object \n",
            "dtypes: float64(1), int64(2), object(13)\n",
            "memory usage: 517.9+ KB\n"
          ]
        }
      ]
    },
    {
      "cell_type": "markdown",
      "source": [
        "# Kod\n"
      ],
      "metadata": {
        "id": "MB4Ge5xkKOcx"
      }
    },
    {
      "cell_type": "code",
      "source": [
        "print(df.groupby('kategori').size())"
      ],
      "metadata": {
        "id": "VzFXWPNMX6Sb"
      },
      "execution_count": null,
      "outputs": []
    },
    {
      "cell_type": "code",
      "source": [
        "print(df.loc[df['kategori'] == 'Kanun', 'madde_sayisi'].isna)"
      ],
      "metadata": {
        "id": "1eT9ikJu6WMH"
      },
      "execution_count": null,
      "outputs": []
    },
    {
      "cell_type": "code",
      "source": [
        "print(df.loc[df['kategori'] == 'Kanun'])"
      ],
      "metadata": {
        "id": "qHs_4PciDhp1"
      },
      "execution_count": null,
      "outputs": []
    },
    {
      "cell_type": "code",
      "source": [
        "print(df['data_text'][0])"
      ],
      "metadata": {
        "id": "nhrQLfrOF35t"
      },
      "execution_count": null,
      "outputs": []
    },
    {
      "cell_type": "code",
      "source": [
        "print(df['baslik'][0])"
      ],
      "metadata": {
        "id": "TTBfX1q-_73h"
      },
      "execution_count": null,
      "outputs": []
    },
    {
      "cell_type": "code",
      "source": [
        "df['baslik'][0].replace('  ',' ')"
      ],
      "metadata": {
        "id": "9kAwo7boARJj"
      },
      "execution_count": null,
      "outputs": []
    },
    {
      "cell_type": "code",
      "source": [
        "# data_text ve baslik alanlarını temizliyoruz.\n",
        "satir, sutun = df.shape\n",
        "for s in range(satir):\n",
        "  df['baslik'][s].replace('  ',' ')\n",
        "  df['data_text'][s].replace('  ',' ')\n",
        "  df['baslik'][s].replace('\\n','')\n",
        "  df['data_text'][s].replace('\\n','')\n",
        "  df['baslik'][s].replace('\\r','')\n",
        "  df['data_text'][s].replace('\\r','')\n",
        "  df['data_text'][s].lower()\n",
        "  df['baslik'][s].lower()"
      ],
      "metadata": {
        "id": "g5hJ1MRWS9hu"
      },
      "execution_count": null,
      "outputs": []
    },
    {
      "cell_type": "code",
      "source": [
        "df['baslik'][5]"
      ],
      "metadata": {
        "colab": {
          "base_uri": "https://localhost:8080/",
          "height": 35
        },
        "id": "eSg-4gpjHe6D",
        "outputId": "0b2d0648-d908-4ff1-8962-ce47fdbedc25"
      },
      "execution_count": null,
      "outputs": [
        {
          "output_type": "execute_result",
          "data": {
            "text/plain": [
              "'İŞ KANUNU İLE TÜRKİYE İŞ KURUMU KANUNUNDA DEĞİŞİKLİK YAPILMASINA DAİR KANUN'"
            ],
            "application/vnd.google.colaboratory.intrinsic+json": {
              "type": "string"
            }
          },
          "metadata": {},
          "execution_count": 12
        }
      ]
    },
    {
      "cell_type": "code",
      "source": [
        "# data_text alanının ilk satırında madde sayamaya çalışalım!\n",
        "\n",
        "# 'baslik' alanından ilk 10 karakteri 'data_text' alanında aratıyoruz.\n",
        "# Resmi belgenin başlığının 'data_text' alanında hangi indiste başladığını bulmuş oluyoruz.\n",
        "basliginBaslandigiYer = df['data_text'][95].find(df['baslik'][95][:10])\n",
        "print('basliginBaslandigiYer:',basliginBaslandigiYer)\n",
        "# Başlığın uzunluğunu hesaplıyoruz.\n",
        "basliginUzunlugu = len(df['baslik'][95])\n",
        "print('basliginUzunlugu:',basliginUzunlugu)\n",
        "# Başlığın data_text alanında bittiği yeri hesaplıyoruz\n",
        "basliginBittigiYer = basliginBaslandigiYer+basliginUzunlugu\n",
        "verininBuyuklugu = len(df['data_text'][95])\n",
        "print('basliginBittigiYer:',basliginBittigiYer)\n",
        "print('verininBuyuklugu:',verininBuyuklugu)\n",
        "# Başlığın bittiği yerden itibaren belirli aralıklarla MADDE SAYMAYA başlıyoruz!\n",
        "# İlk değer olarak maddeSayisi değişkenimize madde yoktur manasında 0 'SIFIR' veriyoruz.\n",
        "maddeSayisi = 0\n",
        "geciciMaddeSayisi = 0 # Geçici Madde 1 gibi verilen ek madde\n",
        "ekMaddeSayisi = 0 # Madde içinde 10/a gibi verilen ek madde\n",
        "ekMaddeSayisi2 = 0 # Ek Madde 1 gibi verilen ek madde\n",
        "# aramaya baslayacağımız yeri belirliyoruz.,\n",
        "aramaYapilacakYerinBasi = basliginBittigiYer\n",
        "\n",
        "while (aramaYapilacakYerinBasi<verininBuyuklugu):\n",
        "  print('maddeSayisi:',maddeSayisi)\n",
        "  bulunanSayi = ''\n",
        "  alinanKesit = df['data_text'][95][aramaYapilacakYerinBasi:]\n",
        "  maddeninBaslayabilecegiYer = alinanKesit.find('Madde')\n",
        "  print('maddeninBaslayabilecegiYer:',maddeninBaslayabilecegiYer)\n",
        "  tireninBaslayabilecegiYer = maddeninBaslayabilecegiYer+alinanKesit[maddeninBaslayabilecegiYer:].find('–')\n",
        "  print('tireninBaslayabilecegiYer:',tireninBaslayabilecegiYer)\n",
        "  if (tireninBaslayabilecegiYer-maddeninBaslayabilecegiYer)<=10:\n",
        "    maddeninBaslayabilecegiYer+=5\n",
        "    while maddeninBaslayabilecegiYer<tireninBaslayabilecegiYer:\n",
        "      maddeninBaslayabilecegiYer+=1\n",
        "      bulunanSayiyiOlusturacakParca = alinanKesit[maddeninBaslayabilecegiYer]\n",
        "      print(bulunanSayiyiOlusturacakParca)\n",
        "      if bulunanSayiyiOlusturacakParca in '0123456789':\n",
        "        bulunanSayi+=bulunanSayiyiOlusturacakParca\n",
        "      else:\n",
        "            break\n",
        "    if bulunanSayi!='':\n",
        "      if (int(bulunanSayi)<=(maddeSayisi+2)) and (int(bulunanSayi)>=(maddeSayisi-2)):\n",
        "        maddeSayisi += int(bulunanSayi)-maddeSayisi\n",
        "      elif int(bulunanSayi)<geciciMaddeSayisi+2:\n",
        "        geciciMaddeSayisi += int(bulunanSayi)-geciciMaddeSayisi\n",
        "      elif int(bulunanSayi)<ekMaddeSayisi2+2:\n",
        "        ekMaddeSayisi2 += int(bulunanSayi)-ekMaddeSayisi2\n",
        "  else:\n",
        "    ekMaddeninYeri = maddeninBaslayabilecegiYer+alinanKesit[maddeninBaslayabilecegiYer:].find('/')\n",
        "    if (ekMaddeninYeri<=(tireninBaslayabilecegiYer-2)) and ((tireninBaslayabilecegiYer-maddeninBaslayabilecegiYer)<=12):\n",
        "      ekMaddeSayisi += 1\n",
        "  aramaYapilacakYerinBasi+=maddeninBaslayabilecegiYer+5\n",
        "maddeSayisi+=(geciciMaddeSayisi+ekMaddeSayisi+ekMaddeSayisi2)\n",
        "print(maddeSayisi)"
      ],
      "metadata": {
        "id": "uDSkSMJAAlIC"
      },
      "execution_count": null,
      "outputs": []
    },
    {
      "cell_type": "code",
      "source": [
        "# İşlenmemiş Maddeleri Saymak için bir fonksiyon oluşturalım!\n",
        "def islenmemisMaddeler(ms,kayit):\n",
        "  if df['data_text'][kayit].find('İŞLENMEYEN GEÇİCİ MADDE')!=-1:\n",
        "    ms += 1\n",
        "  return ms\n",
        "\n",
        "print(islenmemisMaddeler(10,350))"
      ],
      "metadata": {
        "colab": {
          "base_uri": "https://localhost:8080/"
        },
        "id": "KP7OtgXjGHqC",
        "outputId": "63886041-d95a-42ab-e5fc-c14c9e46d590"
      },
      "execution_count": 96,
      "outputs": [
        {
          "output_type": "stream",
          "name": "stdout",
          "text": [
            "11\n"
          ]
        }
      ]
    },
    {
      "cell_type": "code",
      "source": [
        "# data_text alanın madde sayılarını kontrol edelim.\n",
        "hataliSay = 0\n",
        "belgeSay = 0\n",
        "satir, sutun = df.shape\n",
        "print(satir,sutun)\n",
        "\n",
        "for ilgiliKayit in range(satir):\n",
        "  if df['kategori'][ilgiliKayit]=='Kanun Hükmünde Kararname':\n",
        "    belgeSay += 1\n",
        "    # 'baslik' alanından ilk 10 karakteri 'data_text' alanında aratıyoruz.\n",
        "    # Resmi belgenin başlığının 'data_text' alanında hangi indiste başladığını bulmuş oluyoruz.\n",
        "    basliginBaslandigiYer = df['data_text'][ilgiliKayit].find(df['baslik'][ilgiliKayit][:10])\n",
        "    # Başlığın uzunluğunu hesaplıyoruz.\n",
        "    basliginUzunlugu = len(df['baslik'][ilgiliKayit])\n",
        "    # Başlığın data_text alanında bittiği yeri hesaplıyoruz\n",
        "    basliginBittigiYer = basliginBaslandigiYer+basliginUzunlugu\n",
        "    verininBuyuklugu = len(df['data_text'][ilgiliKayit])\n",
        "    # Başlığın bittiği yerden itibaren belirli aralıklarla MADDE SAYMAYA başlıyoruz!\n",
        "    # İlk değer olarak maddeSayisi değişkenimize madde yoktur manasında 0 'SIFIR' veriyoruz.\n",
        "    maddeSayisi = 0\n",
        "    geciciMaddeSayisi = 0\n",
        "    ekMaddeSayisi = 0\n",
        "    AmaddeSayisi = 0\n",
        "    # aramaya baslayacağımız yeri belirliyoruz.,\n",
        "    aramaYapilacakYerinBasi = 0\n",
        "\n",
        "    while (aramaYapilacakYerinBasi<verininBuyuklugu):\n",
        "      bulunanSayi = ''\n",
        "      alinanKesit = df['data_text'][ilgiliKayit][aramaYapilacakYerinBasi:]\n",
        "      maddeninBaslayabilecegiYer = alinanKesit.find('Madde')\n",
        "      eskiMaddeIndex = maddeninBaslayabilecegiYer\n",
        "      tireninBaslayabilecegiYer = maddeninBaslayabilecegiYer+alinanKesit[maddeninBaslayabilecegiYer:].find('–')\n",
        "      if (tireninBaslayabilecegiYer-maddeninBaslayabilecegiYer)<=10:\n",
        "        maddeninBaslayabilecegiYer+=5\n",
        "        while maddeninBaslayabilecegiYer<tireninBaslayabilecegiYer:\n",
        "          maddeninBaslayabilecegiYer+=1\n",
        "          bulunanSayiyiOlusturacakParca = alinanKesit[maddeninBaslayabilecegiYer]\n",
        "          if bulunanSayiyiOlusturacakParca in '0123456789/ABCÇDEFGĞHIİJKLMNOÖPRSŞTUÜVYZabcçdefgğhıijklmnoöprsştuüvyz':\n",
        "            bulunanSayi+=bulunanSayiyiOlusturacakParca\n",
        "          else:\n",
        "            break\n",
        "        if bulunanSayi!='':\n",
        "          try:\n",
        "            if (int(bulunanSayi)<=(maddeSayisi+2)) and (int(bulunanSayi)>(maddeSayisi)):\n",
        "              maddeSayisi += int(bulunanSayi)-maddeSayisi\n",
        "              #print(f\"{ilgiliKayit} Madde {bulunanSayi}\")\n",
        "              \n",
        "            elif (int(bulunanSayi)<=(geciciMaddeSayisi+2)) and (int(bulunanSayi)>(geciciMaddeSayisi)):\n",
        "              geciciMaddeSayisi += int(bulunanSayi)-geciciMaddeSayisi\n",
        "              #print(f\"{ilgiliKayit} Geçici Madde {bulunanSayi}\")\n",
        "            elif (int(bulunanSayi)<=(ekMaddeSayisi+2)) and (int(bulunanSayi)>(ekMaddeSayisi)):\n",
        "              ekMaddeSayisi += int(bulunanSayi)-ekMaddeSayisi\n",
        "              #print(f\"{ilgiliKayit} Ek Geçici Madde {bulunanSayi}\")\n",
        "          except:\n",
        "            #print(f\"{ilgiliKayit} Madde {bulunanSayi}\") #ABCÇDEFGĞHIİJKLMNOÖPRSŞTUÜVYZ\n",
        "            AmaddeSayisi += 1\n",
        "        elif alinanKesit[eskiMaddeIndex-7:eskiMaddeIndex-1] == \"Geçici\":\n",
        "          geciciMaddeSayisi += 1\n",
        "        \n",
        "            \n",
        "      aramaYapilacakYerinBasi+=maddeninBaslayabilecegiYer+5\n",
        "    eskiMaddeSayisi = maddeSayisi\n",
        "    maddeSayisi+=(geciciMaddeSayisi+ekMaddeSayisi+AmaddeSayisi)\n",
        "    #maddeSayisi=islenmemisMaddeler(maddeSayisi,ilgiliKayit)\n",
        "    if int(df['madde_sayisi'][ilgiliKayit])!=int(maddeSayisi):\n",
        "      print(ilgiliKayit,df['madde_sayisi'][ilgiliKayit],maddeSayisi,eskiMaddeSayisi,geciciMaddeSayisi,ekMaddeSayisi,AmaddeSayisi)\n",
        "      hataliSay += 1\n",
        "    else:\n",
        "      pass\n",
        "print('Toplam kontrol edilen belge sayısı:',belgeSay)\n",
        "print('Toplam hatalı kayıt sayısı:',hataliSay)\n",
        "print('Doğruluk Oranı:',(belgeSay-hataliSay)/belgeSay)"
      ],
      "metadata": {
        "id": "Ycva4psKQqO3"
      },
      "execution_count": null,
      "outputs": []
    },
    {
      "cell_type": "code",
      "source": [
        "# data_text alanın madde sayılarını kontrol edelim.\n",
        "hataliSay = 0\n",
        "belgeSay = 0\n",
        "satir, sutun = df.shape\n",
        "print(satir,sutun)\n",
        "\n",
        "for ilgiliKayit in range(satir):\n",
        "  if df['kategori'][ilgiliKayit]=='Kanun':\n",
        "    belgeSay += 1\n",
        "    # 'baslik' alanından ilk 10 karakteri 'data_text' alanında aratıyoruz.\n",
        "    # Resmi belgenin başlığının 'data_text' alanında hangi indiste başladığını bulmuş oluyoruz.\n",
        "    basliginBaslandigiYer = df['data_text'][ilgiliKayit].find(df['baslik'][ilgiliKayit][:10])\n",
        "    # Başlığın uzunluğunu hesaplıyoruz.\n",
        "    basliginUzunlugu = len(df['baslik'][ilgiliKayit])\n",
        "    # Başlığın data_text alanında bittiği yeri hesaplıyoruz\n",
        "    basliginBittigiYer = basliginBaslandigiYer+basliginUzunlugu\n",
        "    verininBuyuklugu = len(df['data_text'][ilgiliKayit])\n",
        "    # Başlığın bittiği yerden itibaren belirli aralıklarla MADDE SAYMAYA başlıyoruz!\n",
        "    # İlk değer olarak maddeSayisi değişkenimize madde yoktur manasında 0 'SIFIR' veriyoruz.\n",
        "    maddeSayisi = 0\n",
        "    geciciMaddeSayisi = 0\n",
        "    ekMaddeSayisi = 0\n",
        "    AmaddeSayisi = 0\n",
        "    # aramaya baslayacağımız yeri belirliyoruz.,\n",
        "    aramaYapilacakYerinBasi = 0\n",
        "\n",
        "    while (aramaYapilacakYerinBasi<verininBuyuklugu):\n",
        "      bulunanSayi = ''\n",
        "      alinanKesit = df['data_text'][ilgiliKayit][aramaYapilacakYerinBasi:]\n",
        "      maddeninBaslayabilecegiYer = alinanKesit.find('Madde')\n",
        "      eskiMaddeIndex = maddeninBaslayabilecegiYer\n",
        "      tireninBaslayabilecegiYer = maddeninBaslayabilecegiYer+alinanKesit[maddeninBaslayabilecegiYer:].find('–')\n",
        "      if (tireninBaslayabilecegiYer-maddeninBaslayabilecegiYer)<=10:\n",
        "        maddeninBaslayabilecegiYer+=5\n",
        "        while maddeninBaslayabilecegiYer<tireninBaslayabilecegiYer:\n",
        "          maddeninBaslayabilecegiYer+=1\n",
        "          bulunanSayiyiOlusturacakParca = alinanKesit[maddeninBaslayabilecegiYer]\n",
        "          if bulunanSayiyiOlusturacakParca in '0123456789/ABCÇDEFGĞHIİJKLMNOÖPRSŞTUÜVYZabcçdefgğhıijklmnoöprsştuüvyz':\n",
        "            bulunanSayi+=bulunanSayiyiOlusturacakParca\n",
        "          else:\n",
        "            break\n",
        "        if bulunanSayi!='':\n",
        "          try:\n",
        "            if (int(bulunanSayi)<=(maddeSayisi+2)) and (int(bulunanSayi)>(maddeSayisi)):\n",
        "              maddeSayisi += int(bulunanSayi)-maddeSayisi\n",
        "              #print(f\"{ilgiliKayit} Madde {bulunanSayi}\")\n",
        "              \n",
        "            elif (int(bulunanSayi)<=(geciciMaddeSayisi+2)) and (int(bulunanSayi)>(geciciMaddeSayisi)):\n",
        "              geciciMaddeSayisi += int(bulunanSayi)-geciciMaddeSayisi\n",
        "              #print(f\"{ilgiliKayit} Geçici Madde {bulunanSayi}\")\n",
        "            elif (int(bulunanSayi)<=(ekMaddeSayisi+2)) and (int(bulunanSayi)>(ekMaddeSayisi)):\n",
        "              ekMaddeSayisi += int(bulunanSayi)-ekMaddeSayisi\n",
        "              #print(f\"{ilgiliKayit} Ek Geçici Madde {bulunanSayi}\")\n",
        "          except:\n",
        "            print(f\"{ilgiliKayit} Madde {bulunanSayi}\") #ABCÇDEFGĞHIİJKLMNOÖPRSŞTUÜVYZ\n",
        "            AmaddeSayisi += 1\n",
        "        elif alinanKesit[eskiMaddeIndex-7:eskiMaddeIndex-1] == \"Geçici\":\n",
        "          geciciMaddeSayisi += 1\n",
        "        \n",
        "            \n",
        "      aramaYapilacakYerinBasi+=maddeninBaslayabilecegiYer+5\n",
        "    eskiMaddeSayisi = maddeSayisi\n",
        "    maddeSayisi+=(geciciMaddeSayisi+ekMaddeSayisi+AmaddeSayisi)\n",
        "    #maddeSayisi=islenmemisMaddeler(maddeSayisi,ilgiliKayit)\n",
        "    if int(df['madde_sayisi'][ilgiliKayit])!=int(maddeSayisi):\n",
        "      print(ilgiliKayit,df['madde_sayisi'][ilgiliKayit],maddeSayisi,eskiMaddeSayisi,geciciMaddeSayisi,ekMaddeSayisi,AmaddeSayisi)\n",
        "      hataliSay += 1\n",
        "    else:\n",
        "      pass\n",
        "print('Toplam kontrol edilen belge sayısı:',belgeSay)\n",
        "print('Toplam hatalı kayıt sayısı:',hataliSay)\n",
        "print('Doğruluk Oranı:',(belgeSay-hataliSay)/belgeSay)"
      ],
      "metadata": {
        "id": "974w2lPEjDSy"
      },
      "execution_count": null,
      "outputs": []
    },
    {
      "cell_type": "code",
      "source": [
        "# data_text alanın madde sayılarını kontrol edelim.\n",
        "hataliSay = 0\n",
        "belgeSay = 0\n",
        "satir, sutun = df.shape\n",
        "print(satir,sutun)\n",
        "\n",
        "for ilgiliKayit in range(satir):\n",
        "  if df['kategori'][ilgiliKayit]=='Cumhurbaşkanlığı Kararnamesi':\n",
        "    belgeSay += 1\n",
        "    # 'baslik' alanından ilk 10 karakteri 'data_text' alanında aratıyoruz.\n",
        "    # Resmi belgenin başlığının 'data_text' alanında hangi indiste başladığını bulmuş oluyoruz.\n",
        "    basliginBaslandigiYer = df['data_text'][ilgiliKayit].find(df['baslik'][ilgiliKayit][:10])\n",
        "    # Başlığın uzunluğunu hesaplıyoruz.\n",
        "    basliginUzunlugu = len(df['baslik'][ilgiliKayit])\n",
        "    # Başlığın data_text alanında bittiği yeri hesaplıyoruz\n",
        "    basliginBittigiYer = basliginBaslandigiYer+basliginUzunlugu\n",
        "    verininBuyuklugu = len(df['data_text'][ilgiliKayit])\n",
        "    # Başlığın bittiği yerden itibaren belirli aralıklarla MADDE SAYMAYA başlıyoruz!\n",
        "    # İlk değer olarak maddeSayisi değişkenimize madde yoktur manasında 0 'SIFIR' veriyoruz.\n",
        "    maddeSayisi = 0\n",
        "    geciciMaddeSayisi = 0\n",
        "    ekMaddeSayisi = 0\n",
        "    AmaddeSayisi = 0\n",
        "    # aramaya baslayacağımız yeri belirliyoruz.,\n",
        "    aramaYapilacakYerinBasi = 0\n",
        "\n",
        "    while (aramaYapilacakYerinBasi<verininBuyuklugu):\n",
        "      bulunanSayi = ''\n",
        "      alinanKesit = df['data_text'][ilgiliKayit][aramaYapilacakYerinBasi:]\n",
        "      maddeninBaslayabilecegiYer = alinanKesit.find('Madde')\n",
        "      eskiMaddeIndex = maddeninBaslayabilecegiYer\n",
        "      tireninBaslayabilecegiYer = maddeninBaslayabilecegiYer+alinanKesit[maddeninBaslayabilecegiYer:].find('–')\n",
        "      if (tireninBaslayabilecegiYer-maddeninBaslayabilecegiYer)<=10:\n",
        "        maddeninBaslayabilecegiYer+=5\n",
        "        while maddeninBaslayabilecegiYer<tireninBaslayabilecegiYer:\n",
        "          maddeninBaslayabilecegiYer+=1\n",
        "          bulunanSayiyiOlusturacakParca = alinanKesit[maddeninBaslayabilecegiYer]\n",
        "          if bulunanSayiyiOlusturacakParca in '0123456789/ABCÇDEFGĞHIİJKLMNOÖPRSŞTUÜVYZabcçdefgğhıijklmnoöprsştuüvyz':\n",
        "            bulunanSayi+=bulunanSayiyiOlusturacakParca\n",
        "          else:\n",
        "            break\n",
        "        if bulunanSayi!='':\n",
        "          try:\n",
        "            if (int(bulunanSayi)<=(maddeSayisi+2)) and (int(bulunanSayi)>(maddeSayisi)):\n",
        "              maddeSayisi += int(bulunanSayi)-maddeSayisi\n",
        "              #print(f\"{ilgiliKayit} Madde {bulunanSayi}\")\n",
        "              \n",
        "            elif (int(bulunanSayi)<=(geciciMaddeSayisi+2)) and (int(bulunanSayi)>(geciciMaddeSayisi)):\n",
        "              geciciMaddeSayisi += int(bulunanSayi)-geciciMaddeSayisi\n",
        "              #print(f\"{ilgiliKayit} Geçici Madde {bulunanSayi}\")\n",
        "            elif (int(bulunanSayi)<=(ekMaddeSayisi+2)) and (int(bulunanSayi)>(ekMaddeSayisi)):\n",
        "              ekMaddeSayisi += int(bulunanSayi)-ekMaddeSayisi\n",
        "              #print(f\"{ilgiliKayit} Ek Geçici Madde {bulunanSayi}\")\n",
        "          except:\n",
        "            print(f\"{ilgiliKayit} Madde {bulunanSayi}\") #ABCÇDEFGĞHIİJKLMNOÖPRSŞTUÜVYZ\n",
        "            AmaddeSayisi += 1\n",
        "        elif alinanKesit[eskiMaddeIndex-7:eskiMaddeIndex-1] == \"Geçici\":\n",
        "          geciciMaddeSayisi += 1\n",
        "        \n",
        "            \n",
        "      aramaYapilacakYerinBasi+=maddeninBaslayabilecegiYer+5\n",
        "    eskiMaddeSayisi = maddeSayisi\n",
        "    maddeSayisi+=(geciciMaddeSayisi+ekMaddeSayisi+AmaddeSayisi)\n",
        "    #maddeSayisi=islenmemisMaddeler(maddeSayisi,ilgiliKayit)\n",
        "    if int(df['madde_sayisi'][ilgiliKayit])!=int(maddeSayisi):\n",
        "      print(ilgiliKayit,df['madde_sayisi'][ilgiliKayit],maddeSayisi,eskiMaddeSayisi,geciciMaddeSayisi,ekMaddeSayisi,AmaddeSayisi)\n",
        "      hataliSay += 1\n",
        "    else:\n",
        "      pass\n",
        "print('Toplam kontrol edilen belge sayısı:',belgeSay)\n",
        "print('Toplam hatalı kayıt sayısı:',hataliSay)\n",
        "print('Doğruluk Oranı:',(belgeSay-hataliSay)/belgeSay)"
      ],
      "metadata": {
        "id": "Z3f4Mup5jpkp"
      },
      "execution_count": null,
      "outputs": []
    },
    {
      "cell_type": "code",
      "source": [
        "# data_text alanın madde sayılarını kontrol edelim.\n",
        "hataliSay = 0\n",
        "belgeSay = 0\n",
        "satir, sutun = df.shape\n",
        "print(satir,sutun)\n",
        "\n",
        "for ilgiliKayit in range(satir):\n",
        "  if df['kategori'][ilgiliKayit]=='Tüzük':\n",
        "    belgeSay += 1\n",
        "    # 'baslik' alanından ilk 10 karakteri 'data_text' alanında aratıyoruz.\n",
        "    # Resmi belgenin başlığının 'data_text' alanında hangi indiste başladığını bulmuş oluyoruz.\n",
        "    basliginBaslandigiYer = df['data_text'][ilgiliKayit].find(df['baslik'][ilgiliKayit][:10])\n",
        "    # Başlığın uzunluğunu hesaplıyoruz.\n",
        "    basliginUzunlugu = len(df['baslik'][ilgiliKayit])\n",
        "    # Başlığın data_text alanında bittiği yeri hesaplıyoruz\n",
        "    basliginBittigiYer = basliginBaslandigiYer+basliginUzunlugu\n",
        "    verininBuyuklugu = len(df['data_text'][ilgiliKayit])\n",
        "    # Başlığın bittiği yerden itibaren belirli aralıklarla MADDE SAYMAYA başlıyoruz!\n",
        "    # İlk değer olarak maddeSayisi değişkenimize madde yoktur manasında 0 'SIFIR' veriyoruz.\n",
        "    maddeSayisi = 0\n",
        "    geciciMaddeSayisi = 0\n",
        "    ekMaddeSayisi = 0\n",
        "    AmaddeSayisi = 0\n",
        "    # aramaya baslayacağımız yeri belirliyoruz.,\n",
        "    aramaYapilacakYerinBasi = 0\n",
        "\n",
        "    while (aramaYapilacakYerinBasi<verininBuyuklugu):\n",
        "      bulunanSayi = ''\n",
        "      alinanKesit = df['data_text'][ilgiliKayit][aramaYapilacakYerinBasi:]\n",
        "      maddeninBaslayabilecegiYer = alinanKesit.find('Madde')\n",
        "      eskiMaddeIndex = maddeninBaslayabilecegiYer\n",
        "      tireninBaslayabilecegiYer = maddeninBaslayabilecegiYer+alinanKesit[maddeninBaslayabilecegiYer:].find('–')\n",
        "      if (tireninBaslayabilecegiYer-maddeninBaslayabilecegiYer)<=10:\n",
        "        maddeninBaslayabilecegiYer+=5\n",
        "        while maddeninBaslayabilecegiYer<tireninBaslayabilecegiYer:\n",
        "          maddeninBaslayabilecegiYer+=1\n",
        "          bulunanSayiyiOlusturacakParca = alinanKesit[maddeninBaslayabilecegiYer]\n",
        "          if bulunanSayiyiOlusturacakParca in '0123456789/ABCÇDEFGĞHIİJKLMNOÖPRSŞTUÜVYZabcçdefgğhıijklmnoöprsştuüvyz':\n",
        "            bulunanSayi+=bulunanSayiyiOlusturacakParca\n",
        "          else:\n",
        "            break\n",
        "        if bulunanSayi!='':\n",
        "          try:\n",
        "            if (int(bulunanSayi)<=(maddeSayisi+2)) and (int(bulunanSayi)>(maddeSayisi)):\n",
        "              maddeSayisi += int(bulunanSayi)-maddeSayisi\n",
        "              #print(f\"{ilgiliKayit} Madde {bulunanSayi}\")\n",
        "              \n",
        "            elif (int(bulunanSayi)<=(geciciMaddeSayisi+2)) and (int(bulunanSayi)>(geciciMaddeSayisi)):\n",
        "              geciciMaddeSayisi += int(bulunanSayi)-geciciMaddeSayisi\n",
        "              #print(f\"{ilgiliKayit} Geçici Madde {bulunanSayi}\")\n",
        "            elif (int(bulunanSayi)<=(ekMaddeSayisi+2)) and (int(bulunanSayi)>(ekMaddeSayisi)):\n",
        "              ekMaddeSayisi += int(bulunanSayi)-ekMaddeSayisi\n",
        "              #print(f\"{ilgiliKayit} Ek Geçici Madde {bulunanSayi}\")\n",
        "          except:\n",
        "            print(f\"{ilgiliKayit} Madde {bulunanSayi}\") #ABCÇDEFGĞHIİJKLMNOÖPRSŞTUÜVYZ\n",
        "            AmaddeSayisi += 1\n",
        "        elif alinanKesit[eskiMaddeIndex-7:eskiMaddeIndex-1] == \"Geçici\":\n",
        "          geciciMaddeSayisi += 1\n",
        "        \n",
        "            \n",
        "      aramaYapilacakYerinBasi+=maddeninBaslayabilecegiYer+5\n",
        "    eskiMaddeSayisi = maddeSayisi\n",
        "    maddeSayisi+=(geciciMaddeSayisi+ekMaddeSayisi+AmaddeSayisi)\n",
        "    #maddeSayisi=islenmemisMaddeler(maddeSayisi,ilgiliKayit)\n",
        "    if int(df['madde_sayisi'][ilgiliKayit])!=int(maddeSayisi):\n",
        "      print(ilgiliKayit,df['madde_sayisi'][ilgiliKayit],maddeSayisi,eskiMaddeSayisi,geciciMaddeSayisi,ekMaddeSayisi,AmaddeSayisi)\n",
        "      hataliSay += 1\n",
        "    else:\n",
        "      pass\n",
        "print('Toplam kontrol edilen belge sayısı:',belgeSay)\n",
        "print('Toplam hatalı kayıt sayısı:',hataliSay)\n",
        "print('Doğruluk Oranı:',(belgeSay-hataliSay)/belgeSay)"
      ],
      "metadata": {
        "id": "KKWgpyz9j9AP"
      },
      "execution_count": null,
      "outputs": []
    },
    {
      "cell_type": "code",
      "source": [
        "# data_text alanın madde sayılarını kontrol edelim.\n",
        "hataliSay = 0\n",
        "belgeSay = 0\n",
        "satir, sutun = df.shape\n",
        "print(satir,sutun)\n",
        "\n",
        "for ilgiliKayit in range(satir):\n",
        "  if df['kategori'][ilgiliKayit]=='Yönetmelik':\n",
        "    belgeSay += 1\n",
        "    # 'baslik' alanından ilk 10 karakteri 'data_text' alanında aratıyoruz.\n",
        "    # Resmi belgenin başlığının 'data_text' alanında hangi indiste başladığını bulmuş oluyoruz.\n",
        "    basliginBaslandigiYer = df['data_text'][ilgiliKayit].find(df['baslik'][ilgiliKayit][:10])\n",
        "    # Başlığın uzunluğunu hesaplıyoruz.\n",
        "    basliginUzunlugu = len(df['baslik'][ilgiliKayit])\n",
        "    # Başlığın data_text alanında bittiği yeri hesaplıyoruz\n",
        "    basliginBittigiYer = basliginBaslandigiYer+basliginUzunlugu\n",
        "    verininBuyuklugu = len(df['data_text'][ilgiliKayit])\n",
        "    # Başlığın bittiği yerden itibaren belirli aralıklarla MADDE SAYMAYA başlıyoruz!\n",
        "    # İlk değer olarak maddeSayisi değişkenimize madde yoktur manasında 0 'SIFIR' veriyoruz.\n",
        "    maddeSayisi = 0\n",
        "    geciciMaddeSayisi = 0\n",
        "    ekMaddeSayisi = 0\n",
        "    AmaddeSayisi = 0\n",
        "    # aramaya baslayacağımız yeri belirliyoruz.,\n",
        "    aramaYapilacakYerinBasi = 0\n",
        "\n",
        "    while (aramaYapilacakYerinBasi<verininBuyuklugu):\n",
        "      bulunanSayi = ''\n",
        "      alinanKesit = df['data_text'][ilgiliKayit][aramaYapilacakYerinBasi:]\n",
        "      maddeninBaslayabilecegiYer = alinanKesit.find('Madde')\n",
        "      eskiMaddeIndex = maddeninBaslayabilecegiYer\n",
        "      tireninBaslayabilecegiYer = maddeninBaslayabilecegiYer+alinanKesit[maddeninBaslayabilecegiYer:].find('–')\n",
        "      if (tireninBaslayabilecegiYer-maddeninBaslayabilecegiYer)<=10:\n",
        "        maddeninBaslayabilecegiYer+=5\n",
        "        while maddeninBaslayabilecegiYer<tireninBaslayabilecegiYer:\n",
        "          maddeninBaslayabilecegiYer+=1\n",
        "          bulunanSayiyiOlusturacakParca = alinanKesit[maddeninBaslayabilecegiYer]\n",
        "          if bulunanSayiyiOlusturacakParca in '0123456789/ABCÇDEFGĞHIİJKLMNOÖPRSŞTUÜVYZabcçdefgğhıijklmnoöprsştuüvyz':\n",
        "            bulunanSayi+=bulunanSayiyiOlusturacakParca\n",
        "          else:\n",
        "            break\n",
        "        if bulunanSayi!='':\n",
        "          try:\n",
        "            if (int(bulunanSayi)<=(maddeSayisi+2)) and (int(bulunanSayi)>(maddeSayisi)):\n",
        "              maddeSayisi += int(bulunanSayi)-maddeSayisi\n",
        "              #print(f\"{ilgiliKayit} Madde {bulunanSayi}\")\n",
        "              \n",
        "            elif (int(bulunanSayi)<=(geciciMaddeSayisi+2)) and (int(bulunanSayi)>(geciciMaddeSayisi)):\n",
        "              geciciMaddeSayisi += int(bulunanSayi)-geciciMaddeSayisi\n",
        "              #print(f\"{ilgiliKayit} Geçici Madde {bulunanSayi}\")\n",
        "            elif (int(bulunanSayi)<=(ekMaddeSayisi+2)) and (int(bulunanSayi)>(ekMaddeSayisi)):\n",
        "              ekMaddeSayisi += int(bulunanSayi)-ekMaddeSayisi\n",
        "              #print(f\"{ilgiliKayit} Ek Geçici Madde {bulunanSayi}\")\n",
        "          except:\n",
        "            print(f\"{ilgiliKayit} Madde {bulunanSayi}\") #ABCÇDEFGĞHIİJKLMNOÖPRSŞTUÜVYZ\n",
        "            AmaddeSayisi += 1\n",
        "        elif alinanKesit[eskiMaddeIndex-7:eskiMaddeIndex-1] == \"Geçici\":\n",
        "          geciciMaddeSayisi += 1\n",
        "        \n",
        "            \n",
        "      aramaYapilacakYerinBasi+=maddeninBaslayabilecegiYer+5\n",
        "    eskiMaddeSayisi = maddeSayisi\n",
        "    maddeSayisi+=(geciciMaddeSayisi+ekMaddeSayisi+AmaddeSayisi)\n",
        "    #maddeSayisi=islenmemisMaddeler(maddeSayisi,ilgiliKayit)\n",
        "    if int(df['madde_sayisi'][ilgiliKayit])!=int(maddeSayisi):\n",
        "      print(ilgiliKayit,df['madde_sayisi'][ilgiliKayit],maddeSayisi,eskiMaddeSayisi,geciciMaddeSayisi,ekMaddeSayisi,AmaddeSayisi)\n",
        "      hataliSay += 1\n",
        "    else:\n",
        "      pass\n",
        "print('Toplam kontrol edilen belge sayısı:',belgeSay)\n",
        "print('Toplam hatalı kayıt sayısı:',hataliSay)\n",
        "print('Doğruluk Oranı:',(belgeSay-hataliSay)/belgeSay)"
      ],
      "metadata": {
        "colab": {
          "base_uri": "https://localhost:8080/"
        },
        "id": "0HFVSZjXkKVa",
        "outputId": "031aedb8-ea77-4496-dc58-39e5f31cb0de"
      },
      "execution_count": 114,
      "outputs": [
        {
          "output_type": "stream",
          "name": "stdout",
          "text": [
            "4142 16\n",
            "1949 31 23 23 0 0 0\n",
            "1950 25 17 17 0 0 0\n",
            "2004 11 12 12 0 0 0\n",
            "2029 44 43 42 1 0 0\n",
            "2030 Madde 8/A\n",
            "2030 Madde 8/B\n",
            "2030 49 46 40 4 0 2\n",
            "2092 29 30 29 1 0 0\n",
            "2103 87 88 88 0 0 0\n",
            "2113 10 11 11 0 0 0\n",
            "2150 119 121 115 4 2 0\n",
            "2176 98 97 96 1 0 0\n",
            "2227 26 27 27 0 0 0\n",
            "2233 64 65 65 0 0 0\n",
            "2252 31 27 23 4 0 0\n",
            "2262 39 38 34 4 0 0\n",
            "2269 58 57 53 2 2 0\n",
            "2282 Madde I\n",
            "2282 Madde II\n",
            "2289 28 29 29 0 0 0\n",
            "2336 31 30 29 1 0 0\n",
            "2344 16 15 15 0 0 0\n",
            "2346 165 166 163 3 0 0\n",
            "2355 Madde 1/A\n",
            "2358 39 38 28 10 0 0\n",
            "2367 53 47 47 0 0 0\n",
            "2381 21 17 16 1 0 0\n",
            "2382 Madde 3/A\n",
            "2382 33 32 26 5 0 1\n",
            "2392 Madde 5/A\n",
            "2394 47 46 45 1 0 0\n",
            "2398 28 24 22 1 1 0\n",
            "2399 26 23 23 0 0 0\n",
            "2400 23 21 19 2 0 0\n",
            "2411 18 17 14 3 0 0\n",
            "2424 22 21 19 2 0 0\n",
            "2431 31 30 25 4 1 0\n",
            "2440 201 190 185 5 0 0\n",
            "2454 23 21 18 2 1 0\n",
            "2480 30 29 28 1 0 0\n",
            "2483 17 18 18 0 0 0\n",
            "2493 27 26 23 2 1 0\n",
            "2495 90 91 91 0 0 0\n",
            "2496 36 37 36 1 0 0\n",
            "2499 11 12 12 0 0 0\n",
            "2501 Madde 6/A\n",
            "2501 29 25 23 1 0 1\n",
            "2515 51 45 44 1 0 0\n",
            "2518 Madde 6/A\n",
            "2518 61 57 52 4 0 1\n",
            "2532 44 37 37 0 0 0\n",
            "2534 48 47 38 9 0 0\n",
            "Toplam kontrol edilen belge sayısı: 597\n",
            "Toplam hatalı kayıt sayısı: 43\n",
            "Doğruluk Oranı: 0.9279731993299832\n"
          ]
        }
      ]
    },
    {
      "cell_type": "code",
      "source": [
        "# Boş geçici maddelerin sayılmasında bıraktık\n",
        "print(df['data_text'][836])"
      ],
      "metadata": {
        "id": "J8x1lLsNxaf2"
      },
      "execution_count": null,
      "outputs": []
    }
  ]
}