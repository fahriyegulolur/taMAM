{
  "nbformat": 4,
  "nbformat_minor": 0,
  "metadata": {
    "colab": {
      "name": "aramaProjesiVeriIslemeKomisyonRaporu.ipynb",
      "provenance": []
    },
    "kernelspec": {
      "name": "python3",
      "display_name": "Python 3"
    },
    "language_info": {
      "name": "python"
    }
  },
  "cells": [
    {
      "cell_type": "markdown",
      "source": [
        "# Bu yarışmada **Komisyon Raporu** dosyaları için 500 belgenin incelendikten sonra bizden beklenilen görevler:\n",
        "\n",
        "- \"kategori\" alanının tespiti. Bu görevle ilgili olan [Mevcut Çalışmamız](https://github.com/iflGARAJI10100/taMAM/blob/main/aramaProjesiKategoriBulmaKHK%20(1).ipynb) için tıklayınız.\n",
        "\n",
        "- \"donem\" ve \"sira_no\" alanlarının tespiti. Bu kodda ise bu alanların tespitiyle alakalı çalışmalarımız mevcuttur."
      ],
      "metadata": {
        "id": "dJoivBIBp8ei"
      }
    },
    {
      "cell_type": "markdown",
      "source": [
        "Veri işleme ve analizi için pandas kütüphanesi kullanılacaktır. Pandas kütüphanesi pd rumuzu ile kısaltılmıştır.\n",
        "\n",
        "Tarih verilerinin işlenmesi için **datetime** kütüphanesi kullanılacaktır."
      ],
      "metadata": {
        "id": "7zuJUJdzqbFh"
      }
    },
    {
      "cell_type": "code",
      "execution_count": 1,
      "metadata": {
        "id": "D4DSrSk9PiW8"
      },
      "outputs": [],
      "source": [
        "import pandas as pd\n",
        "from datetime import datetime"
      ]
    },
    {
      "cell_type": "markdown",
      "source": [
        "Verilerimiz Google Drive (bulut) üzerinde olduğu için Google Colab ile Google Drive arasında bağlantı kurulacaktır."
      ],
      "metadata": {
        "id": "PSui6W66qldX"
      }
    },
    {
      "cell_type": "code",
      "execution_count": null,
      "metadata": {
        "id": "556EYC_CpnNy"
      },
      "outputs": [],
      "source": [
        "from google.colab import drive\n",
        "drive.mount('/content/drive/')"
      ]
    },
    {
      "cell_type": "markdown",
      "source": [
        "Google Drive içinde Colab Notebooks klasörünün içinde TDDI2022 isimli klasörde verilerimizi sakladığımız için bu klasöre erişilecektir.\n",
        "\n",
        "***NOT:*** Bu klasörü daha önce oluşturmadıysanız %md TDDI2022 komutu veya Google Drive Ara Yüzü ile klasörü oluşturunuz!"
      ],
      "metadata": {
        "id": "MO7PrIsWqtH0"
      }
    },
    {
      "cell_type": "code",
      "source": [
        "%cd drive/\n",
        "%cd MyDrive/\n",
        "%cd Colab Notebooks/\n",
        "%cd TDDI2022/\n",
        "\n",
        "# Klasörün içeriğinin görülmesi için\n",
        "%ls"
      ],
      "metadata": {
        "id": "sB7piW8MquF9"
      },
      "execution_count": null,
      "outputs": []
    },
    {
      "cell_type": "markdown",
      "source": [
        "Veri İskeleti TDDI2022 klasöründe bulunan yarışma kapsamında yarışmacılara sağlanan **kanunum-nlp-doc-analysis-dataset.csv** dosyasının içindeki verileri pandas ile okuyarak oluşturulacaktır.\n",
        "\n",
        "Veri iskeleti oluşturulduktan sonra veri iskeleti ile ilgili bilgi ekrana yazdırılacaktır. Tam özetin yazdırılıp yazdırılmayacağı durumunu *verbose=True* (yazdırılsın) parametresi ile kontrol edilecektir. "
      ],
      "metadata": {
        "id": "xJ0eubSGrY9b"
      }
    },
    {
      "cell_type": "code",
      "source": [
        "df = pd.read_csv('kanunum-nlp-doc-analysis-dataset.csv')\n",
        "df.info(verbose=True)"
      ],
      "metadata": {
        "id": "EHdzWNIurahb"
      },
      "execution_count": null,
      "outputs": []
    },
    {
      "cell_type": "markdown",
      "source": [
        "Veri İskeletinde **kategori** sütununun / alanının kaç gruptan ve bu grupların kaç satırdan / kayıttan oluştuğu ekrana yazdırılacaktır."
      ],
      "metadata": {
        "id": "rKlqcKCprdlN"
      }
    },
    {
      "cell_type": "code",
      "source": [
        "print(df.groupby('donem').size())"
      ],
      "metadata": {
        "id": "dAjkZ4Hyrd8S"
      },
      "execution_count": null,
      "outputs": []
    },
    {
      "cell_type": "markdown",
      "source": [
        "Verilerde yapacağımız ön çalışmada bizden istenilen değerleri araştıracağımız **Komisyon Raporu** belgelerinin özelliklerini inceliyoruz."
      ],
      "metadata": {
        "id": "_ZuF9M5prgDP"
      }
    },
    {
      "cell_type": "code",
      "source": [
        "print(df.loc[df['kategori'] == 'Komisyon Raporu'])"
      ],
      "metadata": {
        "id": "F8Hbnib6rr6h"
      },
      "execution_count": null,
      "outputs": []
    },
    {
      "cell_type": "markdown",
      "source": [
        "Verilerde yaptığımız ek çalışmalarda ise veri kümesinin data_text sütunundaki / alanındaki içerikte dağınık halde olduğu görülmüştür. Ama bazı belgelerde aranan kısımlar bozulabilmektedir. Bunun için Veri Temizleme İşlemleri Yapılmaktadır."
      ],
      "metadata": {
        "id": "3uHOHxWrsItD"
      }
    },
    {
      "cell_type": "code",
      "source": [
        "def metinSayi(exmetin):\n",
        "  exmetin = exmetin.replace('S. Sayısı :.','S. Sayısı :')\n",
        "  exmetin = exmetin.replace('S. Sayısı:','S. Sayısı :')\n",
        "  exmetin = exmetin.replace('s. sAYisı :','S. Sayısı :')\n",
        "  exmetin = exmetin.replace('S. Sayisi:','S. Sayısı :')\n",
        "  exmetin = exmetin.replace('S. SAYISI :','S. Sayısı :')\n",
        "  return exmetin"
      ],
      "metadata": {
        "id": "j3F-76J21csE"
      },
      "execution_count": 148,
      "outputs": []
    },
    {
      "cell_type": "markdown",
      "source": [
        "Yukarıdaki fonksiyonla verileri temzileyip düzelltikten sonra örnek bir belgeyi inceliyoruz."
      ],
      "metadata": {
        "id": "5tlhG07Kyn4a"
      }
    },
    {
      "cell_type": "code",
      "source": [
        "satir = 1345\n",
        "metin = df['data_text'][satir]\n",
        "metin = metinSayi(metin)\n",
        "\n",
        "print('\\nKategori: ',df['kategori'][satir],'\\n','Dönem: ',df['donem'][satir],'\\n','Sıra No: ',df['sira_no'][satir],'\\n',35*'-','\\nİçerik:\\n',metin,sep='')"
      ],
      "metadata": {
        "id": "lc-dQCfYyqnT"
      },
      "execution_count": null,
      "outputs": []
    },
    {
      "cell_type": "markdown",
      "source": [
        "Örnek belgede de gözüktüğü üzere **aradığımız değerler** dosyada mevcuttur.\n",
        "\n",
        "**Komisyon Raporu** kategorili toplam 500 belge mevcuttur. Belgelerden istenilen verilerin alınmasıyla ilgili takımımız belgelerde bulunan ortak yazım kurallarını tespit ederek ve **Kural Bazlı Arama** yapmayı tercih etmiştir.\n",
        "\n",
        "Kodun devamında **bu yöntem** gösterilecek, **artı ve eksileri** hakkında tartışılacak ve yöntemin **başarı oranları** verilecektir."
      ],
      "metadata": {
        "id": "WLuE3JbMsSBh"
      }
    },
    {
      "cell_type": "markdown",
      "source": [
        "# **Yöntem | Kural Bazlı Sistem ile Verilerin Eldesi**"
      ],
      "metadata": {
        "id": "SuuZ6EpvsrSv"
      }
    },
    {
      "cell_type": "markdown",
      "source": [
        "Bu Yöntemde ise Belgeler arası **ortak yazım şekillerine** dikkat edilerek veriler elde edilir."
      ],
      "metadata": {
        "id": "Vn_3i65estwh"
      }
    },
    {
      "cell_type": "code",
      "source": [
        "# Sadece Komisyon Raporu kategorisindeki belgelerde işlem yapıyoruz.\n",
        "degerlerimiz = ['donem','sira_no']\n",
        "belgelerdekiToplamDegerSayisi = 500\n",
        "belgelerdekiHataliDegerSayisi = [0] * len(degerlerimiz)\n",
        "\n",
        "\n",
        "for i in range(1302,1802):\n",
        "  # VERİ TEMİZLEME İŞLEMLERİ\n",
        "  metin = df['data_text'][i]\n",
        "  #metin = metinDonem(metin)\n",
        "\n",
        "  # Asıl değerlerin alınması ve formatlanması\n",
        "  dfDonem = df['donem'][i].split('.')[0]\n",
        "  dfSiraNo = df['sira_no'][i].split(\" ek \")\n",
        "  \n",
        "  # 'donem' değerini bulan kod \n",
        "\n",
        "  donem = ''\n",
        "  if metin.find('Dönem') != -1:\n",
        "    donemIndex = metin.find('Dönem')\n",
        "    donemIndex = donemIndex + len('Dönem')\n",
        "\n",
        "  elif metin.find('YASAMA YILI') != -1:\n",
        "    donemIndex = metin.find('YASAMA YILI')\n",
        "    donemIndex = donemIndex + len('YASAMA YILI')\n",
        "\n",
        "  else:\n",
        "    donem = '0'\n",
        "\n",
        "  rakambuldu = 0\n",
        "  while metin[donemIndex].isdigit() or rakambuldu==0 and donem != '0':\n",
        "    if metin[donemIndex] == ' ' or metin[donemIndex] == '\\n':\n",
        "      rakambuldu = 0\n",
        "    elif metin[donemIndex].isdigit():\n",
        "      rakambuldu = 1\n",
        "      donem = donem + metin[donemIndex]\n",
        "    elif metin[donemIndex] == 'α':\n",
        "      donem = ''\n",
        "      break\n",
        "    donemIndex += 1\n",
        "    \n",
        "  donem = int(donem)\n",
        "    \n",
        "  if int(dfDonem) >= 21 and donem != int(dfDonem):\n",
        "    belgelerdekiHataliDegerSayisi[0]+=1\n",
        "    print(i,\" DonemHatası \",'|',donem,'|',dfDonem,'|',sep='')\n",
        "\n",
        "# 'sira_no' değerini bulan kod\n",
        "  metin = metinSayi(metin)\n",
        "\n",
        "  if metin.find('S. Sayısı :') != -1:\n",
        "    siraNoIndex = metin.find('S. Sayısı :')\n",
        "    siraNoIndex += len('S. Sayısı :')\n",
        "\n",
        "  siraNo1 = ''\n",
        "  rakambuldu = 0\n",
        "  eskiIndex = 0\n",
        "  while metin[siraNoIndex].isdigit() or rakambuldu==0:\n",
        "    if metin[siraNoIndex] == ' ' or metin[siraNoIndex] == '\\n':\n",
        "      rakambuldu = 0\n",
        "\n",
        "    elif metin[siraNoIndex].isdigit():\n",
        "      rakambuldu = 1\n",
        "      eskiIndex = siraNoIndex\n",
        "      siraNo1 = siraNo1 + metin[siraNoIndex]\n",
        "    siraNoIndex += 1\n",
        "\n",
        "\n",
        "  siraNo2 = ''\n",
        "  rakambuldu = 0\n",
        "  count = 0\n",
        "\n",
        "  if metin.find(\"ek\",eskiIndex) != -1 and metin.find(\"ek\",eskiIndex)-eskiIndex < 15:\n",
        "    siraNoIndex = metin.find(\"ek\",eskiIndex)\n",
        "    siraNoIndex += len(\"ek\")\n",
        "    count = 1\n",
        "\n",
        "    while metin[siraNoIndex].isdigit() or rakambuldu==0:\n",
        "      if metin[siraNoIndex] == ' ' or metin[siraNoIndex] == '\\n':\n",
        "        rakambuldu = 0\n",
        "\n",
        "      elif metin[siraNoIndex].isdigit():\n",
        "        rakambuldu = 1\n",
        "        count = 0\n",
        "        siraNo2 = siraNo2 + metin[siraNoIndex]\n",
        "      \n",
        "      else:\n",
        "        break\n",
        "\n",
        "      siraNoIndex += 1\n",
        "\n",
        "    if count == 1:\n",
        "      siraNo2 = '1'\n",
        "\n",
        "  if siraNo2 == '':\n",
        "    siraNoToplam = siraNo1\n",
        "  else:\n",
        "    siraNoToplam = siraNo1 +' ek '+siraNo2\n",
        "\n",
        "  dfSiraNo = df['sira_no'][i]\n",
        "\n",
        "  if siraNoToplam != dfSiraNo:\n",
        "    belgelerdekiHataliDegerSayisi[1]+=1\n",
        "    print(i,\" SıraNoHatası \",'|',siraNoToplam,'|',dfSiraNo,'|',sep='')\n",
        "\n",
        "for i in range(2):\n",
        "  print(degerlerimiz[i],\"|\",belgelerdekiHataliDegerSayisi[i],\"/\",belgelerdekiToplamDegerSayisi,\"|\",round((belgelerdekiToplamDegerSayisi-belgelerdekiHataliDegerSayisi[i])/belgelerdekiToplamDegerSayisi,3))\n"
      ],
      "metadata": {
        "id": "XodrCO_R2ElQ"
      },
      "execution_count": null,
      "outputs": []
    },
    {
      "cell_type": "markdown",
      "source": [
        "## ***ÇIKARIM:***\n",
        "\n",
        "- **(ÖNEMLİ BULGU)** Bu yöntemle modülümüz istenilen performans düzeyine yakınlaşmıştır.\n",
        "- **(ÖNEMLİ BULGU)** Bu yöntemle modülümüz 'donem' alanının 500 değerinde 74 hatayla ve 0.85 Doğrulukla **Kabul Edilebilir Hatayla** bulmuştur.\n",
        "- **(ÖNEMLİ BULGU)** Bu yöntemle modülümüz 'sira_sayisi' alanının 500 değerinde 131 hatayla ve 131 Doğrulukla **Kabul Edilebilir Hatayla** bulmuştur.\n",
        "\n",
        "## **YÖNTEMİN ARTI VE EKSİLERİ**\n",
        "### Artıları:\n",
        "- Kural Bazlı Arama'sı diğer yöntemlere hız bakımından üstün.\n",
        "- Kural Bazlı Arama'sı Kabul Edilebilir Doğruluk Performansıyla çalışıyor.\n",
        "\n",
        "### Eksileri:\n",
        "- Kural Bazlı Arama'nın diğer belge tiplerinde nasıl çalışacağı bilinmiyor.\n",
        "- Kural Bazlı Arama'nın yeni yazım kurallarına göre yazılmış metinlerde Doğruluk oranı 0.0'a kadar düşebilir, riskli."
      ],
      "metadata": {
        "id": "UX0g1zeTszF_"
      }
    },
    {
      "cell_type": "markdown",
      "source": [
        "### **Yöntemin Performans Tablosu**\n",
        "\n",
        "|Kural Bazlı Arama Yöntemi|Toplam|Doğru|Yanlış|Doğruluk Oranı|\n",
        "|---|---|---|---|---|\n",
        "|donem|500|426|74|0.852|\n",
        "|sira_sayisi|500|369|131|0.738|"
      ],
      "metadata": {
        "id": "Fmz4IFPcs1Ef"
      }
    }
  ]
}