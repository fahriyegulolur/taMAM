{
  "nbformat": 4,
  "nbformat_minor": 0,
  "metadata": {
    "colab": {
      "name": "aramaProjesiVeriIsleme_Kanun.ipynb",
      "provenance": [],
      "collapsed_sections": []
    },
    "kernelspec": {
      "name": "python3",
      "display_name": "Python 3"
    },
    "language_info": {
      "name": "python"
    }
  },
  "cells": [
    {
      "cell_type": "code",
      "execution_count": 21,
      "metadata": {
        "id": "D4DSrSk9PiW8"
      },
      "outputs": [],
      "source": [
        "import pandas as pd"
      ]
    },
    {
      "cell_type": "code",
      "source": [
        "from google.colab import drive\n",
        "drive.mount('/content/drive/')"
      ],
      "metadata": {
        "id": "g8ZpPY4-Pmv1"
      },
      "execution_count": null,
      "outputs": []
    },
    {
      "cell_type": "code",
      "source": [
        "%cd drive/"
      ],
      "metadata": {
        "id": "h47_PvbxT9QD"
      },
      "execution_count": null,
      "outputs": []
    },
    {
      "cell_type": "code",
      "source": [
        "%cd MyDrive/"
      ],
      "metadata": {
        "id": "ElqFYei7Vuz5"
      },
      "execution_count": null,
      "outputs": []
    },
    {
      "cell_type": "code",
      "source": [
        "%cd Colab Notebooks/"
      ],
      "metadata": {
        "id": "j8uh8jQyVzAH"
      },
      "execution_count": null,
      "outputs": []
    },
    {
      "cell_type": "code",
      "source": [
        "%cd TDDI2022/\n",
        "\n",
        "\n",
        "%ls"
      ],
      "metadata": {
        "id": "aA9Js-QGV31p"
      },
      "execution_count": null,
      "outputs": []
    },
    {
      "cell_type": "code",
      "source": [
        "df = pd.read_csv('kanunum-nlp-doc-analysis-dataset.csv')\n",
        "df.info(verbose=True)"
      ],
      "metadata": {
        "id": "ZMriHlEGPqbV"
      },
      "execution_count": null,
      "outputs": []
    },
    {
      "cell_type": "code",
      "source": [
        "print(df.groupby('kategori').size())"
      ],
      "metadata": {
        "id": "VzFXWPNMX6Sb"
      },
      "execution_count": null,
      "outputs": []
    },
    {
      "cell_type": "code",
      "source": [
        "print(df.loc[df['kategori'] == 'Kanun'])"
      ],
      "metadata": {
        "id": "qHs_4PciDhp1"
      },
      "execution_count": null,
      "outputs": []
    },
    {
      "cell_type": "code",
      "source": [
        "print(df['data_text'][0])"
      ],
      "metadata": {
        "id": "nhrQLfrOF35t"
      },
      "execution_count": null,
      "outputs": []
    },
    {
      "cell_type": "code",
      "source": [
        "!pip install transformers==4.20.1"
      ],
      "metadata": {
        "id": "rgEu0Pj6Htp7"
      },
      "execution_count": null,
      "outputs": []
    },
    {
      "cell_type": "code",
      "source": [
        "from transformers import AutoTokenizer, AutoModelForQuestionAnswering, pipeline\n",
        "\n",
        "modeller = [\"yunusemreemik/logo-qna-model\",\"savasy/bert-base-turkish-squad\",\"lserinol/bert-turkish-question-answering\"]\n",
        "\n",
        "icerik = df['data_text'][0][:210]\n",
        "sorular = [\"Resmi Gazete Tarihi nedir?\",\"Resmî Gazete Sayısı nedir?\", \"Kanunun No nedir?\",\"Kabul Tarihi nedir?\",\"Kanunun başlığı nedir?\"]\n",
        "\n",
        "\n",
        "for X in modeller:\n",
        "  print(\"Model:\",X)\n",
        "  veriBulucu = pipeline(task='question-answering', model=AutoModelForQuestionAnswering.from_pretrained(X), tokenizer=AutoTokenizer.from_pretrained(X))\n",
        "  for soru in sorular:\n",
        "    sonuc = veriBulucu(question = soru, context = icerik)\n",
        "    print(\"'\",soru,\"'\",\"sorusuna verilen cevap:\",sonuc['answer'])"
      ],
      "metadata": {
        "id": "bRLjWAuHLahS"
      },
      "execution_count": null,
      "outputs": []
    },
    {
      "cell_type": "code",
      "source": [
        "from datetime import datetime"
      ],
      "metadata": {
        "id": "3ISYs5Fc18Ro"
      },
      "execution_count": 13,
      "outputs": []
    },
    {
      "cell_type": "code",
      "source": [
        "modeller = [\"lserinol/bert-turkish-question-answering\",]\n",
        "rg_no_dogru=0\n",
        "rg_no_yanlis=0\n",
        "rg_trh_dogru=0\n",
        "rg_trh_yanlis=0\n",
        "kn_no_dogru=0\n",
        "kn_no_yanlis=0\n",
        "kn_trh_dogru=0\n",
        "kn_trh_yanlis=0\n",
        "\n",
        "for i in range (514):\n",
        "  icerik = df['data_text'][i][:210]\n",
        "  sorular = [\"Resmi Gazete Tarihi nedir?\",\"Resmî Gazete No nedir?\", \"Kanun No nedir?\",\"Kabul Tarihi nedir?\"]\n",
        "\n",
        "\n",
        "  for X in modeller:\n",
        "   veriBulucu = pipeline(task='question-answering', model=AutoModelForQuestionAnswering.from_pretrained(X), tokenizer=AutoTokenizer.from_pretrained(X))\n",
        "   for soru in sorular:\n",
        "      sonuc = veriBulucu(question = soru, context = icerik)\n",
        "    \n",
        "      if soru == \"Resmi Gazete Tarihi nedir?\" :\n",
        "        \n",
        "        rg_trh1 = sonuc['answer']\n",
        "      if soru == \"Resmî Gazete No nedir?\" :\n",
        "        rg_no1 = sonuc['answer']\n",
        "      if soru == \"Kanun No nedir?\" :\n",
        "        kn_no1 = sonuc['answer']\n",
        "      if soru == \"Kabul Tarihi nedir?\" :\n",
        "        kn_trh1 = sonuc['answer']\n",
        "\n",
        "    \n",
        "                                                                                                                                                                             \n",
        "      print(\"'\",soru,\"'\",\"sorusuna verilen cevap:\",sonuc['answer']) \n",
        "\n",
        "  rg_trh2 = df.loc[df['kategori'] == 'Kanun','rega_tarihi'][i]\n",
        "  rg_no2 = df.loc[df['kategori'] == 'Kanun','rega_no'][i]\n",
        "  kn_no2 = df.loc[df['kategori'] == 'Kanun','mevzuat_no'][i]\n",
        "  kn_trh2 = df.loc[df['kategori'] == 'Kanun','mevzuat_tarihi'][i]\n",
        "\n",
        "  rg_trh_dt2 = datetime.strptime(rg_trh2, '%Y-%m-%d')\n",
        "  kn_trh_dt2 = datetime.strptime(kn_trh2, '%Y-%m-%d')\n",
        "\n",
        "  rg_trh_dt1 = datetime.strptime(rg_trh1, '%d.%m.%Y')\n",
        "  kn_trh_dt1 = datetime.strptime(kn_trh1, '%d/%m/%Y')\n",
        "\n",
        "  if rg_no1 == rg_no2:\n",
        "    rg_no_dogru += 1\n",
        "  else:\n",
        "    rg_no_yanlis += 1\n",
        "    print(\"*rg no* cevap:\", rg_no1, \" doğrusu:\", rg_no2)  \n",
        "  \n",
        "  if rg_trh_dt1 == rg_trh_dt2:\n",
        "    rg_trh_dogru += 1\n",
        "  else:\n",
        "    rg_trh_yanlis += 1\n",
        "    print(\"*rg_tarih* cevap:\", rg_trh_dt1, \" doğrusu:\", rg_trh_dt2)  \n",
        " \n",
        "  if kn_no1 == kn_no2:\n",
        "    kn_no_dogru += 1\n",
        "  else:\n",
        "    kn_no_yanlis += 1\n",
        "    print(\"*kn_no* cevap:\", kn_no1, \" doğrusu:\", kn_no2)  \n",
        "  \n",
        "  if kn_trh_dt1 == kn_trh_dt2:\n",
        "    kn_trh_dogru += 1\n",
        "  else:\n",
        "    kn_trh_yanlis += 1\n",
        "    print(\"*kn_trh* cevap:\", kn_trh_dt1, \" doğrusu:\", kn_trh_dt2)  \n",
        "  \n",
        "  print(\"d - y :: rg_trh:\", rg_trh_dogru, rg_trh_yanlis,\"/   rg_no:\", rg_no_dogru, rg_no_yanlis,\"/   kn_no:\", kn_no_dogru, kn_no_yanlis,\"/    kn_trh:\", kn_trh_dogru, kn_trh_yanlis)\n",
        "\n",
        "'''print(rg_trh1)\n",
        "print(rg_trh2)\n",
        "print(rg_no1)\n",
        "print(kn_no1)\n",
        "print(kn_trh1)\n",
        "print(rg_trh_dt1)\n",
        "print(rg_trh_dt2)'''\n"
      ],
      "metadata": {
        "id": "WzjKnsIl4aXi"
      },
      "execution_count": null,
      "outputs": []
    }
  ]
}