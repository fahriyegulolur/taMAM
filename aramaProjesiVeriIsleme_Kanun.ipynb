{
  "nbformat": 4,
  "nbformat_minor": 0,
  "metadata": {
    "colab": {
      "name": "aramaProjesiVeriIsleme_Kanun_TDDIsiz.ipynb",
      "provenance": [],
      "collapsed_sections": []
    },
    "kernelspec": {
      "name": "python3",
      "display_name": "Python 3"
    },
    "language_info": {
      "name": "python"
    }
  },
  "cells": [
    {
      "cell_type": "code",
      "execution_count": 1,
      "metadata": {
        "id": "D4DSrSk9PiW8"
      },
      "outputs": [],
      "source": [
        "import pandas as pd"
      ]
    },
    {
      "cell_type": "code",
      "source": [
        "from google.colab import drive\n",
        "drive.mount('/content/drive/')"
      ],
      "metadata": {
        "id": "g8ZpPY4-Pmv1"
      },
      "execution_count": null,
      "outputs": []
    },
    {
      "cell_type": "code",
      "source": [
        "%cd drive/"
      ],
      "metadata": {
        "id": "h47_PvbxT9QD"
      },
      "execution_count": null,
      "outputs": []
    },
    {
      "cell_type": "code",
      "source": [
        "%cd MyDrive/"
      ],
      "metadata": {
        "id": "ElqFYei7Vuz5"
      },
      "execution_count": null,
      "outputs": []
    },
    {
      "cell_type": "code",
      "source": [
        "%cd Colab Notebooks/"
      ],
      "metadata": {
        "id": "j8uh8jQyVzAH"
      },
      "execution_count": null,
      "outputs": []
    },
    {
      "cell_type": "code",
      "source": [
        "%cd TDDI2022/\n",
        "\n",
        "\n",
        "%ls"
      ],
      "metadata": {
        "id": "aA9Js-QGV31p"
      },
      "execution_count": null,
      "outputs": []
    },
    {
      "cell_type": "code",
      "source": [
        "df = pd.read_csv('kanunum-nlp-doc-analysis-dataset.csv')\n",
        "df.info(verbose=True)"
      ],
      "metadata": {
        "id": "ZMriHlEGPqbV"
      },
      "execution_count": null,
      "outputs": []
    },
    {
      "cell_type": "code",
      "source": [
        "print(df.groupby('kategori').size())"
      ],
      "metadata": {
        "id": "VzFXWPNMX6Sb"
      },
      "execution_count": null,
      "outputs": []
    },
    {
      "cell_type": "code",
      "source": [
        "print(df.loc[df['kategori'] == 'Tüzük'])"
      ],
      "metadata": {
        "id": "qHs_4PciDhp1"
      },
      "execution_count": null,
      "outputs": []
    },
    {
      "cell_type": "code",
      "source": [
        "print(df['data_text'][1857])"
      ],
      "metadata": {
        "id": "nhrQLfrOF35t"
      },
      "execution_count": null,
      "outputs": []
    },
    {
      "cell_type": "code",
      "source": [
        "print(df['data_text'][515])"
      ],
      "metadata": {
        "id": "LNLaM-e3KXm-"
      },
      "execution_count": null,
      "outputs": []
    },
    {
      "cell_type": "code",
      "source": [
        "from datetime import datetime"
      ],
      "metadata": {
        "id": "3ISYs5Fc18Ro"
      },
      "execution_count": 16,
      "outputs": []
    },
    {
      "cell_type": "code",
      "source": [
        "\n",
        "def aycevir(tarih):\n",
        "  tarih = tarih.lower()\n",
        "  if tarih.find('ocak') != -1:\n",
        "    tarih2 = tarih.replace('ocak','01')\n",
        "    return tarih2\n",
        "  if tarih.find('şubat') != -1:\n",
        "    print('a')\n",
        "    tarih2 = tarih.replace('şubat','02')\n",
        "    return tarih2\n",
        "  if tarih.find('mart') != -1:\n",
        "    tarih2 = tarih.replace('mart','03')\n",
        "    return tarih2\n",
        "  if tarih.find('nisan') != -1:\n",
        "    tarih2 = tarih.replace('nisan','04')\n",
        "    return tarih2\n",
        "  if tarih.find('mayıs') != -1:\n",
        "    tarih2 = tarih.replace('mayıs','05')\n",
        "    return tarih2\n",
        "  if tarih.find('haziran') != -1:\n",
        "    tarih2 = tarih.replace('haziran','06')\n",
        "    return tarih2\n",
        "  if tarih.find('temmuz') != -1:\n",
        "    tarih2 = tarih.replace('temmuz','07')\n",
        "    return tarih2\n",
        "  if tarih.find('ağustos') != -1:\n",
        "    tarih2 = tarih.replace('ağustos','08')\n",
        "    return tarih2\n",
        "  if tarih.find('eylül') != -1:\n",
        "    tarih2 = tarih.replace('eylül','09')\n",
        "    return tarih2\n",
        "  if tarih.find('ekim') != -1:\n",
        "    tarih2 = tarih.replace('ekim','10')\n",
        "    return tarih2\n",
        "  if tarih.find('kasım') != -1:\n",
        "    tarih2 = tarih.replace('kasım','11')\n",
        "    return tarih2\n",
        "  if tarih.find('aralık') != -1:\n",
        "    tarih2 = tarih.replace('aralık','12')\n",
        "    return tarih2\n",
        "\n",
        "\n",
        "\n",
        "\n",
        "\n",
        "rg_no_dogru=0\n",
        "rg_no_yanlis=0\n",
        "rg_trh_dogru=0\n",
        "rg_trh_yanlis=0\n",
        "kn_no_dogru=0\n",
        "kn_no_yanlis=0\n",
        "kn_trh_dogru=0\n",
        "kn_trh_yanlis=0\n",
        "i = 0;\n",
        "for i in range(0,513):\n",
        "  print(i)\n",
        "  metin = df['data_text'][i][:310].lower()\n",
        "  metin = metin.replace('  ','')\n",
        "\n",
        "\n",
        "  \n",
        "  baslangic_rgtrh = metin.find('resmî gazete tarihi:')\n",
        "  baslangic_rgtrh = baslangic_rgtrh + len('resmî gazete tarihi: ')\n",
        "  rg_trh1 = metin[baslangic_rgtrh:baslangic_rgtrh+10]\n",
        "  print(rg_trh1)\n",
        "  \n",
        "  baslangic_rgno = metin.find('resmî gazete sayısı: ')\n",
        "  baslangic_rgno = baslangic_rgno + len('resmî gazete sayısı: ')\n",
        "  rg_no1 = ''\n",
        "  rakambuldu = 0\n",
        "  while metin[baslangic_rgno].isdigit() or rakambuldu==0:\n",
        "    if metin[baslangic_rgno] == ' ' or metin[baslangic_rgno] == '\\n':\n",
        "      rakambuldu = 0\n",
        "    elif metin[baslangic_rgno].isdigit():\n",
        "      rakambuldu = 1\n",
        "      rg_no1 = rg_no1 + metin[baslangic_rgno]\n",
        "    baslangic_rgno = baslangic_rgno + 1\n",
        "  rg_no1 = int(rg_no1)\n",
        "  print(rg_no1)\n",
        "  \n",
        "  baslangic_knno = metin.find('kanun no. ')\n",
        "  baslangic_knno = baslangic_knno + len('kanun no. ')\n",
        "  kn_no1 = ''\n",
        "  raambuldu = 0\n",
        "  while metin[baslangic_knno].isdigit() or rakambuldu==0:\n",
        "    if metin[baslangic_knno] == ' ' or metin[baslangic_knno] == '\\n':\n",
        "      rakambuldu = 0\n",
        "    elif metin[baslangic_knno].isdigit():\n",
        "      rakambuldu = 1\n",
        "      kn_no1 = kn_no1 + metin[baslangic_knno]\n",
        "    baslangic_knno = baslangic_knno + 1\n",
        "  kn_no1 = int(kn_no1)\n",
        "  print(kn_no1)\n",
        "\n",
        "  baslangic_kntrh = metin.find('kabul tarihi : ')\n",
        "  baslangic_kntrh = baslangic_kntrh + len('kabul tarihi : ')\n",
        "  kn_trh1 = metin[baslangic_kntrh:baslangic_kntrh+10]\n",
        "  if kn_trh1[9].isdigit() != True:\n",
        "    kn_trh1 = kn_trh1[:9]\n",
        "  elif kn_trh1[8].isdigit() != True:\n",
        "    kn_trh1 = kn_trh1[:8]\n",
        "  \n",
        "  kn_trh1 = kn_trh1.replace('\\n', '')\n",
        "  kn_trh1 = kn_trh1.replace(' ', '')\n",
        "  print(kn_trh1)\n",
        "  print(\"----------\")\n",
        "\n",
        "\n",
        "\n",
        "\n",
        "  rg_trh2 = df.loc[df['kategori'] == 'Kanun','rega_tarihi'][i]\n",
        "  rg_no2 = int(df.loc[df['kategori'] == 'Kanun','rega_no'][i])\n",
        "  kn_no2 = int(df.loc[df['kategori'] == 'Kanun','mevzuat_no'][i])\n",
        "  kn_trh2 = df.loc[df['kategori'] == 'Kanun','mevzuat_tarihi'][i]\n",
        "\n",
        "  \n",
        "  \n",
        "  \n",
        "  rg_trh_dt2 = datetime.strptime(rg_trh2, '%Y-%m-%d')\n",
        "  kn_trh_dt2 = datetime.strptime(kn_trh2, '%Y-%m-%d')\n",
        "\n",
        "  \n",
        "  rg_trh_dt1 = datetime.strptime(rg_trh1, '%d.%m.%Y')\n",
        "  if kn_trh1.find('/') != -1:\n",
        "    kn_trh_dt1 = datetime.strptime(kn_trh1, '%d/%m/%Y')\n",
        "  elif kn_trh1.find('.') != -1:\n",
        "    kn_trh_dt1 = datetime.strptime(kn_trh1, '%d.%m.%Y')\n",
        "\n",
        "  if rg_no1 == rg_no2:\n",
        "    rg_no_dogru += 1\n",
        "  else:\n",
        "    rg_no_yanlis += 1\n",
        "    print(\"*rg no* cevap:\", rg_no1, \" doğrusu:\", rg_no2)  \n",
        "  \n",
        "  if rg_trh_dt1 == rg_trh_dt2:\n",
        "    rg_trh_dogru += 1\n",
        "  else:\n",
        "    rg_trh_yanlis += 1\n",
        "    print(\"*rg_tarih* cevap:\", rg_trh_dt1, \" doğrusu:\", rg_trh_dt2)  \n",
        " \n",
        "  if kn_no1 == kn_no2:\n",
        "    kn_no_dogru += 1\n",
        "  else:\n",
        "    kn_no_yanlis += 1\n",
        "    print(\"*kn_no* cevap:\", kn_no1, \" doğrusu:\", kn_no2)  \n",
        "  \n",
        "  if kn_trh_dt1 == kn_trh_dt2:\n",
        "    kn_trh_dogru += 1\n",
        "  else:\n",
        "    kn_trh_yanlis += 1\n",
        "    print(\"*kn_trh* cevap:\", kn_trh_dt1, \" doğrusu:\", kn_trh_dt2)  \n",
        "  \n",
        "  print(\"d - y :: rg_trh:\", rg_trh_dogru, rg_trh_yanlis,\"/   rg_no:\", rg_no_dogru, rg_no_yanlis,\"/   kn_no:\", kn_no_dogru, kn_no_yanlis,\"/    kn_trh:\", kn_trh_dogru, kn_trh_yanlis)\n",
        "  "
      ],
      "metadata": {
        "id": "yAfcUTJJMUSX"
      },
      "execution_count": null,
      "outputs": []
    }
  ]
}