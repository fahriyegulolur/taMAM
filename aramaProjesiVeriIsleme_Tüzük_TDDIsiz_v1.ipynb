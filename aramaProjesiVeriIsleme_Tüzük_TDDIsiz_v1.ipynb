{
  "nbformat": 4,
  "nbformat_minor": 0,
  "metadata": {
    "colab": {
      "name": "aramaProjesiVeriIsleme_Tüzük_TDDIsiz_v1.ipynb",
      "provenance": [],
      "collapsed_sections": []
    },
    "kernelspec": {
      "name": "python3",
      "display_name": "Python 3"
    },
    "language_info": {
      "name": "python"
    }
  },
  "cells": [
    {
      "cell_type": "markdown",
      "source": [
        "\n",
        "Veri işleme ve analizi için pandas kütüphanesi kullanılacaktır. Pandas kütüphanesi pd rumuzu ile kısaltılmıştır.\n"
      ],
      "metadata": {
        "id": "0jercKQW1K3r"
      }
    },
    {
      "cell_type": "code",
      "execution_count": 1,
      "metadata": {
        "id": "D4DSrSk9PiW8"
      },
      "outputs": [],
      "source": [
        "import pandas as pd"
      ]
    },
    {
      "cell_type": "markdown",
      "source": [
        "Verilerimiz Google Drive (bulut) üzerinde olduğu için Google Colab ile Google Drive arasında bağlantı kurulacaktır."
      ],
      "metadata": {
        "id": "YnQR-Os61Q9P"
      }
    },
    {
      "cell_type": "code",
      "source": [
        "from google.colab import drive\n",
        "drive.mount('/content/drive/')"
      ],
      "metadata": {
        "id": "g8ZpPY4-Pmv1"
      },
      "execution_count": null,
      "outputs": []
    },
    {
      "cell_type": "markdown",
      "source": [
        "Google Drive içinde Colab Notebooks klasörünün içinde TDDI2022 isimli klasörde verilerimizi sakladığımız için bu klasöre erişilecektir.\n",
        "\n",
        "NOT: Bu klasörü daha önce oluşturmadıysanız %md TDDI2022 komutu veya Google Drive Ara Yüzü ile klasörü oluşturunuz!"
      ],
      "metadata": {
        "id": "QbOBrzFM1fw3"
      }
    },
    {
      "cell_type": "code",
      "source": [
        "%cd drive/\n",
        "%cd MyDrive/\n",
        "%cd Colab Notebooks/\n",
        "%cd TDDI2022/\n",
        "\n",
        "%ls"
      ],
      "metadata": {
        "id": "h47_PvbxT9QD"
      },
      "execution_count": null,
      "outputs": []
    },
    {
      "cell_type": "markdown",
      "source": [
        "Veri İskeleti TDDI2022 klasöründe bulunan yarışma kapsamında yarışmacılara sağlanan kanunum-nlp-doc-analysis-dataset.csv dosyasının içindeki verileri pandas ile okuyarak oluşturulacaktır.\n",
        "\n",
        "Veri iskeleti oluşturulduktan sonra veri iskeleti ile ilgili bilgi ekrana yazdırılacaktır. Tam özetin yazdırılıp yazdırılmayacağı durumunu verbose=True (yazdırılsın) parametresi ile kontrol edilecektir."
      ],
      "metadata": {
        "id": "bfylci5v1icr"
      }
    },
    {
      "cell_type": "code",
      "source": [
        "df = pd.read_csv('kanunum-nlp-doc-analysis-dataset.csv')\n",
        "df.info(verbose=True)"
      ],
      "metadata": {
        "id": "ZMriHlEGPqbV"
      },
      "execution_count": null,
      "outputs": []
    },
    {
      "cell_type": "markdown",
      "source": [
        "Tarih verilerinin formatlarının farklı olması nedeniyle hapsini aynı şekildeki bir stringe dönüştürüp karşılaştırma yapılmasını sağlamaktadır."
      ],
      "metadata": {
        "id": "Btzoa3wF2MTF"
      }
    },
    {
      "cell_type": "code",
      "source": [
        "\n",
        "\n",
        "def tarihduzelt(tarih):\n",
        "  ayracsayisi = 0 \n",
        "  i = 0\n",
        "  gun = ''\n",
        "  ay = ''\n",
        "  yil = ''\n",
        "  if tarih.find('-') != -1: #Veri iskeletindeki tarihler \"-\" karakteri ile ayrılmaktadır ve yyyy-mm-dd formatında olduğundan tersten bölümleri okumayı sağlıyor.\n",
        "      ayracsayisi = 2\n",
        "  while i < len(tarih):\n",
        "    if tarih[i].isdigit() and ayracsayisi == 0: \n",
        "      gun = gun + tarih[i]\n",
        "    if tarih[i].isdigit() and ayracsayisi == 1:\n",
        "      ay = ay + tarih[i]\n",
        "    if tarih[i].isdigit() and ayracsayisi == 2:\n",
        "      yil = yil + tarih[i]\n",
        "\n",
        "    if tarih[i] == '/' or tarih[i] == '.':\n",
        "      ayracsayisi += 1\n",
        "    if tarih[i] == '-':\n",
        "      ayracsayisi -= 1\n",
        "    i += 1\n",
        "\n",
        "  #gün ve ayları 2 basamağa çevirme\n",
        "  if len(gun) < 2:\n",
        "    gun = '0' + gun\n",
        "  if len(ay) < 2:\n",
        "    ay = '0' + ay\n",
        "  return gun+ay+yil\n"
      ],
      "metadata": {
        "id": "DbhYLUh6s1A2"
      },
      "execution_count": 5,
      "outputs": []
    },
    {
      "cell_type": "code",
      "source": [
        "\n",
        "rg_no_dogru=0  \n",
        "rg_no_yanlis=0\n",
        "rg_trh_dogru=0\n",
        "rg_trh_yanlis=0\n",
        "bkk_no_dogru=0\n",
        "bkk_no_yanlis=0\n",
        "kr_trh_dogru=0\n",
        "kn_trh_yanlis=0\n",
        "mukerrer_dogru=0\n",
        "mukerrer_yanlis=0\n",
        "i = 0;\n",
        "for i in range(1856,1938):  #Tüzüklerin bulunduğu aralık\n",
        "  print(i)\n",
        "  \n",
        "  rg_trh2 = df.loc[i]['rega_tarihi']\n",
        "  rg_no2 = int(df.loc[i]['rega_no'])\n",
        "  bkk_no2 = df.loc[i]['mevzuat_no']\n",
        "  kr_trh2 = df.loc[i]['mevzuat_tarihi']\n",
        "\n",
        "\n",
        "  rg_trh2 = tarihduzelt(rg_trh2)\n",
        "  kr_trh2 = tarihduzelt(kr_trh2)\n",
        "  \n",
        "  metin = df['data_text'][i][:310].lower()  #Verileri çıkarmak için ilk 310 karakter yeterli\n",
        "  metin = metin.replace('  ','')\n",
        "\n",
        "  #Resmi gazete tarihi çıkarma\n",
        "  baslangic_rgtrh = metin.find('resmî gazete tarihi:')\n",
        "  baslangic_rgtrh = baslangic_rgtrh + len('resmî gazete tarihi: ')\n",
        "  rg_trh1 = metin[baslangic_rgtrh:baslangic_rgtrh+10]\n",
        "  print(rg_trh1, \"->\", rg_trh2)\n",
        "\n",
        "  #Resmi gazete no çıkarma\n",
        "  baslangic_rgno = metin.find('resmî gazete sayısı: ')\n",
        "  baslangic_rgno = baslangic_rgno + len('resmî gazete sayısı: ')\n",
        "  rg_no1 = ''\n",
        "  rakambuldu = 0\n",
        "  #Sayının uzunluğu değiştiğinden sabit bir aralık kullanılamıyor\n",
        "  while metin[baslangic_rgno].isdigit() or rakambuldu==0:\n",
        "    if metin[baslangic_rgno] == ' ' or metin[baslangic_rgno] == '\\n':\n",
        "      rakambuldu = 0\n",
        "    elif metin[baslangic_rgno].isdigit():\n",
        "      rakambuldu = 1\n",
        "      rg_no1 = rg_no1 + metin[baslangic_rgno]\n",
        "    baslangic_rgno = baslangic_rgno + 1\n",
        "  rg_no1 = int(rg_no1)\n",
        "  print(rg_no1, \"->\", rg_no2)\n",
        "  \n",
        "  #Resmi gazete no ile aynı mantık sadece gördüğü '/' karakterlerini de dahil ediyor sayıya\n",
        "  baslangic_bkkno = metin.find('bkk no: ')\n",
        "  baslangic_bkkno = baslangic_bkkno + len('bkk no: ')\n",
        "  bkk_no1 = ''\n",
        "  raambuldu = 0\n",
        "  while metin[baslangic_bkkno].isdigit() or rakambuldu==0 or metin[baslangic_bkkno] == '/':\n",
        "    if metin[baslangic_bkkno] == ' ' or metin[baslangic_bkkno] == '\\n':\n",
        "      rakambuldu = 0\n",
        "    elif metin[baslangic_bkkno].isdigit() or metin[baslangic_bkkno] == '/':\n",
        "      rakambuldu = 1\n",
        "      bkk_no1 = bkk_no1 + metin[baslangic_bkkno]\n",
        "    baslangic_bkkno = baslangic_bkkno + 1\n",
        "  bkk_no1 = bkk_no1\n",
        "  print(bkk_no1, \"->\", bkk_no2)\n",
        "\n",
        "  baslangic_krtrh = metin.find('karar tarihi: ')\n",
        "  baslangic_krtrh = baslangic_krtrh + len('karar tarihi: ')\n",
        "  kr_trh1 = metin[baslangic_krtrh:baslangic_krtrh+10]\n",
        "  if kr_trh1[9].isdigit() != True:\n",
        "    kr_trh1 = kr_trh1[:9]\n",
        "  elif kr_trh1[8].isdigit() != True:\n",
        "    kr_trh1 = kr_trh1[:8]\n",
        "  \n",
        "  kr_trh1 = kr_trh1.replace('\\n', '')\n",
        "  kr_trh1 = kr_trh1.replace(' ', '')\n",
        "  print(kr_trh1, \"->\", kr_trh2)\n",
        "    \n",
        "\n",
        "  \n",
        "  rg_trh1 = tarihduzelt(rg_trh1)\n",
        "  kr_trh1 = tarihduzelt(kr_trh1)\n",
        "\n",
        "    \n",
        "  if rg_no1 == rg_no2:\n",
        "    rg_no_dogru += 1\n",
        "  else:\n",
        "    rg_no_yanlis += 1\n",
        "    print(\"*rg no* cevap:\", rg_no1, \" doğrusu:\", rg_no2)  \n",
        "  \n",
        "  if rg_trh1 == rg_trh2:\n",
        "    rg_trh_dogru += 1\n",
        "  else:\n",
        "    rg_trh_yanlis += 1\n",
        "    print(\"*rg_tarih* cevap:\", rg_trh1, \" doğrusu:\", rg_trh2)  \n",
        " \n",
        "  if bkk_no1 == bkk_no2:\n",
        "    bkk_no_dogru += 1\n",
        "  else:\n",
        "    bkk_no_yanlis += 1\n",
        "    print(\"*kn_no* cevap:\", bkk_no1, \" doğrusu:\", bkk_no2)  \n",
        "  \n",
        "  if kr_trh1 == kr_trh2:\n",
        "    kr_trh_dogru += 1\n",
        "  else:\n",
        "    kn_trh_yanlis += 1\n",
        "    print(\"*kn_trh* cevap:\", kr_trh1, \" doğrusu:\", kr_trh2)\n",
        "\n",
        "    \n",
        "  print(\"d - y :: rg_trh:\", rg_trh_dogru, rg_trh_yanlis,\"/   rg_no:\", rg_no_dogru, rg_no_yanlis,\"/   bkk_no:\", bkk_no_dogru, bkk_no_yanlis,\"/    kr_trh:\", kr_trh_dogru, kn_trh_yanlis)\n",
        "  \n",
        "  print(\"----------\")\n",
        "\n",
        "#------------------------------------------------------------------------------------------------------------------------------------------------------------------------------------------\n",
        "\n",
        "\n",
        "\n",
        "\n",
        "  "
      ],
      "metadata": {
        "id": "yAfcUTJJMUSX"
      },
      "execution_count": null,
      "outputs": []
    }
  ]
}