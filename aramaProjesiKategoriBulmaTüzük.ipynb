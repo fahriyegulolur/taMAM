{
  "nbformat": 4,
  "nbformat_minor": 0,
  "metadata": {
    "colab": {
      "name": "aramaProjesiKategoriBulmaTüzük.ipynb",
      "provenance": [],
      "collapsed_sections": []
    },
    "kernelspec": {
      "name": "python3",
      "display_name": "Python 3"
    },
    "language_info": {
      "name": "python"
    }
  },
  "cells": [
    {
      "cell_type": "markdown",
      "source": [
        "Veri işleme ve analizi için pandas kütüphanesi kullanılacaktır. Pandas kütüphanesi pd rumuzu ile kısaltılmıştır."
      ],
      "metadata": {
        "id": "-WHoZtuTRmUB"
      }
    },
    {
      "cell_type": "code",
      "execution_count": 1,
      "metadata": {
        "id": "D4DSrSk9PiW8"
      },
      "outputs": [],
      "source": [
        "import pandas as pd"
      ]
    },
    {
      "cell_type": "markdown",
      "source": [
        "Verilerimiz Google Drive (bulut) üzerinde olduğu için Google Colab ile Google Drive arasında bağlantı kurulacaktır."
      ],
      "metadata": {
        "id": "eHzrzEAZSgRQ"
      }
    },
    {
      "cell_type": "code",
      "source": [
        "from google.colab import drive\n",
        "drive.mount('/content/drive/')"
      ],
      "metadata": {
        "id": "g8ZpPY4-Pmv1"
      },
      "execution_count": null,
      "outputs": []
    },
    {
      "cell_type": "markdown",
      "source": [
        "Google Drive içinde Colab Notebooks klasörünün içinde TDDI2022 isimli klasörde verilerimizi sakladığımız için bu klasöre erişilecektir.\n",
        "\n",
        "***NOT:*** Bu klasörü daha önce oluşturmadıysanız %md TDDI2022 komutu veya Google Drive Ara Yüzü ile klasörü oluşturunuz!"
      ],
      "metadata": {
        "id": "6Eqtq3mAS4hY"
      }
    },
    {
      "cell_type": "code",
      "source": [
        "%cd drive/\n",
        "%cd MyDrive/\n",
        "%cd Colab Notebooks/\n",
        "%cd TDDI2022/\n",
        "# Klasörün içeriğinin görülmesi için\n",
        "%ls"
      ],
      "metadata": {
        "id": "h47_PvbxT9QD"
      },
      "execution_count": null,
      "outputs": []
    },
    {
      "cell_type": "markdown",
      "source": [
        "Veri İskeleti TDDI2022 klasöründe bulunan yarışma kapsamında yarışmacılara sağlanan **kanunum-nlp-doc-analysis-dataset.csv** dosyasının içindeki verileri pandas ile okuyarak oluşturulacaktır.\n",
        "\n",
        "Veri iskeleti oluşturulduktan sonra veri iskeleti ile ilgili bilgi ekrana yazdırılacaktır. Tam özetin yazdırılıp yazdırılmayacağı durumunu *verbose=True* (yazdırılsın) parametresi ile kontrol edilecektir. "
      ],
      "metadata": {
        "id": "AfiMy6NzTPJv"
      }
    },
    {
      "cell_type": "code",
      "source": [
        "df = pd.read_csv('kanunum-nlp-doc-analysis-dataset.csv')\n",
        "df.info(verbose=True)"
      ],
      "metadata": {
        "id": "ZMriHlEGPqbV"
      },
      "execution_count": null,
      "outputs": []
    },
    {
      "cell_type": "markdown",
      "source": [
        "Veri İskeletinde **kategori** sütununun / alanının kaç gruptan ve bu grupların kaç satırdan / kayıttan oluştuğu ekrana yazdırılacaktır."
      ],
      "metadata": {
        "id": "DaaP0aG7UrAO"
      }
    },
    {
      "cell_type": "code",
      "source": [
        "print(df.groupby('kategori').size())"
      ],
      "metadata": {
        "id": "VzFXWPNMX6Sb",
        "colab": {
          "base_uri": "https://localhost:8080/"
        },
        "outputId": "5123fa46-34dc-4a77-f533-e007174a5019"
      },
      "execution_count": 5,
      "outputs": [
        {
          "output_type": "stream",
          "name": "stdout",
          "text": [
            "kategori\n",
            "Cumhurbaşkanlığı Kararnamesi     54\n",
            "Genelge                         385\n",
            "Kanun                           514\n",
            "Kanun Hükmünde Kararname         91\n",
            "Komisyon Raporu                 500\n",
            "Resmi Gazete                    546\n",
            "Tebliğ                          623\n",
            "Tüzük                            82\n",
            "Yönetmelik                      597\n",
            "Özelge                          750\n",
            "dtype: int64\n"
          ]
        }
      ]
    },
    {
      "cell_type": "markdown",
      "source": [
        "Veriler üzerinde yaptığımız ön çalışmada (ekrana data_text sütunundan / alanından bir kaç satır yazdırılmış ve içerikleri incelenmiştir) veri kümesinin data_text sütunundaki / alanındaki içerik iki parçaya ayrılabileceği görülmüştür. Böylelikle data_text sütunu / alanı işlenirken belgeye ait bilgiler birinci parçada belgenin içeriği ikinci parçada görülebilir. Tüm data_text kayıtlarında yer alan ortak bir noktanın varlığını kontrol etmek için aşağıdaki kod yardımı ile \"Resmi belgelerin hepsinde 'Madde 1 ' verisi var mı?\" önermesinin doğruluğunu kontrol edeceğiz!"
      ],
      "metadata": {
        "id": "aSVFSc43VKJH"
      }
    },
    {
      "cell_type": "code",
      "source": [
        "kayitSayisi = 82\n",
        "say = 0\n",
        "satirToplami, sutunToplami = df.shape\n",
        "for satir in range(satirToplami):\n",
        "  if df['data_text'][satir].find('Madde 1 -') != -1 and df['kategori'][satir] == 'Tüzük':\n",
        "    say+=1\n",
        "if say==kayitSayisi:\n",
        "  print(say,'=',kayitSayisi,'yani data_text alanındaki toplam Tüzük belgesi sayısı ve her bir kayıtta \"Madde 1\" verisini içeren Tüzük belgelerinin sayısı birbirine eşittir.')\n",
        "else:\n",
        "  print('Tüm Tüzük belgelerinde aranan veri bulunamamıştır.')"
      ],
      "metadata": {
        "id": "7686dK_32-6Y"
      },
      "execution_count": null,
      "outputs": []
    },
    {
      "cell_type": "markdown",
      "source": [
        "Yukarıdaki bulgular doğrultusunda örnek bir kaydı ikiye bölerek **belge ile ilgili verileri toplayabileceğimiz baş kısmı** görelim. Yine bu baş kısmın **belge türü** ile ilgili bilgi içerip içermediğini görmek için kategori alanındaki veriyi de ekrana yazdıralım."
      ],
      "metadata": {
        "id": "Yj68DQICWwvP"
      }
    },
    {
      "cell_type": "code",
      "source": [
        "satir = 1856\n",
        "print('Kategori:',df['kategori'][satir],'\\n',35*'-','\\nİçerik:',df['data_text'][satir][:df['data_text'][satir].find('Madde 1')],sep='')"
      ],
      "metadata": {
        "colab": {
          "base_uri": "https://localhost:8080/"
        },
        "id": "nhrQLfrOF35t",
        "outputId": "58770fba-fbd3-4078-8882-11c8dfe25aca"
      },
      "execution_count": 84,
      "outputs": [
        {
          "output_type": "stream",
          "name": "stdout",
          "text": [
            "Kategori:Tüzük\n",
            "-----------------------------------\n",
            "İçerik:Resmî Gazete Tarihi: 12.09.1985 Resmî Gazete Sayısı: 18866\n",
            "Karar Tarihi: 01.08.1985, BKK No: 85/9750\n",
            "2889\n",
            "\n",
            "İÇİŞLERİ BAKANLIĞI MÜLKİYE TEFTİŞ\n",
            "KURULU TÜZÜĞÜ\n",
            "\n",
            "BİRİNCİ KISIM\n",
            "Kapsam ve Deyimler\n",
            "Kapsam\n",
            "\n"
          ]
        }
      ]
    },
    {
      "cell_type": "markdown",
      "source": [
        "Tüzük olarak kategori edilen toplam 82 adet kayıt vardı. Bu kayıtlar üzerinde belge türü tespit etmek için bir fonksiyon oluşturup veriyi burada analiz etmek ve analizimizin sonucunu mevcut 82 kayıttan kaçında doğru sonuç verdiğini kontrol etmek yöntemimizin doğruluğu hakkında bize bilgi verecektir."
      ],
      "metadata": {
        "id": "KCQpqkkNZUHT"
      }
    },
    {
      "cell_type": "code",
      "source": [
        "# Tüzük için kategori bulmak için çalışacak fonksiyonumuz\n",
        "def kategoriBulTuzuk(verilenMetin):\n",
        "  # Veri ön işlemi (VERİ TEMİZLEME)\n",
        "  verilenMetin = verilenMetin.replace('  ','')\n",
        "  verilenMetin = verilenMetin.replace('\\n','')\n",
        "  verilenMetin = verilenMetin.replace('\\r','')\n",
        "  # data_text alanındaki kayıdın ilk parçasında  olan \"BKK No:\" ifadesi varsa o bir Tüzük'tür önermesini kontrol ediyoruz!\n",
        "  if verilenMetin.find('BKK No:') != -1:\n",
        "    return 'Tüzük'\n",
        "  # Başlık içinde arama yapan alternatif yöntemler de denenebilir!!!\n",
        "\n",
        "# 82 kayıt arasında kaç tanesinin Tüzük olarak işaretlenmediğini sayacak hataSayisi değişkenine ilk değer olarak 0 SIFIR veriyoruz.\n",
        "hataSayisi=0\n",
        "\n",
        "# Veri iskeletimiz içinde toplam kaç satir / kayıt ve sütun / alan olduğunu satirToplami ve sutunToplami değişkenlerinde saklıyoruz.\n",
        "satirToplami, sutunToplami = df.shape\n",
        "\n",
        "# Sadece Tüzük kategorisinde kontrolümüzü yapıyoruz\n",
        "for satir in range(satirToplami):\n",
        "  if df['kategori'][satir]!='Tüzük':\n",
        "    continue\n",
        "  # Verimizi daha önce izah ettiğimiz gibi Madde 1 verisine göre iki parcaya ayırıp ilk parçayı alıyoruz!\n",
        "  arastirilacakParca = df['data_text'][satir][:df['data_text'][satir].find('Madde 1')]\n",
        "  if kategoriBulTuzuk(arastirilacakParca)!=df['kategori'][satir]:\n",
        "    hataSayisi+=1\n",
        "    print(satir)\n",
        "\n",
        "print(hataSayisi)"
      ],
      "metadata": {
        "colab": {
          "base_uri": "https://localhost:8080/"
        },
        "id": "KsQqz0s7Zy6N",
        "outputId": "d89bbde0-36fa-4be5-b5a0-019e5281e6b6"
      },
      "execution_count": 80,
      "outputs": [
        {
          "output_type": "stream",
          "name": "stdout",
          "text": [
            "0\n"
          ]
        }
      ]
    },
    {
      "cell_type": "markdown",
      "source": [
        "Cumhurbaşkanlığı Kararnamesi kategorisinde bulduğumuz yöntemin 0 hata ile çalıştığını gördük. Karmaşıklık matrisi ile bu yöntemimizin ne kadar doğru çalıştığını Cumhurbaşkanlığı Kararnamesi kategorisi dışında da test etmek gerekir.\n",
        "\n",
        "Kaynak 1: https://www.sciencedirect.com/topics/engineering/confusion-matrix#:~:text=A%20confusion%20matrix%20is%20a,malignant%20tissue%20is%20considered%20cancerous.\n",
        "\n",
        "Kaynak 2: https://en.wikipedia.org/wiki/Confusion_matrix"
      ],
      "metadata": {
        "id": "1IJkfHjOdDHE"
      }
    },
    {
      "cell_type": "code",
      "source": [
        "# Tüzük için kategori bulmak amacıyla kullanılan fonksiyonumuz\n",
        "def kategoriBulTuzuk(verilenMetin):\n",
        "  # Veri ön işlemi (VERİ TEMİZLEME)\n",
        "  verilenMetin = verilenMetin.replace('  ','')\n",
        "  verilenMetin = verilenMetin.replace('\\n','')\n",
        "  verilenMetin = verilenMetin.replace('\\r','')\n",
        "  # data_text alanındaki kayıdın ilk parçasında \"BKK No:\" ifadesi varsa o bir Tüzük'tür önermesini kontrol ediyoruz!\n",
        "  if verilenMetin.find('BKK No:')!=-1:\n",
        "    return 'Tüzük'\n",
        "  else:\n",
        "    return 'Tüzük Değil'\n",
        "\n",
        "# Veri iskeletimiz içinde toplam kaç satir / kayıt ve sütun / alan olduğunu satirToplami ve sutunToplami değişkenlerinde saklıyoruz.\n",
        "satirToplami, sutunToplami = df.shape\n",
        "\n",
        "TP, TN, FP, FN = 0, 0, 0, 0\n",
        "\n",
        "# Sadece Tüzük kategorisinde kontrolümüzü yapıyoruz\n",
        "for satir in range(satirToplami):\n",
        "  # Verimizi daha önce izah ettiğimiz gibi Madde 1 verisine göre iki parcaya ayırıp ilk parçayı alıyoruz!\n",
        "  arastirilacakParca = df['data_text'][satir][:df['data_text'][satir].find('Madde 1')]\n",
        "  fonksiyonumuzunCiktisi = kategoriBulTuzuk(arastirilacakParca)\n",
        "  \n",
        "  if fonksiyonumuzunCiktisi=='Tüzük' and df['kategori'][satir]=='Tüzük':\n",
        "    # Fonksiyonumuz Tüzük olan kategoriyi Tüzük olarak bulmuş\n",
        "    TP += 1\n",
        "  elif fonksiyonumuzunCiktisi=='Tüzük Değil' and df['kategori'][satir]=='Tüzük':\n",
        "    # Fonksiyonumuz Tüzük olan kategoriyi Tüzük olarak bulmamış\n",
        "    FN += 1\n",
        "  elif fonksiyonumuzunCiktisi=='Tüzük' and df['kategori'][satir]!='Tüzük':\n",
        "    # Fonksiyonumuz Tüzük olmayan kategoriyi Tüzük olarak bulmuş\n",
        "    FP += 1\n",
        "  else:\n",
        "    # Fonksiyonumuz Tüzük olmayan kategoriyi Tüzük olmayan olarak bulmuş\n",
        "    TN += 1\n",
        "print(satirToplami)\n",
        "print(TP, TN, FP, FN)\n",
        "print('Accuracy:',(TP + TN) / satirToplami)\n",
        "print('Precision:',TP / (TP+FP) )\n",
        "print('Sensitivity (Recall):',TP / (TP+FN) )\n",
        "print('Specificity:',TN / (TN+FP) )\n",
        "print('F-score (F1 Skore):', 2 * (((TP / (TP+FP)) * (TP / (TP+FN))) / ((TP / (TP+FP)) + (TN / (TN+FP)))) )"
      ],
      "metadata": {
        "id": "016OB8DWfNus"
      },
      "execution_count": null,
      "outputs": []
    },
    {
      "cell_type": "markdown",
      "source": [
        "Bulunan TP, TN, FP ve FN değerlerine göre Karmaşıklık Matrisi görselleştirilecektir.\n",
        "\n",
        "Kaynak 1: https://www.w3schools.com/python/python_ml_confusion_matrix.asp#:~:text=What%20is%20a%20confusion%20matrix,the%20predictions%20we%20have%20made.\n",
        "\n",
        "Kaynak 2: https://scikit-learn.org/stable/modules/generated/sklearn.metrics.ConfusionMatrixDisplay.html"
      ],
      "metadata": {
        "id": "r7lioHgVj1rr"
      }
    },
    {
      "cell_type": "code",
      "source": [
        "import matplotlib\n",
        "matplotlib.use('Agg')\n",
        "import matplotlib.pyplot as plt\n",
        "import numpy as np\n",
        "from sklearn import metrics\n",
        "%matplotlib inline\n",
        "\n",
        "\n",
        "karmasiklikMatrisi = np.array([[TN,FN],[FP,TP]])\n",
        "kM_gorsel = metrics.ConfusionMatrixDisplay(confusion_matrix = karmasiklikMatrisi, display_labels = [False, True])\n",
        "\n",
        "kM_gorsel.plot()\n",
        "plt.xlabel(\"Tahmin Edilen\")\n",
        "plt.ylabel(\"Gerçek Durum\")\n",
        "plt.title(\"Karmaşıklık Matrisi\", fontdict = {'family':'serif','color':'Darkblue','size':20})\n",
        "\n",
        "plt.show()"
      ],
      "metadata": {
        "colab": {
          "base_uri": "https://localhost:8080/",
          "height": 300
        },
        "id": "5uuOlhRKkJRz",
        "outputId": "cb96507e-5364-432e-e9a8-2c2c8b7de3de"
      },
      "execution_count": 85,
      "outputs": [
        {
          "output_type": "display_data",
          "data": {
            "text/plain": [
              "<Figure size 432x288 with 2 Axes>"
            ],
            "image/png": "[encoded data removed]"
          },
          "metadata": {
            "needs_background": "light"
          }
        }
      ]
    },
    {
      "cell_type": "markdown",
      "source": [
        "# ***ÇIKARIM:***\n",
        "\n",
        "**kategoriBulTuzuk** isimli fonksiyonumuz 4142 adet kayıt içinde belge türü tahmini yapmıştır.,\n",
        "\n",
        "- 82 Tüzük belgesinin hepsini Tüzük belgesi olarak tespit etmiştir.\n",
        "- 4060 CTüzük belgesi olmayan belgeyi de Tüzük belgesi olmayan belge olarak tespit etmiştir.\n",
        "- Kural bazlı yöntemimiz için hesaplamalar aşağıdaki gibi olmuştur.\n",
        "  - **Doğruluk (Accuracy):** 1.0\n",
        "  - **Keskinlik (Precision):** 1.0\n",
        "  - **Hassasiyet (Sensitivity) / Duyarlılık (Recall):** 1.0\n",
        "  - **Özgüllük (Specificity):** 1.0\n",
        "  - **F1-Puanı (F1 Score):** 1.0\n",
        "\n",
        "\n"
      ],
      "metadata": {
        "id": "3pCYENePtWhQ"
      }
    }
  ]
}
