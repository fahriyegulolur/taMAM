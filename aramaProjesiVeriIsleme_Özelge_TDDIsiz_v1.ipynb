{
  "nbformat": 4,
  "nbformat_minor": 0,
  "metadata": {
    "colab": {
      "name": "Copy of aramaProjesiVeriIsleme_Özelge_TDDIsiz_v1.ipynb",
      "provenance": [],
      "collapsed_sections": []
    },
    "kernelspec": {
      "name": "python3",
      "display_name": "Python 3"
    },
    "language_info": {
      "name": "python"
    }
  },
  "cells": [
    {
      "cell_type": "markdown",
      "source": [
        "\n",
        "Veri işleme ve analizi için pandas kütüphanesi kullanılacaktır. Pandas kütüphanesi pd rumuzu ile kısaltılmıştır.\n"
      ],
      "metadata": {
        "id": "0jercKQW1K3r"
      }
    },
    {
      "cell_type": "code",
      "execution_count": 2,
      "metadata": {
        "id": "D4DSrSk9PiW8"
      },
      "outputs": [],
      "source": [
        "import pandas as pd"
      ]
    },
    {
      "cell_type": "markdown",
      "source": [
        "Verilerimiz Google Drive (bulut) üzerinde olduğu için Google Colab ile Google Drive arasında bağlantı kurulacaktır."
      ],
      "metadata": {
        "id": "YnQR-Os61Q9P"
      }
    },
    {
      "cell_type": "code",
      "source": [
        "from google.colab import drive\n",
        "drive.mount('/content/drive/')"
      ],
      "metadata": {
        "id": "g8ZpPY4-Pmv1"
      },
      "execution_count": null,
      "outputs": []
    },
    {
      "cell_type": "markdown",
      "source": [
        "Google Drive içinde Colab Notebooks klasörünün içinde TDDI2022 isimli klasörde verilerimizi sakladığımız için bu klasöre erişilecektir.\n",
        "\n",
        "NOT: Bu klasörü daha önce oluşturmadıysanız %md TDDI2022 komutu veya Google Drive Ara Yüzü ile klasörü oluşturunuz!"
      ],
      "metadata": {
        "id": "QbOBrzFM1fw3"
      }
    },
    {
      "cell_type": "code",
      "source": [
        "%cd drive/\n",
        "%cd MyDrive/\n",
        "%cd Colab Notebooks/\n",
        "%cd TDDI2022/\n",
        "\n",
        "%ls"
      ],
      "metadata": {
        "id": "h47_PvbxT9QD",
        "colab": {
          "base_uri": "https://localhost:8080/"
        },
        "outputId": "588666e2-3151-4de7-a814-f20ef8bed8dc"
      },
      "execution_count": 5,
      "outputs": [
        {
          "output_type": "stream",
          "name": "stdout",
          "text": [
            "/content/drive\n",
            "/content/drive/MyDrive\n",
            "/content/drive/MyDrive/Colab Notebooks\n",
            "/content/drive/MyDrive/Colab Notebooks/TDDI2022\n",
            "kanunum-nlp-doc-analysis-dataset.csv  modelTestSonuclari.txt\n"
          ]
        }
      ]
    },
    {
      "cell_type": "markdown",
      "source": [
        "Veri İskeleti TDDI2022 klasöründe bulunan yarışma kapsamında yarışmacılara sağlanan kanunum-nlp-doc-analysis-dataset.csv dosyasının içindeki verileri pandas ile okuyarak oluşturulacaktır.\n",
        "\n",
        "Veri iskeleti oluşturulduktan sonra veri iskeleti ile ilgili bilgi ekrana yazdırılacaktır. Tam özetin yazdırılıp yazdırılmayacağı durumunu verbose=True (yazdırılsın) parametresi ile kontrol edilecektir."
      ],
      "metadata": {
        "id": "bfylci5v1icr"
      }
    },
    {
      "cell_type": "code",
      "source": [
        "df = pd.read_csv('kanunum-nlp-doc-analysis-dataset.csv')\n",
        "df.info(verbose=True)"
      ],
      "metadata": {
        "id": "ZMriHlEGPqbV"
      },
      "execution_count": null,
      "outputs": []
    },
    {
      "cell_type": "markdown",
      "source": [
        "Tarih verilerinin formatlarının farklı olması nedeniyle hapsini aynı şekildeki bir stringe dönüştürüp karşılaştırma yapılmasını sağlamaktadır."
      ],
      "metadata": {
        "id": "Btzoa3wF2MTF"
      }
    },
    {
      "cell_type": "code",
      "source": [
        "\n",
        "\n",
        "def tarihduzelt(tarih):\n",
        "  ayracsayisi = 0 \n",
        "  i = 0\n",
        "  gun = ''\n",
        "  ay = ''\n",
        "  yil = ''\n",
        "  if tarih.find('-') != -1: #Veri iskeletindeki tarihler \"-\" karakteri ile ayrılmaktadır ve yyyy-mm-dd formatında olduğundan tersten bölümleri okumayı sağlıyor.\n",
        "      ayracsayisi = 2\n",
        "  while i < len(tarih):\n",
        "    if tarih[i].isdigit() and ayracsayisi == 0: \n",
        "      gun = gun + tarih[i]\n",
        "    if tarih[i].isdigit() and ayracsayisi == 1:\n",
        "      ay = ay + tarih[i]\n",
        "    if tarih[i].isdigit() and ayracsayisi == 2:\n",
        "      yil = yil + tarih[i]\n",
        "\n",
        "    if tarih[i] == '/' or tarih[i] == '.':\n",
        "      ayracsayisi += 1\n",
        "    if tarih[i] == '-':\n",
        "      ayracsayisi -= 1\n",
        "    i += 1\n",
        "\n",
        "  #gün ve ayları 2 basamağa çevirme\n",
        "  if len(gun) < 2:\n",
        "    gun = '0' + gun\n",
        "  if len(ay) < 2:\n",
        "    ay = '0' + ay\n",
        "  return gun+ay+yil\n"
      ],
      "metadata": {
        "id": "DbhYLUh6s1A2"
      },
      "execution_count": 7,
      "outputs": []
    },
    {
      "cell_type": "code",
      "source": [
        "i = 3465\n",
        "print(df[\"data_text\"][i][:300])\n",
        "a = df[\"data_text\"][i][:300].replace(\"\\n\", \"\").lower()\n",
        "print(df[\"data_text\"][i][:300].replace(\"\\n\", \"\").lower())\n",
        "print(a, a.find(\"tari̇h:\"))\n",
        "print(df[\"mevzuat_tarihi\"][i])"
      ],
      "metadata": {
        "id": "bjz9qD0oscnA"
      },
      "execution_count": null,
      "outputs": []
    },
    {
      "cell_type": "code",
      "source": [
        "\n",
        "kr_trh_dogru=0  \n",
        "kr_trh_yanlis=0\n",
        "i = 0\n",
        "a = 0\n",
        "for i in range(3158,4142):  #Tüzüklerin bulunduğu aralık\n",
        "  \n",
        "  if df[\"kategori\"][i] == \"Resmi Gazete\":\n",
        "    i += 1\n",
        "  else: \n",
        "    print(i)\n",
        "    metin = df['data_text'][i][:280].lower()  #Verileri çıkarmak için ilk 310 karakter yeterli\n",
        "    metin = metin.replace('  ','')\n",
        "    metin = metin.replace('\\n','')\n",
        "\n",
        "    if metin.find(\"tarih: \") != -1:\n",
        "      bas = metin.find(\"tarih: \") + len(\"tarih: \")\n",
        "      if metin[bas] == ' ':\n",
        "        bas += 1\n",
        "      tarih = metin[bas:bas+10]\n",
        "      print(tarih, \"1\")\n",
        "    \n",
        "    elif metin.find(\"tarih : \") != -1:\n",
        "      bas = metin.find(\"tarih : \") + len(\"tarih : \")\n",
        "      if metin[bas] == ' ':\n",
        "        bas += 1\n",
        "      tarih = metin[bas:bas+10]\n",
        "      print(tarih, \"2\")\n",
        "    \n",
        "    elif metin.find(\"tari̇h: \") != -1: # boynuzlu h için\n",
        "      bas = metin.find(\"tari̇h: \") + len(\"tari̇h: \")\n",
        "      if metin[bas] == ' ':\n",
        "        bas += 1\n",
        "      tarih = metin[bas:bas+10]\n",
        "      print(tarih, \"2\")\n",
        "    \n",
        "    elif metin.find(\"tarih\") != -1 and metin[metin.find(\"tarih\")+5].isdigit:\n",
        "      bas = metin.find(\"tarih\") + len(\"tarih\")\n",
        "      tarih = metin[bas:bas+10]\n",
        "      print(tarih, \"3\")\n",
        "    \n",
        "    elif metin.find(\"konu\") != -1 :\n",
        "      bas = metin.find(\"konu\")-11\n",
        "      tarih = metin[bas:bas+10]\n",
        "      print(tarih, \"4\")\n",
        "    \n",
        "    kr_trh1 = tarihduzelt(tarih)\n",
        "\n",
        "    kr_trh2 = df[\"mevzuat_tarihi\"][i]\n",
        "    kr_trh2 = tarihduzelt(kr_trh2)\n",
        "\n",
        "    if kr_trh1 == kr_trh2:\n",
        "      kr_trh_dogru += 1\n",
        "    else:\n",
        "      kr_trh_yanlis += 1\n",
        "\n",
        "    \n",
        "    print(\"d - y :: kr_trh:\", kr_trh_dogru, kr_trh_yanlis)\n",
        "  \n",
        "    print(\"----------\", a)\n",
        "\n",
        "#------------------------------------------------------------------------------------------------------------------------------------------------------------------------------------------\n"
      ],
      "metadata": {
        "id": "yAfcUTJJMUSX"
      },
      "execution_count": null,
      "outputs": []
    }
  ]
}
