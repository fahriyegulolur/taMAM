{
  "nbformat": 4,
  "nbformat_minor": 0,
  "metadata": {
    "colab": {
      "name": "aramaProjesiVeriIslemeCumhurbaşkanlığıKararnamesi.ipynb",
      "provenance": []
    },
    "kernelspec": {
      "name": "python3",
      "display_name": "Python 3"
    },
    "language_info": {
      "name": "python"
    }
  },
  "cells": [
    {
      "cell_type": "markdown",
      "source": [
        "# Bu yarışmada **Cumhurbaşkanlığı Kararnamesi** dosyaları için 54 belgenin incelendikten sonra bizden beklenilen görevler:\n",
        "\n",
        "- \"kategori\" alanının tespiti. Bu görevle ilgili olan [Mevcut Çalışmamız](https://github.com/iflGARAJI10100/taMAM/blob/main/aramaProjesiKategoriBulmaKHK%20(1).ipynb) için tıklayınız.\n",
        "- \"mukerrer_no\" alanının tespiti. Bu görevle ilgili olan [Mevcut Çalışmamız](https://github.com/iflGARAJI10100/taMAM/blob/main/aramaProjesiVeriIslemeMukerrerNoTespitModulu.ipynb) için tıklayınız.\n",
        "- \"madde_sayisi\" alanının tespiti. Bu görevle ilgili olan [Mevcut Çalışmamız](https://github.com/iflGARAJI10100/taMAM/blob/main/aramaProjesiMaddeSayisiBulmaMod%C3%BCl%C3%BC.ipynb) için tıklayınız.\n",
        "\n",
        "- \"rega_no\", \"rega_tarihi\", \"mevzuat_no\" ve varsa \"mevzuat_tarihi\" alanlarının tespiti. Bu kodda ise bu alanların tespitiyle alakalı çalışmalarımız mevcuttur."
      ],
      "metadata": {
        "id": "dJoivBIBp8ei"
      }
    },
    {
      "cell_type": "markdown",
      "source": [
        "Veri işleme ve analizi için pandas kütüphanesi kullanılacaktır. Pandas kütüphanesi pd rumuzu ile kısaltılmıştır.\n",
        "\n",
        "Tarih verilerinin işlenmesi için **datetime** kütüphanesi kullanılacaktır."
      ],
      "metadata": {
        "id": "7zuJUJdzqbFh"
      }
    },
    {
      "cell_type": "code",
      "execution_count": 68,
      "metadata": {
        "id": "D4DSrSk9PiW8"
      },
      "outputs": [],
      "source": [
        "import pandas as pd\n",
        "from datetime import datetime\n",
        "import math"
      ]
    },
    {
      "cell_type": "markdown",
      "source": [
        "Verilerimiz Google Drive (bulut) üzerinde olduğu için Google Colab ile Google Drive arasında bağlantı kurulacaktır."
      ],
      "metadata": {
        "id": "PSui6W66qldX"
      }
    },
    {
      "cell_type": "code",
      "execution_count": null,
      "metadata": {
        "id": "556EYC_CpnNy"
      },
      "outputs": [],
      "source": [
        "from google.colab import drive\n",
        "drive.mount('/content/drive/')"
      ]
    },
    {
      "cell_type": "markdown",
      "source": [
        "Google Drive içinde Colab Notebooks klasörünün içinde TDDI2022 isimli klasörde verilerimizi sakladığımız için bu klasöre erişilecektir.\n",
        "\n",
        "***NOT:*** Bu klasörü daha önce oluşturmadıysanız %md TDDI2022 komutu veya Google Drive Ara Yüzü ile klasörü oluşturunuz!"
      ],
      "metadata": {
        "id": "MO7PrIsWqtH0"
      }
    },
    {
      "cell_type": "code",
      "source": [
        "%cd drive/\n",
        "%cd MyDrive/\n",
        "%cd Colab Notebooks/\n",
        "%cd TDDI2022/\n",
        "\n",
        "# Klasörün içeriğinin görülmesi için\n",
        "%ls"
      ],
      "metadata": {
        "id": "sB7piW8MquF9"
      },
      "execution_count": null,
      "outputs": []
    },
    {
      "cell_type": "markdown",
      "source": [
        "Veri İskeleti TDDI2022 klasöründe bulunan yarışma kapsamında yarışmacılara sağlanan **kanunum-nlp-doc-analysis-dataset.csv** dosyasının içindeki verileri pandas ile okuyarak oluşturulacaktır.\n",
        "\n",
        "Veri iskeleti oluşturulduktan sonra veri iskeleti ile ilgili bilgi ekrana yazdırılacaktır. Tam özetin yazdırılıp yazdırılmayacağı durumunu *verbose=True* (yazdırılsın) parametresi ile kontrol edilecektir. "
      ],
      "metadata": {
        "id": "xJ0eubSGrY9b"
      }
    },
    {
      "cell_type": "code",
      "source": [
        "df = pd.read_csv('kanunum-nlp-doc-analysis-dataset.csv')\n",
        "df.info(verbose=True)"
      ],
      "metadata": {
        "id": "EHdzWNIurahb"
      },
      "execution_count": null,
      "outputs": []
    },
    {
      "cell_type": "markdown",
      "source": [
        "Veri İskeletinde **kategori** sütununun / alanının kaç gruptan ve bu grupların kaç satırdan / kayıttan oluştuğu ekrana yazdırılacaktır."
      ],
      "metadata": {
        "id": "rKlqcKCprdlN"
      }
    },
    {
      "cell_type": "code",
      "source": [
        "print(df.groupby('kategori').size())"
      ],
      "metadata": {
        "id": "dAjkZ4Hyrd8S"
      },
      "execution_count": null,
      "outputs": []
    },
    {
      "cell_type": "markdown",
      "source": [
        "Verilerde yapacağımız ön çalışmada bizden istenilen değerleri araştıracağımız **Cumhurbaşkanlığı Kararnamesi** belgelerinin özelliklerini inceliyoruz."
      ],
      "metadata": {
        "id": "_ZuF9M5prgDP"
      }
    },
    {
      "cell_type": "code",
      "source": [
        "print(df.loc[df['kategori'] == 'Cumhurbaşkanlığı Kararnamesi'])"
      ],
      "metadata": {
        "id": "F8Hbnib6rr6h"
      },
      "execution_count": null,
      "outputs": []
    },
    {
      "cell_type": "markdown",
      "source": [
        "Verilerde yaptığımız ek çalışmalarda ise veri kümesinin data_text sütunundaki / alanındaki içerik iki parçaya ayrılabileceği görülmüştür. Böylelikle data_text sütunu / alanı işlenirken belgeye ait bilgiler birinci parçada belgenin içeriği ikinci parçada görülebilir. Tüm data_text kayıtlarında yer alan ortak bir noktanın varlığını kontrol etmek için aşağıdaki kod yardımı ile \"Resmi belgelerin hepsinde 'Madde 1' verisi var mı?\" önermesini kontrol ediyoruz."
      ],
      "metadata": {
        "id": "3uHOHxWrsItD"
      }
    },
    {
      "cell_type": "code",
      "source": [
        "kayitSayisi, alanSayisi = df.shape\n",
        "say = 0\n",
        "satirToplami, sutunToplami = df.shape\n",
        "for satir in range(satirToplami):\n",
        "  if df['data_text'][satir].find('Madde 1') != -1 and df['kategori'][satir] == \"Cumhurbaşkanlığı Kararnamesi\":\n",
        "    say+=1\n",
        "if say==54:\n",
        "  print(say,'=',54,'yani data_text alanındaki toplam kayıt sayısı ve her bir kayıtta \"Madde 1\" verisini içeren kayıt sayısı birbirine eşittir.')\n",
        "else:\n",
        "  print('Tüm kayıtlarda aranan veri bulunamamıştır.')"
      ],
      "metadata": {
        "id": "OtGevxTLsMtz",
        "colab": {
          "base_uri": "https://localhost:8080/"
        },
        "outputId": "3fb3b9d6-ea81-415f-c93a-e72714a7fa78"
      },
      "execution_count": 111,
      "outputs": [
        {
          "output_type": "stream",
          "name": "stdout",
          "text": [
            "54 = 54 yani data_text alanındaki toplam kayıt sayısı ve her bir kayıtta \"(Ayraç)\" verisini içeren kayıt sayısı birbirine eşittir.\n"
          ]
        }
      ]
    },
    {
      "cell_type": "markdown",
      "source": [
        "Bu bulgulardan yararlanarak **Cumhurbaşkanlığı Kararnamesi** belge türünde verileri iki parçaya ayırıp ilk parçada arama yapabileceğimizi doğrulamış olduk. Bu düşüncemizi şimdi örnek bir belgede inceleyelim."
      ],
      "metadata": {
        "id": "FmzG_F-MU0u-"
      }
    },
    {
      "cell_type": "code",
      "source": [
        "i = 1830\n",
        "\n",
        "metin = df['data_text'][i].lower()\n",
        "metin = metin.replace('  ','')\n",
        "\n",
        "metinSon = metin[-15:]\n",
        "\n",
        "metin = df['data_text'][i][:df['data_text'][i].find(\"Madde 1\")].lower()\n",
        "\n",
        "print(\"Kategori | \",df['kategori'][i],\"\\n\",\"Resmi Gazete No | \",df['rega_no'][i],\"\\n\",\"Resmi Gazete Tarihi | \",df['rega_tarihi'][i],\"\\n\",\"Mevzuat No | \",df['mevzuat_no'][i],\"\\n\",\"Mevzuat Tarihi | \",df['mevzuat_tarihi'][i],\"\\n\",35*'-','\\n',metin,sep='')\n",
        "\n",
        "print(\"MetinSon|\",metinSon,'|',sep='')"
      ],
      "metadata": {
        "id": "dY6U5h5GU1EP"
      },
      "execution_count": null,
      "outputs": []
    },
    {
      "cell_type": "markdown",
      "source": [
        "Örnek belgede de gözüktüğü üzere **aradığımız değerler** dosyanın ilk parçasında ve bazen de sonunda mevcuttur.\n",
        "\n",
        "**Cumhurbaşkanlığı Kararnamesi** kategorili toplam 54 belge mevcuttur. Belgelerden istenilen verilerin alınmasıyla ilgili takımımız Belgelerde bulunan ortak yazım kurallarını tespit ederek ve **Kural Bazlı Arama** yaparak değerleri elde etmeye karar vermiştir..\n",
        "\n",
        "Kodun devamında **bu yöntem** gösterilecek, **artı ve eksileri** hakkında tartışılacak ve yöntemin **başarı oranları** verilecektir."
      ],
      "metadata": {
        "id": "WLuE3JbMsSBh"
      }
    },
    {
      "cell_type": "markdown",
      "source": [
        "# **Yöntem | Kural Bazlı Sistem ile Verilerin Eldesi**"
      ],
      "metadata": {
        "id": "SuuZ6EpvsrSv"
      }
    },
    {
      "cell_type": "markdown",
      "source": [
        "**mevzuat_no** değerinin gerekildiği zaman İngilizce'ye çevrilmesi için kod."
      ],
      "metadata": {
        "id": "Lthsj5nWnBdJ"
      }
    },
    {
      "cell_type": "code",
      "source": [
        "def translate(x):\n",
        "  aylar = [\"ocak\",\"şubat\",\"mart\",\"nisan\",\"mayıs\",\"haziran\",\"temmuz\",\"ağustos\",\"eylül\",\"ekim\",\"kasım\",\"aralık\"]\n",
        "  months = [\"January\",\"February\",\"March\",\"April\",\"May\",\"June\",\"July\",\"August\",\"September\",\"October\",\"November\",\"December\" ]\n",
        "\n",
        "  x = x.split(' ')\n",
        "  Index = aylar.index(x[1])\n",
        "  x[1] = months[Index]\n",
        "  return x[0] +' '+ x[1] +' '+ x[2]"
      ],
      "metadata": {
        "id": "05TIOW48gApP"
      },
      "execution_count": 87,
      "outputs": []
    },
    {
      "cell_type": "markdown",
      "source": [
        "Bu Yöntemde ise Belgeler arası **ortak yazım şekillerine** dikkat edilerek veriler elde edilir."
      ],
      "metadata": {
        "id": "Vn_3i65estwh"
      }
    },
    {
      "cell_type": "code",
      "source": [
        "#Performans ölçümü için gerekli olan değişkenlerin oluşturulması\n",
        "degerlerimiz = [\"rega_tarihi\",\"rega_no\",\"mevzuat_no\",\"mevzuat_tarihi\"]\n",
        "belgelerdekiToplamDegerSayisi = 91\n",
        "belgelerdekiHataliDegerSayisi = [0] * len(degerlerimiz)\n",
        "\n",
        "# Sadece Cumhurbaşkanlığı Kararnamesi kategorisindeki belgelerde işlem yapıyoruz.\n",
        "for i in range(1802,1856):\n",
        "  # VERİ TEMİZLEME İŞLEMLERİ\n",
        "  metin = df['data_text'][i][:df['data_text'][i].find('Madde 1')].lower()\n",
        "  metin = metin.replace('  ','')\n",
        "\n",
        "  metinSon = df['data_text'][i][-15:].lower()\n",
        "\n",
        "\n",
        "  # 'rega_tarihi' değerini bulan kod\n",
        "  regaTarihiIndex = metin.find('resmî gazete tarihi: ')\n",
        "  regaTarihiIndex = regaTarihiIndex + len('resmî gazete tarihi: ')\n",
        "  regaTarihi= metin[regaTarihiIndex:regaTarihiIndex+10]\n",
        "\n",
        "  \n",
        "  # 'rega_no' değerini bulan kod\n",
        "  regaNoIndex = metin.find('resmî gazete sayısı: ')\n",
        "  regaNoIndex = regaNoIndex + len('resmî gazete sayısı: ')\n",
        "  regaNo = ''\n",
        "  rakambuldu = 0\n",
        "  while metin[regaNoIndex].isdigit() or rakambuldu==0:\n",
        "    if metin[regaNoIndex] == ' ' or metin[regaNoIndex] == '\\n':\n",
        "      rakambuldu = 0\n",
        "    elif metin[regaNoIndex].isdigit():\n",
        "      rakambuldu = 1\n",
        "      regaNo = regaNo + metin[regaNoIndex]\n",
        "    regaNoIndex = regaNoIndex + 1\n",
        "  regaNo = int(regaNo)\n",
        "\n",
        "  \n",
        "  # 'mevzuat_no' değerini bulan kod\n",
        "  if metin.find('kararname numarası:') != -1:\n",
        "    mevzuatNoIndex = metin.find('kararname numarası:')\n",
        "    mevzuatNoIndex = mevzuatNoIndex + len('kararname numarası:')\n",
        "  \n",
        "  elif metin.find('kararname sayısı:') != -1:\n",
        "    mevzuatNoIndex = metin.find('kararname sayısı:')\n",
        "    mevzuatNoIndex = mevzuatNoIndex + len('kararname sayısı:')\n",
        "\n",
        "  elif metin.find('kararname numarasi:') != -1:\n",
        "    mevzuatNoIndex = metin.find('kararname numarasi:')\n",
        "    mevzuatNoIndex = mevzuatNoIndex + len('kararname numarasi:')\n",
        "\n",
        "  elif metin.find('kararname numarası') != -1:\n",
        "    mevzuatNoIndex = metin.find('kararname numarası')\n",
        "    mevzuatNoIndex = mevzuatNoIndex + len('kararname numarası')\n",
        "    \n",
        "\n",
        "  mevzuatNo = ''\n",
        "  rakambuldu = 0\n",
        "  while metin[mevzuatNoIndex].isdigit() or rakambuldu==0:\n",
        "    if metin[mevzuatNoIndex] == ' ' or metin[mevzuatNoIndex] == '\\n':\n",
        "      rakambuldu = 0\n",
        "    elif metin[mevzuatNoIndex].isdigit():\n",
        "      rakambuldu = 1\n",
        "      mevzuatNo = mevzuatNo + metin[mevzuatNoIndex]\n",
        "    mevzuatNoIndex = mevzuatNoIndex + 1\n",
        "  mevzuatNo = int(mevzuatNo)\n",
        "  \n",
        "\n",
        "  # 'mevzuat_tarihi' değerini bulan kod\n",
        "  aylar = [\"ocak\",\"şubat\",\"mart\",\"nisan\",\"mayıs\",\"haziran\",\"temmuz\",\"ağustos\",\"eylül\",\"ekim\",\"kasım\",\"aralık\"]\n",
        "  count = 0\n",
        "  # metinSon'dan alınan değerin istenen türde olup olmadığını kontrol ediyoruz.\n",
        "  for ay in aylar:\n",
        "    if ay in metinSon:\n",
        "      count += 1\n",
        "  if count != 0:    \n",
        "    if metinSon[0].isdigit() != 1:\n",
        "      if  metinSon[1].isdigit() != 1:\n",
        "        if metinSon[2].isdigit() != 1:\n",
        "          metinSon = metinSon[3:]\n",
        "        else:\n",
        "          metinSon = metinSon[2:]\n",
        "      else:\n",
        "        metinSon = metinSon[1:]\n",
        "\n",
        "    # tarihi datetime kütüphanesinin anlayabileceği formata dönüştürelim.\n",
        "    mevzuatTarihi = translate(metinSon)\n",
        "\n",
        "  # Asıl değerlerin dosyadan çekilmesi\n",
        "  dfRegaTarihi = df['rega_tarihi'][i]\n",
        "  dfRegaNo = int(df['rega_no'][i])\n",
        "  dfMevzuatNo = int(df['mevzuat_no'][i])\n",
        "  dfMevzuatTarihi = df['mevzuat_tarihi'][i]\n",
        "\n",
        "  # Asıl değerlerin formatlanması\n",
        "  dfRegaTarihi = datetime.strptime(dfRegaTarihi, '%Y-%m-%d')\n",
        "  temp = 0\n",
        "  # dosyadaki Mevzuat Tarihi Değerinin \"nan\" olup olmadığını kontrol ediyoruz.\n",
        "  try:\n",
        "    temp =  math.isnan(dfMevzuatTarihi)\n",
        "  except:\n",
        "    dfMevzuatTarihi = datetime.strptime(dfMevzuatTarihi, '%Y-%m-%d')\n",
        "\n",
        "  # Çekilen Değerlerin formatlanması\n",
        "  if regaTarihi.find(\"-\") != -1:\n",
        "    regaTarihi = datetime.strptime(regaTarihi,\"%d-%m-%Y\")\n",
        "  elif regaTarihi.find(\".\") != -1:\n",
        "    regaTarihi = datetime.strptime(regaTarihi,\"%d.%m.%Y\")\n",
        "  elif regaTarihi.find(\"/\") != -1:\n",
        "    regaTarihi = datetime.strptime(regaTarihi,\"%d/%m/%Y\")\n",
        "\n",
        "  # Mevzuat Tarihi Değerinin çekilip çekilmediğini kontrol ediyoruz.\n",
        "  if count != 0:\n",
        "    if mevzuatTarihi.find(\"\\n\") != -1:\n",
        "      mevzuatTarihi = mevzuatTarihi[:mevzuatTarihi.find(\"\\n\")]\n",
        "\n",
        "      if mevzuatTarihi.find(\"-\") != -1:\n",
        "        mevzuatTarihi = datetime.strptime(mevzuatTarihi,\"%d-%m-%Y\")\n",
        "      elif mevzuatTarihi.find(\".\") != -1:\n",
        "        mevzuatTarihi = datetime.strptime(mevzuatTarihi,\"%d.%m.%Y\")\n",
        "      elif mevzuatTarihi.find(\"/\") != -1:\n",
        "        mevzuatTarihi = datetime.strptime(mevzuatTarihi,\"%d/%m/%Y\")\n",
        "\n",
        "  # Değerlerin Asılları ile Karşılaştırılması\n",
        "    if regaTarihi != dfRegaTarihi:\n",
        "      belgelerdekiHataliDegerSayisi[0]+=1\n",
        "\n",
        "    if regaNo != dfRegaNo:\n",
        "      belgelerdekiHataliDegerSayisi[1]+=1\n",
        "\n",
        "    if mevzuatNo != dfMevzuatNo:\n",
        "      belgelerdekiHataliDegerSayisi[2]+=1\n",
        "\n",
        "    if mevzuatTarihi != dfMevzuatTarihi and temp != 0:\n",
        "      belgelerdekiHataliDegerSayisi[3]+=1\n",
        "\n",
        "# Kodun Performansının Yazdırılması\n",
        "for i in range(4):\n",
        "    print(degerlerimiz[i],\"|\",belgelerdekiHataliDegerSayisi[i],\"/\",belgelerdekiToplamDegerSayisi,\"|\",round((belgelerdekiToplamDegerSayisi-belgelerdekiHataliDegerSayisi[i])/belgelerdekiToplamDegerSayisi,3))\n",
        "  "
      ],
      "metadata": {
        "id": "rIAjHHxOsyb3"
      },
      "execution_count": null,
      "outputs": []
    },
    {
      "cell_type": "markdown",
      "source": [
        "## ***ÇIKARIM:***\n",
        "\n",
        "- **(ÖNEMLİ BULGU)** Bu yöntemle modülümüz istenilen performans düzeyine ulaşmıştır. Bütün istenilen değerleri **Hatasız** şekilde bulabilmiştir.\n",
        "\n",
        "## **YÖNTEMİN ARTI VE EKSİLERİ**\n",
        "### Artıları:\n",
        "- Kural Bazlı Arama'sı diğer yöntemlere hız bakımından üstün.\n",
        "- Kural Bazlı Arama'sı 1.0 Doğruluk Performansıyla çalışıyor.\n",
        "\n",
        "### Eksileri:\n",
        "- Kural Bazlı Arama'nın diğer belge tiplerinde nasıl çalışacağı bilinmiyor.\n",
        "- Kural Bazlı Arama'nın yeni yazım kurallarına göre yazılmış metinlerde Doğruluk oranı 0.0'a kadar düşebilir, riskli."
      ],
      "metadata": {
        "id": "UX0g1zeTszF_"
      }
    },
    {
      "cell_type": "markdown",
      "source": [
        "### **Yöntemin Performans Tablosu**\n",
        "\n",
        "|Kural Bazlı Arama Yöntemi|Toplam|Doğru|Yanlış|Doğruluk Oranı|\n",
        "|---|---|---|---|---|\n",
        "|rega_tarihi|91|91|0|1.0|\n",
        "|rega_no|91|91|0|1.0|\n",
        "|mevzuat_tarihi|91|91|0|1.0|\n",
        "|mevzuat_no|91|91|0|1.0|"
      ],
      "metadata": {
        "id": "Fmz4IFPcs1Ef"
      }
    }
  ]
}