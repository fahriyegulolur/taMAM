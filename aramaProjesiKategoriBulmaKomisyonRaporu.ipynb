{
  "nbformat": 4,
  "nbformat_minor": 0,
  "metadata": {
    "colab": {
      "name": "aramaProjesiKategoriBulmaKomisyonRaporu",
      "provenance": [],
      "collapsed_sections": []
    },
    "kernelspec": {
      "name": "python3",
      "display_name": "Python 3"
    },
    "language_info": {
      "name": "python"
    }
  },
  "cells": [
    {
      "cell_type": "markdown",
      "source": [
        "Veri işleme ve analizi için pandas kütüphanesi kullanılacaktır. Pandas kütüphanesi pd rumuzu ile kısaltılmıştır."
      ],
      "metadata": {
        "id": "-WHoZtuTRmUB"
      }
    },
    {
      "cell_type": "code",
      "execution_count": 1,
      "metadata": {
        "id": "D4DSrSk9PiW8"
      },
      "outputs": [],
      "source": [
        "import pandas as pd"
      ]
    },
    {
      "cell_type": "markdown",
      "source": [
        "Verilerimiz Google Drive (bulut) üzerinde olduğu için Google Colab ile Google Drive arasında bağlantı kurulacaktır."
      ],
      "metadata": {
        "id": "eHzrzEAZSgRQ"
      }
    },
    {
      "cell_type": "code",
      "source": [
        "from google.colab import drive\n",
        "drive.mount('/content/drive/')"
      ],
      "metadata": {
        "id": "g8ZpPY4-Pmv1",
        "colab": {
          "base_uri": "https://localhost:8080/"
        },
        "outputId": "16a06b1d-54f2-4944-ef9d-c81cd28e0a4b"
      },
      "execution_count": 2,
      "outputs": [
        {
          "output_type": "stream",
          "name": "stdout",
          "text": [
            "Mounted at /content/drive/\n"
          ]
        }
      ]
    },
    {
      "cell_type": "markdown",
      "source": [
        "Google Drive içinde Colab Notebooks klasörünün içinde TDDI2022 isimli klasörde verilerimizi sakladığımız için bu klasöre erişilecektir.\n",
        "\n",
        "***NOT:*** Bu klasörü daha önce oluşturmadıysanız %md TDDI2022 komutu veya Google Drive Ara Yüzü ile klasörü oluşturunuz!"
      ],
      "metadata": {
        "id": "6Eqtq3mAS4hY"
      }
    },
    {
      "cell_type": "code",
      "source": [
        "%cd drive/\n",
        "%cd MyDrive/\n",
        "%cd Colab Notebooks/\n",
        "%cd TDDI2022/\n",
        "# Klasörün içeriğinin görülmesi için\n",
        "%ls"
      ],
      "metadata": {
        "id": "h47_PvbxT9QD"
      },
      "execution_count": null,
      "outputs": []
    },
    {
      "cell_type": "markdown",
      "source": [
        "Veri İskeleti TDDI2022 klasöründe bulunan yarışma kapsamında yarışmacılara sağlanan **kanunum-nlp-doc-analysis-dataset.csv** dosyasının içindeki verileri pandas ile okuyarak oluşturulacaktır.\n",
        "\n",
        "Veri iskeleti oluşturulduktan sonra veri iskeleti ile ilgili bilgi ekrana yazdırılacaktır. Tam özetin yazdırılıp yazdırılmayacağı durumunu *verbose=True* (yazdırılsın) parametresi ile kontrol edilecektir. "
      ],
      "metadata": {
        "id": "AfiMy6NzTPJv"
      }
    },
    {
      "cell_type": "code",
      "source": [
        "df = pd.read_csv('kanunum-nlp-doc-analysis-dataset.csv')\n",
        "df.info(verbose=True)"
      ],
      "metadata": {
        "id": "ZMriHlEGPqbV",
        "colab": {
          "base_uri": "https://localhost:8080/"
        },
        "outputId": "489326ad-98dd-4019-fe8b-dc4588bc85a6"
      },
      "execution_count": 4,
      "outputs": [
        {
          "output_type": "stream",
          "name": "stdout",
          "text": [
            "<class 'pandas.core.frame.DataFrame'>\n",
            "RangeIndex: 4142 entries, 0 to 4141\n",
            "Data columns (total 16 columns):\n",
            " #   Column          Non-Null Count  Dtype  \n",
            "---  ------          --------------  -----  \n",
            " 0   id              4142 non-null   int64  \n",
            " 1   kategori        4142 non-null   object \n",
            " 2   baslik          4142 non-null   object \n",
            " 3   rega_no         2527 non-null   object \n",
            " 4   mukerrer_no     3642 non-null   float64\n",
            " 5   rega_tarihi     2527 non-null   object \n",
            " 6   kurum           2488 non-null   object \n",
            " 7   mevzuat_no      1091 non-null   object \n",
            " 8   belge_sayi      43 non-null     object \n",
            " 9   mevzuat_tarihi  1905 non-null   object \n",
            " 10  donem           500 non-null    object \n",
            " 11  sira_no         500 non-null    object \n",
            " 12  madde_sayisi    4142 non-null   int64  \n",
            " 13  data_text       4142 non-null   object \n",
            " 14  url             4142 non-null   object \n",
            " 15  kanunum_url     4142 non-null   object \n",
            "dtypes: float64(1), int64(2), object(13)\n",
            "memory usage: 517.9+ KB\n"
          ]
        }
      ]
    },
    {
      "cell_type": "markdown",
      "source": [
        "Veri İskeletinde **kategori** sütununun / alanının kaç gruptan ve bu grupların kaç satırdan / kayıttan oluştuğunu **en az sayıdaki belgeden en çok sayıdaki belgeye doğru** ekrana yazdırılacaktır."
      ],
      "metadata": {
        "id": "DaaP0aG7UrAO"
      }
    },
    {
      "cell_type": "code",
      "source": [
        "print(df.groupby('kategori').size().sort_values())"
      ],
      "metadata": {
        "id": "VzFXWPNMX6Sb",
        "colab": {
          "base_uri": "https://localhost:8080/"
        },
        "outputId": "69e1f406-6d41-41fc-e9d3-26af3a0a23c6"
      },
      "execution_count": 5,
      "outputs": [
        {
          "output_type": "stream",
          "name": "stdout",
          "text": [
            "kategori\n",
            "Cumhurbaşkanlığı Kararnamesi     54\n",
            "Tüzük                            82\n",
            "Kanun Hükmünde Kararname         91\n",
            "Genelge                         385\n",
            "Komisyon Raporu                 500\n",
            "Kanun                           514\n",
            "Resmi Gazete                    546\n",
            "Yönetmelik                      597\n",
            "Tebliğ                          623\n",
            "Özelge                          750\n",
            "dtype: int64\n"
          ]
        }
      ]
    },
    {
      "cell_type": "markdown",
      "source": [
        "Veriler üzerinde yaptığımız ön çalışmada (ekrana data_text sütunundan / alanından bir kaç satır yazdırılmış ve içerikleri incelenmiştir) veri kümesinin data_text sütunundaki / alanındaki içerik iki parçaya ayrılabileceği görülmüştür. Böylelikle data_text sütunu / alanı işlenirken belgeye ait bilgiler birinci parçada belgenin içeriği ikinci parçada görülebilir. Tüm data_text kayıtlarında yer alan ortak bir noktanın varlığını kontrol etmek için aşağıdaki kod yardımı ile resmi belgelerin hepsinde 'Madde 1 -' verisi var mı?"
      ],
      "metadata": {
        "id": "aSVFSc43VKJH"
      }
    },
    {
      "cell_type": "code",
      "source": [
        "kayitSayisi, alanSayisi = df.shape\n",
        "say = 0\n",
        "satirToplami, sutunToplami = df.shape\n",
        "for satir in range(satirToplami):\n",
        "  if df['data_text'][satir].find('Madde 1 -'):\n",
        "    say+=1\n",
        "if say==kayitSayisi:\n",
        "  print(say,'=',kayitSayisi,'yani data_text alanındaki toplam kayıt sayısı ve her bir kayıtta \"Madde 1 -\" verisini içeren kayıt sayısı birbirine eşittir.')\n",
        "else:\n",
        "  print('Tüm kayıtlarda aranan veri bulunamamıştır.')"
      ],
      "metadata": {
        "colab": {
          "base_uri": "https://localhost:8080/"
        },
        "id": "7686dK_32-6Y",
        "outputId": "2a0f35fd-233a-4278-eeb4-22875dc0cf6e"
      },
      "execution_count": 6,
      "outputs": [
        {
          "output_type": "stream",
          "name": "stdout",
          "text": [
            "4142 = 4142 yani data_text alanındaki toplam kayıt sayısı ve her bir kayıtta \"Madde 1 -\" verisini içeren kayıt sayısı birbirine eşittir.\n"
          ]
        }
      ]
    },
    {
      "cell_type": "markdown",
      "source": [
        "Yukarıdaki bulgular doğrultusunda örnek bir kaydı ikiye bölerek **belge ile ilgili verileri toplayabileceğimiz baş kısmı** görelim. Yine bu baş kısmın **belge türü** ile ilgili bilgi içerip içermediğini görmek için kategori alanındaki veriyi de ekrana yazdıralım. Ayrıca dokümanı küçük hafre çevirelim ve lower() komutunun nasıl bir çeviri yaptığını izleyelim."
      ],
      "metadata": {
        "id": "Yj68DQICWwvP"
      }
    },
    {
      "cell_type": "code",
      "source": [
        "satir = 1749\n",
        "print('Kategori:',df['kategori'][satir],'\\n',35*'-','\\nİçerik:',df['data_text'][satir][:df['data_text'][satir].find('Madde 1')].lower(),sep='')"
      ],
      "metadata": {
        "id": "nhrQLfrOF35t",
        "colab": {
          "base_uri": "https://localhost:8080/"
        },
        "outputId": "e0c083d3-c14b-46f1-8bf6-5bed5cb21556"
      },
      "execution_count": 33,
      "outputs": [
        {
          "output_type": "stream",
          "name": "stdout",
          "text": [
            "Kategori:Komisyon Raporu\n",
            "-----------------------------------\n",
            "İçerik:dönem : 23 yasama yýlý : 2\n",
            "\n",
            "türkýye büyük mýllet meclýsý\n",
            "plan ve bütçe komýsyonu raporu\n",
            "\n",
            "s. sayýsý : 57\n",
            "\n",
            "2008 yýlý merkezi yönetim bütçe kanunu tasarýsý\n",
            "ve\n",
            "\n",
            "baðlý cetveller\n",
            "(a, b, c, e, f, h, ý, k, m, o, p, t ve v cetvelleri)\n",
            "\n",
            "26 kasım 200\n"
          ]
        }
      ]
    },
    {
      "cell_type": "markdown",
      "source": [
        "Komsiyon Raporu olarak kategori edilen toplam 500 adet kayıt vardı. Bu kayıtlar üzerinde belge türü tespit etmek için bir fonksiyon oluşturup veriyi burada analiz etmek ve analizimizin sonucunu mevcut 500 kayıttan kaçında doğru sonuç veridğini kontrol etmek yöntemimizin doğruluğu hakkında bize bilgi verecektir."
      ],
      "metadata": {
        "id": "KCQpqkkNZUHT"
      }
    },
    {
      "cell_type": "code",
      "source": [
        "# Komisyon Raporu olarak kategori bulmak için çalışacak fonksiyonumuz\n",
        "def kategoriBulKOMISYONRAPORU(verilenMetin):\n",
        "  # Veri ön işlemi (VERİ TEMİZLEME)\n",
        "  verilenMetin = verilenMetin.replace('  ','')\n",
        "  verilenMetin = verilenMetin.replace(' ','')\n",
        "  verilenMetin = verilenMetin.replace('\\n','')\n",
        "  verilenMetin = verilenMetin.replace('\\r','')\n",
        "  verilenMetin = verilenMetin.replace(':','')\n",
        "  verilenMetin = verilenMetin.replace('.','')\n",
        "  verilenMetin = verilenMetin.replace('ý','ı')\n",
        "  # data_text alanındaki kayıdın ilk parçasında ne varsa o bir Komisyon Raporudur diye kontrol ediyoruz!\n",
        "  if verilenMetin.lower().find('kanuntasarisi')!=-1 or verilenMetin.lower().find('yasamayili')!=-1 or verilenMetin.lower().find('tbmm')!=-1 or verilenMetin.lower().find('komisyonraporu')!=-1 or verilenMetin.lower().find('ssayısı')!=-1 or verilenMetin.lower().find('ssayisi')!=-1 or verilenMetin.lower().find('sirano')!=-1 or verilenMetin.lower().find('sırano')!=-1 or verilenMetin.lower().find('ilâve')!=-1:\n",
        "    return 'Komisyon Raporu'\n",
        "  # Başlık içinde arama yapan alternatif yöntemler de denenebilir!!!\n",
        "\n",
        "# 500 kayıt arasında kaç tanesinin Komisyon Raporu olarak işaretlenmediğini sayacak hataSayisi değişkenine ilk değer olarak 0 SIFIR veriyoruz.\n",
        "hataSayisi=0\n",
        "\n",
        "# Veri iskeletimiz içinde toplam kaç satir / kayıt ve sütun / alan olduğunu satirToplami ve sutunToplami değişkenlerinde saklıyoruz.\n",
        "satirToplami, sutunToplami = df.shape\n",
        "\n",
        "# Sadece Komisyon Raporu kategorisinde kontrolümüzü yapıyoruz\n",
        "for satir in range(satirToplami):\n",
        "  if df['kategori'][satir]!='Komisyon Raporu':\n",
        "    continue\n",
        "  # Verimizi daha önce izah ettiğimiz gibi Madde 1 verisine göre iki parcaya ayırıp ilk parçayı alıyoruz!\n",
        "  arastirilacakParca = df['data_text'][satir][:df['data_text'][satir].find('Madde 1')]\n",
        "  if kategoriBulKOMISYONRAPORU(arastirilacakParca)!=df['kategori'][satir]:\n",
        "    hataSayisi+=1\n",
        "    print(satir,kategoriBulKOMISYONRAPORU(arastirilacakParca),df['kategori'][satir])\n",
        "\n",
        "print(hataSayisi)"
      ],
      "metadata": {
        "colab": {
          "base_uri": "https://localhost:8080/"
        },
        "id": "KsQqz0s7Zy6N",
        "outputId": "5e3ef78b-a114-4c91-a788-2f01f049f77d"
      },
      "execution_count": 35,
      "outputs": [
        {
          "output_type": "stream",
          "name": "stdout",
          "text": [
            "0\n"
          ]
        }
      ]
    },
    {
      "cell_type": "markdown",
      "source": [
        "Genelge kategorisinde bulduğumuz yöntemin 1 hata ile çalıştığını gördük. 1177 indisli kayıttaki verinin bozuk olduğu ve kural bazlı olarak bu dokümanın kategorisinin bulunması istisnai bir durum içermektedir, bu nedenle fonksiyona o istisna eklenmemiştir. Karmaşıklık matrisi ile bu yöntemimizin ne kadar doğru çalıştığını Genelge kategorisi dışında da test etmek gerekir.\n",
        "\n",
        "Kaynak 1: https://www.sciencedirect.com/topics/engineering/confusion-matrix#:~:text=A%20confusion%20matrix%20is%20a,malignant%20tissue%20is%20considered%20cancerous.\n",
        "\n",
        "Kaynak 2: https://en.wikipedia.org/wiki/Confusion_matrix"
      ],
      "metadata": {
        "id": "1IJkfHjOdDHE"
      }
    },
    {
      "cell_type": "code",
      "source": [
        "# Komisyon Raporu olarak kategori bulmak için çalışacak fonksiyonumuz\n",
        "def kategoriBulKOMISYONRAPORU(verilenMetin):\n",
        "  # Veri ön işlemi (VERİ TEMİZLEME)\n",
        "  verilenMetin = verilenMetin.replace('  ','')\n",
        "  verilenMetin = verilenMetin.replace(' ','')\n",
        "  verilenMetin = verilenMetin.replace('\\n','')\n",
        "  verilenMetin = verilenMetin.replace('\\r','')\n",
        "  verilenMetin = verilenMetin.replace(':','')\n",
        "  verilenMetin = verilenMetin.replace('.','')\n",
        "  verilenMetin = verilenMetin.replace('ý','ı')\n",
        "  # data_text alanındaki kayıdın ilk parçasında ne varsa o bir Komisyon Raporudur diye kontrol ediyoruz!\n",
        "  if verilenMetin.lower().find('kanuntasarisi')!=-1 or verilenMetin.lower().find('yasamayili')!=-1 or verilenMetin.lower().find('tbmm')!=-1 or verilenMetin.lower().find('komisyonraporu')!=-1 or verilenMetin.lower().find('ssayısı')!=-1 or verilenMetin.lower().find('ssayisi')!=-1 or verilenMetin.lower().find('sirano')!=-1 or verilenMetin.lower().find('sırano')!=-1 or verilenMetin.lower().find('ilâve')!=-1:\n",
        "    return 'Komisyon Raporu'\n",
        "  else:\n",
        "    return 'Komisyon Raporu Değil'\n",
        "\n",
        "# Veri iskeletimiz içinde toplam kaç satir / kayıt ve sütun / alan olduğunu satirToplami ve sutunToplami değişkenlerinde saklıyoruz.\n",
        "satirToplami, sutunToplami = df.shape\n",
        "\n",
        "TP, TN, FP, FN = 0, 0, 0, 0\n",
        "\n",
        "for satir in range(satirToplami):\n",
        "  # Verimizi daha önce izah ettiğimiz gibi Madde 1 verisine göre iki parcaya ayırıp ilk parçayı alıyoruz!\n",
        "  arastirilacakParca = df['data_text'][satir][:df['data_text'][satir].find('Madde 1')]\n",
        "  fonksiyonumuzunCiktisi = kategoriBulKOMISYONRAPORU(arastirilacakParca)\n",
        "  \n",
        "  if fonksiyonumuzunCiktisi=='Komisyon Raporu' and df['kategori'][satir]=='Komisyon Raporu':\n",
        "    # Fonksiyonumuz Komisyon Raporu olan kategoriyi Komisyon Raporu olarak bulmuş\n",
        "    TP += 1\n",
        "  elif fonksiyonumuzunCiktisi=='Komisyon Raporu Değil' and df['kategori'][satir]=='Komisyon Raporu':\n",
        "    # Fonksiyonumuz Komisyon Raporu olan kategoriyi Komisyon Raporu olarak bulmamış\n",
        "    FN += 1\n",
        "  elif fonksiyonumuzunCiktisi=='Komisyon Raporu' and df['kategori'][satir]!='Komisyon Raporu':\n",
        "    # Fonksiyonumuz Komisyon Raporu olmayan kategoriyi Komisyon Raporu olarak bulmuş\n",
        "    FP += 1\n",
        "  else:\n",
        "    # Fonksiyonumuz Komisyon Raporu olmayan kategoriyi Komisyon Raporu olmayan olarak bulmuş\n",
        "    TN += 1\n",
        "print(satirToplami)\n",
        "print(TP, TN, FP, FN)\n",
        "print('Doğruluk (Accuracy):',(TP + TN) / satirToplami)\n",
        "print('Keskinlik (Precision):',TP / (TP+FP) )\n",
        "print('Hassasiyet (Sensitivity) / Duyarlılık (Recall):',TP / (TP+FN) )\n",
        "print('Özgüllük (Specificity):',TN / (TN+FP) )\n",
        "print('F1-Puanı (F1 Score):', 2 * (((TP / (TP+FP)) * (TP / (TP+FN))) / ((TP / (TP+FP)) + (TN / (TN+FP)))) )"
      ],
      "metadata": {
        "colab": {
          "base_uri": "https://localhost:8080/"
        },
        "id": "016OB8DWfNus",
        "outputId": "9ad4421c-b4e6-4ae8-cd3d-633e7179f96d"
      },
      "execution_count": 38,
      "outputs": [
        {
          "output_type": "stream",
          "name": "stdout",
          "text": [
            "4142\n",
            "500 3303 339 0\n",
            "Doğruluk (Accuracy): 0.9181554804442298\n",
            "Keskinlik (Precision): 0.5959475566150179\n",
            "Hassasiyet (Sensitivity) / Duyarlılık (Recall): 1.0\n",
            "Özgüllük (Specificity): 0.9069192751235585\n",
            "F1-Puanı (F1 Score): 0.7930809889863655\n"
          ]
        }
      ]
    },
    {
      "cell_type": "markdown",
      "source": [
        "Bulunan **TP, TN, FP** ve **FN** değerlerine göre **Karmaşıklık Matrisi** görselleştirilecektir.\n",
        "\n",
        "Görselleştirme için **matplotlib** kütüphanesi kullanılacaktır.\n",
        "**numpy** kütüphanesi ile diziler üzerinde işlemlerin kolaylaştılması sağlanacaktır.\n",
        "**sklearn** kütüphanesi ile de tahminlerin kalitesini ölçeceğiz / görselin verilerini hazırlayacağız.\n",
        "\n",
        "Kaynak 1: https://www.w3schools.com/python/python_ml_confusion_matrix.asp#:~:text=What%20is%20a%20confusion%20matrix,the%20predictions%20we%20have%20made.\n",
        "\n",
        "Kaynak 2: https://scikit-learn.org/stable/modules/generated/sklearn.metrics.ConfusionMatrixDisplay.html\n",
        "\n",
        "Kaynak 3: https://scikit-learn.org/stable/modules/model_evaluation.html"
      ],
      "metadata": {
        "id": "r7lioHgVj1rr"
      }
    },
    {
      "cell_type": "code",
      "source": [
        "import matplotlib\n",
        "matplotlib.use('Agg')\n",
        "import matplotlib.pyplot as plt\n",
        "import numpy as np\n",
        "from sklearn import metrics\n",
        "%matplotlib inline\n",
        "\n",
        "karmasiklikMatrisi = np.array([[TN,FN],[FP,TP]])\n",
        "kM_gorsel = metrics.ConfusionMatrixDisplay(confusion_matrix = karmasiklikMatrisi, display_labels = [False, True])\n",
        "\n",
        "kM_gorsel.plot()\n",
        "plt.xlabel(\"Tahmin Edilen\")\n",
        "plt.ylabel(\"Gerçek Durum\")\n",
        "plt.title(\"Karmaşıklık Matrisi\", fontdict = {'family':'serif','color':'Darkblue','size':20})\n",
        "\n",
        "plt.show()"
      ],
      "metadata": {
        "colab": {
          "base_uri": "https://localhost:8080/",
          "height": 300
        },
        "id": "5uuOlhRKkJRz",
        "outputId": "e20b61dd-3d42-4410-c63b-e525c8e1de5e"
      },
      "execution_count": 39,
      "outputs": [
        {
          "output_type": "display_data",
          "data": {
            "text/plain": [
              "<Figure size 432x288 with 2 Axes>"
            ],
            "image/png": "[encoded data removed]"
          },
          "metadata": {
            "needs_background": "light"
          }
        }
      ]
    },
    {
      "cell_type": "markdown",
      "source": [
        "# ***ÇIKARIM:***\n",
        "\n",
        "**kategoriBulKOMISYONRAPORU** isimli fonksiyonumuz 4142 adet kayıt içinde belge türü tahmini yapmıştır.\n",
        "\n",
        "- 500 Komisyon Raporu kategorisinde sınıflandırılan belgenin hepsini  Komisyon Raporu kategorisinde sınıflandırabilmiştir.\n",
        "- 339  Komisyon Raporu kategorisinde sınıflandırılmayan belgeyi de  Komisyon Raporu olarak sınıflandırmıştır.\n",
        "- 3303  Komisyon Raporu kategorisinde sınıflandırılmayan belgeyi de  Komisyon Raporu kategorisinde sınıflandırmamıştır.\n",
        "- Kural bazlı yöntemimiz için hesaplamalar aşağıdaki gibi olmuştur.\n",
        " - **Doğruluk (Accuracy):** 0.9181554804442298\n",
        " - **Keskinlik (Precision):** 0.5959475566150179\n",
        " - **Hassasiyet (Sensitivity) / Duyarlılık (Recall):** 1.0\n",
        " - **Özgüllük (Specificity):** 0.9069192751235585\n",
        " - **F1-Puanı (F1 Score):** 0.7930809889863655"
      ],
      "metadata": {
        "id": "3pCYENePtWhQ"
      }
    }
  ]
}