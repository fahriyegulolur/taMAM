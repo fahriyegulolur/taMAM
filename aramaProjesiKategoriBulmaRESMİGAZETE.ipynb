{
  "nbformat": 4,
  "nbformat_minor": 0,
  "metadata": {
    "colab": {
      "name": "aramaProjesiKategoriBulmaRESMİGAZETE",
      "provenance": [],
      "collapsed_sections": []
    },
    "kernelspec": {
      "name": "python3",
      "display_name": "Python 3"
    },
    "language_info": {
      "name": "python"
    }
  },
  "cells": [
    {
      "cell_type": "markdown",
      "source": [
        "Veri işleme ve analizi için pandas kütüphanesi kullanılacaktır. Pandas kütüphanesi pd rumuzu ile kısaltılmıştır."
      ],
      "metadata": {
        "id": "-WHoZtuTRmUB"
      }
    },
    {
      "cell_type": "code",
      "execution_count": 1,
      "metadata": {
        "id": "D4DSrSk9PiW8"
      },
      "outputs": [],
      "source": [
        "import pandas as pd"
      ]
    },
    {
      "cell_type": "markdown",
      "source": [
        "Verilerimiz Google Drive (bulut) üzerinde olduğu için Google Colab ile Google Drive arasında bağlantı kurulacaktır."
      ],
      "metadata": {
        "id": "eHzrzEAZSgRQ"
      }
    },
    {
      "cell_type": "code",
      "source": [
        "from google.colab import drive\n",
        "drive.mount('/content/drive/')"
      ],
      "metadata": {
        "id": "g8ZpPY4-Pmv1",
        "colab": {
          "base_uri": "https://localhost:8080/"
        },
        "outputId": "4f52a477-4ef5-4df9-ed38-7c71f8591900"
      },
      "execution_count": 2,
      "outputs": [
        {
          "output_type": "stream",
          "name": "stdout",
          "text": [
            "Mounted at /content/drive/\n"
          ]
        }
      ]
    },
    {
      "cell_type": "markdown",
      "source": [
        "Google Drive içinde Colab Notebooks klasörünün içinde TDDI2022 isimli klasörde verilerimizi sakladığımız için bu klasöre erişilecektir.\n",
        "\n",
        "***NOT:*** Bu klasörü daha önce oluşturmadıysanız %md TDDI2022 komutu veya Google Drive Ara Yüzü ile klasörü oluşturunuz!"
      ],
      "metadata": {
        "id": "6Eqtq3mAS4hY"
      }
    },
    {
      "cell_type": "code",
      "source": [
        "%cd drive/\n",
        "%cd MyDrive/\n",
        "%cd Colab Notebooks/\n",
        "%cd TDDI2022/\n",
        "# Klasörün içeriğinin görülmesi için\n",
        "%ls"
      ],
      "metadata": {
        "id": "h47_PvbxT9QD"
      },
      "execution_count": null,
      "outputs": []
    },
    {
      "cell_type": "markdown",
      "source": [
        "Veri İskeleti TDDI2022 klasöründe bulunan yarışma kapsamında yarışmacılara sağlanan **Resmi Gazeteum-nlp-doc-analysis-dataset.csv** dosyasının içindeki verileri pandas ile okuyarak oluşturulacaktır.\n",
        "\n",
        "Veri iskeleti oluşturulduktan sonra veri iskeleti ile ilgili bilgi ekrana yazdırılacaktır. Tam özetin yazdırılıp yazdırılmayacağı durumunu *verbose=True* (yazdırılsın) parametresi ile kontrol edilecektir. "
      ],
      "metadata": {
        "id": "AfiMy6NzTPJv"
      }
    },
    {
      "cell_type": "code",
      "source": [
        "df = pd.read_csv('kanunum-nlp-doc-analysis-dataset.csv')\n",
        "df.info(verbose=True)"
      ],
      "metadata": {
        "id": "ZMriHlEGPqbV",
        "colab": {
          "base_uri": "https://localhost:8080/"
        },
        "outputId": "b65bfd86-9362-43c9-9b2c-aa3e0ee4ddb6"
      },
      "execution_count": 69,
      "outputs": [
        {
          "output_type": "stream",
          "name": "stdout",
          "text": [
            "<class 'pandas.core.frame.DataFrame'>\n",
            "RangeIndex: 4142 entries, 0 to 4141\n",
            "Data columns (total 16 columns):\n",
            " #   Column          Non-Null Count  Dtype  \n",
            "---  ------          --------------  -----  \n",
            " 0   id              4142 non-null   int64  \n",
            " 1   kategori        4142 non-null   object \n",
            " 2   baslik          4142 non-null   object \n",
            " 3   rega_no         2527 non-null   object \n",
            " 4   mukerrer_no     3642 non-null   float64\n",
            " 5   rega_tarihi     2527 non-null   object \n",
            " 6   kurum           2488 non-null   object \n",
            " 7   mevzuat_no      1091 non-null   object \n",
            " 8   belge_sayi      43 non-null     object \n",
            " 9   mevzuat_tarihi  1905 non-null   object \n",
            " 10  donem           500 non-null    object \n",
            " 11  sira_no         500 non-null    object \n",
            " 12  madde_sayisi    4142 non-null   int64  \n",
            " 13  data_text       4142 non-null   object \n",
            " 14  url             4142 non-null   object \n",
            " 15  kanunum_url     4142 non-null   object \n",
            "dtypes: float64(1), int64(2), object(13)\n",
            "memory usage: 517.9+ KB\n"
          ]
        }
      ]
    },
    {
      "cell_type": "markdown",
      "source": [
        "Veri İskeletinde **kategori** sütununun / alanının kaç gruptan ve bu grupların kaç satırdan / kayıttan oluştuğu ekrana yazdırılacaktır."
      ],
      "metadata": {
        "id": "DaaP0aG7UrAO"
      }
    },
    {
      "cell_type": "code",
      "source": [
        "print(df.groupby('kategori').size())"
      ],
      "metadata": {
        "id": "VzFXWPNMX6Sb",
        "colab": {
          "base_uri": "https://localhost:8080/"
        },
        "outputId": "f3e57f37-bf54-4fa6-d704-7c3beeb7807a"
      },
      "execution_count": 70,
      "outputs": [
        {
          "output_type": "stream",
          "name": "stdout",
          "text": [
            "kategori\n",
            "Cumhurbaşkanlığı Kararnamesi     54\n",
            "Genelge                         385\n",
            "Kanun                           514\n",
            "Kanun Hükmünde Kararname         91\n",
            "Komisyon Raporu                 500\n",
            "Resmi Gazete                    546\n",
            "Tebliğ                          623\n",
            "Tüzük                            82\n",
            "Yönetmelik                      597\n",
            "Özelge                          750\n",
            "dtype: int64\n"
          ]
        }
      ]
    },
    {
      "cell_type": "markdown",
      "source": [
        "Veriler üzerinde yaptığımız ön çalışmada (ekrana data_text sütunundan / alanından bir kaç satır yazdırılmış ve içerikleri incelenmiştir) veri kümesinin data_text sütunundaki / alanındaki içerik iki parçaya ayrılabileceği görülmüştür. Böylelikle data_text sütunu / alanı işlenirken belgeye ait bilgiler birinci parçada belgenin içeriği ikinci parçada görülebilir. Tüm data_text kayıtlarında yer alan ortak bir noktanın varlığını kontrol etmek için aşağıdaki kod yardımı ile resmi belgelerin hepsinde ikiye bölme yapabilir miyiz kontrol edelim."
      ],
      "metadata": {
        "id": "aSVFSc43VKJH"
      }
    },
    {
      "cell_type": "code",
      "source": [
        "kayitSayisi, alanSayisi = df.shape\n",
        "say = 0\n",
        "satirToplami, sutunToplami = df.shape\n",
        "for satir in range(satirToplami):\n",
        "  if (str(df['data_text'][satir]).replace(' ','').lower().find('madde')!=-1):\n",
        "    say+=1\n",
        "  else:\n",
        "    pass\n",
        "if say==kayitSayisi:\n",
        "  print(say,'=',kayitSayisi,'yani data_text alanındaki toplam kayıt sayısı ve her bir kayıtta \"1. veya 1 -\" verisini içeren kayıt sayısı birbirine eşittir.')\n",
        "else:\n",
        "  print('4142 dokümandan',4142-say,'tanesi kayıt hariç dokümanları belirttiğimiz yerden ikiye bölebiliriz!')"
      ],
      "metadata": {
        "colab": {
          "base_uri": "https://localhost:8080/"
        },
        "id": "7686dK_32-6Y",
        "outputId": "8e292c81-9334-4f96-b6a3-e3294711d365"
      },
      "execution_count": 75,
      "outputs": [
        {
          "output_type": "stream",
          "name": "stdout",
          "text": [
            "4142 dokümandan 175 tanesi kayıt hariç dokümanları belirttiğimiz yerden ikiye bölebiliriz!\n"
          ]
        }
      ]
    },
    {
      "cell_type": "code",
      "source": [
        "kayitSayisi, alanSayisi = df.shape\n",
        "say = 0\n",
        "satirToplami, sutunToplami = df.shape\n",
        "for satir in range(satirToplami):\n",
        "  if (str(df['data_text'][satir]).replace(' ','').lower().find('madde')!=-1)or((str(df['data_text'][satir]).replace(' ','').lower().find('sayı')!=-1)):\n",
        "    say+=1\n",
        "  else:\n",
        "    print('Belgeyi ikiye bölme kuralına uymayan satır numarası:',satir)\n",
        "if say==kayitSayisi:\n",
        "  print(say,'=',kayitSayisi,'yani data_text alanındaki toplam kayıt sayısı ve her bir kayıtta \"1. veya 1 -\" verisini içeren kayıt sayısı birbirine eşittir.')\n",
        "else:\n",
        "  print('4142 dokümandan',4142-say,'tanesi kayıt hariç dokümanları belirttiğimiz yerden ikiye bölebiliriz!')"
      ],
      "metadata": {
        "colab": {
          "base_uri": "https://localhost:8080/"
        },
        "id": "pdiGilXd7lHB",
        "outputId": "2f5e2afd-4a72-485e-d557-31ec518e0403"
      },
      "execution_count": 76,
      "outputs": [
        {
          "output_type": "stream",
          "name": "stdout",
          "text": [
            "Belgeyi ikiye bölme kuralına uymayan satır numarası: 1383\n",
            "Belgeyi ikiye bölme kuralına uymayan satır numarası: 1463\n",
            "Belgeyi ikiye bölme kuralına uymayan satır numarası: 1749\n",
            "Belgeyi ikiye bölme kuralına uymayan satır numarası: 4106\n",
            "4142 dokümandan 4 tanesi kayıt hariç dokümanları belirttiğimiz yerden ikiye bölebiliriz!\n"
          ]
        }
      ]
    },
    {
      "cell_type": "markdown",
      "source": [
        "Örnek bir kayıtta ikiye bölmeyi deneyelim. Bölemediğimiz kayıt olursa da ilk 300 karakteri alalım."
      ],
      "metadata": {
        "id": "7nw-8ifXq8KD"
      }
    },
    {
      "cell_type": "code",
      "source": [
        "satir = 600\n",
        "icerik = str(df['data_text'][satir]).replace(' ','').lower()\n",
        "b1 = icerik.find('sayı')\n",
        "b2 = icerik.find('madde')\n",
        "bolmeYeri = b2 if b2!=-1 else b1 if b1!=-1 else 300\n",
        "print(b1,b2,bolmeYeri)\n",
        "print(icerik[:bolmeYeri])\n",
        "print(100*'-')\n",
        "print(df['data_text'][satir][:500]) #Orijinal verinin ilk 500 karakteri ile karşılaştıralım"
      ],
      "metadata": {
        "colab": {
          "base_uri": "https://localhost:8080/"
        },
        "id": "J1c4m4OozI96",
        "outputId": "b7464d2f-5ed8-4549-d5f6-22e1da8ed84b"
      },
      "execution_count": 77,
      "outputs": [
        {
          "output_type": "stream",
          "name": "stdout",
          "text": [
            "117 330 330\n",
            "t.c\n",
            "resmîgazete\n",
            "\n",
            "kuruluştarihi:(7teşrinievvel1336)-7ekim1920\n",
            "\n",
            "yönetimveyazıi̇şlerii̇çin\n",
            "başbakanlıkneşriyat11ocak1985sayı:18632dairebaşkanlığınacuma\n",
            "\n",
            "sayı:18632\n",
            "başvurulurcuma\n",
            "\n",
            "yürütmevei̇darebölümü\n",
            "\n",
            "atamakararları\n",
            "millisavunmabakanlığından:\n",
            "\n",
            "kararsayısı:85-30988\n",
            "1.357sayılıaskerihakimlerkanununa1611sayılıkanunlaeklenenek-3\n",
            "\n",
            "ncü\n",
            "----------------------------------------------------------------------------------------------------\n",
            "T.C \n",
            "Resmî Gazete \n",
            "\n",
            "Kuruluş Tarihi : (7 Teşrinievvel 1336)-7 Ekim 1920 \n",
            "\n",
            "Yönetim ve Yazı İşleri İçin \n",
            "Başbakanlık Neşriyat 11 Ocak 1985 Sayı : 18632 Daire Başkanlığına CUMA \n",
            "\n",
            "Sayı : 18632 \n",
            "başvurulur CUMA \n",
            "\n",
            "Y Ü R Ü T M E V E İ D A R E B Ö L Ü M Ü \n",
            "\n",
            "Atama Kararları \n",
            "M i l l i S a v u n m a Bakanlığından : \n",
            "\n",
            "Karar Sayısı : 85 - 30988 \n",
            "1. 357 sayılı A s k e r i H a k i m l e r K a n u n u n a 1611 sayılı K a n u n l a e k l e n e n E K - 3 \n",
            "\n",
            "ncü m a d d e s i hükmüne i s t i n a d e n M i l l i S a\n"
          ]
        }
      ]
    },
    {
      "cell_type": "markdown",
      "source": [
        "Yukarıdaki bulgular doğrultusunda içeriği bölerken önce ilk maddesini eğer maddesi yoksa ilk sayı kelimesini gördüğümüz yerde ikiye bölerek **belge ile ilgili verileri toplayabileceğimiz baş kısmı** alacağız!"
      ],
      "metadata": {
        "id": "eCQ7jSc68UOh"
      }
    },
    {
      "cell_type": "markdown",
      "source": [
        "Resmi gazete olarak kategori edilen toplam 546 adet kayıt vardı. Bu kayıtlar üzerinde belge türü tespit etmek için bir fonksiyon oluşturup veriyi burada analiz etmek ve analizimizin sonucunu mevcut 546 kayıttan kaçında doğru sonuç veridğini kontrol etmek yöntemimizin doğruluğu hakkında bize bilgi verecektir."
      ],
      "metadata": {
        "id": "KCQpqkkNZUHT"
      }
    },
    {
      "cell_type": "code",
      "source": [
        "# Resmi Gazete kategorisini bulmak için çalışacak fonksiyonumuz\n",
        "def kategoriBulREGA(verilenMetin):\n",
        "  # Veri ön işlemi (VERİ TEMİZLEME)\n",
        "  icerik = str(verilenMetin).lower()\n",
        "  icerik = icerik.replace(' ','')\n",
        "  icerik = icerik.replace('\\n','')\n",
        "  icerik = icerik.replace('\\r','')\n",
        "  # data_text alanındaki kayıdın ilk parçasında kuralımıza göre kontrol yapacağız!\n",
        "  if (icerik.find('resm')!=-1) or (icerik.find('gazete')!=-1) or (icerik.find('başbakanlık')!=-1) or (icerik.find('teşrinievvel1336')!=-1) or (icerik.find('1336-1920')!=-1):\n",
        "    return 'Resmi Gazete'\n",
        "\n",
        "# 546 kayıt arasında kaç tanesinin resmi gazete olarak işaretlenmediğini sayacak hataSayisi değişkenine ilk değer olarak 0 SIFIR veriyoruz.\n",
        "hataSayisi=0\n",
        "\n",
        "# Veri iskeletimiz içinde toplam kaç satir / kayıt ve sütun / alan olduğunu satirToplami ve sutunToplami değişkenlerinde saklıyoruz.\n",
        "satirToplami, sutunToplami = df.shape\n",
        "\n",
        "# Sadece Resmi Gazete kategorisinde kontrolümüzü yapıyoruz\n",
        "for satir in range(satirToplami):\n",
        "  if df['kategori'][satir]!='Resmi Gazete':\n",
        "    continue\n",
        "  # Verimizi daha önce izah ettiğimiz gibi iki parcaya ayırıp ilk parçayı alıyoruz!\n",
        "  b1, b2 = icerik.find('sayı'), icerik.find('madde')\n",
        "  bolmeYeri = b2 if b2!=-1 else b1 if b1!=-1 else 300\n",
        "  arastirilacakParca = df['data_text'][satir][:bolmeYeri]\n",
        "  if kategoriBulREGA(arastirilacakParca)!=df['kategori'][satir]:\n",
        "    print(df['kategori'][satir],100*'-')\n",
        "    print(arastirilacakParca[:300])\n",
        "    hataSayisi+=1\n",
        "\n",
        "print(hataSayisi)"
      ],
      "metadata": {
        "colab": {
          "base_uri": "https://localhost:8080/"
        },
        "id": "KsQqz0s7Zy6N",
        "outputId": "e0b71cd6-959e-475b-b550-f4d5af398b54"
      },
      "execution_count": 78,
      "outputs": [
        {
          "output_type": "stream",
          "name": "stdout",
          "text": [
            "Resmi Gazete ----------------------------------------------------------------------------------------------------\n",
            "28 Ağustos 1977 \n",
            "PAZAR Sayı : 16041 \n",
            "\n",
            "YÜRÜTME V E İDARE BÖLÜMÜ \n",
            "\n",
            "Bakanlar Kurulu Kararı \n",
            "Karar Sayısı : 7/13661 \n",
            "İlişik «Türk Silahlı Kuvvetleri Kıyafet Kararının Bazı Maddelerinin Değiştiril\n",
            "\n",
            "mesi Hakkında Karar'ın yürürlüğe konulması; Millî Savunma Bakanlığının 19/4/1977, \n",
            "27/7/1977 tarihli ve 197\n",
            "Resmi Gazete ----------------------------------------------------------------------------------------------------\n",
            "26/2/1962 \n",
            "\n",
            "1928 - 1960 Bütçe yıllarına ait olup da Muhasebel Umumiye Ka\n",
            "nununun 93 üncü maddesine göre zamanaşımına uğramamış vc kar\n",
            "şılıkları yıllan bütçelerinde bulunan borç'ar, 1962 yılı Bütçesinin ilgili \n",
            "hizmet tertip'erinden veya 3-6 ncı kıslm bölümleriyle yatırım bö\n",
            "lümleri bakiyelerinden es\n",
            "2\n"
          ]
        }
      ]
    },
    {
      "cell_type": "markdown",
      "source": [
        "Resmi Gazete kategorisnde bulduğumuz yöntemin 2 hata ile çalıştığını gördük. Karmaşıklık matrisi ile bu yöntemimizin ne kadar doğru çalıştığını Resmi Gazete kategorisi dışında da test etmek gerekir.\n",
        "\n",
        "Kaynak 1: https://www.sciencedirect.com/topics/engineering/confusion-matrix#:~:text=A%20confusion%20matrix%20is%20a,malignant%20tissue%20is%20considered%20cancerous.\n",
        "\n",
        "Kaynak 2: https://en.wikipedia.org/wiki/Confusion_matrix"
      ],
      "metadata": {
        "id": "1IJkfHjOdDHE"
      }
    },
    {
      "cell_type": "code",
      "source": [
        "# Resmi Gazete kategorisini bulmak için çalışacak fonksiyonumuz\n",
        "def kategoriBulREGA(verilenMetin):\n",
        "  # Veri ön işlemi (VERİ TEMİZLEME)\n",
        "  icerik = str(verilenMetin).lower()\n",
        "  icerik = icerik.replace(' ','')\n",
        "  icerik = icerik.replace('\\n','')\n",
        "  icerik = icerik.replace('\\r','')\n",
        "  # data_text alanındaki kayıdın ilk parçasında kuralımıza göre kontrol yapacağız!\n",
        "  if (icerik.find('resm')!=-1) or (icerik.find('gazete')!=-1) or (icerik.find('başbakanlık')!=-1) or (icerik.find('teşrinievvel1336')!=-1) or (icerik.find('1336-1920')!=-1):\n",
        "    return 'Resmi Gazete'\n",
        "\n",
        "# Veri iskeletimiz içinde toplam kaç satir / kayıt ve sütun / alan olduğunu satirToplami ve sutunToplami değişkenlerinde saklıyoruz.\n",
        "satirToplami, sutunToplami = df.shape\n",
        "\n",
        "TP, TN, FP, FN = 0, 0, 0, 0\n",
        "\n",
        "# Tüm kategorilerde kontrolümüzü yapıyoruz\n",
        "for satir in range(satirToplami):\n",
        "  # Verimizi daha önce izah ettiğimiz gibi iki parcaya ayırıp ilk parçayı alıyoruz!\n",
        "  b1, b2 = icerik.find('sayı'), icerik.find('madde')\n",
        "  bolmeYeri = b2 if b2!=-1 else b1 if b1!=-1 else 300\n",
        "  arastirilacakParca = df['data_text'][satir][:bolmeYeri]\n",
        "  fonksiyonumuzunCiktisi = kategoriBulREGA(arastirilacakParca)\n",
        "  \n",
        "  if fonksiyonumuzunCiktisi=='Resmi Gazete' and df['kategori'][satir]=='Resmi Gazete':\n",
        "    # Fonksiyonumuz Resmi Gazete olan kategoriyi Resmi Gazete olarak bulmuş\n",
        "    TP += 1\n",
        "  elif fonksiyonumuzunCiktisi=='Resmi Gazete Değil' and df['kategori'][satir]=='Resmi Gazete':\n",
        "    # Fonksiyonumuz Resmi Gazete olan kategoriyi Resmi Gazete olarak bulmamış\n",
        "    FN += 1\n",
        "  elif fonksiyonumuzunCiktisi=='Resmi Gazete' and df['kategori'][satir]!='Resmi Gazete':\n",
        "    # Fonksiyonumuz Resmi Gazete olmayan kategoriyi Resmi Gazete olarak bulmuş\n",
        "    FP += 1\n",
        "  else:\n",
        "    # Fonksiyonumuz Resmi Gazete olmayan kategoriyi Resmi Gazete olmayan olarak bulmuş\n",
        "    TN += 1\n",
        "print(satirToplami)\n",
        "print(TP, TN, FP, FN)\n",
        "print('Doğruluk (Accuracy):',(TP + TN) / satirToplami)\n",
        "print('Keskinlik (Precision):',TP / (TP+FP) )\n",
        "print('Hassasiyet (Sensitivity) / Duyarlılık (Recall):',TP / (TP+FN) )\n",
        "print('Özgüllük (Specificity):',TN / (TN+FP) )\n",
        "print('F1-Puanı (F1 Score):', 2 * (((TP / (TP+FP)) * (TP / (TP+FN))) / ((TP / (TP+FP)) + (TN / (TN+FP)))) )"
      ],
      "metadata": {
        "colab": {
          "base_uri": "https://localhost:8080/"
        },
        "id": "016OB8DWfNus",
        "outputId": "dc599f70-57f9-4304-f359-fe26f787d05b"
      },
      "execution_count": 80,
      "outputs": [
        {
          "output_type": "stream",
          "name": "stdout",
          "text": [
            "4142\n",
            "544 1513 2085 0\n",
            "Doğruluk (Accuracy): 0.49661999034282955\n",
            "Keskinlik (Precision): 0.20692278432864206\n",
            "Hassasiyet (Sensitivity) / Duyarlılık (Recall): 1.0\n",
            "Özgüllük (Specificity): 0.42051139521956643\n",
            "F1-Puanı (F1 Score): 0.6595840362972871\n"
          ]
        }
      ]
    },
    {
      "cell_type": "markdown",
      "source": [
        "Keskinlik değerinin çok düşük olmasından dolayı fonksiyonumuzu güncellememiz gerekiyor!"
      ],
      "metadata": {
        "id": "UrRX4BHiHc0P"
      }
    },
    {
      "cell_type": "code",
      "source": [
        "# Resmi Gazete kategorisini bulmak için çalışacak fonksiyonumuz\n",
        "def kategoriBulREGA(verilenMetin):\n",
        "  # Veri ön işlemi (VERİ TEMİZLEME)\n",
        "  icerik = str(verilenMetin).lower()\n",
        "  icerik = icerik.replace(' ','')\n",
        "  icerik = icerik.replace('\\n','')\n",
        "  icerik = icerik.replace('\\r','')\n",
        "  # data_text alanındaki kayıdın ilk parçasında kuralımıza göre kontrol yapacağız!\n",
        "  if (icerik.find('başbakanlık')!=-1) or (icerik.find('teşrinievvel1336')!=-1) or (icerik.find('1336-1920')!=-1):\n",
        "    return 'Resmi Gazete'\n",
        "\n",
        "# Veri iskeletimiz içinde toplam kaç satir / kayıt ve sütun / alan olduğunu satirToplami ve sutunToplami değişkenlerinde saklıyoruz.\n",
        "satirToplami, sutunToplami = df.shape\n",
        "\n",
        "TP, TN, FP, FN = 0, 0, 0, 0\n",
        "\n",
        "# Tüm kategorilerde kontrolümüzü yapıyoruz\n",
        "for satir in range(satirToplami):\n",
        "  # Verimizi daha önce izah ettiğimiz gibi iki parcaya ayırıp ilk parçayı alıyoruz!\n",
        "  b1, b2 = icerik.find('sayı'), icerik.find('madde')\n",
        "  bolmeYeri = b2 if b2!=-1 else b1 if b1!=-1 else 300\n",
        "  arastirilacakParca = df['data_text'][satir][:bolmeYeri]\n",
        "  fonksiyonumuzunCiktisi = kategoriBulREGA(arastirilacakParca)\n",
        "  \n",
        "  if fonksiyonumuzunCiktisi=='Resmi Gazete' and df['kategori'][satir]=='Resmi Gazete':\n",
        "    # Fonksiyonumuz Resmi Gazete olan kategoriyi Resmi Gazete olarak bulmuş\n",
        "    TP += 1\n",
        "  elif fonksiyonumuzunCiktisi=='Resmi Gazete Değil' and df['kategori'][satir]=='Resmi Gazete':\n",
        "    # Fonksiyonumuz Resmi Gazete olan kategoriyi Resmi Gazete olarak bulmamış\n",
        "    FN += 1\n",
        "  elif fonksiyonumuzunCiktisi=='Resmi Gazete' and df['kategori'][satir]!='Resmi Gazete':\n",
        "    # Fonksiyonumuz Resmi Gazete olmayan kategoriyi Resmi Gazete olarak bulmuş\n",
        "    FP += 1\n",
        "  else:\n",
        "    # Fonksiyonumuz Resmi Gazete olmayan kategoriyi Resmi Gazete olmayan olarak bulmuş\n",
        "    TN += 1\n",
        "print(satirToplami)\n",
        "print(TP, TN, FP, FN)\n",
        "print('Doğruluk (Accuracy):',(TP + TN) / satirToplami)\n",
        "print('Keskinlik (Precision):',TP / (TP+FP) )\n",
        "print('Hassasiyet (Sensitivity) / Duyarlılık (Recall):',TP / (TP+FN) )\n",
        "print('Özgüllük (Specificity):',TN / (TN+FP) )\n",
        "print('F1-Puanı (F1 Score):', 2 * (((TP / (TP+FP)) * (TP / (TP+FN))) / ((TP / (TP+FP)) + (TN / (TN+FP)))) )"
      ],
      "metadata": {
        "colab": {
          "base_uri": "https://localhost:8080/"
        },
        "id": "wwECBiPMHcUf",
        "outputId": "6b86f755-9924-47a7-8431-da47aadf954e"
      },
      "execution_count": 82,
      "outputs": [
        {
          "output_type": "stream",
          "name": "stdout",
          "text": [
            "4142\n",
            "453 3611 78 0\n",
            "Doğruluk (Accuracy): 0.9811685176243361\n",
            "Keskinlik (Precision): 0.8531073446327684\n",
            "Hassasiyet (Sensitivity) / Duyarlılık (Recall): 1.0\n",
            "Özgüllük (Specificity): 0.9788560585524533\n",
            "F1-Puanı (F1 Score): 0.9313585011026713\n"
          ]
        }
      ]
    },
    {
      "cell_type": "markdown",
      "source": [
        "Bulunan TP, TN, FP ve FN değerlerine göre Karmaşıklık Matrisi görselleştirilecektir.\n",
        "\n",
        "Kaynak 1: https://www.w3schools.com/python/python_ml_confusion_matrix.asp#:~:text=What%20is%20a%20confusion%20matrix,the%20predictions%20we%20have%20made.\n",
        "\n",
        "Kaynak 2: https://scikit-learn.org/stable/modules/generated/sklearn.metrics.ConfusionMatrixDisplay.html"
      ],
      "metadata": {
        "id": "r7lioHgVj1rr"
      }
    },
    {
      "cell_type": "code",
      "source": [
        "import matplotlib\n",
        "matplotlib.use('Agg')\n",
        "import matplotlib.pyplot as plt\n",
        "import numpy as np\n",
        "from sklearn import metrics\n",
        "%matplotlib inline\n",
        "\n",
        "karmasiklikMatrisi = np.array([[TN,FN],[FP,TP]])\n",
        "kM_gorsel = metrics.ConfusionMatrixDisplay(confusion_matrix = karmasiklikMatrisi, display_labels = [False, True])\n",
        "\n",
        "kM_gorsel.plot()\n",
        "plt.xlabel(\"Tahmin Edilen\")\n",
        "plt.ylabel(\"Gerçek Durum\")\n",
        "plt.title(\"Karmaşıklık Matrisi\", fontdict = {'family':'serif','color':'Darkblue','size':20})\n",
        "\n",
        "plt.show()"
      ],
      "metadata": {
        "colab": {
          "base_uri": "https://localhost:8080/",
          "height": 300
        },
        "id": "5uuOlhRKkJRz",
        "outputId": "86d8bd5c-a34b-4fd9-e804-6aef82eae87d"
      },
      "execution_count": 83,
      "outputs": [
        {
          "output_type": "display_data",
          "data": {
            "text/plain": [
              "<Figure size 432x288 with 2 Axes>"
            ],
            "image/png": "[encoded data removed]"
          },
          "metadata": {
            "needs_background": "light"
          }
        }
      ]
    },
    {
      "cell_type": "markdown",
      "source": [
        "# ***ÇIKARIM:***\n",
        "\n",
        "**kategoriBulResmi Gazete** isimli fonksiyonumuz 4142 adet kayıt içinde belge türü tahmini yapmıştır.,\n",
        "\n",
        "- 546 Resmi Gazete belgesinin 453 tanesini Resmi Gazete belgesi türü olarak tespit etmiştir.\n",
        "- 78 Resmi Gazete belgesi olmayan belgeyi de Resmi Gazete belgesi olarak tespit etmiştir.\n",
        "- 3611 Resmi Gazete belgesi olmayan belgeyi de Resmi Gazete belgesi olmayan belge olarak tespit etmiştir."
      ],
      "metadata": {
        "id": "3pCYENePtWhQ"
      }
    }
  ]
}