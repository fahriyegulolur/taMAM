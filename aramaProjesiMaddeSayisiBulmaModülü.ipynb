{
  "nbformat": 4,
  "nbformat_minor": 0,
  "metadata": {
    "colab": {
      "name": "aramaProjesiMaddeSayisiBulmaModülü2.ipynb",
      "provenance": [],
      "collapsed_sections": []
    },
    "kernelspec": {
      "name": "python3",
      "display_name": "Python 3"
    },
    "language_info": {
      "name": "python"
    }
  },
  "cells": [
    {
      "cell_type": "markdown",
      "source": [
        "Veri işleme ve analizi için pandas kütüphanesi kullanılacaktır. Pandas kütüphanesi pd rumuzu ile kısaltılmıştır."
      ],
      "metadata": {
        "id": "-IES9ZGkHVNH"
      }
    },
    {
      "cell_type": "code",
      "execution_count": 1,
      "metadata": {
        "id": "D4DSrSk9PiW8"
      },
      "outputs": [],
      "source": [
        "import pandas as pd"
      ]
    },
    {
      "cell_type": "markdown",
      "source": [
        "Verilerimiz Google Drive (bulut) üzerinde olduğu için Google Colab ile Google Drive arasında bağlantı kurulacaktır."
      ],
      "metadata": {
        "id": "-duDlDDyIIYp"
      }
    },
    {
      "cell_type": "code",
      "source": [
        "from google.colab import drive\n",
        "drive.mount('/content/drive/')"
      ],
      "metadata": {
        "id": "g8ZpPY4-Pmv1"
      },
      "execution_count": null,
      "outputs": []
    },
    {
      "cell_type": "markdown",
      "source": [
        "Google Drive içinde Colab Notebooks klasörünün içinde TDDI2022 isimli klasörde verilerimizi sakladığımız için bu klasöre erişilecektir.\n",
        "\n",
        "***NOT:*** Bu klasörü daha önce oluşturmadıysanız %md TDDI2022 komutu veya Google Drive Ara Yüzü ile klasörü oluşturunuz!"
      ],
      "metadata": {
        "id": "gmXrHZE_IShv"
      }
    },
    {
      "cell_type": "code",
      "source": [
        "%cd drive/\n",
        "%cd MyDrive/\n",
        "%cd Colab Notebooks/\n",
        "# Google Drive içinde Colab Notebooks klasörünün içinde TDDI2022 diye bir klasör oluşturduktan sonra o klasöre erişiyoruz.\n",
        "# Bu klasörü daha önce oluşturmadıysanız %md TDDI2022 komutu veya Google Drive Ara Yüzü ile klasörü oluşturunuz!\n",
        "%cd TDDI2022/\n",
        "\n",
        "# Klasörün içeriğinin görülmesi için\n",
        "%ls"
      ],
      "metadata": {
        "id": "h47_PvbxT9QD"
      },
      "execution_count": null,
      "outputs": []
    },
    {
      "cell_type": "markdown",
      "source": [
        "Veri İskeleti TDDI2022 klasöründe bulunan yarışma kapsamında yarışmacılara sağlanan **kanunum-nlp-doc-analysis-dataset.csv** dosyasının içindeki verileri pandas ile okuyarak oluşturulacaktır.\n",
        "\n",
        "Veri iskeleti oluşturulduktan sonra veri iskeleti ile ilgili bilgi ekrana yazdırılacaktır. Tam özetin yazdırılıp yazdırılmayacağı durumunu *verbose=True* (yazdırılsın) parametresi ile kontrol edilecektir. "
      ],
      "metadata": {
        "id": "_2QYxVBFIaZg"
      }
    },
    {
      "cell_type": "code",
      "source": [
        "df = pd.read_csv('kanunum-nlp-doc-analysis-dataset.csv')\n",
        "df.info(verbose=True)"
      ],
      "metadata": {
        "id": "ZMriHlEGPqbV"
      },
      "execution_count": null,
      "outputs": []
    },
    {
      "cell_type": "markdown",
      "source": [
        "Veri İskeletinde **kategori** sütununun / alanının kaç gruptan ve bu grupların kaç satırdan / kayıttan oluştuğu ekrana yazdırılacaktır."
      ],
      "metadata": {
        "id": "Et0WqWiPIf9g"
      }
    },
    {
      "cell_type": "code",
      "source": [
        "print(df.groupby('kategori').size())"
      ],
      "metadata": {
        "id": "VzFXWPNMX6Sb",
        "outputId": "7b357354-e898-420e-9194-9c992a2b923c",
        "colab": {
          "base_uri": "https://localhost:8080/"
        }
      },
      "execution_count": 5,
      "outputs": [
        {
          "output_type": "stream",
          "name": "stdout",
          "text": [
            "kategori\n",
            "Cumhurbaşkanlığı Kararnamesi     54\n",
            "Genelge                         385\n",
            "Kanun                           514\n",
            "Kanun Hükmünde Kararname         91\n",
            "Komisyon Raporu                 500\n",
            "Resmi Gazete                    546\n",
            "Tebliğ                          623\n",
            "Tüzük                            82\n",
            "Yönetmelik                      597\n",
            "Özelge                          750\n",
            "dtype: int64\n"
          ]
        }
      ]
    },
    {
      "cell_type": "markdown",
      "source": [
        "Veriler üzerinde yaptığımız ön çalışmada (ekrana data_text sütunundan / alanından bir kaç satır yazdırılmış ve içerikleri incelenmiştir) veri kümesinin data_text sütunundaki / alanındaki içerik iki parçaya ayrılabileceği görülmüştür. Böylelikle data_text sütunu / alanı işlenirken belgeye ait bilgiler birinci parçada belgenin içeriği ikinci parçada görülebilir. Tüm data_text kayıtlarında yer alan ortak bir noktanın varlığını kontrol etmek için aşağıdaki kod yardımı ile \"Resmi belgelerin hepsinde 'Madde 1' verisi var mı?\" önermesinin doğruluğunu kontrol ediyoruz."
      ],
      "metadata": {
        "id": "drTU7NWSIjin"
      }
    },
    {
      "cell_type": "code",
      "source": [
        "kayitSayisi = 0\n",
        "say = 0\n",
        "satirToplami, sutunToplami = df.shape\n",
        "for satir in range(satirToplami):\n",
        "  if df['madde_sayisi'][satir] != 0:\n",
        "    kayitSayisi+=1\n",
        "for satir in range(satirToplami):\n",
        "  if df['data_text'][satir].find('Madde 1')!=-1:\n",
        "    say+=1\n",
        "if say==kayitSayisi:\n",
        "  print(say,'=',kayitSayisi,'yani data_text alanındaki toplam kayıt sayısı ve her bir kayıtta \"Madde 1\" verisini içeren kayıt sayısı birbirine eşittir.')\n",
        "else:\n",
        "  print('Tüm kayıtlarda aranan veri bulunamamıştır.')"
      ],
      "metadata": {
        "id": "ttq0BAf2KQ3_"
      },
      "execution_count": null,
      "outputs": []
    },
    {
      "cell_type": "markdown",
      "source": [
        "Yukarıdaki bulgular doğrultusunda örnek bir kaydı ikiye bölerek **belge ile ilgili verileri toplayabileceğimiz içerik kısmı** görelim. Yine bu içerik kısmında kaç adet madde olduğunu görmek için madde_sayisi alanındaki veriyi de ekrana yazdıralım."
      ],
      "metadata": {
        "id": "hANA6at5KUOm"
      }
    },
    {
      "cell_type": "code",
      "source": [
        "satir = 1881\n",
        "print('Dokümandaki Madde Sayısı:',df['madde_sayisi'][satir],'\\n',50*'-','\\nİçerik kısmı:',df['data_text'][satir][df['data_text'][satir].find('Madde 1'):],sep='')"
      ],
      "metadata": {
        "id": "nhrQLfrOF35t"
      },
      "execution_count": null,
      "outputs": []
    },
    {
      "cell_type": "markdown",
      "source": [
        "1881 indis numaralı kayıtta 58 adet madde olduğunu gördük. Şimdi kural bazlı olarak bu kayıt üzerinde madde saydıracağız.\n",
        "\n",
        "Kuralımız: - Maddeyi bul madde bir önceki maddenin ardışık olarak takip ettiği madde ise örneğin bulduğumuz madde 5. madde olsun ve şimdiye kadar 4 madde saymış olalım 5. maddeyi madde olarak sayacak ve bu kayıtla blirlikte 5 madde sayılmış olacaktır. Aynı durum ek madde ve geçici maddeler için de uygulanabilirdir.\n",
        "\n",
        "Şimdi kuralımız gerçekten anlatığımız gibi çalışıp 1881 indisli kayıtta 58 madde bulabilecek mi inceleyelim."
      ],
      "metadata": {
        "id": "T4d6e96lMrZm"
      }
    },
    {
      "cell_type": "code",
      "source": [
        "# data_text alanının 1881 indisli satırında madde sayamaya çalışalım!\n",
        "satir = 1881\n",
        "\n",
        "ilkMaddeninBasladigiYer = df['data_text'][satir].find('Madde 1')\n",
        "verininBuyuklugu = len(df['data_text'][satir])\n",
        "# İlk maddenin başladığı yerden itibaren belirli aralıklarla MADDE SAYMAYA başlıyoruz!\n",
        "# İlk değer olarak maddeSayisi değişkenimize madde yoktur manasında 0 'SIFIR' veriyoruz.\n",
        "maddeSayisi = 0\n",
        "\n",
        "# aramaya baslayacağımız yeri belirliyoruz.,\n",
        "aramaYapilacakYerinBasi = ilkMaddeninBasladigiYer\n",
        "\n",
        "while (aramaYapilacakYerinBasi<verininBuyuklugu):\n",
        "  print('maddeSayisi:',maddeSayisi)\n",
        "  bulunanSayi = ''\n",
        "  alinanKesit = df['data_text'][satir][aramaYapilacakYerinBasi:]\n",
        "  maddeninBaslayabilecegiYer = alinanKesit.find('Madde')\n",
        "  print('maddeninBaslayabilecegiYer:',maddeninBaslayabilecegiYer)\n",
        "  tireninBaslayabilecegiYer = maddeninBaslayabilecegiYer+alinanKesit[maddeninBaslayabilecegiYer:].find('–')\n",
        "  print('tireninBaslayabilecegiYer:',tireninBaslayabilecegiYer)\n",
        "  if (tireninBaslayabilecegiYer-maddeninBaslayabilecegiYer)<=10:\n",
        "    maddeninBaslayabilecegiYer+=5\n",
        "    while maddeninBaslayabilecegiYer<tireninBaslayabilecegiYer:\n",
        "      maddeninBaslayabilecegiYer+=1\n",
        "      bulunanSayiyiOlusturacakParca = alinanKesit[maddeninBaslayabilecegiYer]\n",
        "      print(bulunanSayiyiOlusturacakParca)\n",
        "      if bulunanSayiyiOlusturacakParca in '0123456789':\n",
        "        bulunanSayi+=bulunanSayiyiOlusturacakParca\n",
        "      else:\n",
        "            break\n",
        "    if bulunanSayi!='':\n",
        "      if (int(bulunanSayi)<=(maddeSayisi+2)) and (int(bulunanSayi)>=(maddeSayisi-2)):\n",
        "        maddeSayisi += 1\n",
        "  aramaYapilacakYerinBasi+=maddeninBaslayabilecegiYer+5\n",
        "print(satir,'indis numarasına sahip kayıtta olması gereken madde sayısı:',df['madde_sayisi'][satir])\n",
        "print(satir,'indis numarasına sahip kayıtta kural bazlı yöntemimizin bulduğu madde sayısı:',maddeSayisi)"
      ],
      "metadata": {
        "id": "uDSkSMJAAlIC"
      },
      "execution_count": null,
      "outputs": []
    },
    {
      "cell_type": "markdown",
      "source": [
        "Kuralımızın çalıştığını 1881 indis sayılı belge için görmüş olduk.\n",
        "\n",
        "# **ÇIKARIM:**\n",
        "- Yarışma kapsamında sağlanan veri kümesinin data_text alanında \"Madde 1 -\" verisine sahip olmayan kayıt/satır yoktur.\n",
        "- 'Madde' kelimesi ile '-' karakteri arasında 3 basamaklı olacak şekilde sayı varsa bunu mevcut fonksiyonumuz ile tespit edebiliyoruz.\n",
        "- data_text alanında farklı kayıtlara bakıldığında ve yarışma kapsamında yarışmacılara iletilen README.md dosyası incelendiğinde **geçici maddeler**, **ek maddeler** ve **işlenmeyen hükümlerin maddeleri** gibi maddelerin de olduğu ve madde sayısına etki ettikleri görülmüştür."
      ],
      "metadata": {
        "id": "wJfHUsTkPC0-"
      }
    },
    {
      "cell_type": "code",
      "source": [
        "# data_text alanında mevcut yöntemimizle madde sayılarını kontrol edelim.\n",
        "# Olması gereken ile tahmin ettiğimiz değerlerin birbirlerine eşit olmadığı belge sayısını ve türünü ortaya çıkartalım.\n",
        "\n",
        "satirToplami, sutunToplami = df.shape\n",
        "\n",
        "kategorilerimiz = df[\"kategori\"].value_counts().index.values.tolist()\n",
        "kategoridekiToplamBelgeSayisi = df[\"kategori\"].value_counts().tolist()\n",
        "kategoridekiHataliBelgeSayisi = [0] * len(kategorilerimiz)\n",
        "\n",
        "for ilgiliKayit in range(satirToplami):\n",
        "  # İlk değer olarak maddeSayisi değişkenimize madde yoktur manasında 0 'SIFIR' veriyoruz.\n",
        "  maddeSayisi = 0\n",
        "  # İlk maddenin başladığı yerden itibaren belirli aralıklarla MADDE SAYMAYA başlıyoruz!\n",
        "  ilkMaddeninBasladigiYer = df['data_text'][ilgiliKayit].find('Madde 1')\n",
        "  if ilkMaddeninBasladigiYer==-1:\n",
        "    continue\n",
        "  verininBuyuklugu = len(df['data_text'][ilgiliKayit])\n",
        "\n",
        "  # aramaya baslayacağımız yeri belirliyoruz.,\n",
        "  aramaYapilacakYerinBasi = ilkMaddeninBasladigiYer\n",
        "\n",
        "  while (aramaYapilacakYerinBasi<verininBuyuklugu):\n",
        "    bulunanSayi = ''\n",
        "    alinanKesit = df['data_text'][ilgiliKayit][aramaYapilacakYerinBasi:]\n",
        "    maddeninBaslayabilecegiYer = alinanKesit.find('Madde')\n",
        "    tireninBaslayabilecegiYer = maddeninBaslayabilecegiYer+alinanKesit[maddeninBaslayabilecegiYer:].find('–')\n",
        "    if (tireninBaslayabilecegiYer-maddeninBaslayabilecegiYer)<=10:\n",
        "      maddeninBaslayabilecegiYer+=5\n",
        "      while maddeninBaslayabilecegiYer<tireninBaslayabilecegiYer:\n",
        "        maddeninBaslayabilecegiYer+=1\n",
        "        bulunanSayiyiOlusturacakParca = alinanKesit[maddeninBaslayabilecegiYer]\n",
        "        if bulunanSayiyiOlusturacakParca in '0123456789':\n",
        "          bulunanSayi+=bulunanSayiyiOlusturacakParca\n",
        "        else:\n",
        "              break\n",
        "      if bulunanSayi!='':\n",
        "        if (int(bulunanSayi)<=(maddeSayisi+2)) and (int(bulunanSayi)>=(maddeSayisi-2)):\n",
        "          maddeSayisi += 1\n",
        "    aramaYapilacakYerinBasi+=maddeninBaslayabilecegiYer+5\n",
        "  if maddeSayisi != df['madde_sayisi'][ilgiliKayit]:\n",
        "    kategoridekiHataliBelgeSayisi[kategorilerimiz.index(df[\"kategori\"][ilgiliKayit])] += 1\n",
        "\n",
        "for i in range(len(kategorilerimiz)):\n",
        "  print(kategorilerimiz[i],':',kategoridekiHataliBelgeSayisi[i],'/',kategoridekiToplamBelgeSayisi[i],'=',round(kategoridekiHataliBelgeSayisi[i]/kategoridekiToplamBelgeSayisi[i],3))\n",
        "print('Toplam Hata:',sum(kategoridekiHataliBelgeSayisi))\n",
        "print(\"Başarı oranı: \",(4142-sum(kategoridekiHataliBelgeSayisi))/4142)"
      ],
      "metadata": {
        "id": "Ycva4psKQqO3",
        "outputId": "1912866e-b0f8-4faa-f43a-507d57a6ed5d",
        "colab": {
          "base_uri": "https://localhost:8080/"
        }
      },
      "execution_count": 15,
      "outputs": [
        {
          "output_type": "stream",
          "name": "stdout",
          "text": [
            "Özelge : 0 / 750 = 0.0\n",
            "Tebliğ : 355 / 623 = 0.57\n",
            "Yönetmelik : 264 / 597 = 0.442\n",
            "Resmi Gazete : 2 / 546 = 0.004\n",
            "Kanun : 241 / 514 = 0.469\n",
            "Komisyon Raporu : 12 / 500 = 0.024\n",
            "Genelge : 0 / 385 = 0.0\n",
            "Kanun Hükmünde Kararname : 23 / 91 = 0.253\n",
            "Tüzük : 45 / 82 = 0.549\n",
            "Cumhurbaşkanlığı Kararnamesi : 20 / 54 = 0.37\n",
            "Toplam Hata: 962\n",
            "Başarı oranı:  0.7677450507001449\n"
          ]
        }
      ]
    },
    {
      "cell_type": "markdown",
      "source": [
        "# **ÇIKARIM:**\n",
        "\n",
        "* Kural bazlı madde sayısı bulma yöntemimiz belgelerdeki madde sayısını **0.76** başarı oranında doğru tespit etmektedir. **3180** belgenin madde sayısını doğru olarak bulmakla birlikte **962** belgenin madde sayısını da olması gereken madde sayısından farklı bir sayıda bulmuştur.\n",
        "* Kural bazlı madde sayısı bulma yöntemimiz **Özelge** kategorisinde **hatasız** çalışmaktadır.\n",
        "* Kural bazlı madde sayısı bulma yöntemimiz **Komisyon Raporu** (12/500) ve **Resmi Gazete** (2/546) kategorilerinde **istisnai hata** ile çalışmaktadır.\n",
        "* Kural bazlı madde sayısı bulma yöntemimiz **Kanun Hükmünde Kararname** (23/91) ve **Cumhurbaşkanlığı Kararnamesi** (20/54) kategorilerinde **hatalı** çalıştığı tespit edilmiştir.\n",
        "* Mevcut yöntemimizin Tebliğ, Yönetmelik, Kanun ve Tüzük kategorilerinde 0.46 - 0.57 arası hata oranında başka bir değişle kabul edilemez büyüklükte bir hata oranında çalıştığı tespit edilmiştir. Bu dört kategorinin içindeki verileri inceleyip yöntemimizi güncelleyeceğiz."
      ],
      "metadata": {
        "id": "N1zVrXRGkg1Z"
      }
    },
    {
      "cell_type": "code",
      "source": [
        "# data_text alanında mevcut yöntemimizi GEÇİCİ MADDELERİ ve EK MADDELERİ göz önüne alarak madde sayısı hangi doğrulukta bulduğunu kontrol edelim.\n",
        "# Olması gereken ile tahmin ettiğimiz değerlerin birbirlerine eşit olmadığı belge sayısını ve türünü yeniden hesaplayalım.\n",
        "\n",
        "satirToplami, sutunToplami = df.shape\n",
        "\n",
        "kategorilerimiz = df[\"kategori\"].value_counts().index.values.tolist()\n",
        "kategoridekiToplamBelgeSayisi = df[\"kategori\"].value_counts().tolist()\n",
        "kategoridekiHataliBelgeSayisi = [0] * len(kategorilerimiz)\n",
        "\n",
        "for ilgiliKayit in range(satirToplami):\n",
        "\n",
        "  # İlk değer olarak maddeSayisi değişkenimize madde yoktur manasında 0 'SIFIR' veriyoruz.\n",
        "  maddeSayisi = 0\n",
        "  # YÖNTEMİMİZİ GELİŞTİRİYORUZ\n",
        "  geciciMaddeSayisi = 0 # Geçici Madde 1 gibi verilen ek madde\n",
        "  ekMaddeSayisi = 0 # Madde içinde 10/a gibi verilen ek madde\n",
        "  ekMaddeSayisi2 = 0 # Ek Madde 1 gibi verilen ek madde\n",
        "  # İlk maddenin başladığı yerden itibaren belirli aralıklarla MADDE SAYMAYA başlıyoruz!\n",
        "  ilkMaddeninBasladigiYer = df['data_text'][ilgiliKayit].find('Madde 1')\n",
        "  if ilkMaddeninBasladigiYer==-1:\n",
        "    continue\n",
        "  verininBuyuklugu = len(df['data_text'][ilgiliKayit])\n",
        "\n",
        "  # Aramaya baslayacağımız yeri belirliyoruz.\n",
        "  aramaYapilacakYerinBasi = ilkMaddeninBasladigiYer\n",
        "\n",
        "  while (aramaYapilacakYerinBasi<verininBuyuklugu):\n",
        "    bulunanSayi = ''\n",
        "    alinanKesit = df['data_text'][ilgiliKayit][aramaYapilacakYerinBasi:]\n",
        "    maddeninBaslayabilecegiYer = alinanKesit.find('Madde')\n",
        "    tireninBaslayabilecegiYer = maddeninBaslayabilecegiYer+alinanKesit[maddeninBaslayabilecegiYer:].find('–')\n",
        "    if (tireninBaslayabilecegiYer-maddeninBaslayabilecegiYer)<=10:\n",
        "      maddeninBaslayabilecegiYer+=5\n",
        "      while maddeninBaslayabilecegiYer<tireninBaslayabilecegiYer:\n",
        "        maddeninBaslayabilecegiYer+=1\n",
        "        bulunanSayiyiOlusturacakParca = alinanKesit[maddeninBaslayabilecegiYer]\n",
        "        if bulunanSayiyiOlusturacakParca in '0123456789':\n",
        "          bulunanSayi+=bulunanSayiyiOlusturacakParca\n",
        "        else:\n",
        "              break\n",
        "      if bulunanSayi!='':\n",
        "        if (int(bulunanSayi)<=(maddeSayisi+2)) and (int(bulunanSayi)>=(maddeSayisi-2)):\n",
        "          maddeSayisi += 1\n",
        "        elif int(bulunanSayi)<geciciMaddeSayisi+2:\n",
        "          geciciMaddeSayisi += 1\n",
        "        elif int(bulunanSayi)<ekMaddeSayisi2+2:\n",
        "          ekMaddeSayisi2 += 1\n",
        "    else:\n",
        "      ekMaddeninYeri = maddeninBaslayabilecegiYer+alinanKesit[maddeninBaslayabilecegiYer:].find('/')\n",
        "      if (ekMaddeninYeri<=(tireninBaslayabilecegiYer-2)) and ((tireninBaslayabilecegiYer-maddeninBaslayabilecegiYer)<=12):\n",
        "        ekMaddeSayisi += 1\n",
        "    aramaYapilacakYerinBasi+=maddeninBaslayabilecegiYer+5\n",
        "  maddeSayisi+=(geciciMaddeSayisi+ekMaddeSayisi+ekMaddeSayisi2)\n",
        "  if maddeSayisi != df['madde_sayisi'][ilgiliKayit]:\n",
        "    kategoridekiHataliBelgeSayisi[kategorilerimiz.index(df[\"kategori\"][ilgiliKayit])] += 1\n",
        "\n",
        "for i in range(len(kategorilerimiz)):\n",
        "  print(kategorilerimiz[i],':',kategoridekiHataliBelgeSayisi[i],'/',kategoridekiToplamBelgeSayisi[i],'=',round(kategoridekiHataliBelgeSayisi[i]/kategoridekiToplamBelgeSayisi[i],3))\n",
        "print('Toplam Hata:',sum(kategoridekiHataliBelgeSayisi))\n",
        "print(\"Başarı oranı: \",(4142-sum(kategoridekiHataliBelgeSayisi))/4142)"
      ],
      "metadata": {
        "id": "nXYa_lHpu-lt",
        "outputId": "94d7c37f-d418-43a8-b0ec-f1c84b2363c8",
        "colab": {
          "base_uri": "https://localhost:8080/"
        }
      },
      "execution_count": 14,
      "outputs": [
        {
          "output_type": "stream",
          "name": "stdout",
          "text": [
            "Özelge : 0 / 750 = 0.0\n",
            "Tebliğ : 355 / 623 = 0.57\n",
            "Yönetmelik : 18 / 597 = 0.03\n",
            "Resmi Gazete : 2 / 546 = 0.004\n",
            "Kanun : 36 / 514 = 0.07\n",
            "Komisyon Raporu : 14 / 500 = 0.028\n",
            "Genelge : 0 / 385 = 0.0\n",
            "Kanun Hükmünde Kararname : 9 / 91 = 0.099\n",
            "Tüzük : 19 / 82 = 0.232\n",
            "Cumhurbaşkanlığı Kararnamesi : 1 / 54 = 0.019\n",
            "Toplam Hata: 454\n",
            "Başarı oranı:  0.8903911154031868\n"
          ]
        }
      ]
    },
    {
      "cell_type": "markdown",
      "source": [
        "# **ÇIKARIM:**\n",
        "\n",
        "* GEÇİCİ MADDELERİ ve EK MADDELERİ göz önüne alarak güncellediğimiz kural bazlı madde sayısı bulma yöntemimiz belgelerdeki madde sayısını **0.89** başarı oranında doğru tespit etmektedir. **3688** belgenin madde sayısını doğru olarak bulmakla birlikte **454** belgenin madde sayısını da olması gereken madde sayısından farklı bir sayıda bulmuştur.\n",
        "* Güncellenmiş kural bazlı madde sayısı bulma yöntemimiz yine **Özelge** kategorisinde **hatasız** çalışmaktadır.\n",
        "* Güncellenmiş kural bazlı madde sayısı bulma yöntemimiz **Komisyon Raporu** kategorisinde hata oranını 12 hatadan 14 hataya çıkartarak (14/500) ve **Resmi Gazete** kategorisinde bir önceki yöntem bulgularını değiştirmeden (2/546) **istisnai hata** ile çalışmaktadır.\n",
        "* Güncellenmiş kural bazlı madde sayısı bulma yöntemimiz **Kanun Hükmünde Kararname** kategorisinde hata oranını 23 hatadan 9 hataya düşürerek (9/91) ve **Cumhurbaşkanlığı Kararnamesi** kategorisinde hata oranını 20 hatadan 1 hataya düşürerek (1/54) kategorilerinde **hatalı** çalıştığı tespit edilmiştir.\n",
        "* Güncellenmiş kural bazlı madde sayısı bulma yöntemimiz **Yönetmelik** kategorisinde önemli bir düşüş sağlamıştır. Hata oranını 264 hatadan 18 hataya düşürerek (18/597) **istisnai hata** ile çalışmaktadır.\n",
        "* Güncellenmiş kural bazlı madde sayısı bulma yöntemimiz **Kanun** kategorisinde de düşüş sağlamıştır. Hata oranını 241 hatadan 36 hataya düşürerek (36/514) **hatalı** çalışmaya devam etmektedir.\n",
        "* Güncellenmiş kural bazlı madde sayısı bulma yöntemimiz **Tüzük** kategorisinde de düşüş sağlamıştır. Hata oranını 45 hatadan 19 hataya düşürerek (19/82) **hatalı** çalışmaya devam etmektedir.\n",
        "* Mevcut yöntemimizin **Tebliğ** kategorisindeki 0.57 hata oranında başka bir değişle kabul edilemez büyüklükte bir hata oranında çalışmaya devam etmektedir Tebliğ kategorisine odaklanarak verileri inceleyip yöntemimizi güncelleyeceğiz."
      ],
      "metadata": {
        "id": "yMqlVkGVhfKW"
      }
    },
    {
      "cell_type": "code",
      "source": [
        "# Tebliğ Kategorisi odaklı incelememiz ve kural bazlı yöntemimizdeki iyileştirmelerimize başlıyoruz\n",
        "satir = 3000\n",
        "print('Doküman Türü:',df['kategori'][satir],'\\n','Dokümandaki Madde Sayısı:',df['madde_sayisi'][satir],'\\n',50*'-','\\nİçerik kısmı:',df['data_text'][satir][df['data_text'][satir].find('Madde 1'):],sep='')"
      ],
      "metadata": {
        "id": "5csmpI1ul1X8"
      },
      "execution_count": null,
      "outputs": []
    },
    {
      "cell_type": "code",
      "source": [
        "df[\"madde_sayisi\"].value_counts()"
      ],
      "metadata": {
        "id": "qoq4bKE8pFOc"
      },
      "execution_count": null,
      "outputs": []
    },
    {
      "cell_type": "markdown",
      "source": [
        "# **ÖNEMLİ BULGU**\n",
        "* Yarışma kapsamında kullandığımız veri kümesinde madde_sayisi alanında 4142 kayıt dolu olarak görülmektedir.\n",
        "* Neden tebliğ kategorisinde büyük oranda hata yaptığımızı araştırmak için herhangi bir kayıt olan 3000 indis numaralı kayıda baktığımızda madde sayısının 7 olması gerekirken 0 olarak doldurulduğunu fark ettik.\n",
        "* 4142 kayıt arasında kaç tanesinin madde sayisi 0 olarak girildiğine baktığımızda 2804 kayıdın madde sayısının 0 olarak girildiğini gördük.\n",
        "\n",
        "# Madde Sayısı 0 olan kayıtların güncellenmiş kural bazlı yöntemimizle tespit ettiğimiz madde sayısı ile doldurulmasına karar verdik!"
      ],
      "metadata": {
        "id": "D5qND9IMokwV"
      }
    },
    {
      "cell_type": "code",
      "source": [
        "# Güncel kural bazlı yöntemimiz ile hem madde sayısını bulacağız hem de eğer madde sayısı veri kümesinde 0 olarak girilmişse o veriyi bizim kural bazlı yöntemimiz ile bulduğumuz sayı ile dolduralım. \n",
        "\n",
        "satirToplami, sutunToplami = df.shape\n",
        "\n",
        "kategorilerimiz = df[\"kategori\"].value_counts().index.values.tolist()\n",
        "kategoridekiToplamBelgeSayisi = df[\"kategori\"].value_counts().tolist()\n",
        "kategoridekiHataliBelgeSayisi = [0] * len(kategorilerimiz)\n",
        "\n",
        "for ilgiliKayit in range(satirToplami):\n",
        "\n",
        "  # İlk değer olarak maddeSayisi değişkenimize madde yoktur manasında 0 'SIFIR' veriyoruz.\n",
        "  maddeSayisi = 0\n",
        "  # YÖNTEMİMİZİ GELİŞTİRİYORUZ\n",
        "  geciciMaddeSayisi = 0 # Geçici Madde 1 gibi verilen ek madde\n",
        "  ekMaddeSayisi = 0 # Madde içinde 10/a gibi verilen ek madde\n",
        "  ekMaddeSayisi2 = 0 # Ek Madde 1 gibi verilen ek madde\n",
        "  # İlk maddenin başladığı yerden itibaren belirli aralıklarla MADDE SAYMAYA başlıyoruz!\n",
        "  ilkMaddeninBasladigiYer = df['data_text'][ilgiliKayit].find('Madde 1')\n",
        "  if ilkMaddeninBasladigiYer==-1:\n",
        "    continue\n",
        "  verininBuyuklugu = len(df['data_text'][ilgiliKayit])\n",
        "\n",
        "  # Aramaya baslayacağımız yeri belirliyoruz.\n",
        "  aramaYapilacakYerinBasi = ilkMaddeninBasladigiYer\n",
        "\n",
        "  while (aramaYapilacakYerinBasi<verininBuyuklugu):\n",
        "    bulunanSayi = ''\n",
        "    alinanKesit = df['data_text'][ilgiliKayit][aramaYapilacakYerinBasi:]\n",
        "    maddeninBaslayabilecegiYer = alinanKesit.find('Madde')\n",
        "    tireninBaslayabilecegiYer = maddeninBaslayabilecegiYer+alinanKesit[maddeninBaslayabilecegiYer:].find('–')\n",
        "    if (tireninBaslayabilecegiYer-maddeninBaslayabilecegiYer)<=10:\n",
        "      maddeninBaslayabilecegiYer+=5\n",
        "      while maddeninBaslayabilecegiYer<tireninBaslayabilecegiYer:\n",
        "        maddeninBaslayabilecegiYer+=1\n",
        "        bulunanSayiyiOlusturacakParca = alinanKesit[maddeninBaslayabilecegiYer]\n",
        "        if bulunanSayiyiOlusturacakParca in '0123456789':\n",
        "          bulunanSayi+=bulunanSayiyiOlusturacakParca\n",
        "        else:\n",
        "              break\n",
        "      if bulunanSayi!='':\n",
        "        if (int(bulunanSayi)<=(maddeSayisi+2)) and (int(bulunanSayi)>=(maddeSayisi-2)):\n",
        "          maddeSayisi += 1\n",
        "        elif int(bulunanSayi)<geciciMaddeSayisi+2:\n",
        "          geciciMaddeSayisi += 1\n",
        "        elif int(bulunanSayi)<ekMaddeSayisi2+2:\n",
        "          ekMaddeSayisi2 += 1\n",
        "    else:\n",
        "      ekMaddeninYeri = maddeninBaslayabilecegiYer+alinanKesit[maddeninBaslayabilecegiYer:].find('/')\n",
        "      if (ekMaddeninYeri<=(tireninBaslayabilecegiYer-2)) and ((tireninBaslayabilecegiYer-maddeninBaslayabilecegiYer)<=12):\n",
        "        ekMaddeSayisi += 1\n",
        "    aramaYapilacakYerinBasi+=maddeninBaslayabilecegiYer+5\n",
        "  maddeSayisi+=(geciciMaddeSayisi+ekMaddeSayisi+ekMaddeSayisi2)\n",
        "  if df['madde_sayisi'][ilgiliKayit]==0:\n",
        "    df.loc[ilgiliKayit,'madde_sayisi'] = maddeSayisi\n",
        "  else:\n",
        "    if maddeSayisi != df['madde_sayisi'][ilgiliKayit]:\n",
        "      kategoridekiHataliBelgeSayisi[kategorilerimiz.index(df[\"kategori\"][ilgiliKayit])] += 1\n",
        "\n",
        "for i in range(len(kategorilerimiz)):\n",
        "  print(kategorilerimiz[i],':',kategoridekiHataliBelgeSayisi[i],'/',kategoridekiToplamBelgeSayisi[i],'=',round(kategoridekiHataliBelgeSayisi[i]/kategoridekiToplamBelgeSayisi[i],3))\n",
        "print('Toplam Hata:',sum(kategoridekiHataliBelgeSayisi))\n",
        "print(\"Başarı oranı: \",(4142-sum(kategoridekiHataliBelgeSayisi))/4142)"
      ],
      "metadata": {
        "id": "hBnq5fvFribE",
        "outputId": "0d32b8a5-b7f9-42d5-dcc1-24237bcf0501",
        "colab": {
          "base_uri": "https://localhost:8080/"
        }
      },
      "execution_count": 17,
      "outputs": [
        {
          "output_type": "stream",
          "name": "stdout",
          "text": [
            "Özelge : 0 / 750 = 0.0\n",
            "Tebliğ : 0 / 623 = 0.0\n",
            "Yönetmelik : 18 / 597 = 0.03\n",
            "Resmi Gazete : 0 / 546 = 0.0\n",
            "Kanun : 36 / 514 = 0.07\n",
            "Komisyon Raporu : 0 / 500 = 0.0\n",
            "Genelge : 0 / 385 = 0.0\n",
            "Kanun Hükmünde Kararname : 9 / 91 = 0.099\n",
            "Tüzük : 19 / 82 = 0.232\n",
            "Cumhurbaşkanlığı Kararnamesi : 1 / 54 = 0.019\n",
            "Toplam Hata: 83\n",
            "Başarı oranı:  0.9799613713182037\n"
          ]
        }
      ]
    },
    {
      "cell_type": "markdown",
      "source": [
        "# **Çıkarım:**\n",
        "* Madde Sayısı 0 olarak doldurulmuş verileri düzelttiğimizde hata sayımız 83 hataya düşmüştür. Başka bir değişle güncel kural bazlı sistemimiz **0.97** başarı oranı ile belgedeki madde sayısını doğru bir şekilde tespit etmektedir.\n",
        "\n",
        "* Güncellenmiş kural bazlı madde sayısı bulma yöntemimiz madde sayısı 0 girilen kayıtları bizim bulduğumuz sayı ile güncelledikten sonra yine **Özelge** kategorisinde **hatasız** çalışmaktadır.\n",
        "* (ÖNEMLİ BULGU) Güncellenmiş kural bazlı madde sayısı bulma yöntemimiz madde sayısı 0 girilen kayıtları bizim bulduğumuz sayı ile güncelledikten sonra artık **Tebliğ**, **Resmi Gazete**, **Komisyon Raporu** ve **Genelge** kategorilerinde de **hatasız** çalışmaktadır.\n",
        "* Güncellenmiş kural bazlı madde sayısı bulma yöntemimiz madde sayısı 0 girilen kayıtları bizim bulduğumuz sayı ile güncelledikten sonra **Yönetmelik** kategorisinde hata oranında **DEĞİŞİKLİK OLMADAN** (18/597) **hatalı / istisnai hata** ile çalışmaktadır.\n",
        "* Güncellenmiş kural bazlı madde sayısı bulma yöntemimiz madde sayısı 0 girilen kayıtları bizim bulduğumuz sayı ile güncelledikten sonra **Kanun** kategorisinde hata oranında **DEĞİŞİKLİK OLMADAN** (36/514) **hatalı** çalışmaya devam etmektedir.\n",
        "* Güncellenmiş kural bazlı madde sayısı bulma yöntemimiz madde sayısı 0 girilen kayıtları bizim bulduğumuz sayı ile güncelledikten sonra **Kanun Hükmünde Kararname** kategorisinde hata oranında **DEĞİŞİKLİK OLMADAN** (9/91) **hatalı** çalışmaya devam etmektedir.\n",
        "* Güncellenmiş kural bazlı madde sayısı bulma yöntemimiz madde sayısı 0 girilen kayıtları bizim bulduğumuz sayı ile güncelledikten sonra **Tüzük** kategorisinde hata oranında **DEĞİŞİKLİK OLMADAN** (19/82) **hatalı** çalışmaya devam etmektedir.\n",
        "* Güncellenmiş kural bazlı madde sayısı bulma yöntemimiz madde sayısı 0 girilen kayıtları bizim bulduğumuz sayı ile güncelledikten sonra **Cumhurbaşkanlığı Kararnamesi** kategorisinde hata oranında **DEĞİŞİKLİK OLMADAN** (1/54) **hatalı** çalışmaya devam etmektedir.\n",
        "\n",
        "* Bu 83 kayıda bakarak neyi madde olarak saymadığımızı kontrol edeceğiz. Bu kontrolü de önce maddeleri eksik mi sayıyoruz yoksa fazla mı sayıyoruz diye kontrol edeceğiz."
      ],
      "metadata": {
        "id": "HZSWZ1QN3RJt"
      }
    },
    {
      "cell_type": "code",
      "source": [
        "# 221 Kayıtta EKSİK saydığımız madde mi var yoksa fazla saydığımız madde mi var?\n",
        "# Güncel kural bazlı yöntemimiz ile hem madde sayısını bulacağız hem de eğer madde sayısı veri kümesinde 0 olarak girilmişse o veriyi bizim kural bazlı yöntemimiz ile bulduğumuz sayı ile dolduralım. \n",
        "\n",
        "maddeSayisiEksikSayilanBelgeSayisi = 0\n",
        "birFarkOlanBelgeSayisi = 0\n",
        "maddeSayisiFazlaSayilanBelgeSayisi = 0\n",
        "\n",
        "satirToplami, sutunToplami = df.shape\n",
        "\n",
        "kategorilerimiz = df[\"kategori\"].value_counts().index.values.tolist()\n",
        "kategoridekiToplamBelgeSayisi = df[\"kategori\"].value_counts().tolist()\n",
        "kategoridekiHataliBelgeSayisi = [0] * len(kategorilerimiz)\n",
        "\n",
        "for ilgiliKayit in range(satirToplami):\n",
        "  # Sadece madde sayısını bulmamız istenen kategorilerde arama yapıyoruz\n",
        "  if df[\"kategori\"][ilgiliKayit] in [\"Özelge\",\"Tebliğ\",\"Resmi Gazete\",\"Komisyon Raporu\",\"Genelge\"]:\n",
        "    pass\n",
        "  else:\n",
        "    # İlk değer olarak maddeSayisi değişkenimize madde yoktur manasında 0 'SIFIR' veriyoruz.\n",
        "    maddeSayisi = 0\n",
        "    # YÖNTEMİMİZİ GELİŞTİRİYORUZ\n",
        "    geciciMaddeSayisi = 0 # Geçici Madde 1 gibi verilen ek madde\n",
        "    ekMaddeSayisi = 0 # Madde içinde 10/a gibi verilen ek madde\n",
        "    ekMaddeSayisi2 = 0 # Ek Madde 1 gibi verilen ek madde\n",
        "    hataliMaddeSayisi = 0\n",
        "    # İlk maddenin başladığı yerden itibaren belirli aralıklarla MADDE SAYMAYA başlıyoruz!\n",
        "    ilkMaddeninBasladigiYer = df['data_text'][ilgiliKayit].find('Madde 1')\n",
        "    if ilkMaddeninBasladigiYer==-1:\n",
        "      continue\n",
        "    verininBuyuklugu = len(df['data_text'][ilgiliKayit])\n",
        "\n",
        "    # Aramaya baslayacağımız yeri belirliyoruz.\n",
        "    aramaYapilacakYerinBasi = ilkMaddeninBasladigiYer\n",
        "\n",
        "    while (aramaYapilacakYerinBasi<verininBuyuklugu):\n",
        "      bulunanSayi = ''\n",
        "      alinanKesit = df['data_text'][ilgiliKayit][aramaYapilacakYerinBasi:]\n",
        "      maddeninBaslayabilecegiYer = alinanKesit.find('Madde')\n",
        "      tireninBaslayabilecegiYer = maddeninBaslayabilecegiYer+alinanKesit[maddeninBaslayabilecegiYer:].find('–')\n",
        "      if (tireninBaslayabilecegiYer-maddeninBaslayabilecegiYer)<=10:\n",
        "        eskiMaddeIndex = maddeninBaslayabilecegiYer\n",
        "        maddeninBaslayabilecegiYer+=5\n",
        "        while maddeninBaslayabilecegiYer<tireninBaslayabilecegiYer:\n",
        "          maddeninBaslayabilecegiYer+=1\n",
        "          bulunanSayiyiOlusturacakParca = alinanKesit[maddeninBaslayabilecegiYer]\n",
        "          if bulunanSayiyiOlusturacakParca in '0123456789ABCÇDEFGĞHIİJKLMNOÖPRSŞTUÜVYZ':\n",
        "            bulunanSayi+=bulunanSayiyiOlusturacakParca\n",
        "          else:\n",
        "                break\n",
        "        if bulunanSayi!='':\n",
        "           try:\n",
        "            if (int(bulunanSayi)<=(maddeSayisi+2)) and (int(bulunanSayi)>=(maddeSayisi-2)):\n",
        "              maddeSayisi += 1\n",
        "            elif int(bulunanSayi)<geciciMaddeSayisi+2:\n",
        "              geciciMaddeSayisi += 1\n",
        "            elif int(bulunanSayi)<ekMaddeSayisi2+2:\n",
        "              ekMaddeSayisi2 += 1\n",
        "           except:\n",
        "             hataliMaddeSayisi += 1\n",
        "        elif alinanKesit[eskiMaddeIndex-7:eskiMaddeIndex-1] == \"Geçici\":\n",
        "          geciciMaddeSayisi += 1\n",
        "        \n",
        "      else:\n",
        "        ekMaddeninYeri = maddeninBaslayabilecegiYer+alinanKesit[maddeninBaslayabilecegiYer:].find('/')\n",
        "        if (ekMaddeninYeri<=(tireninBaslayabilecegiYer-2)) and ((tireninBaslayabilecegiYer-maddeninBaslayabilecegiYer)<=12):\n",
        "          ekMaddeSayisi += 1\n",
        "      aramaYapilacakYerinBasi+=maddeninBaslayabilecegiYer+5\n",
        "    maddeSayisi+=(geciciMaddeSayisi+ekMaddeSayisi+ekMaddeSayisi2+hataliMaddeSayisi)\n",
        "\n",
        "    if df['madde_sayisi'][ilgiliKayit]==0:\n",
        "      df.loc[ilgiliKayit,'madde_sayisi'] = maddeSayisi\n",
        "    else:\n",
        "      if maddeSayisi != df['madde_sayisi'][ilgiliKayit]:\n",
        "        kategoridekiHataliBelgeSayisi[kategorilerimiz.index(df[\"kategori\"][ilgiliKayit])] += 1\n",
        "        #print('Kayıt No:',ilgiliKayit,'Olması Gereken:',df['madde_sayisi'][ilgiliKayit],'Tahmin:',maddeSayisi,'Kategori:',df['kategori'][ilgiliKayit])\n",
        "        if df['madde_sayisi'][ilgiliKayit]>maddeSayisi:\n",
        "          maddeSayisiEksikSayilanBelgeSayisi += 1\n",
        "        else:\n",
        "          maddeSayisiFazlaSayilanBelgeSayisi += 1\n",
        "        if abs(df['madde_sayisi'][ilgiliKayit]-maddeSayisi)==1:\n",
        "          birFarkOlanBelgeSayisi += 1\n",
        "\n",
        "for i in range(len(kategorilerimiz)):\n",
        "  print(kategorilerimiz[i],':',kategoridekiHataliBelgeSayisi[i],'/',kategoridekiToplamBelgeSayisi[i],'=',round(kategoridekiHataliBelgeSayisi[i]/kategoridekiToplamBelgeSayisi[i],3))\n",
        "\n",
        "print('Toplam Hata:',sum(kategoridekiHataliBelgeSayisi))\n",
        "print(\"Başarı oranı: \",(4142-sum(kategoridekiHataliBelgeSayisi))/4142)\n",
        "\n",
        "print('Madde sayısı eksik tahmin edilen belge sayısı:',maddeSayisiEksikSayilanBelgeSayisi)\n",
        "print('Madde sayısı fazla tahmin edilen belge sayısı:',maddeSayisiFazlaSayilanBelgeSayisi)\n",
        "print('Madde sayısı 1 madde fark ile yanlış tespit edilen belge sayısı:',birFarkOlanBelgeSayisi)"
      ],
      "metadata": {
        "id": "uU0pTqiR4pY0",
        "outputId": "3b4f04c5-b24e-4e50-e4e7-c5004d81ce0a",
        "colab": {
          "base_uri": "https://localhost:8080/"
        }
      },
      "execution_count": 18,
      "outputs": [
        {
          "output_type": "stream",
          "name": "stdout",
          "text": [
            "Özelge : 0 / 750 = 0.0\n",
            "Tebliğ : 0 / 623 = 0.0\n",
            "Yönetmelik : 8 / 597 = 0.013\n",
            "Resmi Gazete : 0 / 546 = 0.0\n",
            "Kanun : 20 / 514 = 0.039\n",
            "Komisyon Raporu : 0 / 500 = 0.0\n",
            "Genelge : 0 / 385 = 0.0\n",
            "Kanun Hükmünde Kararname : 5 / 91 = 0.055\n",
            "Tüzük : 6 / 82 = 0.073\n",
            "Cumhurbaşkanlığı Kararnamesi : 1 / 54 = 0.019\n",
            "Toplam Hata: 40\n",
            "Başarı oranı:  0.9903428295509416\n",
            "Madde sayısı eksik tahmin edilen belge sayısı: 38\n",
            "Madde sayısı fazla tahmin edilen belge sayısı: 2\n",
            "Madde sayısı 1 madde fark ile yanlış tespit edilen belge sayısı: 22\n"
          ]
        }
      ]
    },
    {
      "cell_type": "markdown",
      "source": [
        "# **Çıkarım:**\n",
        "\n",
        "* En son eklenen değişikliklerle beraber hata sayımız 40 hataya düşmüştür. Başka bir değişle güncel kural bazlı sistemimiz **0.99** başarı oranı ile belgedeki madde sayısını doğru bir şekilde tespit etmektedir.\n",
        "\n",
        "* (ÖNEMLÜ BULGU) Güncellenmiş kural bazlı madde sayısı bulma yöntemimiz artık **Özelge**, **Tebliğ**, **Resmi Gazete**, **Komisyon Raporu** ve **Genelge** kategorilerinde **hatasız** çalışmaktadır.\n",
        "* (ÖNEMLİ BULGU) Güncellenmiş kural bazlı madde sayısı bulma yöntemimiz  artık **Yönetmekik**, **Kanun**, **Kanun Hükmünde Kararname**, **Tüzük** ve **Cumhurbaşkanlığı Kararnamesi** kategorilerinde de **istisnai hatalı** çalışmaktadır.\n",
        "\n",
        "* Bu 40 kayıda bakarak neyi madde olarak saymadığımızı kontrol edeceğiz. Bu kontrolü de önce maddeleri eksik mi sayıyoruz yoksa fazla mı sayıyoruz diye kontrol edeceğiz.\n",
        "\n",
        "# **Yaptığımız Kontroller Sonucunda:**\n",
        "- Toplam 40 hatanın 38 tanesinde madde sayısını eksik tahmin ediyoruz yani sayamadığımız maddeler var.\n",
        "- 2 tane hatada da olmayan yani fazladan saydığımız madde var.\n",
        "- Toplam 40 hatadan 22 tanesinde de 1 madde fark ile madde sayısını yanlış tespit ediyoruz.\n",
        "\n",
        "# **En Son Elde Edilen Verilerin Tablosu:**\n",
        "\n",
        "|Kategori|Toplam Belge|Doğru|Yanlış|Doğruluk Oranı|\n",
        "|---|---|---|---|---|\n",
        "|Kanun|514|494|20|0.961|\n",
        "|KHK|91|86|5|0.945|\n",
        "|Resmi Gazete|546|546|0|1.0|\n",
        "|Komisyon Raporu|500|500|0|1.0|\n",
        "|Genelge|385|385|0|1.0|\n",
        "|Cumhurbaşkanlığı Kararnamesi|54|53|1|0.981|\n",
        "|Tüzük|82|76|6|0.927|\n",
        "|Yönetmelik|597|589|8|0.987|\n",
        "|Tebliğ|623|623|0|1.0|\n",
        "|Özelge|750|750|0|1.0|\n"
      ],
      "metadata": {
        "id": "n2KExEvxJaco"
      }
    }
  ]
}
