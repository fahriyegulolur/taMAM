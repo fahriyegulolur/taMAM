{
  "nbformat": 4,
  "nbformat_minor": 0,
  "metadata": {
    "colab": {
      "name": "aramaProjesiMaddeSayisiBulmaModülü2.ipynb",
      "provenance": [],
      "collapsed_sections": []
    },
    "kernelspec": {
      "name": "python3",
      "display_name": "Python 3"
    },
    "language_info": {
      "name": "python"
    }
  },
  "cells": [
    {
      "cell_type": "markdown",
      "source": [
        "Veri işleme ve analizi için pandas kütüphanesi kullanılacaktır. Pandas kütüphanesi pd rumuzu ile kısaltılmıştır."
      ],
      "metadata": {
        "id": "-IES9ZGkHVNH"
      }
    },
    {
      "cell_type": "code",
      "execution_count": 1,
      "metadata": {
        "id": "D4DSrSk9PiW8"
      },
      "outputs": [],
      "source": [
        "import pandas as pd"
      ]
    },
    {
      "cell_type": "markdown",
      "source": [
        "Verilerimiz Google Drive (bulut) üzerinde olduğu için Google Colab ile Google Drive arasında bağlantı kurulacaktır."
      ],
      "metadata": {
        "id": "-duDlDDyIIYp"
      }
    },
    {
      "cell_type": "code",
      "source": [
        "from google.colab import drive\n",
        "drive.mount('/content/drive/')"
      ],
      "metadata": {
        "id": "g8ZpPY4-Pmv1"
      },
      "execution_count": null,
      "outputs": []
    },
    {
      "cell_type": "markdown",
      "source": [
        "Google Drive içinde Colab Notebooks klasörünün içinde TDDI2022 isimli klasörde verilerimizi sakladığımız için bu klasöre erişilecektir.\n",
        "\n",
        "***NOT:*** Bu klasörü daha önce oluşturmadıysanız %md TDDI2022 komutu veya Google Drive Ara Yüzü ile klasörü oluşturunuz!"
      ],
      "metadata": {
        "id": "gmXrHZE_IShv"
      }
    },
    {
      "cell_type": "code",
      "source": [
        "%cd drive/\n",
        "%cd MyDrive/\n",
        "%cd Colab Notebooks/\n",
        "# Google Drive içinde Colab Notebooks klasörünün içinde TDDI2022 diye bir klasör oluşturduktan sonra o klasöre erişiyoruz.\n",
        "# Bu klasörü daha önce oluşturmadıysanız %md TDDI2022 komutu veya Google Drive Ara Yüzü ile klasörü oluşturunuz!\n",
        "%cd TDDI2022/\n",
        "\n",
        "# Klasörün içeriğinin görülmesi için\n",
        "%ls"
      ],
      "metadata": {
        "id": "h47_PvbxT9QD"
      },
      "execution_count": null,
      "outputs": []
    },
    {
      "cell_type": "markdown",
      "source": [
        "Veri İskeleti TDDI2022 klasöründe bulunan yarışma kapsamında yarışmacılara sağlanan **kanunum-nlp-doc-analysis-dataset.csv** dosyasının içindeki verileri pandas ile okuyarak oluşturulacaktır.\n",
        "\n",
        "Veri iskeleti oluşturulduktan sonra veri iskeleti ile ilgili bilgi ekrana yazdırılacaktır. Tam özetin yazdırılıp yazdırılmayacağı durumunu *verbose=True* (yazdırılsın) parametresi ile kontrol edilecektir. "
      ],
      "metadata": {
        "id": "_2QYxVBFIaZg"
      }
    },
    {
      "cell_type": "code",
      "source": [
        "df = pd.read_csv('kanunum-nlp-doc-analysis-dataset.csv')\n",
        "df.info(verbose=True)"
      ],
      "metadata": {
        "id": "ZMriHlEGPqbV"
      },
      "execution_count": null,
      "outputs": []
    },
    {
      "cell_type": "markdown",
      "source": [
        "Veri İskeletinde **kategori** sütununun / alanının kaç gruptan ve bu grupların kaç satırdan / kayıttan oluştuğu ekrana yazdırılacaktır."
      ],
      "metadata": {
        "id": "Et0WqWiPIf9g"
      }
    },
    {
      "cell_type": "code",
      "source": [
        "print(df.groupby('kategori').size())"
      ],
      "metadata": {
        "id": "VzFXWPNMX6Sb"
      },
      "execution_count": null,
      "outputs": []
    },
    {
      "cell_type": "markdown",
      "source": [
        "Veriler üzerinde yaptığımız ön çalışmada (ekrana data_text sütunundan / alanından bir kaç satır yazdırılmış ve içerikleri incelenmiştir) veri kümesinin data_text sütunundaki / alanındaki içerik iki parçaya ayrılabileceği görülmüştür. Böylelikle data_text sütunu / alanı işlenirken belgeye ait bilgiler birinci parçada belgenin içeriği ikinci parçada görülebilir. Tüm data_text kayıtlarında yer alan ortak bir noktanın varlığını kontrol etmek için aşağıdaki kod yardımı ile resmi belgelerin hepsinde 'Madde 1 -' verisi var mı?"
      ],
      "metadata": {
        "id": "drTU7NWSIjin"
      }
    },
    {
      "cell_type": "code",
      "source": [
        "kayitSayisi, alanSayisi = df.shape\n",
        "say = 0\n",
        "satirToplami, sutunToplami = df.shape\n",
        "for satir in range(satirToplami):\n",
        "  if df['data_text'][satir].find('Madde 1 -'):\n",
        "    say+=1\n",
        "if say==kayitSayisi:\n",
        "  print(say,'=',kayitSayisi,'yani data_text alanındaki toplam kayıt sayısı ve her bir kayıtta \"Madde 1 -\" verisini içeren kayıt sayısı birbirine eşittir.')\n",
        "else:\n",
        "  print('Tüm kayıtlarda aranan veri bulunamamıştır.')"
      ],
      "metadata": {
        "id": "ttq0BAf2KQ3_"
      },
      "execution_count": null,
      "outputs": []
    },
    {
      "cell_type": "markdown",
      "source": [
        "Yukarıdaki bulgular doğrultusunda örnek bir kaydı ikiye bölerek **belge ile ilgili verileri toplayabileceğimiz içerik kısmı** görelim. Yine bu içerik kısmında kaç adet madde olduğunu görmek için madde_sayisi alanındaki veriyi de ekrana yazdıralım."
      ],
      "metadata": {
        "id": "hANA6at5KUOm"
      }
    },
    {
      "cell_type": "code",
      "source": [
        "satir = 1881\n",
        "print('Dokümandaki Madde Sayısı:',df['madde_sayisi'][satir],'\\n',50*'-','\\nİçerik kısmı:',df['data_text'][satir][df['data_text'][satir].find('Madde 1'):],sep='')"
      ],
      "metadata": {
        "id": "nhrQLfrOF35t"
      },
      "execution_count": null,
      "outputs": []
    },
    {
      "cell_type": "markdown",
      "source": [
        "1881 indis numaralı kayıtta 58 adet madde olduğunu gördük. Şimdi kural bazlı olarak bu kayıt üzerinde madde saydıracağız.\n",
        "\n",
        "Kuralımız: - Maddeyi bul madde bir önceki maddenin ardışık olarak takip ettiği madde ise örneğin bulduğumuz madde 5. madde olsun ve şimdiye kadar 4 madde saymış olalım 5. maddeyi madde olarak sayacak ve bu kayıtla blirlikte 5 madde sayılmış olacaktır. Aynı durum ek madde ve geçici maddeler için de uygulanabilirdir.\n",
        "\n",
        "Şimdi kuralımız gerçekten anlatığımız gibi çalışıp 1881 indisli kayıtta 58 madde bulabilecek mi inceleyelim."
      ],
      "metadata": {
        "id": "T4d6e96lMrZm"
      }
    },
    {
      "cell_type": "code",
      "source": [
        "# data_text alanının 1881 indisli satırında madde sayamaya çalışalım!\n",
        "satir = 1881\n",
        "\n",
        "ilkMaddeninBasladigiYer = df['data_text'][satir].find('Madde 1')\n",
        "verininBuyuklugu = len(df['data_text'][satir])\n",
        "# İlk maddenin başladığı yerden itibaren belirli aralıklarla MADDE SAYMAYA başlıyoruz!\n",
        "# İlk değer olarak maddeSayisi değişkenimize madde yoktur manasında 0 'SIFIR' veriyoruz.\n",
        "maddeSayisi = 0\n",
        "\n",
        "# aramaya baslayacağımız yeri belirliyoruz.,\n",
        "aramaYapilacakYerinBasi = ilkMaddeninBasladigiYer\n",
        "\n",
        "while (aramaYapilacakYerinBasi<verininBuyuklugu):\n",
        "  print('maddeSayisi:',maddeSayisi)\n",
        "  bulunanSayi = ''\n",
        "  alinanKesit = df['data_text'][satir][aramaYapilacakYerinBasi:]\n",
        "  maddeninBaslayabilecegiYer = alinanKesit.find('Madde')\n",
        "  print('maddeninBaslayabilecegiYer:',maddeninBaslayabilecegiYer)\n",
        "  tireninBaslayabilecegiYer = maddeninBaslayabilecegiYer+alinanKesit[maddeninBaslayabilecegiYer:].find('–')\n",
        "  print('tireninBaslayabilecegiYer:',tireninBaslayabilecegiYer)\n",
        "  if (tireninBaslayabilecegiYer-maddeninBaslayabilecegiYer)<=10:\n",
        "    maddeninBaslayabilecegiYer+=5\n",
        "    while maddeninBaslayabilecegiYer<tireninBaslayabilecegiYer:\n",
        "      maddeninBaslayabilecegiYer+=1\n",
        "      bulunanSayiyiOlusturacakParca = alinanKesit[maddeninBaslayabilecegiYer]\n",
        "      print(bulunanSayiyiOlusturacakParca)\n",
        "      if bulunanSayiyiOlusturacakParca in '0123456789':\n",
        "        bulunanSayi+=bulunanSayiyiOlusturacakParca\n",
        "      else:\n",
        "            break\n",
        "    if bulunanSayi!='':\n",
        "      if (int(bulunanSayi)<=(maddeSayisi+2)) and (int(bulunanSayi)>=(maddeSayisi-2)):\n",
        "        maddeSayisi += int(bulunanSayi)-maddeSayisi\n",
        "  aramaYapilacakYerinBasi+=maddeninBaslayabilecegiYer+5\n",
        "print(satir,'indis numarasına sahip kayıtta olması gereken madde sayısı:',df['madde_sayisi'][satir])\n",
        "print(satir,'indis numarasına sahip kayıtta kural bazlı yöntemimizin bulduğu madde sayısı:',maddeSayisi)"
      ],
      "metadata": {
        "id": "uDSkSMJAAlIC"
      },
      "execution_count": null,
      "outputs": []
    },
    {
      "cell_type": "markdown",
      "source": [
        "Kuralımızın çalıştığını 1881 indis sayılı belge için görmüş olduk.\n",
        "\n",
        "# **ÇIKARIM:**\n",
        "- Yarışma kapsamında sağlanan veri kümesinin data_text alanında \"Madde 1 -\" verisine sahip olmayan kayıt/satır yoktur.\n",
        "- 'Madde' kelimesi ile '-' karakteri arasında 3 basamaklı olacak şekilde sayı varsa bunu mevcut fonksiyonumuz ile tespit edebiliyoruz.\n",
        "- data_text alanında farklı kayıtlara bakıldığında ve yarışma kapsamında yarışmacılara iletilen README.md dosyası incelendiğinde **geçici maddeler**, **ek maddeler** ve **işlenmeyen hükümlerin maddeleri** gibi maddelerin de olduğu ve madde sayısına etki ettikleri görülmüştür."
      ],
      "metadata": {
        "id": "wJfHUsTkPC0-"
      }
    },
    {
      "cell_type": "code",
      "source": [
        "# data_text alanında mevcut yöntemimizle madde sayılarını kontrol edelim.\n",
        "# Olması gereken ile tahmin ettiğimiz değerlerin birbirlerine eşit olmadığı belge sayısını ve türünü ortaya çıkartalım.\n",
        "\n",
        "satirToplami, sutunToplami = df.shape\n",
        "\n",
        "kategorilerimiz = df[\"kategori\"].value_counts().index.values.tolist()\n",
        "kategoridekiToplamBelgeSayisi = df[\"kategori\"].value_counts().tolist()\n",
        "kategoridekiHataliBelgeSayisi = [0] * len(kategorilerimiz)\n",
        "\n",
        "for ilgiliKayit in range(satirToplami):\n",
        "  # İlk değer olarak maddeSayisi değişkenimize madde yoktur manasında 0 'SIFIR' veriyoruz.\n",
        "  maddeSayisi = 0\n",
        "  # İlk maddenin başladığı yerden itibaren belirli aralıklarla MADDE SAYMAYA başlıyoruz!\n",
        "  ilkMaddeninBasladigiYer = df['data_text'][ilgiliKayit].find('Madde 1')\n",
        "  if ilkMaddeninBasladigiYer==-1:\n",
        "    continue\n",
        "  verininBuyuklugu = len(df['data_text'][ilgiliKayit])\n",
        "\n",
        "  # aramaya baslayacağımız yeri belirliyoruz.,\n",
        "  aramaYapilacakYerinBasi = ilkMaddeninBasladigiYer\n",
        "\n",
        "  while (aramaYapilacakYerinBasi<verininBuyuklugu):\n",
        "    bulunanSayi = ''\n",
        "    alinanKesit = df['data_text'][ilgiliKayit][aramaYapilacakYerinBasi:]\n",
        "    maddeninBaslayabilecegiYer = alinanKesit.find('Madde')\n",
        "    tireninBaslayabilecegiYer = maddeninBaslayabilecegiYer+alinanKesit[maddeninBaslayabilecegiYer:].find('–')\n",
        "    if (tireninBaslayabilecegiYer-maddeninBaslayabilecegiYer)<=10:\n",
        "      maddeninBaslayabilecegiYer+=5\n",
        "      while maddeninBaslayabilecegiYer<tireninBaslayabilecegiYer:\n",
        "        maddeninBaslayabilecegiYer+=1\n",
        "        bulunanSayiyiOlusturacakParca = alinanKesit[maddeninBaslayabilecegiYer]\n",
        "        if bulunanSayiyiOlusturacakParca in '0123456789':\n",
        "          bulunanSayi+=bulunanSayiyiOlusturacakParca\n",
        "        else:\n",
        "              break\n",
        "      if bulunanSayi!='':\n",
        "        if (int(bulunanSayi)<=(maddeSayisi+2)) and (int(bulunanSayi)>=(maddeSayisi-2)):\n",
        "          maddeSayisi += int(bulunanSayi)-maddeSayisi\n",
        "    aramaYapilacakYerinBasi+=maddeninBaslayabilecegiYer+5\n",
        "  if maddeSayisi != df['madde_sayisi'][ilgiliKayit]:\n",
        "    kategoridekiHataliBelgeSayisi[kategorilerimiz.index(df[\"kategori\"][ilgiliKayit])] += 1\n",
        "\n",
        "for i in range(len(kategorilerimiz)):\n",
        "  print(kategorilerimiz[i],':',kategoridekiHataliBelgeSayisi[i],'/',kategoridekiToplamBelgeSayisi[i],'=',round(kategoridekiHataliBelgeSayisi[i]/kategoridekiToplamBelgeSayisi[i],3))\n",
        "print('Toplam Hata:',sum(kategoridekiHataliBelgeSayisi))"
      ],
      "metadata": {
        "id": "Ycva4psKQqO3"
      },
      "execution_count": null,
      "outputs": []
    },
    {
      "cell_type": "markdown",
      "source": [
        "# **ÇIKARIM:**\n",
        "\n",
        "* Kural bazlı madde sayısı bulma yöntemimiz belgelerdeki madde sayısını **0.76** başarı oranında doğru tespit etmektedir. **3159** belgenin madde sayısını doğru olarak bulmakla birlikte **983** belgenin madde sayısını da olması gereken madde sayısından farklı bir sayıda bulmuştur.\n",
        "* Kural bazlı madde sayısı bulma yöntemimiz **Özelge** kategorisinde **hatasız** çalışmaktadır.\n",
        "* Kural bazlı madde sayısı bulma yöntemimiz **Komisyon Raporu** (12/500) ve **Resmi Gazete** (2/546) kategorilerinde **istisnai hata** ile çalışmaktadır.\n",
        "* Kural bazlı madde sayısı bulma yöntemimiz **Kanun Hükmünde Kararname** (24/91) ve **Cumhurbaşkanlığı Kararnamesi** (21/54) kategorilerinde **hatalı** çalıştığı tespit edilmiştir.\n",
        "* Mevcut yöntemimizin Tebliğ, Yönetmelik, Kanun ve Tüzük kategorilerinde 0.46 - 0.57 arası hata oranında başka bir değişle kabul edilemez büyüklükte bir hata oranında çalıştığı tespit edilmiştir. Bu dört kategorinin içindeki verileri inceleyip yöntemimizi güncelleyeceğiz."
      ],
      "metadata": {
        "id": "N1zVrXRGkg1Z"
      }
    },
    {
      "cell_type": "code",
      "source": [
        "# data_text alanında mevcut yöntemimizi GEÇİCİ MADDELERİ ve EK MADDELERİ göz önüne alarak madde sayısı hangi doğrulukta bulduğunu kontrol edelim.\n",
        "# Olması gereken ile tahmin ettiğimiz değerlerin birbirlerine eşit olmadığı belge sayısını ve türünü yeniden hesaplayalım.\n",
        "\n",
        "satirToplami, sutunToplami = df.shape\n",
        "\n",
        "kategorilerimiz = df[\"kategori\"].value_counts().index.values.tolist()\n",
        "kategoridekiToplamBelgeSayisi = df[\"kategori\"].value_counts().tolist()\n",
        "kategoridekiHataliBelgeSayisi = [0] * len(kategorilerimiz)\n",
        "\n",
        "for ilgiliKayit in range(satirToplami):\n",
        "\n",
        "  # İlk değer olarak maddeSayisi değişkenimize madde yoktur manasında 0 'SIFIR' veriyoruz.\n",
        "  maddeSayisi = 0\n",
        "  # YÖNTEMİMİZİ GELİŞTİRİYORUZ\n",
        "  geciciMaddeSayisi = 0 # Geçici Madde 1 gibi verilen ek madde\n",
        "  ekMaddeSayisi = 0 # Madde içinde 10/a gibi verilen ek madde\n",
        "  ekMaddeSayisi2 = 0 # Ek Madde 1 gibi verilen ek madde\n",
        "  # İlk maddenin başladığı yerden itibaren belirli aralıklarla MADDE SAYMAYA başlıyoruz!\n",
        "  ilkMaddeninBasladigiYer = df['data_text'][ilgiliKayit].find('Madde 1')\n",
        "  if ilkMaddeninBasladigiYer==-1:\n",
        "    continue\n",
        "  verininBuyuklugu = len(df['data_text'][ilgiliKayit])\n",
        "\n",
        "  # Aramaya baslayacağımız yeri belirliyoruz.\n",
        "  aramaYapilacakYerinBasi = ilkMaddeninBasladigiYer\n",
        "\n",
        "  while (aramaYapilacakYerinBasi<verininBuyuklugu):\n",
        "    bulunanSayi = ''\n",
        "    alinanKesit = df['data_text'][ilgiliKayit][aramaYapilacakYerinBasi:]\n",
        "    maddeninBaslayabilecegiYer = alinanKesit.find('Madde')\n",
        "    tireninBaslayabilecegiYer = maddeninBaslayabilecegiYer+alinanKesit[maddeninBaslayabilecegiYer:].find('–')\n",
        "    if (tireninBaslayabilecegiYer-maddeninBaslayabilecegiYer)<=10:\n",
        "      maddeninBaslayabilecegiYer+=5\n",
        "      while maddeninBaslayabilecegiYer<tireninBaslayabilecegiYer:\n",
        "        maddeninBaslayabilecegiYer+=1\n",
        "        bulunanSayiyiOlusturacakParca = alinanKesit[maddeninBaslayabilecegiYer]\n",
        "        if bulunanSayiyiOlusturacakParca in '0123456789':\n",
        "          bulunanSayi+=bulunanSayiyiOlusturacakParca\n",
        "        else:\n",
        "              break\n",
        "      if bulunanSayi!='':\n",
        "        if (int(bulunanSayi)<=(maddeSayisi+2)) and (int(bulunanSayi)>=(maddeSayisi-2)):\n",
        "          maddeSayisi += int(bulunanSayi)-maddeSayisi\n",
        "        elif int(bulunanSayi)<geciciMaddeSayisi+2:\n",
        "          geciciMaddeSayisi += int(bulunanSayi)-geciciMaddeSayisi\n",
        "        elif int(bulunanSayi)<ekMaddeSayisi2+2:\n",
        "          ekMaddeSayisi2 += int(bulunanSayi)-ekMaddeSayisi2\n",
        "    else:\n",
        "      ekMaddeninYeri = maddeninBaslayabilecegiYer+alinanKesit[maddeninBaslayabilecegiYer:].find('/')\n",
        "      if (ekMaddeninYeri<=(tireninBaslayabilecegiYer-2)) and ((tireninBaslayabilecegiYer-maddeninBaslayabilecegiYer)<=12):\n",
        "        ekMaddeSayisi += 1\n",
        "    aramaYapilacakYerinBasi+=maddeninBaslayabilecegiYer+5\n",
        "  maddeSayisi+=(geciciMaddeSayisi+ekMaddeSayisi+ekMaddeSayisi2)\n",
        "  if maddeSayisi != df['madde_sayisi'][ilgiliKayit]:\n",
        "    kategoridekiHataliBelgeSayisi[kategorilerimiz.index(df[\"kategori\"][ilgiliKayit])] += 1\n",
        "\n",
        "for i in range(len(kategorilerimiz)):\n",
        "  print(kategorilerimiz[i],':',kategoridekiHataliBelgeSayisi[i],'/',kategoridekiToplamBelgeSayisi[i],'=',round(kategoridekiHataliBelgeSayisi[i]/kategoridekiToplamBelgeSayisi[i],3))\n",
        "print('Toplam Hata:',sum(kategoridekiHataliBelgeSayisi))"
      ],
      "metadata": {
        "id": "nXYa_lHpu-lt"
      },
      "execution_count": null,
      "outputs": []
    },
    {
      "cell_type": "markdown",
      "source": [
        "# **ÇIKARIM:**\n",
        "\n",
        "* GEÇİCİ MADDELERİ ve EK MADDELERİ göz önüne alarak güncellediğimiz kural bazlı madde sayısı bulma yöntemimiz belgelerdeki madde sayısını **0.86** başarı oranında doğru tespit etmektedir. **3550** belgenin madde sayısını doğru olarak bulmakla birlikte **592** belgenin madde sayısını da olması gereken madde sayısından farklı bir sayıda bulmuştur.\n",
        "* Güncellenmiş kural bazlı madde sayısı bulma yöntemimiz yine **Özelge** kategorisinde **hatasız** çalışmaktadır.\n",
        "* Güncellenmiş kural bazlı madde sayısı bulma yöntemimiz **Komisyon Raporu** kategorisinde hata oranını 12 hatadan 14 hataya çıkartarak (14/500) ve **Resmi Gazete** kategorisinde bir önceki yöntem bulgularını değiştirmeden (2/546) **istisnai hata** ile çalışmaktadır.\n",
        "* Güncellenmiş kural bazlı madde sayısı bulma yöntemimiz **Kanun Hükmünde Kararname** kategorisinde hata oranını 24 hatadan 12 hataya düşürerek (12/91) ve **Cumhurbaşkanlığı Kararnamesi** kategorisinde hata oranını 21 hatadan 6 hataya düşürerek (6/54) kategorilerinde **hatalı** çalıştığı tespit edilmiştir.\n",
        "* Güncellenmiş kural bazlı madde sayısı bulma yöntemimiz **Yönetmelik** kategorisinde önemli bir düşüş sağlamıştır. Hata oranını 274 hatadan 48 hataya düşürerek (48/597) **istisnai hata** ile çalışmaktadır.\n",
        "* Güncellenmiş kural bazlı madde sayısı bulma yöntemimiz **Kanun** kategorisinde de düşüş sağlamıştır. Hata oranını 250 hatadan 132 hataya düşürerek (132/514) **hatalı** çalışmaya devam etmektedir.\n",
        "* Güncellenmiş kural bazlı madde sayısı bulma yöntemimiz **Tüzük** kategorisinde de düşüş sağlamıştır. Hata oranını 45 hatadan 23 hataya düşürerek (23/82) **hatalı** çalışmaya devam etmektedir.\n",
        "* Mevcut yöntemimizin **Tebliğ** kategorisindeki 0.57 hata oranında başka bir değişle kabul edilemez büyüklükte bir hata oranında çalışmaya devam etmektedir Tebliğ kategorisine odaklanarak verileri inceleyip yöntemimizi güncelleyeceğiz."
      ],
      "metadata": {
        "id": "yMqlVkGVhfKW"
      }
    },
    {
      "cell_type": "code",
      "source": [
        "# Tebliğ Kategorisi odaklı incelememiz ve kural bazlı yöntemimizdeki iyileştirmelerimize başlıyoruz\n",
        "satir = 3000\n",
        "print('Doküman Türü:',df['kategori'][satir],'\\n','Dokümandaki Madde Sayısı:',df['madde_sayisi'][satir],'\\n',50*'-','\\nİçerik kısmı:',df['data_text'][satir][df['data_text'][satir].find('Madde 1'):],sep='')"
      ],
      "metadata": {
        "id": "5csmpI1ul1X8"
      },
      "execution_count": null,
      "outputs": []
    },
    {
      "cell_type": "code",
      "source": [
        "df[\"madde_sayisi\"].value_counts()"
      ],
      "metadata": {
        "id": "qoq4bKE8pFOc"
      },
      "execution_count": null,
      "outputs": []
    },
    {
      "cell_type": "markdown",
      "source": [
        "# **ÖNEMLİ BULGU**\n",
        "* Yarışma kapsamında kullandığımız veri kümesinde madde_sayisi alanında 4142 kayıt dolu olarak görülmektedir.\n",
        "* Neden tebliğ kategorisinde büyük oranda hata yaptığımızı araştırmak için herhangi bir kayıt olan 3000 indis numaralı kayıda baktığımızda madde sayısının 7 olması gerekirken 0 olarak doldurulduğunu fark ettik.\n",
        "* 4142 kayıt arasında kaç tanesinin madde sayisi 0 olarak girildiğine baktığımızda 2804 kayıdın madde sayısının 0 olarak girildiğini gördük.\n",
        "\n",
        "# Madde Sayısı 0 olan kayıtların güncellenmiş kural bazlı yöntemimizle tespit ettiğimiz madde sayısı ile doldurulmasına karar verdik!"
      ],
      "metadata": {
        "id": "D5qND9IMokwV"
      }
    },
    {
      "cell_type": "code",
      "source": [
        "# Güncel kural bazlı yöntemimiz ile hem madde sayısını bulacağız hem de eğer madde sayısı veri kümesinde 0 olarak girilmişse o veriyi bizim kural bazlı yöntemimiz ile bulduğumuz sayı ile dolduralım. \n",
        "\n",
        "satirToplami, sutunToplami = df.shape\n",
        "\n",
        "kategorilerimiz = df[\"kategori\"].value_counts().index.values.tolist()\n",
        "kategoridekiToplamBelgeSayisi = df[\"kategori\"].value_counts().tolist()\n",
        "kategoridekiHataliBelgeSayisi = [0] * len(kategorilerimiz)\n",
        "\n",
        "for ilgiliKayit in range(satirToplami):\n",
        "\n",
        "  # İlk değer olarak maddeSayisi değişkenimize madde yoktur manasında 0 'SIFIR' veriyoruz.\n",
        "  maddeSayisi = 0\n",
        "  # YÖNTEMİMİZİ GELİŞTİRİYORUZ\n",
        "  geciciMaddeSayisi = 0 # Geçici Madde 1 gibi verilen ek madde\n",
        "  ekMaddeSayisi = 0 # Madde içinde 10/a gibi verilen ek madde\n",
        "  ekMaddeSayisi2 = 0 # Ek Madde 1 gibi verilen ek madde\n",
        "  # İlk maddenin başladığı yerden itibaren belirli aralıklarla MADDE SAYMAYA başlıyoruz!\n",
        "  ilkMaddeninBasladigiYer = df['data_text'][ilgiliKayit].find('Madde 1')\n",
        "  if ilkMaddeninBasladigiYer==-1:\n",
        "    continue\n",
        "  verininBuyuklugu = len(df['data_text'][ilgiliKayit])\n",
        "\n",
        "  # Aramaya baslayacağımız yeri belirliyoruz.\n",
        "  aramaYapilacakYerinBasi = ilkMaddeninBasladigiYer\n",
        "\n",
        "  while (aramaYapilacakYerinBasi<verininBuyuklugu):\n",
        "    bulunanSayi = ''\n",
        "    alinanKesit = df['data_text'][ilgiliKayit][aramaYapilacakYerinBasi:]\n",
        "    maddeninBaslayabilecegiYer = alinanKesit.find('Madde')\n",
        "    tireninBaslayabilecegiYer = maddeninBaslayabilecegiYer+alinanKesit[maddeninBaslayabilecegiYer:].find('–')\n",
        "    if (tireninBaslayabilecegiYer-maddeninBaslayabilecegiYer)<=10:\n",
        "      maddeninBaslayabilecegiYer+=5\n",
        "      while maddeninBaslayabilecegiYer<tireninBaslayabilecegiYer:\n",
        "        maddeninBaslayabilecegiYer+=1\n",
        "        bulunanSayiyiOlusturacakParca = alinanKesit[maddeninBaslayabilecegiYer]\n",
        "        if bulunanSayiyiOlusturacakParca in '0123456789':\n",
        "          bulunanSayi+=bulunanSayiyiOlusturacakParca\n",
        "        else:\n",
        "              break\n",
        "      if bulunanSayi!='':\n",
        "        if (int(bulunanSayi)<=(maddeSayisi+2)) and (int(bulunanSayi)>=(maddeSayisi-2)):\n",
        "          maddeSayisi += int(bulunanSayi)-maddeSayisi\n",
        "        elif int(bulunanSayi)<geciciMaddeSayisi+2:\n",
        "          geciciMaddeSayisi += int(bulunanSayi)-geciciMaddeSayisi\n",
        "        elif int(bulunanSayi)<ekMaddeSayisi2+2:\n",
        "          ekMaddeSayisi2 += int(bulunanSayi)-ekMaddeSayisi2\n",
        "    else:\n",
        "      ekMaddeninYeri = maddeninBaslayabilecegiYer+alinanKesit[maddeninBaslayabilecegiYer:].find('/')\n",
        "      if (ekMaddeninYeri<=(tireninBaslayabilecegiYer-2)) and ((tireninBaslayabilecegiYer-maddeninBaslayabilecegiYer)<=12):\n",
        "        ekMaddeSayisi += 1\n",
        "    aramaYapilacakYerinBasi+=maddeninBaslayabilecegiYer+5\n",
        "  maddeSayisi+=(geciciMaddeSayisi+ekMaddeSayisi+ekMaddeSayisi2)\n",
        "  if df['madde_sayisi'][ilgiliKayit]==0:\n",
        "    df.loc[ilgiliKayit,'madde_sayisi'] = maddeSayisi\n",
        "  else:\n",
        "    if maddeSayisi != df['madde_sayisi'][ilgiliKayit]:\n",
        "      kategoridekiHataliBelgeSayisi[kategorilerimiz.index(df[\"kategori\"][ilgiliKayit])] += 1\n",
        "\n",
        "for i in range(len(kategorilerimiz)):\n",
        "  print(kategorilerimiz[i],':',kategoridekiHataliBelgeSayisi[i],'/',kategoridekiToplamBelgeSayisi[i],'=',round(kategoridekiHataliBelgeSayisi[i]/kategoridekiToplamBelgeSayisi[i],3))\n",
        "print('Toplam Hata:',sum(kategoridekiHataliBelgeSayisi))"
      ],
      "metadata": {
        "id": "hBnq5fvFribE"
      },
      "execution_count": null,
      "outputs": []
    },
    {
      "cell_type": "markdown",
      "source": [
        "# **Çıkarım:**\n",
        "* Madde Sayısı 0 olarak doldurulmuş verileri düzelttiğimizde hata sayımız 221 hataya düşmüştür. Başka bir değişle güncel kural bazlı sistemimiz **0.95** başarı oranı ile belgedeki madde sayısını doğru bir şekilde tespit etmektedir.\n",
        "\n",
        "* Güncellenmiş kural bazlı madde sayısı bulma yöntemimiz madde sayısı 0 girilen kayıtları bizim bulduğumuz sayı ile güncelledikten sonra yine **Özelge** kategorisinde **hatasız** çalışmaktadır.\n",
        "* (ÖNEMLİ BULGU) Güncellenmiş kural bazlı madde sayısı bulma yöntemimiz madde sayısı 0 girilen kayıtları bizim bulduğumuz sayı ile güncelledikten sonra artık **Tebliğ**, **Resmi Gazete**, **Komisyon Raporu** ve **Genelge** kategorilerinde de **hatasız** çalışmaktadır.\n",
        "* Güncellenmiş kural bazlı madde sayısı bulma yöntemimiz madde sayısı 0 girilen kayıtları bizim bulduğumuz sayı ile güncelledikten sonra **Yönetmelik** kategorisinde hata oranında **DEĞİŞİKLİK OLMADAN** (48/597) **hatalı / istisnai hata** ile çalışmaktadır.\n",
        "* Güncellenmiş kural bazlı madde sayısı bulma yöntemimiz madde sayısı 0 girilen kayıtları bizim bulduğumuz sayı ile güncelledikten sonra **Kanun** kategorisinde hata oranında **DEĞİŞİKLİK OLMADAN** (132/514) **hatalı** çalışmaya devam etmektedir.\n",
        "* Güncellenmiş kural bazlı madde sayısı bulma yöntemimiz madde sayısı 0 girilen kayıtları bizim bulduğumuz sayı ile güncelledikten sonra **Kanun Hükmünde Kararname** kategorisinde hata oranında **DEĞİŞİKLİK OLMADAN** (12/91) **hatalı** çalışmaya devam etmektedir.\n",
        "* Güncellenmiş kural bazlı madde sayısı bulma yöntemimiz madde sayısı 0 girilen kayıtları bizim bulduğumuz sayı ile güncelledikten sonra **Tüzük** kategorisinde hata oranında **DEĞİŞİKLİK OLMADAN** (23/82) **hatalı** çalışmaya devam etmektedir.\n",
        "* Güncellenmiş kural bazlı madde sayısı bulma yöntemimiz madde sayısı 0 girilen kayıtları bizim bulduğumuz sayı ile güncelledikten sonra **Cumhurbaşkanlığı Kararnamesi** kategorisinde hata oranında **DEĞİŞİKLİK OLMADAN** (6/54) **hatalı** çalışmaya devam etmektedir.\n",
        "\n",
        "* Bu 221 kayıda bakarak neyi madde olarak saymadığımızı kontrol edeceğiz. Bu kontrolü de önce maddeleri eksik mi sayıyoruz yoksa fazla mı sayıyoruz diye kontrol edeceğiz."
      ],
      "metadata": {
        "id": "HZSWZ1QN3RJt"
      }
    },
    {
      "cell_type": "code",
      "source": [
        "# 221 Kayıtta EKSİK saydığımız madde mi var yoksa fazla saydığımız madde mi var?\n",
        "# Güncel kural bazlı yöntemimiz ile hem madde sayısını bulacağız hem de eğer madde sayısı veri kümesinde 0 olarak girilmişse o veriyi bizim kural bazlı yöntemimiz ile bulduğumuz sayı ile dolduralım. \n",
        "\n",
        "maddeSayisiEksikSayilanBelgeSayisi = 0\n",
        "birFarkOlanBelgeSayisi = 0\n",
        "maddeSayisiFazlaSayilanBelgeSayisi = 0\n",
        "\n",
        "satirToplami, sutunToplami = df.shape\n",
        "\n",
        "kategorilerimiz = df[\"kategori\"].value_counts().index.values.tolist()\n",
        "kategoridekiToplamBelgeSayisi = df[\"kategori\"].value_counts().tolist()\n",
        "kategoridekiHataliBelgeSayisi = [0] * len(kategorilerimiz)\n",
        "\n",
        "for ilgiliKayit in range(satirToplami):\n",
        "  if df[\"kategori\"][ilgiliKayit] in [\"Özelge\",\"Tebliğ\",\"Resmi Gazete\",\"Komisyon Raporu\",\"Genelge\"]:\n",
        "    pass\n",
        "  else:\n",
        "    # İlk değer olarak maddeSayisi değişkenimize madde yoktur manasında 0 'SIFIR' veriyoruz.\n",
        "    maddeSayisi = 0\n",
        "    # YÖNTEMİMİZİ GELİŞTİRİYORUZ\n",
        "    geciciMaddeSayisi = 0 # Geçici Madde 1 gibi verilen ek madde\n",
        "    ekMaddeSayisi = 0 # Madde içinde 10/a gibi verilen ek madde\n",
        "    ekMaddeSayisi2 = 0 # Ek Madde 1 gibi verilen ek madde\n",
        "    hataliMaddeSayisi = 0\n",
        "    # İlk maddenin başladığı yerden itibaren belirli aralıklarla MADDE SAYMAYA başlıyoruz!\n",
        "    ilkMaddeninBasladigiYer = df['data_text'][ilgiliKayit].find('Madde 1')\n",
        "    if ilkMaddeninBasladigiYer==-1:\n",
        "      continue\n",
        "    verininBuyuklugu = len(df['data_text'][ilgiliKayit])\n",
        "\n",
        "    # Aramaya baslayacağımız yeri belirliyoruz.\n",
        "    aramaYapilacakYerinBasi = ilkMaddeninBasladigiYer\n",
        "\n",
        "    while (aramaYapilacakYerinBasi<verininBuyuklugu):\n",
        "      bulunanSayi = ''\n",
        "      alinanKesit = df['data_text'][ilgiliKayit][aramaYapilacakYerinBasi:]\n",
        "      maddeninBaslayabilecegiYer = alinanKesit.find('Madde')\n",
        "      tireninBaslayabilecegiYer = maddeninBaslayabilecegiYer+alinanKesit[maddeninBaslayabilecegiYer:].find('–')\n",
        "      if (tireninBaslayabilecegiYer-maddeninBaslayabilecegiYer)<=10:\n",
        "        eskiMaddeIndex = maddeninBaslayabilecegiYer\n",
        "        maddeninBaslayabilecegiYer+=5\n",
        "        while maddeninBaslayabilecegiYer<tireninBaslayabilecegiYer:\n",
        "          maddeninBaslayabilecegiYer+=1\n",
        "          bulunanSayiyiOlusturacakParca = alinanKesit[maddeninBaslayabilecegiYer]\n",
        "          if bulunanSayiyiOlusturacakParca in '0123456789ABCÇDEFGĞHIİJKLMNOÖPRSŞTUÜVYZ':\n",
        "            bulunanSayi+=bulunanSayiyiOlusturacakParca\n",
        "          else:\n",
        "                break\n",
        "        if bulunanSayi!='':\n",
        "           try:\n",
        "            if (int(bulunanSayi)<=(maddeSayisi+2)) and (int(bulunanSayi)>=(maddeSayisi-2)):\n",
        "              maddeSayisi += 1\n",
        "            elif int(bulunanSayi)<geciciMaddeSayisi+2:\n",
        "              geciciMaddeSayisi += 1\n",
        "            elif int(bulunanSayi)<ekMaddeSayisi2+2:\n",
        "              ekMaddeSayisi2 += 1\n",
        "           except:\n",
        "             hataliMaddeSayisi += 1\n",
        "        elif alinanKesit[eskiMaddeIndex-7:eskiMaddeIndex-1] == \"Geçici\":\n",
        "          geciciMaddeSayisi += 1\n",
        "        \n",
        "      else:\n",
        "        ekMaddeninYeri = maddeninBaslayabilecegiYer+alinanKesit[maddeninBaslayabilecegiYer:].find('/')\n",
        "        if (ekMaddeninYeri<=(tireninBaslayabilecegiYer-2)) and ((tireninBaslayabilecegiYer-maddeninBaslayabilecegiYer)<=12):\n",
        "          ekMaddeSayisi += 1\n",
        "      aramaYapilacakYerinBasi+=maddeninBaslayabilecegiYer+5\n",
        "    maddeSayisi+=(geciciMaddeSayisi+ekMaddeSayisi+ekMaddeSayisi2+hataliMaddeSayisi)\n",
        "\n",
        "    if df['madde_sayisi'][ilgiliKayit]==0:\n",
        "      df.loc[ilgiliKayit,'madde_sayisi'] = maddeSayisi\n",
        "    else:\n",
        "      if maddeSayisi != df['madde_sayisi'][ilgiliKayit]:\n",
        "        kategoridekiHataliBelgeSayisi[kategorilerimiz.index(df[\"kategori\"][ilgiliKayit])] += 1\n",
        "        print('Kayıt No:',ilgiliKayit,'Olması Gereken:',df['madde_sayisi'][ilgiliKayit],'Tahmin:',maddeSayisi,'Kategori:',df['kategori'][ilgiliKayit])\n",
        "        if df['madde_sayisi'][ilgiliKayit]>maddeSayisi:\n",
        "          maddeSayisiEksikSayilanBelgeSayisi += 1\n",
        "        else:\n",
        "          maddeSayisiFazlaSayilanBelgeSayisi += 1\n",
        "        if abs(df['madde_sayisi'][ilgiliKayit]-maddeSayisi)==1:\n",
        "          birFarkOlanBelgeSayisi += 1\n",
        "\n",
        "for i in range(len(kategorilerimiz)):\n",
        "  print(kategorilerimiz[i],':',kategoridekiHataliBelgeSayisi[i],'/',kategoridekiToplamBelgeSayisi[i],'=',round(kategoridekiHataliBelgeSayisi[i]/kategoridekiToplamBelgeSayisi[i],3))\n",
        "\n",
        "print('Toplam Hata:',sum(kategoridekiHataliBelgeSayisi))\n",
        "\n",
        "print('Madde sayısı eksik tahmin edilen belge sayısı:',maddeSayisiEksikSayilanBelgeSayisi)\n",
        "print('Madde sayısı fazla tahmin edilen belge sayısı:',maddeSayisiFazlaSayilanBelgeSayisi)\n",
        "print('Madde sayısı 1 madde fark ile yanlış tespit edilen belge sayısı:',birFarkOlanBelgeSayisi)"
      ],
      "metadata": {
        "id": "uU0pTqiR4pY0"
      },
      "execution_count": null,
      "outputs": []
    },
    {
      "cell_type": "markdown",
      "source": [
        "# **Çıkarım:**\n",
        "\n",
        "- Toplam 221 hatanın 208 tanesinde madde sayısını eksik tahmin ediyoruz yani sayamadığımız maddeler var.\n",
        "- 13 tane hatada da olmayan yani fazladan saydığımız madde var.\n",
        "- Toplam 221 hatadan 90 tanesinde de 1 madde fark ile madde sayısını yanlış tespit ediyoruz."
      ],
      "metadata": {
        "id": "n2KExEvxJaco"
      }
    }
  ]
}