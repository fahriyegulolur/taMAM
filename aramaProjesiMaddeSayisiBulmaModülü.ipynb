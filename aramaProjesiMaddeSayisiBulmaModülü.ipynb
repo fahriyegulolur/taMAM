{
  "nbformat": 4,
  "nbformat_minor": 0,
  "metadata": {
    "colab": {
      "name": "aramaProjesiMaddeSayisiBulmaModülü.ipynb",
      "provenance": [],
      "collapsed_sections": [
        "MB4Ge5xkKOcx",
        "47dcA8q8mfrb",
        "ViyQjPEdmkcP",
        "hU5-XUALmvJZ",
        "TW08gvgqm1Va",
        "xqTXsAuym5c1",
        "f2L8btWJm-Tl",
        "lAY6sxhInB46",
        "WFE4MK3knEk4"
      ]
    },
    "kernelspec": {
      "name": "python3",
      "display_name": "Python 3"
    },
    "language_info": {
      "name": "python"
    }
  },
  "cells": [
    {
      "cell_type": "markdown",
      "source": [
        "# Kurulum"
      ],
      "metadata": {
        "id": "OEjtJBcuKSvD"
      }
    },
    {
      "cell_type": "code",
      "execution_count": 59,
      "metadata": {
        "id": "D4DSrSk9PiW8"
      },
      "outputs": [],
      "source": [
        "import pandas as pd"
      ]
    },
    {
      "cell_type": "code",
      "source": [
        "from google.colab import drive\n",
        "drive.mount('/content/drive/')"
      ],
      "metadata": {
        "id": "g8ZpPY4-Pmv1"
      },
      "execution_count": null,
      "outputs": []
    },
    {
      "cell_type": "code",
      "source": [
        "%cd drive/"
      ],
      "metadata": {
        "id": "h47_PvbxT9QD"
      },
      "execution_count": null,
      "outputs": []
    },
    {
      "cell_type": "code",
      "source": [
        "%cd MyDrive/"
      ],
      "metadata": {
        "id": "ElqFYei7Vuz5"
      },
      "execution_count": null,
      "outputs": []
    },
    {
      "cell_type": "code",
      "source": [
        "%cd Colab Notebooks/"
      ],
      "metadata": {
        "id": "j8uh8jQyVzAH"
      },
      "execution_count": null,
      "outputs": []
    },
    {
      "cell_type": "code",
      "source": [
        "# Google Drive içinde Colab Notebooks klasörünün içinde TDDI2022 diye bir klasör oluşturduktan sonra o klasöre erişiyoruz.\n",
        "# Bu klasörü daha önce oluşturmadıysanız %md TDDI2022 komutu veya Google Drive Ara Yüzü ile klasörü oluşturunuz!\n",
        "%cd TDDI2022/\n",
        "\n",
        "# Klasörün içeriğinin görülmesi için\n",
        "%ls"
      ],
      "metadata": {
        "id": "aA9Js-QGV31p"
      },
      "execution_count": null,
      "outputs": []
    },
    {
      "cell_type": "code",
      "source": [
        "df = pd.read_csv('kanunum-nlp-doc-analysis-dataset.csv')\n",
        "df.info(verbose=True)"
      ],
      "metadata": {
        "id": "ZMriHlEGPqbV"
      },
      "execution_count": null,
      "outputs": []
    },
    {
      "cell_type": "markdown",
      "source": [
        "# Görselleştirme İşlemleri\n"
      ],
      "metadata": {
        "id": "MB4Ge5xkKOcx"
      }
    },
    {
      "cell_type": "code",
      "source": [
        "print(df.groupby('kategori').size())"
      ],
      "metadata": {
        "id": "VzFXWPNMX6Sb"
      },
      "execution_count": null,
      "outputs": []
    },
    {
      "cell_type": "code",
      "source": [
        "print(df.loc[df['kategori'] == 'Kanun', 'madde_sayisi'].isna)"
      ],
      "metadata": {
        "id": "1eT9ikJu6WMH"
      },
      "execution_count": null,
      "outputs": []
    },
    {
      "cell_type": "code",
      "source": [
        "print(df.loc[df['kategori'] == 'Kanun'])"
      ],
      "metadata": {
        "id": "qHs_4PciDhp1"
      },
      "execution_count": null,
      "outputs": []
    },
    {
      "cell_type": "code",
      "source": [
        "print(df['data_text'][0])"
      ],
      "metadata": {
        "id": "nhrQLfrOF35t"
      },
      "execution_count": null,
      "outputs": []
    },
    {
      "cell_type": "code",
      "source": [
        "print(df['baslik'][0])"
      ],
      "metadata": {
        "id": "TTBfX1q-_73h"
      },
      "execution_count": null,
      "outputs": []
    },
    {
      "cell_type": "code",
      "source": [
        "df['baslik'][0].replace('  ',' ')"
      ],
      "metadata": {
        "id": "9kAwo7boARJj"
      },
      "execution_count": null,
      "outputs": []
    },
    {
      "cell_type": "code",
      "source": [
        "# data_text ve baslik alanlarını temizliyoruz.\n",
        "satir, sutun = df.shape\n",
        "for s in range(satir):\n",
        "  df['baslik'][s].replace('  ',' ')\n",
        "  df['data_text'][s].replace('  ',' ')\n",
        "  df['baslik'][s].replace('\\n','')\n",
        "  df['data_text'][s].replace('\\n','')\n",
        "  df['baslik'][s].replace('\\r','')\n",
        "  df['data_text'][s].replace('\\r','')\n",
        "  df['data_text'][s].lower()\n",
        "  df['baslik'][s].lower()"
      ],
      "metadata": {
        "id": "g5hJ1MRWS9hu"
      },
      "execution_count": null,
      "outputs": []
    },
    {
      "cell_type": "code",
      "source": [
        "df['baslik'][5]"
      ],
      "metadata": {
        "id": "eSg-4gpjHe6D"
      },
      "execution_count": null,
      "outputs": []
    },
    {
      "cell_type": "markdown",
      "source": [
        "# Özel Ayar İçin Kullanım"
      ],
      "metadata": {
        "id": "47dcA8q8mfrb"
      }
    },
    {
      "cell_type": "code",
      "source": [
        "# data_text alanının ilk satırında madde sayamaya çalışalım!\n",
        "\n",
        "# 'baslik' alanından ilk 10 karakteri 'data_text' alanında aratıyoruz.\n",
        "# Resmi belgenin başlığının 'data_text' alanında hangi indiste başladığını bulmuş oluyoruz.\n",
        "basliginBaslandigiYer = df['data_text'][95].find(df['baslik'][95][:10])\n",
        "print('basliginBaslandigiYer:',basliginBaslandigiYer)\n",
        "# Başlığın uzunluğunu hesaplıyoruz.\n",
        "basliginUzunlugu = len(df['baslik'][95])\n",
        "print('basliginUzunlugu:',basliginUzunlugu)\n",
        "# Başlığın data_text alanında bittiği yeri hesaplıyoruz\n",
        "basliginBittigiYer = basliginBaslandigiYer+basliginUzunlugu\n",
        "verininBuyuklugu = len(df['data_text'][95])\n",
        "print('basliginBittigiYer:',basliginBittigiYer)\n",
        "print('verininBuyuklugu:',verininBuyuklugu)\n",
        "# Başlığın bittiği yerden itibaren belirli aralıklarla MADDE SAYMAYA başlıyoruz!\n",
        "# İlk değer olarak maddeSayisi değişkenimize madde yoktur manasında 0 'SIFIR' veriyoruz.\n",
        "maddeSayisi = 0\n",
        "geciciMaddeSayisi = 0 # Geçici Madde 1 gibi verilen ek madde\n",
        "ekMaddeSayisi = 0 # Madde içinde 10/a gibi verilen ek madde\n",
        "ekMaddeSayisi2 = 0 # Ek Madde 1 gibi verilen ek madde\n",
        "# aramaya baslayacağımız yeri belirliyoruz.,\n",
        "aramaYapilacakYerinBasi = basliginBittigiYer\n",
        "\n",
        "while (aramaYapilacakYerinBasi<verininBuyuklugu):\n",
        "  print('maddeSayisi:',maddeSayisi)\n",
        "  bulunanSayi = ''\n",
        "  alinanKesit = df['data_text'][95][aramaYapilacakYerinBasi:]\n",
        "  maddeninBaslayabilecegiYer = alinanKesit.find('Madde')\n",
        "  print('maddeninBaslayabilecegiYer:',maddeninBaslayabilecegiYer)\n",
        "  tireninBaslayabilecegiYer = maddeninBaslayabilecegiYer+alinanKesit[maddeninBaslayabilecegiYer:].find('–')\n",
        "  print('tireninBaslayabilecegiYer:',tireninBaslayabilecegiYer)\n",
        "  if (tireninBaslayabilecegiYer-maddeninBaslayabilecegiYer)<=10:\n",
        "    maddeninBaslayabilecegiYer+=5\n",
        "    while maddeninBaslayabilecegiYer<tireninBaslayabilecegiYer:\n",
        "      maddeninBaslayabilecegiYer+=1\n",
        "      bulunanSayiyiOlusturacakParca = alinanKesit[maddeninBaslayabilecegiYer]\n",
        "      print(bulunanSayiyiOlusturacakParca)\n",
        "      if bulunanSayiyiOlusturacakParca in '0123456789':\n",
        "        bulunanSayi+=bulunanSayiyiOlusturacakParca\n",
        "      else:\n",
        "            break\n",
        "    if bulunanSayi!='':\n",
        "      if (int(bulunanSayi)<=(maddeSayisi+2)) and (int(bulunanSayi)>=(maddeSayisi-2)):\n",
        "        maddeSayisi += int(bulunanSayi)-maddeSayisi\n",
        "      elif int(bulunanSayi)<geciciMaddeSayisi+2:\n",
        "        geciciMaddeSayisi += int(bulunanSayi)-geciciMaddeSayisi\n",
        "      elif int(bulunanSayi)<ekMaddeSayisi2+2:\n",
        "        ekMaddeSayisi2 += int(bulunanSayi)-ekMaddeSayisi2\n",
        "  else:\n",
        "    ekMaddeninYeri = maddeninBaslayabilecegiYer+alinanKesit[maddeninBaslayabilecegiYer:].find('/')\n",
        "    if (ekMaddeninYeri<=(tireninBaslayabilecegiYer-2)) and ((tireninBaslayabilecegiYer-maddeninBaslayabilecegiYer)<=12):\n",
        "      ekMaddeSayisi += 1\n",
        "  aramaYapilacakYerinBasi+=maddeninBaslayabilecegiYer+5\n",
        "maddeSayisi+=(geciciMaddeSayisi+ekMaddeSayisi+ekMaddeSayisi2)\n",
        "print(maddeSayisi)"
      ],
      "metadata": {
        "id": "uDSkSMJAAlIC"
      },
      "execution_count": null,
      "outputs": []
    },
    {
      "cell_type": "markdown",
      "source": [
        "# İşlenmeyen Maddeler için Kod (Yazılacak)"
      ],
      "metadata": {
        "id": "ViyQjPEdmkcP"
      }
    },
    {
      "cell_type": "code",
      "source": [
        "# İşlenmemiş Maddeleri Saymak için bir fonksiyon oluşturalım!\n",
        "def islenmemisMaddeler(ms,kayit):\n",
        "  if df['data_text'][kayit].find('İŞLENMEYEN GEÇİCİ MADDE')!=-1:\n",
        "    ms += 1\n",
        "  return ms\n",
        "\n",
        "print(islenmemisMaddeler(10,350))"
      ],
      "metadata": {
        "id": "KP7OtgXjGHqC"
      },
      "execution_count": null,
      "outputs": []
    },
    {
      "cell_type": "markdown",
      "source": [
        "# Kategoriye Özel İşleme"
      ],
      "metadata": {
        "id": "hU5-XUALmvJZ"
      }
    },
    {
      "cell_type": "markdown",
      "source": [
        "## Kanun"
      ],
      "metadata": {
        "id": "TW08gvgqm1Va"
      }
    },
    {
      "cell_type": "code",
      "source": [
        "# data_text alanın madde sayılarını kontrol edelim.\n",
        "hataliSay = 0\n",
        "belgeSay = 0\n",
        "satir, sutun = df.shape\n",
        "print(satir,sutun)\n",
        "\n",
        "for ilgiliKayit in range(satir):\n",
        "  if df['kategori'][ilgiliKayit]=='Kanun':\n",
        "    belgeSay += 1\n",
        "    # 'baslik' alanından ilk 10 karakteri 'data_text' alanında aratıyoruz.\n",
        "    # Resmi belgenin başlığının 'data_text' alanında hangi indiste başladığını bulmuş oluyoruz.\n",
        "    basliginBaslandigiYer = df['data_text'][ilgiliKayit].find(df['baslik'][ilgiliKayit][:10])\n",
        "    # Başlığın uzunluğunu hesaplıyoruz.\n",
        "    basliginUzunlugu = len(df['baslik'][ilgiliKayit])\n",
        "    # Başlığın data_text alanında bittiği yeri hesaplıyoruz\n",
        "    basliginBittigiYer = basliginBaslandigiYer+basliginUzunlugu\n",
        "    verininBuyuklugu = len(df['data_text'][ilgiliKayit])\n",
        "    # Başlığın bittiği yerden itibaren belirli aralıklarla MADDE SAYMAYA başlıyoruz!\n",
        "    # İlk değer olarak maddeSayisi değişkenimize madde yoktur manasında 0 'SIFIR' veriyoruz.\n",
        "    maddeSayisi = 0\n",
        "    geciciMaddeSayisi = 0\n",
        "    ekMaddeSayisi = 0\n",
        "    AmaddeSayisi = 0\n",
        "    # aramaya baslayacağımız yeri belirliyoruz.,\n",
        "    aramaYapilacakYerinBasi = 0\n",
        "\n",
        "    while (aramaYapilacakYerinBasi<verininBuyuklugu):\n",
        "      bulunanSayi = ''\n",
        "      alinanKesit = df['data_text'][ilgiliKayit][aramaYapilacakYerinBasi:]\n",
        "      maddeninBaslayabilecegiYer = alinanKesit.find('Madde')\n",
        "      eskiMaddeIndex = maddeninBaslayabilecegiYer\n",
        "      tireninBaslayabilecegiYer = maddeninBaslayabilecegiYer+alinanKesit[maddeninBaslayabilecegiYer:].find('–')\n",
        "      if (tireninBaslayabilecegiYer-maddeninBaslayabilecegiYer)<=10:\n",
        "        maddeninBaslayabilecegiYer+=5\n",
        "        while maddeninBaslayabilecegiYer<tireninBaslayabilecegiYer:\n",
        "          maddeninBaslayabilecegiYer+=1\n",
        "          bulunanSayiyiOlusturacakParca = alinanKesit[maddeninBaslayabilecegiYer]\n",
        "          if bulunanSayiyiOlusturacakParca in '0123456789/ABCÇDEFGĞHIİJKLMNOÖPRSŞTUÜVYZabcçdefgğhıijklmnoöprsştuüvyz':\n",
        "            bulunanSayi+=bulunanSayiyiOlusturacakParca\n",
        "          else:\n",
        "            break\n",
        "        if bulunanSayi!='':\n",
        "          try:\n",
        "            if (int(bulunanSayi)<=(maddeSayisi+2)) and (int(bulunanSayi)>(maddeSayisi)):\n",
        "              maddeSayisi += int(bulunanSayi)-maddeSayisi\n",
        "              #print(f\"{ilgiliKayit} Madde {bulunanSayi}\")\n",
        "              \n",
        "            elif (int(bulunanSayi)<=(geciciMaddeSayisi+2)) and (int(bulunanSayi)>(geciciMaddeSayisi)):\n",
        "              geciciMaddeSayisi += int(bulunanSayi)-geciciMaddeSayisi\n",
        "              #print(f\"{ilgiliKayit} Geçici Madde {bulunanSayi}\")\n",
        "            elif (int(bulunanSayi)<=(ekMaddeSayisi+2)) and (int(bulunanSayi)>(ekMaddeSayisi)):\n",
        "              ekMaddeSayisi += int(bulunanSayi)-ekMaddeSayisi\n",
        "              #print(f\"{ilgiliKayit} Ek Geçici Madde {bulunanSayi}\")\n",
        "          except:\n",
        "            print(f\"{ilgiliKayit} Madde {bulunanSayi}\") #ABCÇDEFGĞHIİJKLMNOÖPRSŞTUÜVYZ\n",
        "            AmaddeSayisi += 1\n",
        "        elif alinanKesit[eskiMaddeIndex-7:eskiMaddeIndex-1] == \"Geçici\":\n",
        "          geciciMaddeSayisi += 1\n",
        "        \n",
        "            \n",
        "      aramaYapilacakYerinBasi+=maddeninBaslayabilecegiYer+5\n",
        "    eskiMaddeSayisi = maddeSayisi\n",
        "    maddeSayisi+=(geciciMaddeSayisi+ekMaddeSayisi+AmaddeSayisi)\n",
        "    #maddeSayisi=islenmemisMaddeler(maddeSayisi,ilgiliKayit)\n",
        "    if int(df['madde_sayisi'][ilgiliKayit])!=int(maddeSayisi):\n",
        "      print(ilgiliKayit,df['madde_sayisi'][ilgiliKayit],maddeSayisi,eskiMaddeSayisi,geciciMaddeSayisi,ekMaddeSayisi,AmaddeSayisi)\n",
        "      hataliSay += 1\n",
        "    else:\n",
        "      pass\n",
        "print('Toplam kontrol edilen belge sayısı:',belgeSay)\n",
        "print('Toplam hatalı kayıt sayısı:',hataliSay)\n",
        "print('Doğruluk Oranı:',(belgeSay-hataliSay)/belgeSay)"
      ],
      "metadata": {
        "id": "974w2lPEjDSy"
      },
      "execution_count": null,
      "outputs": []
    },
    {
      "cell_type": "markdown",
      "source": [
        "## Kanun Hükmünde Kararname"
      ],
      "metadata": {
        "id": "xqTXsAuym5c1"
      }
    },
    {
      "cell_type": "code",
      "source": [
        "# data_text alanın madde sayılarını kontrol edelim.\n",
        "hataliSay = 0\n",
        "belgeSay = 0\n",
        "satir, sutun = df.shape\n",
        "print(satir,sutun)\n",
        "\n",
        "for ilgiliKayit in range(satir):\n",
        "  if df['kategori'][ilgiliKayit]=='Kanun Hükmünde Kararname':\n",
        "    belgeSay += 1\n",
        "    # 'baslik' alanından ilk 10 karakteri 'data_text' alanında aratıyoruz.\n",
        "    # Resmi belgenin başlığının 'data_text' alanında hangi indiste başladığını bulmuş oluyoruz.\n",
        "    basliginBaslandigiYer = df['data_text'][ilgiliKayit].find(df['baslik'][ilgiliKayit][:10])\n",
        "    # Başlığın uzunluğunu hesaplıyoruz.\n",
        "    basliginUzunlugu = len(df['baslik'][ilgiliKayit])\n",
        "    # Başlığın data_text alanında bittiği yeri hesaplıyoruz\n",
        "    basliginBittigiYer = basliginBaslandigiYer+basliginUzunlugu\n",
        "    verininBuyuklugu = len(df['data_text'][ilgiliKayit])\n",
        "    # Başlığın bittiği yerden itibaren belirli aralıklarla MADDE SAYMAYA başlıyoruz!\n",
        "    # İlk değer olarak maddeSayisi değişkenimize madde yoktur manasında 0 'SIFIR' veriyoruz.\n",
        "    maddeSayisi = 0\n",
        "    geciciMaddeSayisi = 0\n",
        "    ekMaddeSayisi = 0\n",
        "    AmaddeSayisi = 0\n",
        "    # aramaya baslayacağımız yeri belirliyoruz.,\n",
        "    aramaYapilacakYerinBasi = 0\n",
        "\n",
        "    while (aramaYapilacakYerinBasi<verininBuyuklugu):\n",
        "      bulunanSayi = ''\n",
        "      alinanKesit = df['data_text'][ilgiliKayit][aramaYapilacakYerinBasi:]\n",
        "      maddeninBaslayabilecegiYer = alinanKesit.find('Madde')\n",
        "      eskiMaddeIndex = maddeninBaslayabilecegiYer\n",
        "      tireninBaslayabilecegiYer = maddeninBaslayabilecegiYer+alinanKesit[maddeninBaslayabilecegiYer:].find('–')\n",
        "      if (tireninBaslayabilecegiYer-maddeninBaslayabilecegiYer)<=10:\n",
        "        maddeninBaslayabilecegiYer+=5\n",
        "        while maddeninBaslayabilecegiYer<tireninBaslayabilecegiYer:\n",
        "          maddeninBaslayabilecegiYer+=1\n",
        "          bulunanSayiyiOlusturacakParca = alinanKesit[maddeninBaslayabilecegiYer]\n",
        "          if bulunanSayiyiOlusturacakParca in '0123456789/ABCÇDEFGĞHIİJKLMNOÖPRSŞTUÜVYZabcçdefgğhıijklmnoöprsştuüvyz':\n",
        "            bulunanSayi+=bulunanSayiyiOlusturacakParca\n",
        "          else:\n",
        "            break\n",
        "        if bulunanSayi!='':\n",
        "          try:\n",
        "            if (int(bulunanSayi)<=(maddeSayisi+2)) and (int(bulunanSayi)>(maddeSayisi)):\n",
        "              maddeSayisi += int(bulunanSayi)-maddeSayisi\n",
        "              #print(f\"{ilgiliKayit} Madde {bulunanSayi}\")\n",
        "              \n",
        "            elif (int(bulunanSayi)<=(geciciMaddeSayisi+2)) and (int(bulunanSayi)>(geciciMaddeSayisi)):\n",
        "              geciciMaddeSayisi += int(bulunanSayi)-geciciMaddeSayisi\n",
        "              #print(f\"{ilgiliKayit} Geçici Madde {bulunanSayi}\")\n",
        "            elif (int(bulunanSayi)<=(ekMaddeSayisi+2)) and (int(bulunanSayi)>(ekMaddeSayisi)):\n",
        "              ekMaddeSayisi += int(bulunanSayi)-ekMaddeSayisi\n",
        "              #print(f\"{ilgiliKayit} Ek Geçici Madde {bulunanSayi}\")\n",
        "          except:\n",
        "            #print(f\"{ilgiliKayit} Madde {bulunanSayi}\") #ABCÇDEFGĞHIİJKLMNOÖPRSŞTUÜVYZ\n",
        "            AmaddeSayisi += 1\n",
        "        elif alinanKesit[eskiMaddeIndex-7:eskiMaddeIndex-1] == \"Geçici\":\n",
        "          geciciMaddeSayisi += 1\n",
        "        \n",
        "            \n",
        "      aramaYapilacakYerinBasi+=maddeninBaslayabilecegiYer+5\n",
        "    eskiMaddeSayisi = maddeSayisi\n",
        "    maddeSayisi+=(geciciMaddeSayisi+ekMaddeSayisi+AmaddeSayisi)\n",
        "    #maddeSayisi=islenmemisMaddeler(maddeSayisi,ilgiliKayit)\n",
        "    if int(df['madde_sayisi'][ilgiliKayit])!=int(maddeSayisi):\n",
        "      print(ilgiliKayit,df['madde_sayisi'][ilgiliKayit],maddeSayisi,eskiMaddeSayisi,geciciMaddeSayisi,ekMaddeSayisi,AmaddeSayisi)\n",
        "      hataliSay += 1\n",
        "    else:\n",
        "      pass\n",
        "print('Toplam kontrol edilen belge sayısı:',belgeSay)\n",
        "print('Toplam hatalı kayıt sayısı:',hataliSay)\n",
        "print('Doğruluk Oranı:',(belgeSay-hataliSay)/belgeSay)"
      ],
      "metadata": {
        "id": "Ycva4psKQqO3"
      },
      "execution_count": null,
      "outputs": []
    },
    {
      "cell_type": "markdown",
      "source": [
        "## Cumhurbaşkanlığı Kararnamesi"
      ],
      "metadata": {
        "id": "f2L8btWJm-Tl"
      }
    },
    {
      "cell_type": "code",
      "source": [
        "# data_text alanın madde sayılarını kontrol edelim.\n",
        "hataliSay = 0\n",
        "belgeSay = 0\n",
        "satir, sutun = df.shape\n",
        "print(satir,sutun)\n",
        "\n",
        "for ilgiliKayit in range(satir):\n",
        "  if df['kategori'][ilgiliKayit]=='Cumhurbaşkanlığı Kararnamesi':\n",
        "    belgeSay += 1\n",
        "    # 'baslik' alanından ilk 10 karakteri 'data_text' alanında aratıyoruz.\n",
        "    # Resmi belgenin başlığının 'data_text' alanında hangi indiste başladığını bulmuş oluyoruz.\n",
        "    basliginBaslandigiYer = df['data_text'][ilgiliKayit].find(df['baslik'][ilgiliKayit][:10])\n",
        "    # Başlığın uzunluğunu hesaplıyoruz.\n",
        "    basliginUzunlugu = len(df['baslik'][ilgiliKayit])\n",
        "    # Başlığın data_text alanında bittiği yeri hesaplıyoruz\n",
        "    basliginBittigiYer = basliginBaslandigiYer+basliginUzunlugu\n",
        "    verininBuyuklugu = len(df['data_text'][ilgiliKayit])\n",
        "    # Başlığın bittiği yerden itibaren belirli aralıklarla MADDE SAYMAYA başlıyoruz!\n",
        "    # İlk değer olarak maddeSayisi değişkenimize madde yoktur manasında 0 'SIFIR' veriyoruz.\n",
        "    maddeSayisi = 0\n",
        "    geciciMaddeSayisi = 0\n",
        "    ekMaddeSayisi = 0\n",
        "    AmaddeSayisi = 0\n",
        "    # aramaya baslayacağımız yeri belirliyoruz.,\n",
        "    aramaYapilacakYerinBasi = 0\n",
        "\n",
        "    while (aramaYapilacakYerinBasi<verininBuyuklugu):\n",
        "      bulunanSayi = ''\n",
        "      alinanKesit = df['data_text'][ilgiliKayit][aramaYapilacakYerinBasi:]\n",
        "      maddeninBaslayabilecegiYer = alinanKesit.find('Madde')\n",
        "      eskiMaddeIndex = maddeninBaslayabilecegiYer\n",
        "      tireninBaslayabilecegiYer = maddeninBaslayabilecegiYer+alinanKesit[maddeninBaslayabilecegiYer:].find('–')\n",
        "      if (tireninBaslayabilecegiYer-maddeninBaslayabilecegiYer)<=10:\n",
        "        maddeninBaslayabilecegiYer+=5\n",
        "        while maddeninBaslayabilecegiYer<tireninBaslayabilecegiYer:\n",
        "          maddeninBaslayabilecegiYer+=1\n",
        "          bulunanSayiyiOlusturacakParca = alinanKesit[maddeninBaslayabilecegiYer]\n",
        "          if bulunanSayiyiOlusturacakParca in '0123456789/ABCÇDEFGĞHIİJKLMNOÖPRSŞTUÜVYZabcçdefgğhıijklmnoöprsştuüvyz':\n",
        "            bulunanSayi+=bulunanSayiyiOlusturacakParca\n",
        "          else:\n",
        "            break\n",
        "        if bulunanSayi!='':\n",
        "          try:\n",
        "            if (int(bulunanSayi)<=(maddeSayisi+2)) and (int(bulunanSayi)>(maddeSayisi)):\n",
        "              maddeSayisi += int(bulunanSayi)-maddeSayisi\n",
        "              #print(f\"{ilgiliKayit} Madde {bulunanSayi}\")\n",
        "              \n",
        "            elif (int(bulunanSayi)<=(geciciMaddeSayisi+2)) and (int(bulunanSayi)>(geciciMaddeSayisi)):\n",
        "              geciciMaddeSayisi += int(bulunanSayi)-geciciMaddeSayisi\n",
        "              #print(f\"{ilgiliKayit} Geçici Madde {bulunanSayi}\")\n",
        "            elif (int(bulunanSayi)<=(ekMaddeSayisi+2)) and (int(bulunanSayi)>(ekMaddeSayisi)):\n",
        "              ekMaddeSayisi += int(bulunanSayi)-ekMaddeSayisi\n",
        "              #print(f\"{ilgiliKayit} Ek Geçici Madde {bulunanSayi}\")\n",
        "          except:\n",
        "            print(f\"{ilgiliKayit} Madde {bulunanSayi}\") #ABCÇDEFGĞHIİJKLMNOÖPRSŞTUÜVYZ\n",
        "            AmaddeSayisi += 1\n",
        "        elif alinanKesit[eskiMaddeIndex-7:eskiMaddeIndex-1] == \"Geçici\":\n",
        "          geciciMaddeSayisi += 1\n",
        "        \n",
        "            \n",
        "      aramaYapilacakYerinBasi+=maddeninBaslayabilecegiYer+5\n",
        "    eskiMaddeSayisi = maddeSayisi\n",
        "    maddeSayisi+=(geciciMaddeSayisi+ekMaddeSayisi+AmaddeSayisi)\n",
        "    #maddeSayisi=islenmemisMaddeler(maddeSayisi,ilgiliKayit)\n",
        "    if int(df['madde_sayisi'][ilgiliKayit])!=int(maddeSayisi):\n",
        "      print(ilgiliKayit,df['madde_sayisi'][ilgiliKayit],maddeSayisi,eskiMaddeSayisi,geciciMaddeSayisi,ekMaddeSayisi,AmaddeSayisi)\n",
        "      hataliSay += 1\n",
        "    else:\n",
        "      pass\n",
        "print('Toplam kontrol edilen belge sayısı:',belgeSay)\n",
        "print('Toplam hatalı kayıt sayısı:',hataliSay)\n",
        "print('Doğruluk Oranı:',(belgeSay-hataliSay)/belgeSay)"
      ],
      "metadata": {
        "id": "Z3f4Mup5jpkp"
      },
      "execution_count": null,
      "outputs": []
    },
    {
      "cell_type": "markdown",
      "source": [
        "## Tüzük"
      ],
      "metadata": {
        "id": "lAY6sxhInB46"
      }
    },
    {
      "cell_type": "code",
      "source": [
        "# data_text alanın madde sayılarını kontrol edelim.\n",
        "hataliSay = 0\n",
        "belgeSay = 0\n",
        "satir, sutun = df.shape\n",
        "print(satir,sutun)\n",
        "\n",
        "for ilgiliKayit in range(satir):\n",
        "  if df['kategori'][ilgiliKayit]=='Tüzük':\n",
        "    belgeSay += 1\n",
        "    # 'baslik' alanından ilk 10 karakteri 'data_text' alanında aratıyoruz.\n",
        "    # Resmi belgenin başlığının 'data_text' alanında hangi indiste başladığını bulmuş oluyoruz.\n",
        "    basliginBaslandigiYer = df['data_text'][ilgiliKayit].find(df['baslik'][ilgiliKayit][:10])\n",
        "    # Başlığın uzunluğunu hesaplıyoruz.\n",
        "    basliginUzunlugu = len(df['baslik'][ilgiliKayit])\n",
        "    # Başlığın data_text alanında bittiği yeri hesaplıyoruz\n",
        "    basliginBittigiYer = basliginBaslandigiYer+basliginUzunlugu\n",
        "    verininBuyuklugu = len(df['data_text'][ilgiliKayit])\n",
        "    # Başlığın bittiği yerden itibaren belirli aralıklarla MADDE SAYMAYA başlıyoruz!\n",
        "    # İlk değer olarak maddeSayisi değişkenimize madde yoktur manasında 0 'SIFIR' veriyoruz.\n",
        "    maddeSayisi = 0\n",
        "    geciciMaddeSayisi = 0\n",
        "    ekMaddeSayisi = 0\n",
        "    AmaddeSayisi = 0\n",
        "    # aramaya baslayacağımız yeri belirliyoruz.,\n",
        "    aramaYapilacakYerinBasi = 0\n",
        "\n",
        "    while (aramaYapilacakYerinBasi<verininBuyuklugu):\n",
        "      bulunanSayi = ''\n",
        "      alinanKesit = df['data_text'][ilgiliKayit][aramaYapilacakYerinBasi:]\n",
        "      maddeninBaslayabilecegiYer = alinanKesit.find('Madde')\n",
        "      eskiMaddeIndex = maddeninBaslayabilecegiYer\n",
        "      tireninBaslayabilecegiYer = maddeninBaslayabilecegiYer+alinanKesit[maddeninBaslayabilecegiYer:].find('–')\n",
        "      if (tireninBaslayabilecegiYer-maddeninBaslayabilecegiYer)<=10:\n",
        "        maddeninBaslayabilecegiYer+=5\n",
        "        while maddeninBaslayabilecegiYer<tireninBaslayabilecegiYer:\n",
        "          maddeninBaslayabilecegiYer+=1\n",
        "          bulunanSayiyiOlusturacakParca = alinanKesit[maddeninBaslayabilecegiYer]\n",
        "          if bulunanSayiyiOlusturacakParca in '0123456789/ABCÇDEFGĞHIİJKLMNOÖPRSŞTUÜVYZabcçdefgğhıijklmnoöprsştuüvyz':\n",
        "            bulunanSayi+=bulunanSayiyiOlusturacakParca\n",
        "          else:\n",
        "            break\n",
        "        if bulunanSayi!='':\n",
        "          try:\n",
        "            if (int(bulunanSayi)<=(maddeSayisi+2)) and (int(bulunanSayi)>(maddeSayisi)):\n",
        "              maddeSayisi += int(bulunanSayi)-maddeSayisi\n",
        "              #print(f\"{ilgiliKayit} Madde {bulunanSayi}\")\n",
        "              \n",
        "            elif (int(bulunanSayi)<=(geciciMaddeSayisi+2)) and (int(bulunanSayi)>(geciciMaddeSayisi)):\n",
        "              geciciMaddeSayisi += int(bulunanSayi)-geciciMaddeSayisi\n",
        "              #print(f\"{ilgiliKayit} Geçici Madde {bulunanSayi}\")\n",
        "            elif (int(bulunanSayi)<=(ekMaddeSayisi+2)) and (int(bulunanSayi)>(ekMaddeSayisi)):\n",
        "              ekMaddeSayisi += int(bulunanSayi)-ekMaddeSayisi\n",
        "              #print(f\"{ilgiliKayit} Ek Geçici Madde {bulunanSayi}\")\n",
        "          except:\n",
        "            print(f\"{ilgiliKayit} Madde {bulunanSayi}\") #ABCÇDEFGĞHIİJKLMNOÖPRSŞTUÜVYZ\n",
        "            AmaddeSayisi += 1\n",
        "        elif alinanKesit[eskiMaddeIndex-7:eskiMaddeIndex-1] == \"Geçici\":\n",
        "          geciciMaddeSayisi += 1\n",
        "        \n",
        "            \n",
        "      aramaYapilacakYerinBasi+=maddeninBaslayabilecegiYer+5\n",
        "    eskiMaddeSayisi = maddeSayisi\n",
        "    maddeSayisi+=(geciciMaddeSayisi+ekMaddeSayisi+AmaddeSayisi)\n",
        "    #maddeSayisi=islenmemisMaddeler(maddeSayisi,ilgiliKayit)\n",
        "    if int(df['madde_sayisi'][ilgiliKayit])!=int(maddeSayisi):\n",
        "      print(ilgiliKayit,df['madde_sayisi'][ilgiliKayit],maddeSayisi,eskiMaddeSayisi,geciciMaddeSayisi,ekMaddeSayisi,AmaddeSayisi)\n",
        "      hataliSay += 1\n",
        "    else:\n",
        "      pass\n",
        "print('Toplam kontrol edilen belge sayısı:',belgeSay)\n",
        "print('Toplam hatalı kayıt sayısı:',hataliSay)\n",
        "print('Doğruluk Oranı:',(belgeSay-hataliSay)/belgeSay)"
      ],
      "metadata": {
        "id": "KKWgpyz9j9AP"
      },
      "execution_count": null,
      "outputs": []
    },
    {
      "cell_type": "markdown",
      "source": [
        "## Yönetmelik"
      ],
      "metadata": {
        "id": "WFE4MK3knEk4"
      }
    },
    {
      "cell_type": "code",
      "source": [
        "# data_text alanın madde sayılarını kontrol edelim.\n",
        "hataliSay = 0\n",
        "belgeSay = 0\n",
        "satir, sutun = df.shape\n",
        "print(satir,sutun)\n",
        "\n",
        "for ilgiliKayit in range(satir):\n",
        "  if df['kategori'][ilgiliKayit]=='Yönetmelik':\n",
        "    belgeSay += 1\n",
        "    # 'baslik' alanından ilk 10 karakteri 'data_text' alanında aratıyoruz.\n",
        "    # Resmi belgenin başlığının 'data_text' alanında hangi indiste başladığını bulmuş oluyoruz.\n",
        "    basliginBaslandigiYer = df['data_text'][ilgiliKayit].find(df['baslik'][ilgiliKayit][:10])\n",
        "    # Başlığın uzunluğunu hesaplıyoruz.\n",
        "    basliginUzunlugu = len(df['baslik'][ilgiliKayit])\n",
        "    # Başlığın data_text alanında bittiği yeri hesaplıyoruz\n",
        "    basliginBittigiYer = basliginBaslandigiYer+basliginUzunlugu\n",
        "    verininBuyuklugu = len(df['data_text'][ilgiliKayit])\n",
        "    # Başlığın bittiği yerden itibaren belirli aralıklarla MADDE SAYMAYA başlıyoruz!\n",
        "    # İlk değer olarak maddeSayisi değişkenimize madde yoktur manasında 0 'SIFIR' veriyoruz.\n",
        "    maddeSayisi = 0\n",
        "    geciciMaddeSayisi = 0\n",
        "    ekMaddeSayisi = 0\n",
        "    AmaddeSayisi = 0\n",
        "    # aramaya baslayacağımız yeri belirliyoruz.,\n",
        "    aramaYapilacakYerinBasi = 0\n",
        "\n",
        "    while (aramaYapilacakYerinBasi<verininBuyuklugu):\n",
        "      bulunanSayi = ''\n",
        "      alinanKesit = df['data_text'][ilgiliKayit][aramaYapilacakYerinBasi:]\n",
        "      maddeninBaslayabilecegiYer = alinanKesit.find('Madde')\n",
        "      eskiMaddeIndex = maddeninBaslayabilecegiYer\n",
        "      tireninBaslayabilecegiYer = maddeninBaslayabilecegiYer+alinanKesit[maddeninBaslayabilecegiYer:].find('–')\n",
        "      if (tireninBaslayabilecegiYer-maddeninBaslayabilecegiYer)<=10:\n",
        "        maddeninBaslayabilecegiYer+=5\n",
        "        while maddeninBaslayabilecegiYer<tireninBaslayabilecegiYer:\n",
        "          maddeninBaslayabilecegiYer+=1\n",
        "          bulunanSayiyiOlusturacakParca = alinanKesit[maddeninBaslayabilecegiYer]\n",
        "          if bulunanSayiyiOlusturacakParca in '0123456789/ABCÇDEFGĞHIİJKLMNOÖPRSŞTUÜVYZabcçdefgğhıijklmnoöprsştuüvyz':\n",
        "            bulunanSayi+=bulunanSayiyiOlusturacakParca\n",
        "          else:\n",
        "            break\n",
        "        if bulunanSayi!='':\n",
        "          try:\n",
        "            if (int(bulunanSayi)<=(maddeSayisi+2)) and (int(bulunanSayi)>(maddeSayisi)):\n",
        "              maddeSayisi += int(bulunanSayi)-maddeSayisi\n",
        "              #print(f\"{ilgiliKayit} Madde {bulunanSayi}\")\n",
        "              \n",
        "            elif (int(bulunanSayi)<=(geciciMaddeSayisi+2)) and (int(bulunanSayi)>(geciciMaddeSayisi)):\n",
        "              geciciMaddeSayisi += int(bulunanSayi)-geciciMaddeSayisi\n",
        "              #print(f\"{ilgiliKayit} Geçici Madde {bulunanSayi}\")\n",
        "            elif (int(bulunanSayi)<=(ekMaddeSayisi+2)) and (int(bulunanSayi)>(ekMaddeSayisi)):\n",
        "              ekMaddeSayisi += int(bulunanSayi)-ekMaddeSayisi\n",
        "              #print(f\"{ilgiliKayit} Ek Geçici Madde {bulunanSayi}\")\n",
        "          except:\n",
        "            print(f\"{ilgiliKayit} Madde {bulunanSayi}\") #ABCÇDEFGĞHIİJKLMNOÖPRSŞTUÜVYZ\n",
        "            AmaddeSayisi += 1\n",
        "        elif alinanKesit[eskiMaddeIndex-7:eskiMaddeIndex-1] == \"Geçici\":\n",
        "          geciciMaddeSayisi += 1\n",
        "        \n",
        "            \n",
        "      aramaYapilacakYerinBasi+=maddeninBaslayabilecegiYer+5\n",
        "    eskiMaddeSayisi = maddeSayisi\n",
        "    maddeSayisi+=(geciciMaddeSayisi+ekMaddeSayisi+AmaddeSayisi)\n",
        "    #maddeSayisi=islenmemisMaddeler(maddeSayisi,ilgiliKayit)\n",
        "    if int(df['madde_sayisi'][ilgiliKayit])!=int(maddeSayisi):\n",
        "      print(ilgiliKayit,df['madde_sayisi'][ilgiliKayit],maddeSayisi,eskiMaddeSayisi,geciciMaddeSayisi,ekMaddeSayisi,AmaddeSayisi)\n",
        "      hataliSay += 1\n",
        "    else:\n",
        "      pass\n",
        "print('Toplam kontrol edilen belge sayısı:',belgeSay)\n",
        "print('Toplam hatalı kayıt sayısı:',hataliSay)\n",
        "print('Doğruluk Oranı:',(belgeSay-hataliSay)/belgeSay)"
      ],
      "metadata": {
        "id": "0HFVSZjXkKVa"
      },
      "execution_count": null,
      "outputs": []
    },
    {
      "cell_type": "markdown",
      "source": [
        "# Yapılacaklar"
      ],
      "metadata": {
        "id": "OS85XGbRnHO_"
      }
    },
    {
      "cell_type": "code",
      "source": [
        "# Uç caselerin sayılmasında kaldık"
      ],
      "metadata": {
        "id": "J8x1lLsNxaf2"
      },
      "execution_count": null,
      "outputs": []
    }
  ]
}