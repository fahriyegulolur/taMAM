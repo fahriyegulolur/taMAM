{
  "nbformat": 4,
  "nbformat_minor": 0,
  "metadata": {
    "colab": {
      "name": "mukerrerno_bulma.ipynb",
      "provenance": []
    },
    "kernelspec": {
      "name": "python3",
      "display_name": "Python 3"
    },
    "language_info": {
      "name": "python"
    }
  },
  "cells": [
    {
      "cell_type": "code",
      "execution_count": 1,
      "metadata": {
        "id": "TZWYXkwMdTiI"
      },
      "outputs": [],
      "source": [
        "import pandas as pd"
      ]
    },
    {
      "cell_type": "code",
      "source": [
        "from google.colab import drive\n",
        "drive.mount('/content/drive/')"
      ],
      "metadata": {
        "colab": {
          "base_uri": "https://localhost:8080/"
        },
        "id": "MAd9LjiodVhO",
        "outputId": "3217b0a1-a0ff-4960-bdd8-6dd2d9f8c617"
      },
      "execution_count": 2,
      "outputs": [
        {
          "output_type": "stream",
          "name": "stdout",
          "text": [
          ]
        }
      ]
    },
    {
      "cell_type": "code",
      "source": [
        "%cd drive/\n",
        "%cd MyDrive/\n",
        "%cd Colab Notebooks/\n",
        "%cd TDDI2022/\n",
        "\n",
        "%ls"
      ],
      "metadata": {
        "colab": {
          "base_uri": "https://localhost:8080/"
        },
        "id": "UsEbJ1cwdXF9",
        "outputId": "32d30630-2b99-40ea-96cb-b3043f9525cf"
      },
      "execution_count": 3,
      "outputs": [
        {
          "output_type": "stream",
          "name": "stdout",
          "text": [
          ]
        }
      ]
    },
    {
      "cell_type": "code",
      "source": [
        "df = pd.read_csv('kanunum-nlp-doc-analysis-dataset.csv')\n",
        "df.info(verbose=True)"
      ],
      "metadata": {
        "colab": {
          "base_uri": "https://localhost:8080/"
        },
        "id": "pvtBdNAudYrz",
        "outputId": "75914ad2-f6c6-41d0-ce35-5818ae2caa2a"
      },
      "execution_count": 4,
      "outputs": [
        {
          "output_type": "stream",
          "name": "stdout",
          "text": [
            
          ]
        }
      ]
    },
    {
      "cell_type": "code",
      "source": [
        "mukerrer_dogru=0\n",
        "mukerrer_yanlis=0\n",
        "\n",
        "for i in range(4142):\n",
        "  metin = df['data_text'][i][:310].lower()\n",
        "\n",
        "  if metin.find(\". mükerrer\") != -1:\n",
        "      baslangic_mukerrer = metin.find(\". mükerrer\")\n",
        "      mukerrer = int(metin[baslangic_mukerrer - 1])\n",
        "  elif metin.find(\"mükerrer\") != -1:\n",
        "      mukerrer = 1\n",
        "  else:\n",
        "      mukerrer = 0\n",
        "  \n",
        "  mukerrer_df = df.loc[i]['mukerrer_no']\n",
        "  if mukerrer_df != \"NaN\":\n",
        "    mukerrer_df = 0\n",
        "  else:\n",
        "    mukerrer_df = mukerrer_df[0]\n",
        "\n",
        "  if mukerrer == mukerrer_df:\n",
        "      mukerrer_dogru += 1\n",
        "  else:\n",
        "      mukerrer_yanlis += 1\n",
        "      print(i)\n",
        "      print(\"*mukerrer_no* cevap:\", mukerrer, \" doğrusu:\", df.loc[i]['mukerrer_no'])\n",
        "print(\"D:\", mukerrer_dogru, \"Y:\", mukerrer_yanlis)"
      ],
      "metadata": {
        "colab": {
          "base_uri": "https://localhost:8080/"
        },
        "id": "yZf04WwydaRx",
        "outputId": "54369858-6cb7-4f6e-f15b-8da3f9adce8e"
      },
      "execution_count": 5,
      "outputs": [
        {
          "output_type": "stream",
          "name": "stdout",
          "text": [
            
          ]
        }
      ]
    }
  ]
}
