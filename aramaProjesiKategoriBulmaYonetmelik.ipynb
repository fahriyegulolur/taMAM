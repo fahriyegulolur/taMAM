{
  "nbformat": 4,
  "nbformat_minor": 0,
  "metadata": {
    "colab": {
      "name": "aramaProjesiKategoriBulmaYonetmelik",
      "provenance": [],
      "collapsed_sections": []
    },
    "kernelspec": {
      "name": "python3",
      "display_name": "Python 3"
    },
    "language_info": {
      "name": "python"
    }
  },
  "cells": [
    {
      "cell_type": "markdown",
      "source": [
        "Veri işleme ve analizi için pandas kütüphanesi kullanılacaktır. Pandas kütüphanesi pd rumuzu ile kısaltılmıştır."
      ],
      "metadata": {
        "id": "-WHoZtuTRmUB"
      }
    },
    {
      "cell_type": "code",
      "execution_count": 1,
      "metadata": {
        "id": "D4DSrSk9PiW8"
      },
      "outputs": [],
      "source": [
        "import pandas as pd"
      ]
    },
    {
      "cell_type": "markdown",
      "source": [
        "Verilerimiz Google Drive (bulut) üzerinde olduğu için Google Colab ile Google Drive arasında bağlantı kurulacaktır."
      ],
      "metadata": {
        "id": "eHzrzEAZSgRQ"
      }
    },
    {
      "cell_type": "code",
      "source": [
        "from google.colab import drive\n",
        "drive.mount('/content/drive/')"
      ],
      "metadata": {
        "id": "g8ZpPY4-Pmv1",
        "colab": {
          "base_uri": "https://localhost:8080/"
        },
        "outputId": "d52fb94a-8582-41d2-fbbf-e8b1af18df1f"
      },
      "execution_count": 2,
      "outputs": [
        {
          "output_type": "stream",
          "name": "stdout",
          "text": [
            "Mounted at /content/drive/\n"
          ]
        }
      ]
    },
    {
      "cell_type": "markdown",
      "source": [
        "Google Drive içinde Colab Notebooks klasörünün içinde TDDI2022 isimli klasörde verilerimizi sakladığımız için bu klasöre erişilecektir.\n",
        "\n",
        "***NOT:*** Bu klasörü daha önce oluşturmadıysanız %md TDDI2022 komutu veya Google Drive Ara Yüzü ile klasörü oluşturunuz!"
      ],
      "metadata": {
        "id": "6Eqtq3mAS4hY"
      }
    },
    {
      "cell_type": "code",
      "source": [
        "%cd drive/\n",
        "%cd MyDrive/\n",
        "%cd Colab Notebooks/\n",
        "%cd TDDI2022/\n",
        "# Klasörün içeriğinin görülmesi için\n",
        "%ls"
      ],
      "metadata": {
        "id": "h47_PvbxT9QD"
      },
      "execution_count": null,
      "outputs": []
    },
    {
      "cell_type": "markdown",
      "source": [
        "Veri İskeleti TDDI2022 klasöründe bulunan yarışma kapsamında yarışmacılara sağlanan **kanunum-nlp-doc-analysis-dataset.csv** dosyasının içindeki verileri pandas ile okuyarak oluşturulacaktır.\n",
        "\n",
        "Veri iskeleti oluşturulduktan sonra veri iskeleti ile ilgili bilgi ekrana yazdırılacaktır. Tam özetin yazdırılıp yazdırılmayacağı durumunu *verbose=True* (yazdırılsın) parametresi ile kontrol edilecektir. "
      ],
      "metadata": {
        "id": "AfiMy6NzTPJv"
      }
    },
    {
      "cell_type": "code",
      "source": [
        "df = pd.read_csv('kanunum-nlp-doc-analysis-dataset.csv')\n",
        "df.info(verbose=True)"
      ],
      "metadata": {
        "id": "ZMriHlEGPqbV",
        "colab": {
          "base_uri": "https://localhost:8080/"
        },
        "outputId": "d463906e-2733-4598-aa17-979d203ab2ca"
      },
      "execution_count": 4,
      "outputs": [
        {
          "output_type": "stream",
          "name": "stdout",
          "text": [
            "<class 'pandas.core.frame.DataFrame'>\n",
            "RangeIndex: 4142 entries, 0 to 4141\n",
            "Data columns (total 16 columns):\n",
            " #   Column          Non-Null Count  Dtype  \n",
            "---  ------          --------------  -----  \n",
            " 0   id              4142 non-null   int64  \n",
            " 1   kategori        4142 non-null   object \n",
            " 2   baslik          4142 non-null   object \n",
            " 3   rega_no         2527 non-null   object \n",
            " 4   mukerrer_no     3642 non-null   float64\n",
            " 5   rega_tarihi     2527 non-null   object \n",
            " 6   kurum           2488 non-null   object \n",
            " 7   mevzuat_no      1091 non-null   object \n",
            " 8   belge_sayi      43 non-null     object \n",
            " 9   mevzuat_tarihi  1905 non-null   object \n",
            " 10  donem           500 non-null    object \n",
            " 11  sira_no         500 non-null    object \n",
            " 12  madde_sayisi    4142 non-null   int64  \n",
            " 13  data_text       4142 non-null   object \n",
            " 14  url             4142 non-null   object \n",
            " 15  kanunum_url     4142 non-null   object \n",
            "dtypes: float64(1), int64(2), object(13)\n",
            "memory usage: 517.9+ KB\n"
          ]
        }
      ]
    },
    {
      "cell_type": "markdown",
      "source": [
        "Veri İskeletinde **kategori** sütununun / alanının kaç gruptan ve bu grupların kaç satırdan / kayıttan oluştuğunu **en az sayıdaki belgeden en çok sayıdaki belgeye doğru** ekrana yazdırılacaktır."
      ],
      "metadata": {
        "id": "DaaP0aG7UrAO"
      }
    },
    {
      "cell_type": "code",
      "source": [
        "print(df.groupby('kategori').size().sort_values())"
      ],
      "metadata": {
        "id": "VzFXWPNMX6Sb",
        "colab": {
          "base_uri": "https://localhost:8080/"
        },
        "outputId": "bf361a69-9263-4c71-9012-217a9d89a041"
      },
      "execution_count": 5,
      "outputs": [
        {
          "output_type": "stream",
          "name": "stdout",
          "text": [
            "kategori\n",
            "Cumhurbaşkanlığı Kararnamesi     54\n",
            "Tüzük                            82\n",
            "Kanun Hükmünde Kararname         91\n",
            "Genelge                         385\n",
            "Komisyon Raporu                 500\n",
            "Kanun                           514\n",
            "Resmi Gazete                    546\n",
            "Yönetmelik                      597\n",
            "Tebliğ                          623\n",
            "Özelge                          750\n",
            "dtype: int64\n"
          ]
        }
      ]
    },
    {
      "cell_type": "markdown",
      "source": [
        "Veriler üzerinde yaptığımız ön çalışmada (ekrana data_text sütunundan / alanından bir kaç satır yazdırılmış ve içerikleri incelenmiştir) veri kümesinin data_text sütunundaki / alanındaki içerik iki parçaya ayrılabileceği görülmüştür. Böylelikle data_text sütunu / alanı işlenirken belgeye ait bilgiler birinci parçada belgenin içeriği ikinci parçada görülebilir. Tüm data_text kayıtlarında yer alan ortak bir noktanın varlığını kontrol etmek için aşağıdaki kod yardımı ile \"Resmi belgelerin hepsinde 'Madde 1 ' verisi var mı?\" önermesinin doğruluğunu kontrol edeceğiz!"
      ],
      "metadata": {
        "id": "aSVFSc43VKJH"
      }
    },
    {
      "cell_type": "code",
      "source": [
        "kayitSayisi = 597\n",
        "say = 0\n",
        "satirToplami, sutunToplami = df.shape\n",
        "for satir in range(satirToplami):\n",
        "  if df['data_text'][satir].find('Madde 1 -') != -1 and df['kategori'][satir] == 'Yönetmelik':\n",
        "    say+=1\n",
        "if say==kayitSayisi:\n",
        "  print(say,'=',kayitSayisi,'yani data_text alanındaki toplam Yönetmelik belgesi sayısı ve her bir kayıtta \"Madde 1\" verisini içeren Yönetmelik belgelerinin sayısı birbirine eşittir.')\n",
        "else:\n",
        "  print('Tüm Yönetmelik belgelerinde aranan veri bulunamamıştır.')"
      ],
      "metadata": {
        "colab": {
          "base_uri": "https://localhost:8080/"
        },
        "id": "7686dK_32-6Y",
        "outputId": "dbcfa378-0354-424e-e2f0-0a70a1e3f537"
      },
      "execution_count": 6,
      "outputs": [
        {
          "output_type": "stream",
          "name": "stdout",
          "text": [
            "4142 = 4142 yani data_text alanındaki toplam kayıt sayısı ve her bir kayıtta \"Madde 1\" verisini içeren kayıt sayısı birbirine eşittir.\n"
          ]
        }
      ]
    },
    {
      "cell_type": "markdown",
      "source": [
        "Yukarıdaki bulgular doğrultusunda örnek bir kaydı ikiye bölerek **belge ile ilgili verileri toplayabileceğimiz baş kısmı** görelim. Yine bu baş kısmın **belge türü** ile ilgili bilgi içerip içermediğini görmek için kategori alanındaki veriyi de ekrana yazdıralım. Ayrıca dokümanı küçük hafre çevirelim ve lower() komutunun nasıl bir çeviri yaptığını izleyelim."
      ],
      "metadata": {
        "id": "Yj68DQICWwvP"
      }
    },
    {
      "cell_type": "code",
      "source": [
        "satir = 2273\n",
        "print('Kategori:',df['kategori'][satir],'\\n',35*'-','\\nİçerik:',df['data_text'][satir][:df['data_text'][satir].find('Madde 1')].lower(),sep='')"
      ],
      "metadata": {
        "id": "nhrQLfrOF35t",
        "colab": {
          "base_uri": "https://localhost:8080/"
        },
        "outputId": "27cb8c2d-bd6c-44ab-f8df-f07170a1ff0f"
      },
      "execution_count": 15,
      "outputs": [
        {
          "output_type": "stream",
          "name": "stdout",
          "text": [
            "Kategori:Yönetmelik\n",
            "-----------------------------------\n",
            "İçerik:resmî gazete tarihi: 05.11.1995 resmî gazete sayısı: 22454\n",
            "bi̇ri̇nci̇ kisim\n",
            "genel hükümler\n",
            "bi̇ri̇nci̇ bölüm\n",
            "amaç, kapsam, dayanak ve tanımlar\n",
            "amaç ve kapsam\n",
            "\n"
          ]
        }
      ]
    },
    {
      "cell_type": "markdown",
      "source": [
        "Yönetmelik olarak kategori edilen toplam 597 adet kayıt vardır. Bu kayıtlar üzerinde belge türü tespit etmek için bir fonksiyon oluşturacağız. Bu fonksiyon veriyi analiz edecektir. Mevcut 597 kayıttan kaçında doğru sonuç verdiğini de kontrol edeceğiz."
      ],
      "metadata": {
        "id": "KCQpqkkNZUHT"
      }
    },
    {
      "cell_type": "code",
      "source": [
        "# Yönetmelik olarak kategori bulmak için çalışacak fonksiyonumuz\n",
        "def kategoriBulYONETMELIK(verilenMetin):\n",
        "  # Veri ön işlemi (VERİ TEMİZLEME)\n",
        "  verilenMetin = verilenMetin.replace('  ','')\n",
        "  verilenMetin = verilenMetin.replace(' ','')\n",
        "  verilenMetin = verilenMetin.replace('\\n','')\n",
        "  verilenMetin = verilenMetin.replace('\\r','')\n",
        "  verilenMetin = verilenMetin.replace(':','')\n",
        "  verilenMetin = verilenMetin.replace('.','')\n",
        "  verilenMetin = verilenMetin.replace('ý','ı')\n",
        "  verilenMetin = verilenMetin.replace('i̇','i')\n",
        "  # data_text alanındaki kayıdın ilk parçasında ne varsa o bir YÖNETMELİKTİR diye kontrol ediyoruz!\n",
        "  if verilenMetin.lower().find('yönetmeli')!=-1 or verilenMetin.lower().find('yönetmeli̇')!=-1:\n",
        "    return 'Yönetmelik'\n",
        "  # Başlık içinde arama yapan alternatif yöntemler de denenebilir!!!\n",
        "\n",
        "# 597 kayıt arasında kaç tanesinin Yönetmelik olarak işaretlenmediğini sayacak hataSayisi değişkenine ilk değer olarak 0 SIFIR veriyoruz.\n",
        "hataSayisi=0\n",
        "\n",
        "# Veri iskeletimiz içinde toplam kaç satir / kayıt ve sütun / alan olduğunu satirToplami ve sutunToplami değişkenlerinde saklıyoruz.\n",
        "satirToplami, sutunToplami = df.shape\n",
        "\n",
        "# Sadece Yönetmelik kategorisinde kontrolümüzü yapıyoruz\n",
        "for satir in range(satirToplami):\n",
        "  if df['kategori'][satir]!='Yönetmelik':\n",
        "    continue\n",
        "  # Verimizi daha önce izah ettiğimiz gibi Madde 1 verisine göre iki parcaya ayırıp ilk parçayı alıyoruz!\n",
        "  arastirilacakParca = df['data_text'][satir][:df['data_text'][satir].find('Madde 1')]\n",
        "  if kategoriBulYONETMELIK(arastirilacakParca)!=df['kategori'][satir]:\n",
        "    hataSayisi+=1\n",
        "    print(satir,kategoriBulYONETMELIK(arastirilacakParca),df['kategori'][satir])\n",
        "\n",
        "print(hataSayisi)"
      ],
      "metadata": {
        "colab": {
          "base_uri": "https://localhost:8080/"
        },
        "id": "KsQqz0s7Zy6N",
        "outputId": "43ce9602-c735-45de-b96a-4a42dbe50826"
      },
      "execution_count": 12,
      "outputs": [
        {
          "output_type": "stream",
          "name": "stdout",
          "text": [
            "1995 None Yönetmelik\n",
            "2159 None Yönetmelik\n",
            "2273 None Yönetmelik\n",
            "3\n"
          ]
        }
      ]
    },
    {
      "cell_type": "markdown",
      "source": [
        "Yonetmelik kategorisinde bulduğumuz yöntemin 3 hata ile çalıştığını gördük. 1995, 2159 ve 2273 indisli kayıtlardaki verinin bozuk olduğu; ama şablon ile dokümanın bulunabileceği fark edilmiştir. Kural bazlı olarak ilerleyerek durumun istisnalarını eğer büyük veride sıkıntı yaşarsak değerlendirmek, derin öğrenme veya şablon kullanımı ile problemi çözmek istedik. Karmaşıklık matrisi ile kural bazlı yöntemimizin ne kadar doğru çalıştığını Yönetmelik kategorisi dışında da test etmek gerekir.\n",
        "\n",
        "Kaynak 1: https://www.sciencedirect.com/topics/engineering/confusion-matrix#:~:text=A%20confusion%20matrix%20is%20a,malignant%20tissue%20is%20considered%20cancerous.\n",
        "\n",
        "Kaynak 2: https://en.wikipedia.org/wiki/Confusion_matrix"
      ],
      "metadata": {
        "id": "1IJkfHjOdDHE"
      }
    },
    {
      "cell_type": "code",
      "source": [
        "# Yönetmelik olarak kategori bulmak için çalışacak fonksiyonumuz\n",
        "def kategoriBulYONETMELIK(verilenMetin):\n",
        "  # Veri ön işlemi (VERİ TEMİZLEME)\n",
        "  verilenMetin = verilenMetin.replace('  ','')\n",
        "  verilenMetin = verilenMetin.replace(' ','')\n",
        "  verilenMetin = verilenMetin.replace('\\n','')\n",
        "  verilenMetin = verilenMetin.replace('\\r','')\n",
        "  verilenMetin = verilenMetin.replace(':','')\n",
        "  verilenMetin = verilenMetin.replace('.','')\n",
        "  verilenMetin = verilenMetin.replace('ý','ı')\n",
        "  verilenMetin = verilenMetin.replace('i̇','i')\n",
        "  # data_text alanındaki kayıdın ilk parçasında ne varsa o bir YÖNETMELİKTİR diye kontrol ediyoruz!\n",
        "  if verilenMetin.lower().find('yönetmeli')!=-1 or verilenMetin.lower().find('yönetmeli̇')!=-1:\n",
        "    return 'Yönetmelik'\n",
        "  else:\n",
        "    return 'Yönetmelik Değil'\n",
        "\n",
        "# Veri iskeletimiz içinde toplam kaç satir / kayıt ve sütun / alan olduğunu satirToplami ve sutunToplami değişkenlerinde saklıyoruz.\n",
        "satirToplami, sutunToplami = df.shape\n",
        "\n",
        "TP, TN, FP, FN = 0, 0, 0, 0\n",
        "\n",
        "for satir in range(satirToplami):\n",
        "  # Verimizi daha önce izah ettiğimiz gibi Madde 1 verisine göre iki parcaya ayırıp ilk parçayı alıyoruz!\n",
        "  arastirilacakParca = df['data_text'][satir][:df['data_text'][satir].find('Madde 1')]\n",
        "  fonksiyonumuzunCiktisi = kategoriBulYONETMELIK(arastirilacakParca)\n",
        "  \n",
        "  if fonksiyonumuzunCiktisi=='Yönetmelik' and df['kategori'][satir]=='Yönetmelik':\n",
        "    # Fonksiyonumuz Yönetmelik olan kategoriyi Yönetmelik olarak bulmuş\n",
        "    TP += 1\n",
        "  elif fonksiyonumuzunCiktisi=='Yönetmelik Değil' and df['kategori'][satir]=='Yönetmelik':\n",
        "    # Fonksiyonumuz Yönetmelik olan kategoriyi Yönetmelik olarak bulmamış\n",
        "    FN += 1\n",
        "  elif fonksiyonumuzunCiktisi=='Yönetmelik' and df['kategori'][satir]!='Yönetmelik':\n",
        "    # Fonksiyonumuz Yönetmelik olmayan kategoriyi Yönetmelik olarak bulmuş\n",
        "    FP += 1\n",
        "  else:\n",
        "    # Fonksiyonumuz Yönetmelik olmayan kategoriyi Yönetmelik olmayan olarak bulmuş\n",
        "    TN += 1\n",
        "print(satirToplami)\n",
        "print(TP, TN, FP, FN)\n",
        "print('Doğruluk (Accuracy):',(TP + TN) / satirToplami)\n",
        "print('Keskinlik (Precision):',TP / (TP+FP) )\n",
        "print('Hassasiyet (Sensitivity) / Duyarlılık (Recall):',TP / (TP+FN) )\n",
        "print('Özgüllük (Specificity):',TN / (TN+FP) )\n",
        "print('F1-Puanı (F1 Score):', 2 * (((TP / (TP+FP)) * (TP / (TP+FN))) / ((TP / (TP+FP)) + (TN / (TN+FP)))) )"
      ],
      "metadata": {
        "colab": {
          "base_uri": "https://localhost:8080/"
        },
        "id": "016OB8DWfNus",
        "outputId": "337c9447-c7c7-4e60-fed5-b9a893ecb98e"
      },
      "execution_count": 16,
      "outputs": [
        {
          "output_type": "stream",
          "name": "stdout",
          "text": [
            "4142\n",
            "594 2956 589 3\n",
            "Doğruluk (Accuracy): 0.8570738773539353\n",
            "Keskinlik (Precision): 0.5021132713440406\n",
            "Hassasiyet (Sensitivity) / Duyarlılık (Recall): 0.9949748743718593\n",
            "Özgüllük (Specificity): 0.8338504936530324\n",
            "F1-Puanı (F1 Score): 0.7479096397155272\n"
          ]
        }
      ]
    },
    {
      "cell_type": "markdown",
      "source": [
        "Bulunan **TP, TN, FP** ve **FN** değerlerine göre **Karmaşıklık Matrisi** görselleştirilecektir.\n",
        "\n",
        "Görselleştirme için **matplotlib** kütüphanesi kullanılacaktır.\n",
        "**numpy** kütüphanesi ile diziler üzerinde işlemlerin kolaylaştılması sağlanacaktır.\n",
        "**sklearn** kütüphanesi ile de tahminlerin kalitesini ölçeceğiz / görselin verilerini hazırlayacağız.\n",
        "\n",
        "Kaynak 1: https://www.w3schools.com/python/python_ml_confusion_matrix.asp#:~:text=What%20is%20a%20confusion%20matrix,the%20predictions%20we%20have%20made.\n",
        "\n",
        "Kaynak 2: https://scikit-learn.org/stable/modules/generated/sklearn.metrics.ConfusionMatrixDisplay.html\n",
        "\n",
        "Kaynak 3: https://scikit-learn.org/stable/modules/model_evaluation.html"
      ],
      "metadata": {
        "id": "r7lioHgVj1rr"
      }
    },
    {
      "cell_type": "code",
      "source": [
        "import matplotlib\n",
        "matplotlib.use('Agg')\n",
        "import matplotlib.pyplot as plt\n",
        "import numpy as np\n",
        "from sklearn import metrics\n",
        "%matplotlib inline\n",
        "\n",
        "karmasiklikMatrisi = np.array([[TN,FN],[FP,TP]])\n",
        "kM_gorsel = metrics.ConfusionMatrixDisplay(confusion_matrix = karmasiklikMatrisi, display_labels = [False, True])\n",
        "\n",
        "kM_gorsel.plot()\n",
        "plt.xlabel(\"Tahmin Edilen\")\n",
        "plt.ylabel(\"Gerçek Durum\")\n",
        "plt.title(\"Karmaşıklık Matrisi\", fontdict = {'family':'serif','color':'Darkblue','size':20})\n",
        "\n",
        "plt.show()"
      ],
      "metadata": {
        "colab": {
          "base_uri": "https://localhost:8080/",
          "height": 300
        },
        "id": "5uuOlhRKkJRz",
        "outputId": "6d897675-1916-491d-d19e-ffea894ce181"
      },
      "execution_count": 17,
      "outputs": [
        {
          "output_type": "display_data",
          "data": {
            "text/plain": [
              "<Figure size 432x288 with 2 Axes>"
            ],
            "image/png": "[encoded data removed]"
          },
          "metadata": {
            "needs_background": "light"
          }
        }
      ]
    },
    {
      "cell_type": "markdown",
      "source": [
        "# ***ÇIKARIM:***\n",
        "\n",
        "**kategoriBulYONETMELIK** isimli fonksiyonumuz 4142 adet kayıt içinde belge türü tahmini yapmıştır.\n",
        "\n",
        "- 597 Yönetmelik kategorisinde sınıflandırılan belgenin 3 tanesi hariç hepsini  Yönetmelik kategorisinde sınıflandırabilmiştir.\n",
        "- 589 Yönetmelik kategorisinde sınıflandırılmayan belgeyi de Yönetmelik olarak sınıflandırmıştır.\n",
        "- 2956 Yönetmelik kategorisinde sınıflandırılmayan belgeyi de Yönetmelik kategorisinde sınıflandırmamıştır.\n",
        "- Kural bazlı yöntemimiz için hesaplamalar aşağıdaki gibi olmuştur.\n",
        " - **Doğruluk (Accuracy):** 0.8570738773539353\n",
        " - **Keskinlik (Precision):** 0.5021132713440406\n",
        " - **Hassasiyet (Sensitivity) / Duyarlılık (Recall):** 0.9949748743718593\n",
        " - **Özgüllük (Specificity):** 0.8338504936530324\n",
        " - **F1-Puanı (F1 Score):** 0.7479096397155272"
      ],
      "metadata": {
        "id": "3pCYENePtWhQ"
      }
    }
  ]
}
