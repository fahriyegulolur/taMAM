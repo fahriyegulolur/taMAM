{
  "nbformat": 4,
  "nbformat_minor": 0,
  "metadata": {
    "colab": {
      "name": "aramaProjesiKategoriBulmaGenelge",
      "provenance": [],
      "collapsed_sections": []
    },
    "kernelspec": {
      "name": "python3",
      "display_name": "Python 3"
    },
    "language_info": {
      "name": "python"
    }
  },
  "cells": [
    {
      "cell_type": "markdown",
      "source": [
        "Veri işleme ve analizi için pandas kütüphanesi kullanılacaktır. Pandas kütüphanesi pd rumuzu ile kısaltılmıştır."
      ],
      "metadata": {
        "id": "-WHoZtuTRmUB"
      }
    },
    {
      "cell_type": "code",
      "execution_count": 1,
      "metadata": {
        "id": "D4DSrSk9PiW8"
      },
      "outputs": [],
      "source": [
        "import pandas as pd"
      ]
    },
    {
      "cell_type": "markdown",
      "source": [
        "Verilerimiz Google Drive (bulut) üzerinde olduğu için Google Colab ile Google Drive arasında bağlantı kurulacaktır."
      ],
      "metadata": {
        "id": "eHzrzEAZSgRQ"
      }
    },
    {
      "cell_type": "code",
      "source": [
        "from google.colab import drive\n",
        "drive.mount('/content/drive/')"
      ],
      "metadata": {
        "id": "g8ZpPY4-Pmv1"
      },
      "execution_count": null,
      "outputs": []
    },
    {
      "cell_type": "markdown",
      "source": [
        "Google Drive içinde Colab Notebooks klasörünün içinde TDDI2022 isimli klasörde verilerimizi sakladığımız için bu klasöre erişilecektir.\n",
        "\n",
        "***NOT:*** Bu klasörü daha önce oluşturmadıysanız %md TDDI2022 komutu veya Google Drive Ara Yüzü ile klasörü oluşturunuz!"
      ],
      "metadata": {
        "id": "6Eqtq3mAS4hY"
      }
    },
    {
      "cell_type": "code",
      "source": [
        "%cd drive/\n",
        "%cd MyDrive/\n",
        "%cd Colab Notebooks/\n",
        "%cd TDDI2022/\n",
        "# Klasörün içeriğinin görülmesi için\n",
        "%ls"
      ],
      "metadata": {
        "id": "h47_PvbxT9QD"
      },
      "execution_count": null,
      "outputs": []
    },
    {
      "cell_type": "markdown",
      "source": [
        "Veri İskeleti TDDI2022 klasöründe bulunan yarışma kapsamında yarışmacılara sağlanan **kanunum-nlp-doc-analysis-dataset.csv** dosyasının içindeki verileri pandas ile okuyarak oluşturulacaktır.\n",
        "\n",
        "Veri iskeleti oluşturulduktan sonra veri iskeleti ile ilgili bilgi ekrana yazdırılacaktır. Tam özetin yazdırılıp yazdırılmayacağı durumunu *verbose=True* (yazdırılsın) parametresi ile kontrol edilecektir. "
      ],
      "metadata": {
        "id": "AfiMy6NzTPJv"
      }
    },
    {
      "cell_type": "code",
      "source": [
        "df = pd.read_csv('kanunum-nlp-doc-analysis-dataset.csv')\n",
        "df.info(verbose=True)"
      ],
      "metadata": {
        "id": "ZMriHlEGPqbV",
        "colab": {
          "base_uri": "https://localhost:8080/"
        },
        "outputId": "c49bc7ac-8e00-48f6-f1f1-43dc3fcb747c"
      },
      "execution_count": 4,
      "outputs": [
        {
          "output_type": "stream",
          "name": "stdout",
          "text": [
            "<class 'pandas.core.frame.DataFrame'>\n",
            "RangeIndex: 4142 entries, 0 to 4141\n",
            "Data columns (total 16 columns):\n",
            " #   Column          Non-Null Count  Dtype  \n",
            "---  ------          --------------  -----  \n",
            " 0   id              4142 non-null   int64  \n",
            " 1   kategori        4142 non-null   object \n",
            " 2   baslik          4142 non-null   object \n",
            " 3   rega_no         2527 non-null   object \n",
            " 4   mukerrer_no     3642 non-null   float64\n",
            " 5   rega_tarihi     2527 non-null   object \n",
            " 6   kurum           2488 non-null   object \n",
            " 7   mevzuat_no      1091 non-null   object \n",
            " 8   belge_sayi      43 non-null     object \n",
            " 9   mevzuat_tarihi  1905 non-null   object \n",
            " 10  donem           500 non-null    object \n",
            " 11  sira_no         500 non-null    object \n",
            " 12  madde_sayisi    4142 non-null   int64  \n",
            " 13  data_text       4142 non-null   object \n",
            " 14  url             4142 non-null   object \n",
            " 15  kanunum_url     4142 non-null   object \n",
            "dtypes: float64(1), int64(2), object(13)\n",
            "memory usage: 517.9+ KB\n"
          ]
        }
      ]
    },
    {
      "cell_type": "markdown",
      "source": [
        "Veri İskeletinde **kategori** sütununun / alanının kaç gruptan ve bu grupların kaç satırdan / kayıttan oluştuğunu **en az sayıdaki belgeden en çok sayıdaki belgeye doğru** ekrana yazdırılacaktır."
      ],
      "metadata": {
        "id": "DaaP0aG7UrAO"
      }
    },
    {
      "cell_type": "code",
      "source": [
        "print(df.groupby('kategori').size().sort_values())"
      ],
      "metadata": {
        "id": "VzFXWPNMX6Sb",
        "colab": {
          "base_uri": "https://localhost:8080/"
        },
        "outputId": "52b790ba-be0b-45b2-93eb-75b126e279c0"
      },
      "execution_count": 9,
      "outputs": [
        {
          "output_type": "stream",
          "name": "stdout",
          "text": [
            "kategori\n",
            "Cumhurbaşkanlığı Kararnamesi     54\n",
            "Tüzük                            82\n",
            "Kanun Hükmünde Kararname         91\n",
            "Genelge                         385\n",
            "Komisyon Raporu                 500\n",
            "Kanun                           514\n",
            "Resmi Gazete                    546\n",
            "Yönetmelik                      597\n",
            "Tebliğ                          623\n",
            "Özelge                          750\n",
            "dtype: int64\n"
          ]
        }
      ]
    },
    {
      "cell_type": "markdown",
      "source": [
        "Bu bulgulara göre 'data_text' verisinde **belge türü** ile ilgili bilgi içerip içermediğini görmek için kategori alanındaki veriyi de ekrana yazdıralım. Ayrıca dokümanı küçük hafre çevirelim ve lower() komutunun nasıl bir çeviri yaptığını izleyelim."
      ],
      "metadata": {
        "id": "Yj68DQICWwvP"
      }
    },
    {
      "cell_type": "code",
      "source": [
        "satir = 1000\n",
        "print('Kategori:',df['kategori'][satir],'\\n',35*'-','\\nİçerik:',df['data_text'][satir].lower(),sep='')"
      ],
      "metadata": {
        "id": "nhrQLfrOF35t"
      },
      "execution_count": null,
      "outputs": []
    },
    {
      "cell_type": "markdown",
      "source": [
        "Genelge olarak kategori edilen toplam 385 adet kayıt vardı. Bu kayıtlar üzerinde belge türü tespit etmek için bir fonksiyon oluşturup veriyi burada analiz etmek ve analizimizin sonucunu mevcut 385 kayıttan kaçında doğru sonuç veridğini kontrol etmek yöntemimizin doğruluğu hakkında bize bilgi verecektir."
      ],
      "metadata": {
        "id": "KCQpqkkNZUHT"
      }
    },
    {
      "cell_type": "code",
      "source": [
        "# Genelge için kategori bulmak için çalışacak fonksiyonumuz\n",
        "def kategoriBulGENELGE(verilenMetin):\n",
        "  # Veri ön işlemi (VERİ TEMİZLEME)\n",
        "  verilenMetin = verilenMetin.replace('  ','')\n",
        "  verilenMetin = verilenMetin.replace(' ','')\n",
        "  verilenMetin = verilenMetin.replace('\\n','')\n",
        "  verilenMetin = verilenMetin.replace('\\r','')\n",
        "  # data_text alanındaki kayıdın ilk parçasında erik: varsa o bir genelgedir önermesini kontrol ediyoruz!\n",
        "  if verilenMetin.lower().find('genelge')!=-1 or verilenMetin.lower().find('genelyazi')!=-1:\n",
        "    return 'Genelge'\n",
        "  # Başlık içinde arama yapan alternatif yöntemler de denenebilir!!!\n",
        "\n",
        "# 385 kayıt arasında kaç tanesinin kanun olarak işaretlenmediğini sayacak hataSayisi değişkenine ilk değer olarak 0 SIFIR veriyoruz.\n",
        "hataSayisi=0\n",
        "\n",
        "# Veri iskeletimiz içinde toplam kaç satir / kayıt ve sütun / alan olduğunu satirToplami ve sutunToplami değişkenlerinde saklıyoruz.\n",
        "satirToplami, sutunToplami = df.shape\n",
        "\n",
        "# Sadece Genelge kategorisinde kontrolümüzü yapıyoruz\n",
        "for satir in range(satirToplami):\n",
        "  if df['kategori'][satir]!='Genelge':\n",
        "    continue\n",
        "  \n",
        "  arastirilacakParca = df['data_text'][satir]\n",
        "  if kategoriBulGENELGE(arastirilacakParca)!=df['kategori'][satir]:\n",
        "    hataSayisi+=1\n",
        "    print(satir,kategoriBulGENELGE(arastirilacakParca),df['kategori'][satir])\n",
        "\n",
        "print(hataSayisi)"
      ],
      "metadata": {
        "colab": {
          "base_uri": "https://localhost:8080/"
        },
        "id": "KsQqz0s7Zy6N",
        "outputId": "b9c1a366-f287-4544-8e14-1948761e7257"
      },
      "execution_count": 48,
      "outputs": [
        {
          "output_type": "stream",
          "name": "stdout",
          "text": [
            "1177 None Genelge\n",
            "1\n"
          ]
        }
      ]
    },
    {
      "cell_type": "markdown",
      "source": [
        "Genelge kategorisinde bulduğumuz yöntemin 1 hata ile çalıştığını gördük. 1177 indisli kayıttaki verinin bozuk olduğu ve kural bazlı olarak bu dokümanın kategorisinin bulunması istisnai bir durum içermektedir, bu nedenle fonksiyona o istisna eklenmemiştir. Karmaşıklık matrisi ile bu yöntemimizin ne kadar doğru çalıştığını Genelge kategorisi dışında da test etmek gerekir.\n",
        "\n",
        "Kaynak 1: https://www.sciencedirect.com/topics/engineering/confusion-matrix#:~:text=A%20confusion%20matrix%20is%20a,malignant%20tissue%20is%20considered%20cancerous.\n",
        "\n",
        "Kaynak 2: https://en.wikipedia.org/wiki/Confusion_matrix"
      ],
      "metadata": {
        "id": "1IJkfHjOdDHE"
      }
    },
    {
      "cell_type": "code",
      "source": [
        "# Genelge için kategori bulmak için çalışacak fonksiyonumuz\n",
        "def kategoriBulGENELGE(verilenMetin):\n",
        "  # Veri ön işlemi (VERİ TEMİZLEME)\n",
        "  verilenMetin = verilenMetin.replace('  ','')\n",
        "  verilenMetin = verilenMetin.replace(' ','')\n",
        "  verilenMetin = verilenMetin.replace('\\n','')\n",
        "  verilenMetin = verilenMetin.replace('\\r','')\n",
        "  # data_text alanındaki kayıdın ilk parçasında erik: varsa o bir genelgedir önermesini kontrol ediyoruz!\n",
        "  if verilenMetin.lower().find('genelge')!=-1 or verilenMetin.lower().find('genelyazi')!=-1:\n",
        "    return 'Genelge'\n",
        "  else:\n",
        "    return 'Genelge Değil'\n",
        "\n",
        "# Veri iskeletimiz içinde toplam kaç satir / kayıt ve sütun / alan olduğunu satirToplami ve sutunToplami değişkenlerinde saklıyoruz.\n",
        "satirToplami, sutunToplami = df.shape\n",
        "\n",
        "TP, TN, FP, FN = 0, 0, 0, 0\n",
        "\n",
        "for satir in range(satirToplami):\n",
        "\n",
        "  arastirilacakParca = df['data_text'][satir]\n",
        "  fonksiyonumuzunCiktisi = kategoriBulGENELGE(arastirilacakParca)\n",
        "  \n",
        "  if fonksiyonumuzunCiktisi=='Genelge' and df['kategori'][satir]=='Genelge':\n",
        "    # Fonksiyonumuz Genelge olan kategoriyi Genelge olarak bulmuş\n",
        "    TP += 1\n",
        "  elif fonksiyonumuzunCiktisi=='Genelge Değil' and df['kategori'][satir]=='Genelge':\n",
        "    # Fonksiyonumuz Genelge olan kategoriyi Genelge olarak bulmamış\n",
        "    FN += 1\n",
        "  elif fonksiyonumuzunCiktisi=='Genelge' and df['kategori'][satir]!='Genelge':\n",
        "    # Fonksiyonumuz Genelge olmayan kategoriyi Genelge olarak bulmuş\n",
        "    FP += 1\n",
        "  else:\n",
        "    # Fonksiyonumuz Genelge olmayan kategoriyi Genelge olmayan olarak bulmuş\n",
        "    TN += 1\n",
        "print(satirToplami)\n",
        "print(TP, TN, FP, FN)\n",
        "print('Doğruluk (Accuracy):',(TP + TN) / satirToplami)\n",
        "print('Keskinlik (Precision):',TP / (TP+FP) )\n",
        "print('Hassasiyet (Sensitivity) / Duyarlılık (Recall):',TP / (TP+FN) )\n",
        "print('Özgüllük (Specificity):',TN / (TN+FP) )\n",
        "print('F1-Puanı (F1 Score):', 2 * (((TP / (TP+FP)) * (TP / (TP+FN))) / ((TP / (TP+FP)) + (TN / (TN+FP)))) )"
      ],
      "metadata": {
        "colab": {
          "base_uri": "https://localhost:8080/"
        },
        "id": "016OB8DWfNus",
        "outputId": "1bede6fd-8e61-40f9-c63e-4b15fec19f3d"
      },
      "execution_count": 46,
      "outputs": [
        {
          "output_type": "stream",
          "name": "stdout",
          "text": [
            "4142\n",
            "384 3587 170 1\n",
            "Doğruluk (Accuracy): 0.9587155963302753\n",
            "Keskinlik (Precision): 0.6931407942238267\n",
            "Hassasiyet (Sensitivity) / Duyarlılık (Recall): 0.9974025974025974\n",
            "Özgüllük (Specificity): 0.9547511312217195\n",
            "F1-Puanı (F1 Score): 0.8390603993494585\n"
          ]
        }
      ]
    },
    {
      "cell_type": "markdown",
      "source": [
        "Bulunan TP, TN, FP ve FN değerlerine göre Karmaşıklık Matrisi görselleştirilecektir.\n",
        "\n",
        "Kaynak 1: https://www.w3schools.com/python/python_ml_confusion_matrix.asp#:~:text=What%20is%20a%20confusion%20matrix,the%20predictions%20we%20have%20made.\n",
        "\n",
        "Kaynak 2: https://scikit-learn.org/stable/modules/generated/sklearn.metrics.ConfusionMatrixDisplay.html"
      ],
      "metadata": {
        "id": "r7lioHgVj1rr"
      }
    },
    {
      "cell_type": "code",
      "source": [
        "import matplotlib\n",
        "matplotlib.use('Agg')\n",
        "import matplotlib.pyplot as plt\n",
        "import numpy as np\n",
        "from sklearn import metrics\n",
        "%matplotlib inline\n",
        "\n",
        "karmasiklikMatrisi = np.array([[TN,FN],[FP,TP]])\n",
        "kM_gorsel = metrics.ConfusionMatrixDisplay(confusion_matrix = karmasiklikMatrisi, display_labels = [False, True])\n",
        "\n",
        "kM_gorsel.plot()\n",
        "plt.xlabel(\"Tahmin Edilen\")\n",
        "plt.ylabel(\"Gerçek Durum\")\n",
        "plt.title(\"Karmaşıklık Matrisi\", fontdict = {'family':'serif','color':'Darkblue','size':20})\n",
        "\n",
        "plt.show()"
      ],
      "metadata": {
        "colab": {
          "base_uri": "https://localhost:8080/",
          "height": 300
        },
        "id": "5uuOlhRKkJRz",
        "outputId": "608f0cc6-613d-4c1e-edb0-978b97beb95b"
      },
      "execution_count": 47,
      "outputs": [
        {
          "output_type": "display_data",
          "data": {
            "text/plain": [
              "<Figure size 432x288 with 2 Axes>"
            ],
            "image/png": "[encoded data removed]"
          },
          "metadata": {
            "needs_background": "light"
          }
        }
      ]
    },
    {
      "cell_type": "markdown",
      "source": [
        "# ***ÇIKARIM:***\n",
        "\n",
        "**kategoriBulGENELGE** isimli fonksiyonumuz 4142 adet kayıt içinde belge türü tahmini yapmıştır.\n",
        "\n",
        "- 385 Genelge kategorisinde sınıflandırılan belgenin 1'i hariç hepsini Genelge kategorisinde sınıflandırabilmiştir.\n",
        "- 170 Genelge kategorisinde sınıflandırılmayan belgeyi de Genelge olarak sınıflandırmıştır.\n",
        "- 3587 Genelge kategorisinde sınıflandırılmayan belgeyi de Genelge kategorisinde sınıflandırmamıştır.\n",
        "- Kural bazlı yöntemimiz için hesaplamalar aşağıdaki gibi olmuştur.\n",
        " - **Doğruluk (Accuracy):** 0.9587155963302753\n",
        " - **Keskinlik (Precision):** 0.6931407942238267\n",
        " - **Hassasiyet (Sensitivity) / Duyarlılık (Recall):** 0.9974025974025974\n",
        " - **Özgüllük (Specificity):** 0.9547511312217195\n",
        " - **F1-Puanı (F1 Score):** 0.8390603993494585"
      ],
      "metadata": {
        "id": "3pCYENePtWhQ"
      }
    }
  ]
}
